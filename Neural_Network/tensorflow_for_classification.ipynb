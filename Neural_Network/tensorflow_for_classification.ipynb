{
  "nbformat": 4,
  "nbformat_minor": 0,
  "metadata": {
    "colab": {
      "name": "tensorflow_for_classification.ipynb",
      "version": "0.3.2",
      "provenance": [],
      "collapsed_sections": []
    },
    "kernelspec": {
      "name": "python3",
      "display_name": "Python 3"
    }
  },
  "cells": [
    {
      "cell_type": "code",
      "metadata": {
        "id": "aQU-rf8p2BZ_",
        "colab_type": "code",
        "colab": {}
      },
      "source": [
        "# to avoid warning\n",
        "import warnings\n",
        "warnings.filterwarnings('ignore')\n",
        "\n",
        "\n",
        "              \n",
        "import pandas as pd   \n",
        "import tensorflow as tf\n",
        "import numpy as np               \n",
        "# Visualization\n",
        "import matplotlib.pyplot as plt  \n",
        "%matplotlib inline \n"
      ],
      "execution_count": 0,
      "outputs": []
    },
    {
      "cell_type": "markdown",
      "metadata": {
        "id": "dW9PDCi55HKa",
        "colab_type": "text"
      },
      "source": [
        "# 1)-Loading and preparing dataset"
      ]
    },
    {
      "cell_type": "code",
      "metadata": {
        "id": "pmJGx-La3HJl",
        "colab_type": "code",
        "colab": {}
      },
      "source": [
        "dataframe = pd.read_csv(\"data.csv\")"
      ],
      "execution_count": 0,
      "outputs": []
    },
    {
      "cell_type": "code",
      "metadata": {
        "id": "XNs-_Nis3mIe",
        "colab_type": "code",
        "colab": {
          "base_uri": "https://localhost:8080/",
          "height": 195
        },
        "outputId": "5d173e77-9ed4-410a-a61d-25072ca2c0a9"
      },
      "source": [
        "dataframe.head()"
      ],
      "execution_count": 3,
      "outputs": [
        {
          "output_type": "execute_result",
          "data": {
            "text/html": [
              "<div>\n",
              "<style scoped>\n",
              "    .dataframe tbody tr th:only-of-type {\n",
              "        vertical-align: middle;\n",
              "    }\n",
              "\n",
              "    .dataframe tbody tr th {\n",
              "        vertical-align: top;\n",
              "    }\n",
              "\n",
              "    .dataframe thead th {\n",
              "        text-align: right;\n",
              "    }\n",
              "</style>\n",
              "<table border=\"1\" class=\"dataframe\">\n",
              "  <thead>\n",
              "    <tr style=\"text-align: right;\">\n",
              "      <th></th>\n",
              "      <th>index</th>\n",
              "      <th>area</th>\n",
              "      <th>bathrooms</th>\n",
              "      <th>price</th>\n",
              "      <th>sq_price</th>\n",
              "    </tr>\n",
              "  </thead>\n",
              "  <tbody>\n",
              "    <tr>\n",
              "      <th>0</th>\n",
              "      <td>0</td>\n",
              "      <td>2104.0</td>\n",
              "      <td>3.0</td>\n",
              "      <td>399900.0</td>\n",
              "      <td>190.066540</td>\n",
              "    </tr>\n",
              "    <tr>\n",
              "      <th>1</th>\n",
              "      <td>1</td>\n",
              "      <td>1600.0</td>\n",
              "      <td>3.0</td>\n",
              "      <td>329900.0</td>\n",
              "      <td>206.187500</td>\n",
              "    </tr>\n",
              "    <tr>\n",
              "      <th>2</th>\n",
              "      <td>2</td>\n",
              "      <td>2400.0</td>\n",
              "      <td>3.0</td>\n",
              "      <td>369000.0</td>\n",
              "      <td>153.750000</td>\n",
              "    </tr>\n",
              "    <tr>\n",
              "      <th>3</th>\n",
              "      <td>3</td>\n",
              "      <td>1416.0</td>\n",
              "      <td>2.0</td>\n",
              "      <td>232000.0</td>\n",
              "      <td>163.841808</td>\n",
              "    </tr>\n",
              "    <tr>\n",
              "      <th>4</th>\n",
              "      <td>4</td>\n",
              "      <td>3000.0</td>\n",
              "      <td>4.0</td>\n",
              "      <td>539900.0</td>\n",
              "      <td>179.966667</td>\n",
              "    </tr>\n",
              "  </tbody>\n",
              "</table>\n",
              "</div>"
            ],
            "text/plain": [
              "   index    area  bathrooms     price    sq_price\n",
              "0      0  2104.0        3.0  399900.0  190.066540\n",
              "1      1  1600.0        3.0  329900.0  206.187500\n",
              "2      2  2400.0        3.0  369000.0  153.750000\n",
              "3      3  1416.0        2.0  232000.0  163.841808\n",
              "4      4  3000.0        4.0  539900.0  179.966667"
            ]
          },
          "metadata": {
            "tags": []
          },
          "execution_count": 3
        }
      ]
    },
    {
      "cell_type": "code",
      "metadata": {
        "id": "_9dBxzDO4O61",
        "colab_type": "code",
        "colab": {}
      },
      "source": [
        "# we will only focus on area and bathrooms features.So, removing rest\n",
        "\n",
        "dataframe = dataframe.drop([\"index\", \"price\", \"sq_price\"], axis=1)"
      ],
      "execution_count": 0,
      "outputs": []
    },
    {
      "cell_type": "code",
      "metadata": {
        "id": "WWil6jOh4a53",
        "colab_type": "code",
        "colab": {
          "base_uri": "https://localhost:8080/",
          "height": 195
        },
        "outputId": "ab4ec9fa-0cc7-426b-d75c-bc70fef7f369"
      },
      "source": [
        "dataframe.head()"
      ],
      "execution_count": 5,
      "outputs": [
        {
          "output_type": "execute_result",
          "data": {
            "text/html": [
              "<div>\n",
              "<style scoped>\n",
              "    .dataframe tbody tr th:only-of-type {\n",
              "        vertical-align: middle;\n",
              "    }\n",
              "\n",
              "    .dataframe tbody tr th {\n",
              "        vertical-align: top;\n",
              "    }\n",
              "\n",
              "    .dataframe thead th {\n",
              "        text-align: right;\n",
              "    }\n",
              "</style>\n",
              "<table border=\"1\" class=\"dataframe\">\n",
              "  <thead>\n",
              "    <tr style=\"text-align: right;\">\n",
              "      <th></th>\n",
              "      <th>area</th>\n",
              "      <th>bathrooms</th>\n",
              "    </tr>\n",
              "  </thead>\n",
              "  <tbody>\n",
              "    <tr>\n",
              "      <th>0</th>\n",
              "      <td>2104.0</td>\n",
              "      <td>3.0</td>\n",
              "    </tr>\n",
              "    <tr>\n",
              "      <th>1</th>\n",
              "      <td>1600.0</td>\n",
              "      <td>3.0</td>\n",
              "    </tr>\n",
              "    <tr>\n",
              "      <th>2</th>\n",
              "      <td>2400.0</td>\n",
              "      <td>3.0</td>\n",
              "    </tr>\n",
              "    <tr>\n",
              "      <th>3</th>\n",
              "      <td>1416.0</td>\n",
              "      <td>2.0</td>\n",
              "    </tr>\n",
              "    <tr>\n",
              "      <th>4</th>\n",
              "      <td>3000.0</td>\n",
              "      <td>4.0</td>\n",
              "    </tr>\n",
              "  </tbody>\n",
              "</table>\n",
              "</div>"
            ],
            "text/plain": [
              "     area  bathrooms\n",
              "0  2104.0        3.0\n",
              "1  1600.0        3.0\n",
              "2  2400.0        3.0\n",
              "3  1416.0        2.0\n",
              "4  3000.0        4.0"
            ]
          },
          "metadata": {
            "tags": []
          },
          "execution_count": 5
        }
      ]
    },
    {
      "cell_type": "code",
      "metadata": {
        "id": "-CRDoVuZ4c0B",
        "colab_type": "code",
        "colab": {
          "base_uri": "https://localhost:8080/",
          "height": 34
        },
        "outputId": "3abb7221-87af-4ba2-9511-5eecff6f163b"
      },
      "source": [
        "dataframe.shape"
      ],
      "execution_count": 6,
      "outputs": [
        {
          "output_type": "execute_result",
          "data": {
            "text/plain": [
              "(47, 2)"
            ]
          },
          "metadata": {
            "tags": []
          },
          "execution_count": 6
        }
      ]
    },
    {
      "cell_type": "code",
      "metadata": {
        "id": "CXOngQN84i22",
        "colab_type": "code",
        "colab": {}
      },
      "source": [
        "# focusing on 1st 10 rows\n",
        "dataframe = dataframe[0:10]"
      ],
      "execution_count": 0,
      "outputs": []
    },
    {
      "cell_type": "code",
      "metadata": {
        "id": "VyThe0oc4wuw",
        "colab_type": "code",
        "colab": {
          "base_uri": "https://localhost:8080/",
          "height": 343
        },
        "outputId": "94c18bac-d598-46b7-961f-2bf85935d7c9"
      },
      "source": [
        "dataframe"
      ],
      "execution_count": 8,
      "outputs": [
        {
          "output_type": "execute_result",
          "data": {
            "text/html": [
              "<div>\n",
              "<style scoped>\n",
              "    .dataframe tbody tr th:only-of-type {\n",
              "        vertical-align: middle;\n",
              "    }\n",
              "\n",
              "    .dataframe tbody tr th {\n",
              "        vertical-align: top;\n",
              "    }\n",
              "\n",
              "    .dataframe thead th {\n",
              "        text-align: right;\n",
              "    }\n",
              "</style>\n",
              "<table border=\"1\" class=\"dataframe\">\n",
              "  <thead>\n",
              "    <tr style=\"text-align: right;\">\n",
              "      <th></th>\n",
              "      <th>area</th>\n",
              "      <th>bathrooms</th>\n",
              "    </tr>\n",
              "  </thead>\n",
              "  <tbody>\n",
              "    <tr>\n",
              "      <th>0</th>\n",
              "      <td>2104.0</td>\n",
              "      <td>3.0</td>\n",
              "    </tr>\n",
              "    <tr>\n",
              "      <th>1</th>\n",
              "      <td>1600.0</td>\n",
              "      <td>3.0</td>\n",
              "    </tr>\n",
              "    <tr>\n",
              "      <th>2</th>\n",
              "      <td>2400.0</td>\n",
              "      <td>3.0</td>\n",
              "    </tr>\n",
              "    <tr>\n",
              "      <th>3</th>\n",
              "      <td>1416.0</td>\n",
              "      <td>2.0</td>\n",
              "    </tr>\n",
              "    <tr>\n",
              "      <th>4</th>\n",
              "      <td>3000.0</td>\n",
              "      <td>4.0</td>\n",
              "    </tr>\n",
              "    <tr>\n",
              "      <th>5</th>\n",
              "      <td>1985.0</td>\n",
              "      <td>4.0</td>\n",
              "    </tr>\n",
              "    <tr>\n",
              "      <th>6</th>\n",
              "      <td>1534.0</td>\n",
              "      <td>3.0</td>\n",
              "    </tr>\n",
              "    <tr>\n",
              "      <th>7</th>\n",
              "      <td>1427.0</td>\n",
              "      <td>3.0</td>\n",
              "    </tr>\n",
              "    <tr>\n",
              "      <th>8</th>\n",
              "      <td>1380.0</td>\n",
              "      <td>3.0</td>\n",
              "    </tr>\n",
              "    <tr>\n",
              "      <th>9</th>\n",
              "      <td>1494.0</td>\n",
              "      <td>3.0</td>\n",
              "    </tr>\n",
              "  </tbody>\n",
              "</table>\n",
              "</div>"
            ],
            "text/plain": [
              "     area  bathrooms\n",
              "0  2104.0        3.0\n",
              "1  1600.0        3.0\n",
              "2  2400.0        3.0\n",
              "3  1416.0        2.0\n",
              "4  3000.0        4.0\n",
              "5  1985.0        4.0\n",
              "6  1534.0        3.0\n",
              "7  1427.0        3.0\n",
              "8  1380.0        3.0\n",
              "9  1494.0        3.0"
            ]
          },
          "metadata": {
            "tags": []
          },
          "execution_count": 8
        }
      ]
    },
    {
      "cell_type": "code",
      "metadata": {
        "id": "XWqaIYSy4yvg",
        "colab_type": "code",
        "colab": {}
      },
      "source": [
        "#Adding labels\n",
        "dataframe.loc[:, (\"y1\")] = [1, 1, 1, 0, 0, 1, 0, 1, 1, 1] # 0 shows a bad purchase and 1 shows a good and satisfactory buying of property"
      ],
      "execution_count": 0,
      "outputs": []
    },
    {
      "cell_type": "code",
      "metadata": {
        "id": "Bps4hWh4UFVG",
        "colab_type": "code",
        "colab": {
          "base_uri": "https://localhost:8080/",
          "height": 195
        },
        "outputId": "32d2284b-346e-4a9e-d8e8-5ba9894b1e24"
      },
      "source": [
        "dataframe.head()"
      ],
      "execution_count": 10,
      "outputs": [
        {
          "output_type": "execute_result",
          "data": {
            "text/html": [
              "<div>\n",
              "<style scoped>\n",
              "    .dataframe tbody tr th:only-of-type {\n",
              "        vertical-align: middle;\n",
              "    }\n",
              "\n",
              "    .dataframe tbody tr th {\n",
              "        vertical-align: top;\n",
              "    }\n",
              "\n",
              "    .dataframe thead th {\n",
              "        text-align: right;\n",
              "    }\n",
              "</style>\n",
              "<table border=\"1\" class=\"dataframe\">\n",
              "  <thead>\n",
              "    <tr style=\"text-align: right;\">\n",
              "      <th></th>\n",
              "      <th>area</th>\n",
              "      <th>bathrooms</th>\n",
              "      <th>y1</th>\n",
              "    </tr>\n",
              "  </thead>\n",
              "  <tbody>\n",
              "    <tr>\n",
              "      <th>0</th>\n",
              "      <td>2104.0</td>\n",
              "      <td>3.0</td>\n",
              "      <td>1</td>\n",
              "    </tr>\n",
              "    <tr>\n",
              "      <th>1</th>\n",
              "      <td>1600.0</td>\n",
              "      <td>3.0</td>\n",
              "      <td>1</td>\n",
              "    </tr>\n",
              "    <tr>\n",
              "      <th>2</th>\n",
              "      <td>2400.0</td>\n",
              "      <td>3.0</td>\n",
              "      <td>1</td>\n",
              "    </tr>\n",
              "    <tr>\n",
              "      <th>3</th>\n",
              "      <td>1416.0</td>\n",
              "      <td>2.0</td>\n",
              "      <td>0</td>\n",
              "    </tr>\n",
              "    <tr>\n",
              "      <th>4</th>\n",
              "      <td>3000.0</td>\n",
              "      <td>4.0</td>\n",
              "      <td>0</td>\n",
              "    </tr>\n",
              "  </tbody>\n",
              "</table>\n",
              "</div>"
            ],
            "text/plain": [
              "     area  bathrooms  y1\n",
              "0  2104.0        3.0   1\n",
              "1  1600.0        3.0   1\n",
              "2  2400.0        3.0   1\n",
              "3  1416.0        2.0   0\n",
              "4  3000.0        4.0   0"
            ]
          },
          "metadata": {
            "tags": []
          },
          "execution_count": 10
        }
      ]
    },
    {
      "cell_type": "code",
      "metadata": {
        "id": "icTPMTQTUHV-",
        "colab_type": "code",
        "colab": {}
      },
      "source": [
        "dataframe.loc[:, (\"y2\")] = dataframe[\"y1\"] == 0"
      ],
      "execution_count": 0,
      "outputs": []
    },
    {
      "cell_type": "code",
      "metadata": {
        "id": "zcjrXdCrUJRO",
        "colab_type": "code",
        "colab": {
          "base_uri": "https://localhost:8080/",
          "height": 195
        },
        "outputId": "2cc9c6ee-d4bd-46b5-ddec-6d59303fa001"
      },
      "source": [
        "dataframe.head()"
      ],
      "execution_count": 12,
      "outputs": [
        {
          "output_type": "execute_result",
          "data": {
            "text/html": [
              "<div>\n",
              "<style scoped>\n",
              "    .dataframe tbody tr th:only-of-type {\n",
              "        vertical-align: middle;\n",
              "    }\n",
              "\n",
              "    .dataframe tbody tr th {\n",
              "        vertical-align: top;\n",
              "    }\n",
              "\n",
              "    .dataframe thead th {\n",
              "        text-align: right;\n",
              "    }\n",
              "</style>\n",
              "<table border=\"1\" class=\"dataframe\">\n",
              "  <thead>\n",
              "    <tr style=\"text-align: right;\">\n",
              "      <th></th>\n",
              "      <th>area</th>\n",
              "      <th>bathrooms</th>\n",
              "      <th>y1</th>\n",
              "      <th>y2</th>\n",
              "    </tr>\n",
              "  </thead>\n",
              "  <tbody>\n",
              "    <tr>\n",
              "      <th>0</th>\n",
              "      <td>2104.0</td>\n",
              "      <td>3.0</td>\n",
              "      <td>1</td>\n",
              "      <td>False</td>\n",
              "    </tr>\n",
              "    <tr>\n",
              "      <th>1</th>\n",
              "      <td>1600.0</td>\n",
              "      <td>3.0</td>\n",
              "      <td>1</td>\n",
              "      <td>False</td>\n",
              "    </tr>\n",
              "    <tr>\n",
              "      <th>2</th>\n",
              "      <td>2400.0</td>\n",
              "      <td>3.0</td>\n",
              "      <td>1</td>\n",
              "      <td>False</td>\n",
              "    </tr>\n",
              "    <tr>\n",
              "      <th>3</th>\n",
              "      <td>1416.0</td>\n",
              "      <td>2.0</td>\n",
              "      <td>0</td>\n",
              "      <td>True</td>\n",
              "    </tr>\n",
              "    <tr>\n",
              "      <th>4</th>\n",
              "      <td>3000.0</td>\n",
              "      <td>4.0</td>\n",
              "      <td>0</td>\n",
              "      <td>True</td>\n",
              "    </tr>\n",
              "  </tbody>\n",
              "</table>\n",
              "</div>"
            ],
            "text/plain": [
              "     area  bathrooms  y1     y2\n",
              "0  2104.0        3.0   1  False\n",
              "1  1600.0        3.0   1  False\n",
              "2  2400.0        3.0   1  False\n",
              "3  1416.0        2.0   0   True\n",
              "4  3000.0        4.0   0   True"
            ]
          },
          "metadata": {
            "tags": []
          },
          "execution_count": 12
        }
      ]
    },
    {
      "cell_type": "code",
      "metadata": {
        "id": "G1smsHtgUKxL",
        "colab_type": "code",
        "colab": {}
      },
      "source": [
        "dataframe.loc[:, (\"y2\")] = dataframe[\"y2\"].astype(int) "
      ],
      "execution_count": 0,
      "outputs": []
    },
    {
      "cell_type": "code",
      "metadata": {
        "id": "Y3VB01mfUNyd",
        "colab_type": "code",
        "colab": {
          "base_uri": "https://localhost:8080/",
          "height": 195
        },
        "outputId": "402edeb7-b21c-4e2c-edcb-600e525f589b"
      },
      "source": [
        "dataframe.head()"
      ],
      "execution_count": 14,
      "outputs": [
        {
          "output_type": "execute_result",
          "data": {
            "text/html": [
              "<div>\n",
              "<style scoped>\n",
              "    .dataframe tbody tr th:only-of-type {\n",
              "        vertical-align: middle;\n",
              "    }\n",
              "\n",
              "    .dataframe tbody tr th {\n",
              "        vertical-align: top;\n",
              "    }\n",
              "\n",
              "    .dataframe thead th {\n",
              "        text-align: right;\n",
              "    }\n",
              "</style>\n",
              "<table border=\"1\" class=\"dataframe\">\n",
              "  <thead>\n",
              "    <tr style=\"text-align: right;\">\n",
              "      <th></th>\n",
              "      <th>area</th>\n",
              "      <th>bathrooms</th>\n",
              "      <th>y1</th>\n",
              "      <th>y2</th>\n",
              "    </tr>\n",
              "  </thead>\n",
              "  <tbody>\n",
              "    <tr>\n",
              "      <th>0</th>\n",
              "      <td>2104.0</td>\n",
              "      <td>3.0</td>\n",
              "      <td>1</td>\n",
              "      <td>0</td>\n",
              "    </tr>\n",
              "    <tr>\n",
              "      <th>1</th>\n",
              "      <td>1600.0</td>\n",
              "      <td>3.0</td>\n",
              "      <td>1</td>\n",
              "      <td>0</td>\n",
              "    </tr>\n",
              "    <tr>\n",
              "      <th>2</th>\n",
              "      <td>2400.0</td>\n",
              "      <td>3.0</td>\n",
              "      <td>1</td>\n",
              "      <td>0</td>\n",
              "    </tr>\n",
              "    <tr>\n",
              "      <th>3</th>\n",
              "      <td>1416.0</td>\n",
              "      <td>2.0</td>\n",
              "      <td>0</td>\n",
              "      <td>1</td>\n",
              "    </tr>\n",
              "    <tr>\n",
              "      <th>4</th>\n",
              "      <td>3000.0</td>\n",
              "      <td>4.0</td>\n",
              "      <td>0</td>\n",
              "      <td>1</td>\n",
              "    </tr>\n",
              "  </tbody>\n",
              "</table>\n",
              "</div>"
            ],
            "text/plain": [
              "     area  bathrooms  y1  y2\n",
              "0  2104.0        3.0   1   0\n",
              "1  1600.0        3.0   1   0\n",
              "2  2400.0        3.0   1   0\n",
              "3  1416.0        2.0   0   1\n",
              "4  3000.0        4.0   0   1"
            ]
          },
          "metadata": {
            "tags": []
          },
          "execution_count": 14
        }
      ]
    },
    {
      "cell_type": "code",
      "metadata": {
        "id": "23152VLoUP9p",
        "colab_type": "code",
        "colab": {}
      },
      "source": [
        "#matrices to feed it to TensorFlow. Need to convert features into tensor\n",
        "inputX = dataframe.loc[:, ['area', 'bathrooms']].as_matrix()\n",
        "inputY = dataframe.loc[:, [\"y1\", \"y2\"]].as_matrix()"
      ],
      "execution_count": 0,
      "outputs": []
    },
    {
      "cell_type": "markdown",
      "metadata": {
        "id": "D_kHAl1ZcVNQ",
        "colab_type": "text"
      },
      "source": [
        "**Vector is 1D tensor i.e list of number**\n",
        "\n",
        "**Marix is a 2D tensor i.e list of list of numbers.**"
      ]
    },
    {
      "cell_type": "code",
      "metadata": {
        "id": "JOYeOpPKWBtv",
        "colab_type": "code",
        "colab": {
          "base_uri": "https://localhost:8080/",
          "height": 185
        },
        "outputId": "4a60efbf-33f7-48ea-833f-cfb3432f3031"
      },
      "source": [
        "inputX"
      ],
      "execution_count": 16,
      "outputs": [
        {
          "output_type": "execute_result",
          "data": {
            "text/plain": [
              "array([[2.104e+03, 3.000e+00],\n",
              "       [1.600e+03, 3.000e+00],\n",
              "       [2.400e+03, 3.000e+00],\n",
              "       [1.416e+03, 2.000e+00],\n",
              "       [3.000e+03, 4.000e+00],\n",
              "       [1.985e+03, 4.000e+00],\n",
              "       [1.534e+03, 3.000e+00],\n",
              "       [1.427e+03, 3.000e+00],\n",
              "       [1.380e+03, 3.000e+00],\n",
              "       [1.494e+03, 3.000e+00]])"
            ]
          },
          "metadata": {
            "tags": []
          },
          "execution_count": 16
        }
      ]
    },
    {
      "cell_type": "code",
      "metadata": {
        "id": "X2LkiXFBWEDg",
        "colab_type": "code",
        "colab": {
          "base_uri": "https://localhost:8080/",
          "height": 185
        },
        "outputId": "210d11ab-f19b-4d98-f046-c0823c24bdf9"
      },
      "source": [
        "inputY"
      ],
      "execution_count": 17,
      "outputs": [
        {
          "output_type": "execute_result",
          "data": {
            "text/plain": [
              "array([[1, 0],\n",
              "       [1, 0],\n",
              "       [1, 0],\n",
              "       [0, 1],\n",
              "       [0, 1],\n",
              "       [1, 0],\n",
              "       [0, 1],\n",
              "       [1, 0],\n",
              "       [1, 0],\n",
              "       [1, 0]])"
            ]
          },
          "metadata": {
            "tags": []
          },
          "execution_count": 17
        }
      ]
    },
    {
      "cell_type": "markdown",
      "metadata": {
        "id": "dk5-40EvWi6p",
        "colab_type": "text"
      },
      "source": [
        "# 2)-Define tensorflow model"
      ]
    },
    {
      "cell_type": "code",
      "metadata": {
        "id": "yAgfLh2kWmUP",
        "colab_type": "code",
        "colab": {}
      },
      "source": [
        "# Parameters\n",
        "learning_rate = 0.000001\n",
        "training_epochs = 2000\n",
        "display_step = 50\n",
        "n_samples = inputY.size"
      ],
      "execution_count": 0,
      "outputs": []
    },
    {
      "cell_type": "code",
      "metadata": {
        "id": "UEmao9T-Wp-B",
        "colab_type": "code",
        "colab": {
          "base_uri": "https://localhost:8080/",
          "height": 87
        },
        "outputId": "7040a9d1-c503-4d28-dbd9-bd1350d10987"
      },
      "source": [
        "# define the TensorFlow operations\n",
        "x = tf.placeholder(tf.float32, [None, 2])   \n",
        "\n",
        "#use a 2 x 2 float matrix for the weight\n",
        "            \n",
        "W = tf.Variable(tf.zeros([2, 2]))  \n",
        "\n",
        "#maintain two bias values\n",
        "                                            \n",
        "b = tf.Variable(tf.zeros([2]))   \n",
        "\n",
        "#calculating the predictio\n",
        "\n",
        "y_values = tf.add(tf.matmul(x, W), b)       \n",
        "                                           \n",
        "# use softmax which is activation function.It normalized and  translates numbers outputted by the previous layer into probability form\n",
        "y = tf.nn.softmax(y_values)    \n",
        "\n",
        "#For training purposes, we'll also feed you a matrix of label\n",
        "                                           \n",
        "    \n",
        "y_ = tf.placeholder(tf.float32, [None,2]) "
      ],
      "execution_count": 19,
      "outputs": [
        {
          "output_type": "stream",
          "text": [
            "WARNING:tensorflow:From /usr/local/lib/python3.6/dist-packages/tensorflow/python/framework/op_def_library.py:263: colocate_with (from tensorflow.python.framework.ops) is deprecated and will be removed in a future version.\n",
            "Instructions for updating:\n",
            "Colocations handled automatically by placer.\n"
          ],
          "name": "stdout"
        }
      ]
    },
    {
      "cell_type": "code",
      "metadata": {
        "id": "XeeUxIDaWqBJ",
        "colab_type": "code",
        "colab": {}
      },
      "source": [
        "#cost function \n",
        "\n",
        "cost = tf.reduce_sum(tf.pow(y_ - y, 2))/(2*n_samples)\n",
        "\n",
        "#define Gradient Descent\n",
        "\n",
        "optimizer = tf.train.GradientDescentOptimizer(learning_rate).minimize(cost)"
      ],
      "execution_count": 0,
      "outputs": []
    },
    {
      "cell_type": "code",
      "metadata": {
        "id": "K5Ji8WiYWqDq",
        "colab_type": "code",
        "colab": {}
      },
      "source": [
        "# Initialize variabls and tensorflow session\n",
        "\n",
        "init = tf.global_variables_initializer()\n",
        "sess = tf.Session()\n",
        "sess.run(init)"
      ],
      "execution_count": 0,
      "outputs": []
    },
    {
      "cell_type": "markdown",
      "metadata": {
        "id": "DOtZ9Qbd3QQ0",
        "colab_type": "text"
      },
      "source": [
        "# Training model"
      ]
    },
    {
      "cell_type": "code",
      "metadata": {
        "id": "lfdgbFbY3TN-",
        "colab_type": "code",
        "colab": {
          "base_uri": "https://localhost:8080/",
          "height": 756
        },
        "outputId": "bfbf91ad-e0e3-4e13-aae2-ea64134846d8"
      },
      "source": [
        "for i in range(training_epochs):  \n",
        "    sess.run(optimizer, feed_dict={x: inputX, y_: inputY}) \n",
        "    \n",
        "    #display log in each epoch\n",
        "    if (i) % display_step == 0:\n",
        "        cc = sess.run(cost, feed_dict={x: inputX, y_:inputY})\n",
        "        print (\"Training step:\", '%04d' % (i), \"cost=\", \"{:.9f}\".format(cc))\n",
        "        \n",
        "print (\"Optimization Finished!\")\n",
        "training_cost = sess.run(cost, feed_dict={x: inputX, y_: inputY})\n",
        "print (\"Training cost=\", training_cost, \"W=\", sess.run(W), \"b=\", sess.run(b), '\\n')"
      ],
      "execution_count": 22,
      "outputs": [
        {
          "output_type": "stream",
          "text": [
            "Training step: 0000 cost= 0.114958666\n",
            "Training step: 0050 cost= 0.109539948\n",
            "Training step: 0100 cost= 0.109539866\n",
            "Training step: 0150 cost= 0.109539807\n",
            "Training step: 0200 cost= 0.109539740\n",
            "Training step: 0250 cost= 0.109539665\n",
            "Training step: 0300 cost= 0.109539591\n",
            "Training step: 0350 cost= 0.109539531\n",
            "Training step: 0400 cost= 0.109539464\n",
            "Training step: 0450 cost= 0.109539405\n",
            "Training step: 0500 cost= 0.109539330\n",
            "Training step: 0550 cost= 0.109539263\n",
            "Training step: 0600 cost= 0.109539188\n",
            "Training step: 0650 cost= 0.109539129\n",
            "Training step: 0700 cost= 0.109539054\n",
            "Training step: 0750 cost= 0.109538995\n",
            "Training step: 0800 cost= 0.109538913\n",
            "Training step: 0850 cost= 0.109538853\n",
            "Training step: 0900 cost= 0.109538786\n",
            "Training step: 0950 cost= 0.109538712\n",
            "Training step: 1000 cost= 0.109538652\n",
            "Training step: 1050 cost= 0.109538570\n",
            "Training step: 1100 cost= 0.109538510\n",
            "Training step: 1150 cost= 0.109538451\n",
            "Training step: 1200 cost= 0.109538376\n",
            "Training step: 1250 cost= 0.109538309\n",
            "Training step: 1300 cost= 0.109538235\n",
            "Training step: 1350 cost= 0.109538175\n",
            "Training step: 1400 cost= 0.109538101\n",
            "Training step: 1450 cost= 0.109538034\n",
            "Training step: 1500 cost= 0.109537959\n",
            "Training step: 1550 cost= 0.109537899\n",
            "Training step: 1600 cost= 0.109537832\n",
            "Training step: 1650 cost= 0.109537773\n",
            "Training step: 1700 cost= 0.109537683\n",
            "Training step: 1750 cost= 0.109537624\n",
            "Training step: 1800 cost= 0.109537557\n",
            "Training step: 1850 cost= 0.109537482\n",
            "Training step: 1900 cost= 0.109537423\n",
            "Training step: 1950 cost= 0.109537356\n",
            "Optimization Finished!\n",
            "Training cost= 0.10953728 W= [[ 2.1414905e-04 -2.1415044e-04]\n",
            " [ 5.1274819e-05 -5.1274808e-05]] b= [ 1.1915519e-05 -1.1915529e-05] \n",
            "\n"
          ],
          "name": "stdout"
        }
      ]
    },
    {
      "cell_type": "markdown",
      "metadata": {
        "id": "e75kb2py30a3",
        "colab_type": "text"
      },
      "source": [
        "Training cost= 0.10953728 \n",
        "\n",
        "W= [[ 2.1414905e-04 -2.1415044e-04]\n",
        " [ 5.1274819e-05 -5.1274808e-05]] \n",
        " \n",
        " b= [ 1.1915519e-05 -1.1915529e-05] \n"
      ]
    },
    {
      "cell_type": "markdown",
      "metadata": {
        "id": "-sT3zM_Z3_6n",
        "colab_type": "text"
      },
      "source": [
        "# Test model"
      ]
    },
    {
      "cell_type": "code",
      "metadata": {
        "id": "2ejuePY54CgV",
        "colab_type": "code",
        "colab": {
          "base_uri": "https://localhost:8080/",
          "height": 185
        },
        "outputId": "2968b417-3782-4a0d-bc51-7ca06b61f018"
      },
      "source": [
        "sess.run(y, feed_dict={x: inputX })"
      ],
      "execution_count": 23,
      "outputs": [
        {
          "output_type": "execute_result",
          "data": {
            "text/plain": [
              "array([[0.7112522 , 0.28874776],\n",
              "       [0.66498977, 0.33501023],\n",
              "       [0.73657656, 0.26342347],\n",
              "       [0.6471879 , 0.3528121 ],\n",
              "       [0.78335613, 0.2166439 ],\n",
              "       [0.7006948 , 0.29930523],\n",
              "       [0.6586633 , 0.34133676],\n",
              "       [0.6482863 , 0.35171372],\n",
              "       [0.6436828 , 0.35631716],\n",
              "       [0.65480113, 0.3451989 ]], dtype=float32)"
            ]
          },
          "metadata": {
            "tags": []
          },
          "execution_count": 23
        }
      ]
    },
    {
      "cell_type": "markdown",
      "metadata": {
        "id": "Z5FZVEDj4I-B",
        "colab_type": "text"
      },
      "source": [
        "**compare with original y1 and y2 label. In y1, there are seven '1' values meaning 7 purchases were good. In our model , we see most values are higher and close to one. So, we did pick up 7 values correct. But three values were not predicted correct.**"
      ]
    },
    {
      "cell_type": "code",
      "metadata": {
        "id": "pOs9MRRq4ZoV",
        "colab_type": "code",
        "colab": {
          "base_uri": "https://localhost:8080/",
          "height": 34
        },
        "outputId": "5366f3e1-03ab-4a2f-981e-9beac873b40f"
      },
      "source": [
        "# checking how softmax is calculated\n",
        "sess.run(tf.nn.softmax([1., 2.]))"
      ],
      "execution_count": 24,
      "outputs": [
        {
          "output_type": "execute_result",
          "data": {
            "text/plain": [
              "array([0.26894143, 0.7310586 ], dtype=float32)"
            ]
          },
          "metadata": {
            "tags": []
          },
          "execution_count": 24
        }
      ]
    }
  ]
}