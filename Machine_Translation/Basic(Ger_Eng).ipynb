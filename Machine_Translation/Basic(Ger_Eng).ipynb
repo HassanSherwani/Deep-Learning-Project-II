{
  "nbformat": 4,
  "nbformat_minor": 0,
  "metadata": {
    "colab": {
      "name": "Basic(Ger_Eng).ipynb",
      "version": "0.3.2",
      "provenance": [],
      "collapsed_sections": []
    },
    "kernelspec": {
      "name": "python3",
      "display_name": "Python 3"
    },
    "accelerator": "GPU"
  },
  "cells": [
    {
      "cell_type": "markdown",
      "metadata": {
        "id": "QJxJLfT6m4zo",
        "colab_type": "text"
      },
      "source": [
        "# Machine Translation\n",
        "\n",
        "German-English"
      ]
    },
    {
      "cell_type": "markdown",
      "metadata": {
        "id": "YvFSu3KOnCQI",
        "colab_type": "text"
      },
      "source": [
        "# 1)- Importing key modules"
      ]
    },
    {
      "cell_type": "code",
      "metadata": {
        "id": "ydSdCo4JzRta",
        "colab_type": "code",
        "colab": {}
      },
      "source": [
        "#support both Python 2 and Python 3 with minimal overhead.\n",
        "from __future__ import absolute_import, division, print_function\n",
        "#ignore warnings\n",
        "import warnings\n",
        "warnings.filterwarnings('ignore')"
      ],
      "execution_count": 0,
      "outputs": []
    },
    {
      "cell_type": "code",
      "metadata": {
        "id": "HXdjBXc-zNXe",
        "colab_type": "code",
        "colab": {}
      },
      "source": [
        "import string \n",
        "import re \n",
        "from numpy import array, argmax, random, take \n",
        "import pandas as pd \n",
        "import matplotlib.pyplot as plt \n",
        "% matplotlib inline \n",
        "pd.set_option('display.max_colwidth', 200)"
      ],
      "execution_count": 0,
      "outputs": []
    },
    {
      "cell_type": "code",
      "metadata": {
        "id": "ElRcz5K3hJrC",
        "colab_type": "code",
        "outputId": "7dc0a808-3a23-41dd-ad62-2d460dd6aa25",
        "colab": {
          "base_uri": "https://localhost:8080/",
          "height": 34
        }
      },
      "source": [
        "from keras.models import Sequential \n",
        "from keras.layers import Dense, LSTM, Embedding, RepeatVector\n",
        "from keras.preprocessing.text import Tokenizer\n",
        "from keras.callbacks import ModelCheckpoint \n",
        "from keras.preprocessing.sequence import pad_sequences\n",
        "from keras.models import load_model \n",
        "from keras import optimizers \n"
      ],
      "execution_count": 3,
      "outputs": [
        {
          "output_type": "stream",
          "text": [
            "Using TensorFlow backend.\n"
          ],
          "name": "stderr"
        }
      ]
    },
    {
      "cell_type": "markdown",
      "metadata": {
        "id": "XN_b91atnHye",
        "colab_type": "text"
      },
      "source": [
        "# 2)- Reading Dataset"
      ]
    },
    {
      "cell_type": "code",
      "metadata": {
        "id": "ZM1ZO53WhL_6",
        "colab_type": "code",
        "colab": {}
      },
      "source": [
        "# function to read raw text file\n",
        "def read_text(filename): \n",
        "        # open the file \n",
        "        file = open(filename, mode='rt', encoding='utf-8') \n",
        "        \n",
        "        # read all text \n",
        "        text = file.read() \n",
        "        file.close() \n",
        "        return text"
      ],
      "execution_count": 0,
      "outputs": []
    },
    {
      "cell_type": "code",
      "metadata": {
        "id": "3nJ3NaVchcWb",
        "colab_type": "code",
        "colab": {}
      },
      "source": [
        "# split text into sentences \n",
        "def to_lines(text): \n",
        "      sents = text.strip().split('\\n') \n",
        "      sents = [i.split('\\t') for i in sents] \n",
        "      return sents"
      ],
      "execution_count": 0,
      "outputs": []
    },
    {
      "cell_type": "code",
      "metadata": {
        "id": "liHFTvu6hffX",
        "colab_type": "code",
        "colab": {}
      },
      "source": [
        "data = read_text(\"deu.txt\") \n",
        "deu_eng = to_lines(data) \n",
        "deu_eng = array(deu_eng)"
      ],
      "execution_count": 0,
      "outputs": []
    },
    {
      "cell_type": "code",
      "metadata": {
        "id": "1LoUaSevh0Z2",
        "colab_type": "code",
        "colab": {}
      },
      "source": [
        "deu_eng = deu_eng[:50000,:]"
      ],
      "execution_count": 0,
      "outputs": []
    },
    {
      "cell_type": "markdown",
      "metadata": {
        "id": "bX6QuO7xh6RK",
        "colab_type": "text"
      },
      "source": [
        "# 3)-Text Pre-Processing"
      ]
    },
    {
      "cell_type": "code",
      "metadata": {
        "id": "7ewE-nHLh3ph",
        "colab_type": "code",
        "outputId": "a0ed5274-5cd6-4deb-a55e-3cc7470cb0e6",
        "colab": {
          "base_uri": "https://localhost:8080/",
          "height": 151
        }
      },
      "source": [
        "deu_eng"
      ],
      "execution_count": 8,
      "outputs": [
        {
          "output_type": "execute_result",
          "data": {
            "text/plain": [
              "array([['Hi.', 'Hallo!'],\n",
              "       ['Hi.', 'Grüß Gott!'],\n",
              "       ['Run!', 'Lauf!'],\n",
              "       ...,\n",
              "       ['The man died of cancer.', 'Der Mann starb an Krebs.'],\n",
              "       ['The man lay motionless.', 'Der Mann lag bewegungslos da.'],\n",
              "       ['The man must be insane.', 'Der Mann muss geistesgestört sein.']],\n",
              "      dtype='<U537')"
            ]
          },
          "metadata": {
            "tags": []
          },
          "execution_count": 8
        }
      ]
    },
    {
      "cell_type": "code",
      "metadata": {
        "id": "o1FK1T2Kicbi",
        "colab_type": "code",
        "outputId": "153dd1d9-9516-4500-f105-959e5c6afd24",
        "colab": {
          "base_uri": "https://localhost:8080/",
          "height": 67
        }
      },
      "source": [
        "# for english part \n",
        "deu_eng[:,0]"
      ],
      "execution_count": 9,
      "outputs": [
        {
          "output_type": "execute_result",
          "data": {
            "text/plain": [
              "array(['Hi.', 'Hi.', 'Run!', ..., 'The man died of cancer.',\n",
              "       'The man lay motionless.', 'The man must be insane.'],\n",
              "      dtype='<U537')"
            ]
          },
          "metadata": {
            "tags": []
          },
          "execution_count": 9
        }
      ]
    },
    {
      "cell_type": "code",
      "metadata": {
        "id": "Z2CAJPD_ifVc",
        "colab_type": "code",
        "outputId": "403a1920-1f9b-4a25-a144-5167d2d48534",
        "colab": {
          "base_uri": "https://localhost:8080/",
          "height": 67
        }
      },
      "source": [
        "# for german part of lang.\n",
        "deu_eng[:,1]"
      ],
      "execution_count": 10,
      "outputs": [
        {
          "output_type": "execute_result",
          "data": {
            "text/plain": [
              "array(['Hallo!', 'Grüß Gott!', 'Lauf!', ..., 'Der Mann starb an Krebs.',\n",
              "       'Der Mann lag bewegungslos da.',\n",
              "       'Der Mann muss geistesgestört sein.'], dtype='<U537')"
            ]
          },
          "metadata": {
            "tags": []
          },
          "execution_count": 10
        }
      ]
    },
    {
      "cell_type": "markdown",
      "metadata": {
        "id": "GEia-m7ViPLD",
        "colab_type": "text"
      },
      "source": [
        "### 3.1)-Text cleaning"
      ]
    },
    {
      "cell_type": "code",
      "metadata": {
        "id": "WmC81k-wh8ZJ",
        "colab_type": "code",
        "colab": {}
      },
      "source": [
        "# Remove punctuation \n",
        "deu_eng[:,0] = [s.translate(str.maketrans('', '', string.punctuation)) for s in deu_eng[:,0]] \n",
        "deu_eng[:,1] = [s.translate(str.maketrans('', '', string.punctuation)) for s in deu_eng[:,1]] \n",
        "\n",
        "# convert text to lowercase \n",
        "for i in range(len(deu_eng)): \n",
        "    deu_eng[i,0] = deu_eng[i,0].lower() \n",
        "    deu_eng[i,1] = deu_eng[i,1].lower()"
      ],
      "execution_count": 0,
      "outputs": []
    },
    {
      "cell_type": "markdown",
      "metadata": {
        "id": "4FdyDdXwiS9i",
        "colab_type": "text"
      },
      "source": [
        "### 3.2)-Text to Sequence Conversion"
      ]
    },
    {
      "cell_type": "code",
      "metadata": {
        "id": "8pxu1-xNh8cA",
        "colab_type": "code",
        "outputId": "08140361-0578-4173-c497-bc3b72ddf27b",
        "colab": {
          "base_uri": "https://localhost:8080/",
          "height": 281
        }
      },
      "source": [
        "# empty lists \n",
        "eng_l = [] \n",
        "deu_l = [] \n",
        "\n",
        "# populate the lists with sentence lengths \n",
        "for i in deu_eng[:,0]: \n",
        "      eng_l.append(len(i.split())) \n",
        "\n",
        "for i in deu_eng[:,1]: \n",
        "      deu_l.append(len(i.split())) \n",
        "\n",
        "length_df = pd.DataFrame({'eng':eng_l, 'deu':deu_l})\n",
        "length_df.hist(bins = 30) \n",
        "plt.show()"
      ],
      "execution_count": 12,
      "outputs": [
        {
          "output_type": "display_data",
          "data": {
            "image/png": "[encoded data removed]",
            "text/plain": [
              "<Figure size 432x288 with 2 Axes>"
            ]
          },
          "metadata": {
            "tags": []
          }
        }
      ]
    },
    {
      "cell_type": "markdown",
      "metadata": {
        "id": "2De4ZERJzX_4",
        "colab_type": "text"
      },
      "source": [
        "the maximum length of the German sentences is 8 and that of the English phrases is 6."
      ]
    },
    {
      "cell_type": "markdown",
      "metadata": {
        "id": "Lpt6tCjfkGKu",
        "colab_type": "text"
      },
      "source": [
        "### 3.3)-vectorize our text data \n",
        "\n",
        "by using Keras’s Tokenizer()"
      ]
    },
    {
      "cell_type": "code",
      "metadata": {
        "id": "_j_y_uZ7h8e6",
        "colab_type": "code",
        "outputId": "94f989a8-692e-4004-f2d1-3f5b80848de2",
        "colab": {
          "base_uri": "https://localhost:8080/",
          "height": 34
        }
      },
      "source": [
        "# function to build a tokenizer \n",
        "def tokenization(lines): \n",
        "      tokenizer = Tokenizer() \n",
        "      tokenizer.fit_on_texts(lines) \n",
        "      return tokenizer\n",
        "\n",
        "# prepare english tokenizer \n",
        "eng_tokenizer = tokenization(deu_eng[:, 0]) \n",
        "eng_vocab_size = len(eng_tokenizer.word_index) + 1 \n",
        "eng_length = 8 \n",
        "\n",
        "print('English Vocabulary Size: %d' % eng_vocab_size)"
      ],
      "execution_count": 13,
      "outputs": [
        {
          "output_type": "stream",
          "text": [
            "English Vocabulary Size: 6352\n"
          ],
          "name": "stdout"
        }
      ]
    },
    {
      "cell_type": "code",
      "metadata": {
        "id": "0ha_ZNySh8hh",
        "colab_type": "code",
        "outputId": "057b211d-e455-4a10-c702-664497ebff5b",
        "colab": {
          "base_uri": "https://localhost:8080/",
          "height": 34
        }
      },
      "source": [
        "# prepare Deutch tokenizer \n",
        "deu_tokenizer = tokenization(deu_eng[:, 1]) \n",
        "deu_vocab_size = len(deu_tokenizer.word_index) + 1 \n",
        "deu_length = 8 \n",
        "print('Deutch Vocabulary Size: %d' % deu_vocab_size)"
      ],
      "execution_count": 14,
      "outputs": [
        {
          "output_type": "stream",
          "text": [
            "Deutch Vocabulary Size: 10678\n"
          ],
          "name": "stdout"
        }
      ]
    },
    {
      "cell_type": "markdown",
      "metadata": {
        "id": "XvmowmplzfdT",
        "colab_type": "text"
      },
      "source": [
        "There is difference in amount of words in two languages.We need to encode sequence"
      ]
    },
    {
      "cell_type": "markdown",
      "metadata": {
        "id": "cUY-Py6WzhtB",
        "colab_type": "text"
      },
      "source": [
        "### 3.4)-encode and pad sequences "
      ]
    },
    {
      "cell_type": "code",
      "metadata": {
        "id": "QElAizsykOtJ",
        "colab_type": "code",
        "colab": {}
      },
      "source": [
        "def encode_sequences(tokenizer, length, lines):          \n",
        "         # integer encode sequences          \n",
        "         seq = tokenizer.texts_to_sequences(lines)          \n",
        "         # pad sequences with 0 values          \n",
        "         seq = pad_sequences(seq, maxlen=length, padding='post')           \n",
        "         return seq"
      ],
      "execution_count": 0,
      "outputs": []
    },
    {
      "cell_type": "markdown",
      "metadata": {
        "id": "408A3w7Ukb4r",
        "colab_type": "text"
      },
      "source": [
        "# 4)-Model Building"
      ]
    },
    {
      "cell_type": "markdown",
      "metadata": {
        "id": "kJF5iWUOnUgC",
        "colab_type": "text"
      },
      "source": [
        "### 4.1)- Train-test Split\n",
        "\n",
        "80%-20%"
      ]
    },
    {
      "cell_type": "code",
      "metadata": {
        "id": "GzxozTM0kZk7",
        "colab_type": "code",
        "colab": {}
      },
      "source": [
        "from sklearn.model_selection import train_test_split \n",
        "\n",
        "# split data into train and test set \n",
        "train,test= train_test_split(deu_eng,test_size=0.2,random_state= 12)"
      ],
      "execution_count": 0,
      "outputs": []
    },
    {
      "cell_type": "markdown",
      "metadata": {
        "id": "xvyO7SdQkr88",
        "colab_type": "text"
      },
      "source": [
        "### 4.2)- Defining input and target\n",
        "We will encode German sentences as the input sequences and English sentences as the target sequences"
      ]
    },
    {
      "cell_type": "code",
      "metadata": {
        "id": "wJvJMU9Vzr-7",
        "colab_type": "code",
        "outputId": "e43b2b76-2656-4b92-93cd-5c8aff94ef86",
        "colab": {
          "base_uri": "https://localhost:8080/",
          "height": 67
        }
      },
      "source": [
        "# english version\n",
        "train[:, 0]"
      ],
      "execution_count": 17,
      "outputs": [
        {
          "output_type": "execute_result",
          "data": {
            "text/plain": [
              "array(['i have some bad news', 'spare me the details',\n",
              "       'do you know my husband', ..., 'my bag was stolen',\n",
              "       'tom works long hours', 'i like tom a lot'], dtype='<U537')"
            ]
          },
          "metadata": {
            "tags": []
          },
          "execution_count": 17
        }
      ]
    },
    {
      "cell_type": "code",
      "metadata": {
        "id": "TcMT6wFoztLT",
        "colab_type": "code",
        "outputId": "f04826e7-ecf8-4145-8f41-c7bdb2706a10",
        "colab": {
          "base_uri": "https://localhost:8080/",
          "height": 84
        }
      },
      "source": [
        "# english version\n",
        "train[:, 1]"
      ],
      "execution_count": 18,
      "outputs": [
        {
          "output_type": "execute_result",
          "data": {
            "text/plain": [
              "array(['ich habe schlechte nachrichten', 'erspare mir die einzelheiten',\n",
              "       'kennst du meinen mann', ..., 'meine tasche wurde gestohlen',\n",
              "       'tom hat eine lange arbeitszeit',\n",
              "       'tom ist mir unglaublich sympathisch'], dtype='<U537')"
            ]
          },
          "metadata": {
            "tags": []
          },
          "execution_count": 18
        }
      ]
    },
    {
      "cell_type": "code",
      "metadata": {
        "id": "P6ZhWiJdkkb8",
        "colab_type": "code",
        "colab": {}
      },
      "source": [
        "# prepare training data \n",
        "trainX = encode_sequences(deu_tokenizer, deu_length, train[:, 1]) \n",
        "trainY = encode_sequences(eng_tokenizer, eng_length, train[:, 0]) \n",
        "\n",
        "# prepare validation data \n",
        "testX = encode_sequences(deu_tokenizer, deu_length, test[:, 1]) \n",
        "testY = encode_sequences(eng_tokenizer, eng_length, test[:, 0])"
      ],
      "execution_count": 0,
      "outputs": []
    },
    {
      "cell_type": "code",
      "metadata": {
        "id": "f2LKJrFfz0GI",
        "colab_type": "code",
        "outputId": "51152b6d-c81e-4d37-d6cc-3debfc0aaa11",
        "colab": {
          "base_uri": "https://localhost:8080/",
          "height": 101
        }
      },
      "source": [
        "print(trainX[:5])"
      ],
      "execution_count": 20,
      "outputs": [
        {
          "output_type": "stream",
          "text": [
            "[[   1   14  604 1274    0    0    0    0]\n",
            " [9062   15   17 3411    0    0    0    0]\n",
            " [ 556    8  139  185    0    0    0    0]\n",
            " [  22   10    4    0    0    0    0    0]\n",
            " [   5    3   24 1429  393    0    0    0]]\n"
          ],
          "name": "stdout"
        }
      ]
    },
    {
      "cell_type": "code",
      "metadata": {
        "id": "L81CkA-Rz0Jh",
        "colab_type": "code",
        "outputId": "172fffa4-404c-47a1-d76c-febe08d896c3",
        "colab": {
          "base_uri": "https://localhost:8080/",
          "height": 101
        }
      },
      "source": [
        "print(trainY[:5])"
      ],
      "execution_count": 21,
      "outputs": [
        {
          "output_type": "stream",
          "text": [
            "[[   2   19  143  135  481    0    0    0]\n",
            " [2670    9    8 2312    0    0    0    0]\n",
            " [  11    3   33   16  780    0    0    0]\n",
            " [  27  110   26   19    0    0    0    0]\n",
            " [  23    5  200  442    0    0    0    0]]\n"
          ],
          "name": "stdout"
        }
      ]
    },
    {
      "cell_type": "code",
      "metadata": {
        "id": "plUoF_-gz0Mh",
        "colab_type": "code",
        "outputId": "ff75b3c8-c78a-4843-ee57-e4f1b2554184",
        "colab": {
          "base_uri": "https://localhost:8080/",
          "height": 84
        }
      },
      "source": [
        "print(trainX.shape)\n",
        "print(trainY.shape)\n",
        "print(testX.shape)\n",
        "print(testY.shape)"
      ],
      "execution_count": 22,
      "outputs": [
        {
          "output_type": "stream",
          "text": [
            "(40000, 8)\n",
            "(40000, 8)\n",
            "(10000, 8)\n",
            "(10000, 8)\n"
          ],
          "name": "stdout"
        }
      ]
    },
    {
      "cell_type": "markdown",
      "metadata": {
        "id": "7ubte9AUngfx",
        "colab_type": "text"
      },
      "source": [
        "### 4.3)- build NMT model"
      ]
    },
    {
      "cell_type": "code",
      "metadata": {
        "id": "yORpCfMCkkjz",
        "colab_type": "code",
        "colab": {}
      },
      "source": [
        " def build_model(in_vocab,out_vocab, in_timesteps,out_timesteps,n):   \n",
        "      model = Sequential() \n",
        "      model.add(Embedding(in_vocab, n, input_length=in_timesteps,   \n",
        "      mask_zero=True)) \n",
        "      model.add(LSTM(n)) \n",
        "      model.add(RepeatVector(out_timesteps)) \n",
        "      model.add(LSTM(n, return_sequences=True))  \n",
        "      model.add(Dense(out_vocab, activation='softmax')) \n",
        "      return model"
      ],
      "execution_count": 0,
      "outputs": []
    },
    {
      "cell_type": "code",
      "metadata": {
        "id": "H_0LMdC6lgnp",
        "colab_type": "code",
        "outputId": "d7178f4e-2772-456e-ba42-f0ca8aa69444",
        "colab": {
          "base_uri": "https://localhost:8080/",
          "height": 255
        }
      },
      "source": [
        "# model compilation (with 512 hidden units)\n",
        "model = build_model(deu_vocab_size, eng_vocab_size, deu_length, eng_length, 512)\n",
        "\n",
        "rms = optimizers.RMSprop(lr=0.001) \n",
        "model.compile(optimizer=rms, loss='sparse_categorical_crossentropy',metrics = ['accuracy'])"
      ],
      "execution_count": 24,
      "outputs": [
        {
          "output_type": "stream",
          "text": [
            "WARNING:tensorflow:From /usr/local/lib/python3.6/dist-packages/keras/backend/tensorflow_backend.py:66: The name tf.get_default_graph is deprecated. Please use tf.compat.v1.get_default_graph instead.\n",
            "\n",
            "WARNING:tensorflow:From /usr/local/lib/python3.6/dist-packages/keras/backend/tensorflow_backend.py:541: The name tf.placeholder is deprecated. Please use tf.compat.v1.placeholder instead.\n",
            "\n",
            "WARNING:tensorflow:From /usr/local/lib/python3.6/dist-packages/keras/backend/tensorflow_backend.py:4432: The name tf.random_uniform is deprecated. Please use tf.random.uniform instead.\n",
            "\n",
            "WARNING:tensorflow:From /usr/local/lib/python3.6/dist-packages/keras/backend/tensorflow_backend.py:3239: add_dispatch_support.<locals>.wrapper (from tensorflow.python.ops.array_ops) is deprecated and will be removed in a future version.\n",
            "Instructions for updating:\n",
            "Use tf.where in 2.0, which has the same broadcast rule as np.where\n",
            "WARNING:tensorflow:From /usr/local/lib/python3.6/dist-packages/keras/optimizers.py:793: The name tf.train.Optimizer is deprecated. Please use tf.compat.v1.train.Optimizer instead.\n",
            "\n",
            "WARNING:tensorflow:From /usr/local/lib/python3.6/dist-packages/keras/backend/tensorflow_backend.py:3622: The name tf.log is deprecated. Please use tf.math.log instead.\n",
            "\n"
          ],
          "name": "stdout"
        }
      ]
    },
    {
      "cell_type": "code",
      "metadata": {
        "id": "BA8KW2_80Hs3",
        "colab_type": "code",
        "outputId": "b46621fc-a7e4-44e7-c764-fd2ad71293c0",
        "colab": {
          "base_uri": "https://localhost:8080/",
          "height": 319
        }
      },
      "source": [
        "model.summary()"
      ],
      "execution_count": 25,
      "outputs": [
        {
          "output_type": "stream",
          "text": [
            "Model: \"sequential_1\"\n",
            "_________________________________________________________________\n",
            "Layer (type)                 Output Shape              Param #   \n",
            "=================================================================\n",
            "embedding_1 (Embedding)      (None, 8, 512)            5467136   \n",
            "_________________________________________________________________\n",
            "lstm_1 (LSTM)                (None, 512)               2099200   \n",
            "_________________________________________________________________\n",
            "repeat_vector_1 (RepeatVecto (None, 8, 512)            0         \n",
            "_________________________________________________________________\n",
            "lstm_2 (LSTM)                (None, 8, 512)            2099200   \n",
            "_________________________________________________________________\n",
            "dense_1 (Dense)              (None, 8, 6352)           3258576   \n",
            "=================================================================\n",
            "Total params: 12,924,112\n",
            "Trainable params: 12,924,112\n",
            "Non-trainable params: 0\n",
            "_________________________________________________________________\n"
          ],
          "name": "stdout"
        }
      ]
    },
    {
      "cell_type": "code",
      "metadata": {
        "id": "9M1ukVFAlkFz",
        "colab_type": "code",
        "outputId": "73d2c8ad-1960-425a-c70f-d05565c1026c",
        "colab": {
          "base_uri": "https://localhost:8080/",
          "height": 1000
        }
      },
      "source": [
        "filename = 'model_translate.h1' \n",
        "\n",
        "# set checkpoint\n",
        "checkpoint = ModelCheckpoint(filename, monitor='val_loss',  \n",
        "                             verbose=1, save_best_only=True, \n",
        "                             mode='min') \n",
        "\n",
        "\n",
        "# train model \n",
        "history = model.fit(trainX, trainY.reshape(trainY.shape[0], trainY.shape[1], 1), \n",
        "                    epochs=30, batch_size=512, validation_split = 0.2, \n",
        "                    callbacks=[checkpoint], verbose=1)"
      ],
      "execution_count": 26,
      "outputs": [
        {
          "output_type": "stream",
          "text": [
            "WARNING:tensorflow:From /usr/local/lib/python3.6/dist-packages/keras/backend/tensorflow_backend.py:1033: The name tf.assign_add is deprecated. Please use tf.compat.v1.assign_add instead.\n",
            "\n",
            "Train on 32000 samples, validate on 8000 samples\n",
            "Epoch 1/30\n",
            "32000/32000 [==============================] - 21s 660us/step - loss: 3.5472 - acc: 0.5279 - val_loss: 3.0612 - val_acc: 0.5509\n",
            "\n",
            "Epoch 00001: val_loss improved from inf to 3.06119, saving model to model_translate.h1\n",
            "Epoch 2/30\n",
            "32000/32000 [==============================] - 15s 471us/step - loss: 2.8965 - acc: 0.5562 - val_loss: 2.8323 - val_acc: 0.5595\n",
            "\n",
            "Epoch 00002: val_loss improved from 3.06119 to 2.83227, saving model to model_translate.h1\n",
            "Epoch 3/30\n",
            "32000/32000 [==============================] - 15s 471us/step - loss: 2.7236 - acc: 0.5727 - val_loss: 2.6779 - val_acc: 0.5851\n",
            "\n",
            "Epoch 00003: val_loss improved from 2.83227 to 2.67794, saving model to model_translate.h1\n",
            "Epoch 4/30\n",
            "32000/32000 [==============================] - 15s 474us/step - loss: 2.5514 - acc: 0.5942 - val_loss: 2.5502 - val_acc: 0.6002\n",
            "\n",
            "Epoch 00004: val_loss improved from 2.67794 to 2.55018, saving model to model_translate.h1\n",
            "Epoch 5/30\n",
            "32000/32000 [==============================] - 15s 474us/step - loss: 2.4097 - acc: 0.6073 - val_loss: 2.4428 - val_acc: 0.6123\n",
            "\n",
            "Epoch 00005: val_loss improved from 2.55018 to 2.44278, saving model to model_translate.h1\n",
            "Epoch 6/30\n",
            "32000/32000 [==============================] - 15s 474us/step - loss: 2.2785 - acc: 0.6219 - val_loss: 2.3395 - val_acc: 0.6263\n",
            "\n",
            "Epoch 00006: val_loss improved from 2.44278 to 2.33948, saving model to model_translate.h1\n",
            "Epoch 7/30\n",
            "32000/32000 [==============================] - 15s 474us/step - loss: 2.1552 - acc: 0.6359 - val_loss: 2.2601 - val_acc: 0.6370\n",
            "\n",
            "Epoch 00007: val_loss improved from 2.33948 to 2.26014, saving model to model_translate.h1\n",
            "Epoch 8/30\n",
            "32000/32000 [==============================] - 15s 473us/step - loss: 2.0417 - acc: 0.6486 - val_loss: 2.1815 - val_acc: 0.6470\n",
            "\n",
            "Epoch 00008: val_loss improved from 2.26014 to 2.18147, saving model to model_translate.h1\n",
            "Epoch 9/30\n",
            "32000/32000 [==============================] - 15s 475us/step - loss: 1.9400 - acc: 0.6597 - val_loss: 2.1157 - val_acc: 0.6567\n",
            "\n",
            "Epoch 00009: val_loss improved from 2.18147 to 2.11571, saving model to model_translate.h1\n",
            "Epoch 10/30\n",
            "32000/32000 [==============================] - 15s 473us/step - loss: 1.8352 - acc: 0.6723 - val_loss: 2.0581 - val_acc: 0.6638\n",
            "\n",
            "Epoch 00010: val_loss improved from 2.11571 to 2.05809, saving model to model_translate.h1\n",
            "Epoch 11/30\n",
            "32000/32000 [==============================] - 15s 473us/step - loss: 1.7386 - acc: 0.6837 - val_loss: 1.9931 - val_acc: 0.6723\n",
            "\n",
            "Epoch 00011: val_loss improved from 2.05809 to 1.99314, saving model to model_translate.h1\n",
            "Epoch 12/30\n",
            "32000/32000 [==============================] - 15s 474us/step - loss: 1.6377 - acc: 0.6951 - val_loss: 1.9145 - val_acc: 0.6843\n",
            "\n",
            "Epoch 00012: val_loss improved from 1.99314 to 1.91451, saving model to model_translate.h1\n",
            "Epoch 13/30\n",
            "32000/32000 [==============================] - 15s 474us/step - loss: 1.5451 - acc: 0.7057 - val_loss: 1.8570 - val_acc: 0.6914\n",
            "\n",
            "Epoch 00013: val_loss improved from 1.91451 to 1.85697, saving model to model_translate.h1\n",
            "Epoch 14/30\n",
            "32000/32000 [==============================] - 15s 473us/step - loss: 1.4539 - acc: 0.7157 - val_loss: 1.8151 - val_acc: 0.6962\n",
            "\n",
            "Epoch 00014: val_loss improved from 1.85697 to 1.81509, saving model to model_translate.h1\n",
            "Epoch 15/30\n",
            "32000/32000 [==============================] - 15s 475us/step - loss: 1.3684 - acc: 0.7263 - val_loss: 1.7587 - val_acc: 0.7019\n",
            "\n",
            "Epoch 00015: val_loss improved from 1.81509 to 1.75866, saving model to model_translate.h1\n",
            "Epoch 16/30\n",
            "32000/32000 [==============================] - 15s 474us/step - loss: 1.2822 - acc: 0.7376 - val_loss: 1.7110 - val_acc: 0.7108\n",
            "\n",
            "Epoch 00016: val_loss improved from 1.75866 to 1.71103, saving model to model_translate.h1\n",
            "Epoch 17/30\n",
            "32000/32000 [==============================] - 15s 473us/step - loss: 1.2045 - acc: 0.7480 - val_loss: 1.7009 - val_acc: 0.7131\n",
            "\n",
            "Epoch 00017: val_loss improved from 1.71103 to 1.70085, saving model to model_translate.h1\n",
            "Epoch 18/30\n",
            "32000/32000 [==============================] - 15s 475us/step - loss: 1.1276 - acc: 0.7595 - val_loss: 1.6351 - val_acc: 0.7179\n",
            "\n",
            "Epoch 00018: val_loss improved from 1.70085 to 1.63510, saving model to model_translate.h1\n",
            "Epoch 19/30\n",
            "32000/32000 [==============================] - 15s 473us/step - loss: 1.0544 - acc: 0.7710 - val_loss: 1.5975 - val_acc: 0.7255\n",
            "\n",
            "Epoch 00019: val_loss improved from 1.63510 to 1.59748, saving model to model_translate.h1\n",
            "Epoch 20/30\n",
            "32000/32000 [==============================] - 15s 474us/step - loss: 0.9840 - acc: 0.7824 - val_loss: 1.5659 - val_acc: 0.7308\n",
            "\n",
            "Epoch 00020: val_loss improved from 1.59748 to 1.56586, saving model to model_translate.h1\n",
            "Epoch 21/30\n",
            "32000/32000 [==============================] - 15s 474us/step - loss: 0.9188 - acc: 0.7936 - val_loss: 1.5464 - val_acc: 0.7339\n",
            "\n",
            "Epoch 00021: val_loss improved from 1.56586 to 1.54644, saving model to model_translate.h1\n",
            "Epoch 22/30\n",
            "32000/32000 [==============================] - 15s 474us/step - loss: 0.8536 - acc: 0.8054 - val_loss: 1.5473 - val_acc: 0.7358\n",
            "\n",
            "Epoch 00022: val_loss did not improve from 1.54644\n",
            "Epoch 23/30\n",
            "32000/32000 [==============================] - 15s 472us/step - loss: 0.7943 - acc: 0.8172 - val_loss: 1.4929 - val_acc: 0.7416\n",
            "\n",
            "Epoch 00023: val_loss improved from 1.54644 to 1.49290, saving model to model_translate.h1\n",
            "Epoch 24/30\n",
            "32000/32000 [==============================] - 15s 472us/step - loss: 0.7370 - acc: 0.8289 - val_loss: 1.4814 - val_acc: 0.7439\n",
            "\n",
            "Epoch 00024: val_loss improved from 1.49290 to 1.48139, saving model to model_translate.h1\n",
            "Epoch 25/30\n",
            "32000/32000 [==============================] - 15s 472us/step - loss: 0.6816 - acc: 0.8404 - val_loss: 1.4555 - val_acc: 0.7479\n",
            "\n",
            "Epoch 00025: val_loss improved from 1.48139 to 1.45553, saving model to model_translate.h1\n",
            "Epoch 26/30\n",
            "32000/32000 [==============================] - 15s 472us/step - loss: 0.6307 - acc: 0.8514 - val_loss: 1.4404 - val_acc: 0.7494\n",
            "\n",
            "Epoch 00026: val_loss improved from 1.45553 to 1.44044, saving model to model_translate.h1\n",
            "Epoch 27/30\n",
            "32000/32000 [==============================] - 15s 474us/step - loss: 0.5811 - acc: 0.8626 - val_loss: 1.4347 - val_acc: 0.7519\n",
            "\n",
            "Epoch 00027: val_loss improved from 1.44044 to 1.43474, saving model to model_translate.h1\n",
            "Epoch 28/30\n",
            "32000/32000 [==============================] - 15s 475us/step - loss: 0.5370 - acc: 0.8724 - val_loss: 1.4184 - val_acc: 0.7556\n",
            "\n",
            "Epoch 00028: val_loss improved from 1.43474 to 1.41844, saving model to model_translate.h1\n",
            "Epoch 29/30\n",
            "32000/32000 [==============================] - 15s 475us/step - loss: 0.4936 - acc: 0.8834 - val_loss: 1.4135 - val_acc: 0.7539\n",
            "\n",
            "Epoch 00029: val_loss improved from 1.41844 to 1.41353, saving model to model_translate.h1\n",
            "Epoch 30/30\n",
            "32000/32000 [==============================] - 15s 474us/step - loss: 0.4550 - acc: 0.8923 - val_loss: 1.4105 - val_acc: 0.7582\n",
            "\n",
            "Epoch 00030: val_loss improved from 1.41353 to 1.41046, saving model to model_translate.h1\n"
          ],
          "name": "stdout"
        }
      ]
    },
    {
      "cell_type": "markdown",
      "metadata": {
        "id": "nwrL0_sjmUuO",
        "colab_type": "text"
      },
      "source": [
        "# 5)-Plotting results"
      ]
    },
    {
      "cell_type": "code",
      "metadata": {
        "id": "iUYdtjQXlupF",
        "colab_type": "code",
        "outputId": "9969fa2f-ef07-4f78-bc8c-72e452943583",
        "colab": {
          "base_uri": "https://localhost:8080/",
          "height": 269
        }
      },
      "source": [
        "plt.plot(history.history['loss']) \n",
        "plt.plot(history.history['val_loss']) \n",
        "plt.legend(['train','validation']) \n",
        "plt.show()"
      ],
      "execution_count": 27,
      "outputs": [
        {
          "output_type": "display_data",
          "data": {
            "image/png": "[encoded data removed]",
            "text/plain": [
              "<Figure size 432x288 with 1 Axes>"
            ]
          },
          "metadata": {
            "tags": []
          }
        }
      ]
    },
    {
      "cell_type": "markdown",
      "metadata": {
        "id": "xQVCiaNDn4VJ",
        "colab_type": "text"
      },
      "source": [
        "As you can see in the above plot, the validation loss stopped decreasing after 20 epochs."
      ]
    },
    {
      "cell_type": "code",
      "metadata": {
        "id": "-ExYQtwouiel",
        "colab_type": "code",
        "colab": {
          "base_uri": "https://localhost:8080/",
          "height": 269
        },
        "outputId": "25af7736-2f51-427d-ad59-b962d6e73f66"
      },
      "source": [
        "plt.plot(history.history['acc']) \n",
        "plt.plot(history.history['val_acc']) \n",
        "plt.legend(['train','validation']) \n",
        "plt.show()"
      ],
      "execution_count": 28,
      "outputs": [
        {
          "output_type": "display_data",
          "data": {
            "image/png": "[encoded data removed]",
            "text/plain": [
              "<Figure size 432x288 with 1 Axes>"
            ]
          },
          "metadata": {
            "tags": []
          }
        }
      ]
    },
    {
      "cell_type": "markdown",
      "metadata": {
        "id": "FgePSmZBmSbn",
        "colab_type": "text"
      },
      "source": [
        "# 6)-Make Predictions"
      ]
    },
    {
      "cell_type": "code",
      "metadata": {
        "id": "6gh_CukCl7Al",
        "colab_type": "code",
        "colab": {}
      },
      "source": [
        "model = load_model('model_translate.h1') \n",
        "\n",
        "preds = model.predict_classes(testX.reshape((testX.shape[0], testX.shape[1])))"
      ],
      "execution_count": 0,
      "outputs": []
    },
    {
      "cell_type": "markdown",
      "metadata": {
        "id": "M-DaR0x4oA4P",
        "colab_type": "text"
      },
      "source": [
        "These predictions are sequences of integers. We need to convert these integers to their corresponding words."
      ]
    },
    {
      "cell_type": "markdown",
      "metadata": {
        "id": "VU6IOmOOoB3f",
        "colab_type": "text"
      },
      "source": [
        "### 6.1)- Convert integers to words"
      ]
    },
    {
      "cell_type": "code",
      "metadata": {
        "id": "oiy9gGAAmAat",
        "colab_type": "code",
        "colab": {}
      },
      "source": [
        "def get_word(n, tokenizer):  \n",
        "      for word, index in tokenizer.word_index.items():                       \n",
        "          if index == n: \n",
        "              return word \n",
        "      return None"
      ],
      "execution_count": 0,
      "outputs": []
    },
    {
      "cell_type": "markdown",
      "metadata": {
        "id": "KqSwZTcXmDTW",
        "colab_type": "text"
      },
      "source": [
        "### 6.2)-Convert predictions into text (English)"
      ]
    },
    {
      "cell_type": "code",
      "metadata": {
        "id": "Y82jlYQMmAg0",
        "colab_type": "code",
        "colab": {}
      },
      "source": [
        "preds_text = [] \n",
        "for i in preds:        \n",
        "       temp = []        \n",
        "       for j in range(len(i)):             \n",
        "            t = get_word(i[j], eng_tokenizer)             \n",
        "            if j > 0:                 \n",
        "                if (t==get_word(i[j-1],eng_tokenizer))or(t== None):                       \n",
        "                     temp.append('')                 \n",
        "                else:                      \n",
        "                     temp.append(t)             \n",
        "            else:                    \n",
        "                if(t == None):                                   \n",
        "                     temp.append('')                    \n",
        "                else:                           \n",
        "                     temp.append(t)        \n",
        "       preds_text.append(' '.join(temp))"
      ],
      "execution_count": 0,
      "outputs": []
    },
    {
      "cell_type": "code",
      "metadata": {
        "id": "XOAI5cB8mAj3",
        "colab_type": "code",
        "colab": {}
      },
      "source": [
        "pred_df = pd.DataFrame({'actual' : test[:,0], 'predicted' : preds_text})"
      ],
      "execution_count": 0,
      "outputs": []
    },
    {
      "cell_type": "code",
      "metadata": {
        "id": "S2orsrv6oo4o",
        "colab_type": "code",
        "outputId": "211b9122-0f94-40e0-9a7a-efe70a0918e2",
        "colab": {
          "base_uri": "https://localhost:8080/",
          "height": 491
        }
      },
      "source": [
        "# 1st 15 rows\n",
        "pred_df.head(15)"
      ],
      "execution_count": 33,
      "outputs": [
        {
          "output_type": "execute_result",
          "data": {
            "text/html": [
              "<div>\n",
              "<style scoped>\n",
              "    .dataframe tbody tr th:only-of-type {\n",
              "        vertical-align: middle;\n",
              "    }\n",
              "\n",
              "    .dataframe tbody tr th {\n",
              "        vertical-align: top;\n",
              "    }\n",
              "\n",
              "    .dataframe thead th {\n",
              "        text-align: right;\n",
              "    }\n",
              "</style>\n",
              "<table border=\"1\" class=\"dataframe\">\n",
              "  <thead>\n",
              "    <tr style=\"text-align: right;\">\n",
              "      <th></th>\n",
              "      <th>actual</th>\n",
              "      <th>predicted</th>\n",
              "    </tr>\n",
              "  </thead>\n",
              "  <tbody>\n",
              "    <tr>\n",
              "      <th>0</th>\n",
              "      <td>he wanted to be rich</td>\n",
              "      <td>he used to be rich</td>\n",
              "    </tr>\n",
              "    <tr>\n",
              "      <th>1</th>\n",
              "      <td>i love tom</td>\n",
              "      <td>i love tom</td>\n",
              "    </tr>\n",
              "    <tr>\n",
              "      <th>2</th>\n",
              "      <td>let us go home</td>\n",
              "      <td>lets go home</td>\n",
              "    </tr>\n",
              "    <tr>\n",
              "      <th>3</th>\n",
              "      <td>i love driving</td>\n",
              "      <td>i love your like</td>\n",
              "    </tr>\n",
              "    <tr>\n",
              "      <th>4</th>\n",
              "      <td>this is my dictionary</td>\n",
              "      <td>thats my dictionary</td>\n",
              "    </tr>\n",
              "    <tr>\n",
              "      <th>5</th>\n",
              "      <td>hi tom good morning</td>\n",
              "      <td>tell tom</td>\n",
              "    </tr>\n",
              "    <tr>\n",
              "      <th>6</th>\n",
              "      <td>why is she so popular</td>\n",
              "      <td>why is she so</td>\n",
              "    </tr>\n",
              "    <tr>\n",
              "      <th>7</th>\n",
              "      <td>ill show you my room</td>\n",
              "      <td>ill show you my room</td>\n",
              "    </tr>\n",
              "    <tr>\n",
              "      <th>8</th>\n",
              "      <td>did tom oversleep</td>\n",
              "      <td>tom overslept</td>\n",
              "    </tr>\n",
              "    <tr>\n",
              "      <th>9</th>\n",
              "      <td>keep up the good work</td>\n",
              "      <td>just a of your work</td>\n",
              "    </tr>\n",
              "    <tr>\n",
              "      <th>10</th>\n",
              "      <td>what happened</td>\n",
              "      <td>what happened</td>\n",
              "    </tr>\n",
              "    <tr>\n",
              "      <th>11</th>\n",
              "      <td>toms weak</td>\n",
              "      <td>tom is weak</td>\n",
              "    </tr>\n",
              "    <tr>\n",
              "      <th>12</th>\n",
              "      <td>take tom home</td>\n",
              "      <td>take tom home</td>\n",
              "    </tr>\n",
              "    <tr>\n",
              "      <th>13</th>\n",
              "      <td>school is out</td>\n",
              "      <td>school is over</td>\n",
              "    </tr>\n",
              "    <tr>\n",
              "      <th>14</th>\n",
              "      <td>it is pitch dark</td>\n",
              "      <td>its rush black</td>\n",
              "    </tr>\n",
              "  </tbody>\n",
              "</table>\n",
              "</div>"
            ],
            "text/plain": [
              "                   actual                 predicted\n",
              "0    he wanted to be rich     he used to be rich   \n",
              "1              i love tom           i love tom     \n",
              "2          let us go home         lets go home     \n",
              "3          i love driving      i love your like    \n",
              "4   this is my dictionary  thats my dictionary     \n",
              "5     hi tom good morning            tell tom      \n",
              "6   why is she so popular         why is she so    \n",
              "7    ill show you my room   ill show you my room   \n",
              "8       did tom oversleep       tom overslept      \n",
              "9   keep up the good work    just a of your work   \n",
              "10          what happened       what happened      \n",
              "11              toms weak          tom is weak     \n",
              "12          take tom home        take tom home     \n",
              "13          school is out       school is over     \n",
              "14       it is pitch dark       its rush black     "
            ]
          },
          "metadata": {
            "tags": []
          },
          "execution_count": 33
        }
      ]
    },
    {
      "cell_type": "code",
      "metadata": {
        "id": "LPocsO00mJy-",
        "colab_type": "code",
        "outputId": "0b36dece-ebe6-48c8-a5b7-69835a1ccbde",
        "colab": {
          "base_uri": "https://localhost:8080/",
          "height": 491
        }
      },
      "source": [
        "# print 15 rows randomly \n",
        "pred_df.sample(15)"
      ],
      "execution_count": 34,
      "outputs": [
        {
          "output_type": "execute_result",
          "data": {
            "text/html": [
              "<div>\n",
              "<style scoped>\n",
              "    .dataframe tbody tr th:only-of-type {\n",
              "        vertical-align: middle;\n",
              "    }\n",
              "\n",
              "    .dataframe tbody tr th {\n",
              "        vertical-align: top;\n",
              "    }\n",
              "\n",
              "    .dataframe thead th {\n",
              "        text-align: right;\n",
              "    }\n",
              "</style>\n",
              "<table border=\"1\" class=\"dataframe\">\n",
              "  <thead>\n",
              "    <tr style=\"text-align: right;\">\n",
              "      <th></th>\n",
              "      <th>actual</th>\n",
              "      <th>predicted</th>\n",
              "    </tr>\n",
              "  </thead>\n",
              "  <tbody>\n",
              "    <tr>\n",
              "      <th>4074</th>\n",
              "      <td>hes over forty</td>\n",
              "      <td>he is over forty</td>\n",
              "    </tr>\n",
              "    <tr>\n",
              "      <th>190</th>\n",
              "      <td>tom seemed to be done</td>\n",
              "      <td>tom was sick</td>\n",
              "    </tr>\n",
              "    <tr>\n",
              "      <th>8572</th>\n",
              "      <td>youll do great</td>\n",
              "      <td>youll do it</td>\n",
              "    </tr>\n",
              "    <tr>\n",
              "      <th>6620</th>\n",
              "      <td>tom knows wines</td>\n",
              "      <td>tom knows french</td>\n",
              "    </tr>\n",
              "    <tr>\n",
              "      <th>2011</th>\n",
              "      <td>tom is following mary</td>\n",
              "      <td>tom is scolding mary</td>\n",
              "    </tr>\n",
              "    <tr>\n",
              "      <th>128</th>\n",
              "      <td>a dog is following us</td>\n",
              "      <td>its a</td>\n",
              "    </tr>\n",
              "    <tr>\n",
              "      <th>1113</th>\n",
              "      <td>he can read and write</td>\n",
              "      <td>he can play his</td>\n",
              "    </tr>\n",
              "    <tr>\n",
              "      <th>4599</th>\n",
              "      <td>trust tom</td>\n",
              "      <td>ask tom</td>\n",
              "    </tr>\n",
              "    <tr>\n",
              "      <th>6881</th>\n",
              "      <td>do you know my father</td>\n",
              "      <td>do you know my father</td>\n",
              "    </tr>\n",
              "    <tr>\n",
              "      <th>686</th>\n",
              "      <td>tom disgusts me</td>\n",
              "      <td>tom adores me</td>\n",
              "    </tr>\n",
              "    <tr>\n",
              "      <th>8829</th>\n",
              "      <td>we can begin</td>\n",
              "      <td>we can begin</td>\n",
              "    </tr>\n",
              "    <tr>\n",
              "      <th>8591</th>\n",
              "      <td>tom will find mary</td>\n",
              "      <td>tom will find</td>\n",
              "    </tr>\n",
              "    <tr>\n",
              "      <th>670</th>\n",
              "      <td>never tell lies</td>\n",
              "      <td>never lie</td>\n",
              "    </tr>\n",
              "    <tr>\n",
              "      <th>3480</th>\n",
              "      <td>please give me one</td>\n",
              "      <td>please me  please</td>\n",
              "    </tr>\n",
              "    <tr>\n",
              "      <th>2256</th>\n",
              "      <td>do you think i care</td>\n",
              "      <td>do you think me reason</td>\n",
              "    </tr>\n",
              "  </tbody>\n",
              "</table>\n",
              "</div>"
            ],
            "text/plain": [
              "                     actual                  predicted\n",
              "4074         hes over forty       he is over forty    \n",
              "190   tom seemed to be done          tom was sick     \n",
              "8572         youll do great           youll do it     \n",
              "6620        tom knows wines      tom knows french     \n",
              "2011  tom is following mary   tom is scolding mary    \n",
              "128   a dog is following us                its a      \n",
              "1113  he can read and write        he can play his    \n",
              "4599              trust tom              ask tom      \n",
              "6881  do you know my father   do you know my father   \n",
              "686         tom disgusts me         tom adores me     \n",
              "8829           we can begin          we can begin     \n",
              "8591     tom will find mary         tom will find     \n",
              "670         never tell lies            never lie      \n",
              "3480     please give me one      please me  please    \n",
              "2256    do you think i care  do you think me reason   "
            ]
          },
          "metadata": {
            "tags": []
          },
          "execution_count": 34
        }
      ]
    }
  ]
}