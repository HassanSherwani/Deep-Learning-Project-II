{
  "nbformat": 4,
  "nbformat_minor": 0,
  "metadata": {
    "colab": {
      "name": "Speed dating predicton.ipynb",
      "version": "0.3.2",
      "provenance": [],
      "collapsed_sections": []
    },
    "kernelspec": {
      "name": "python3",
      "display_name": "Python 3"
    },
    "accelerator": "GPU"
  },
  "cells": [
    {
      "cell_type": "markdown",
      "metadata": {
        "id": "hUnSjWZm-bA3",
        "colab_type": "text"
      },
      "source": [
        "# Speed dating predicton\n",
        "\n"
      ]
    },
    {
      "cell_type": "code",
      "metadata": {
        "id": "tDy7sRms9VZ3",
        "colab_type": "code",
        "colab": {}
      },
      "source": [
        "# For warnings\n",
        "import warnings\n",
        "warnings.filterwarnings('ignore')"
      ],
      "execution_count": 0,
      "outputs": []
    },
    {
      "cell_type": "code",
      "metadata": {
        "id": "yFuNr7f89nRW",
        "colab_type": "code",
        "colab": {}
      },
      "source": [
        "#support both Python 2 and Python 3 with minimal overhead.\n",
        "from __future__ import absolute_import, division, print_function"
      ],
      "execution_count": 0,
      "outputs": []
    },
    {
      "cell_type": "code",
      "metadata": {
        "id": "s0kQBGhJ9Zfl",
        "colab_type": "code",
        "outputId": "243befb6-6b32-4527-e43b-3f4241951e34",
        "colab": {
          "base_uri": "https://localhost:8080/",
          "height": 34
        }
      },
      "source": [
        "#For Visuals\n",
        "import matplotlib.pyplot as plt\n",
        "import seaborn as sns\n",
        "%matplotlib inline\n",
        "%pylab inline"
      ],
      "execution_count": 3,
      "outputs": [
        {
          "output_type": "stream",
          "text": [
            "Populating the interactive namespace from numpy and matplotlib\n"
          ],
          "name": "stdout"
        }
      ]
    },
    {
      "cell_type": "code",
      "metadata": {
        "id": "alyEiwGz9dl7",
        "colab_type": "code",
        "colab": {}
      },
      "source": [
        "# For processing\n",
        "import numpy as np\n",
        "import pandas as pd\n",
        "import tensorflow as tf\n",
        "from sklearn.model_selection import train_test_split\n",
        "from sklearn.svm import SVC\n",
        "from sklearn.linear_model import LogisticRegression"
      ],
      "execution_count": 0,
      "outputs": []
    },
    {
      "cell_type": "code",
      "metadata": {
        "id": "P40RrvPS8Xfh",
        "colab_type": "code",
        "colab": {}
      },
      "source": [
        "# To evaluate\n",
        "from sklearn.metrics import accuracy_score\n",
        "from sklearn.metrics import recall_score\n",
        "from sklearn.metrics import classification_report\n",
        "from sklearn.metrics import confusion_matrix"
      ],
      "execution_count": 0,
      "outputs": []
    },
    {
      "cell_type": "code",
      "metadata": {
        "id": "99V2veTz8YQI",
        "colab_type": "code",
        "colab": {
          "base_uri": "https://localhost:8080/",
          "height": 34
        },
        "outputId": "a0d72841-5709-447c-9e8e-be56981128e1"
      },
      "source": [
        "from keras.models import Sequential\n",
        "from keras.layers import Dense, Dropout\n",
        "from sklearn.model_selection import train_test_split\n",
        "from sklearn.preprocessing import StandardScaler"
      ],
      "execution_count": 6,
      "outputs": [
        {
          "output_type": "stream",
          "text": [
            "Using TensorFlow backend.\n"
          ],
          "name": "stderr"
        }
      ]
    },
    {
      "cell_type": "markdown",
      "metadata": {
        "id": "XG0aIFxZ9r70",
        "colab_type": "text"
      },
      "source": [
        "# 2)- Loading data"
      ]
    },
    {
      "cell_type": "code",
      "metadata": {
        "id": "Xay_udLC9foN",
        "colab_type": "code",
        "outputId": "6a78a126-e569-4a52-eb77-dfd87b2e677d",
        "colab": {
          "base_uri": "https://localhost:8080/",
          "height": 244
        }
      },
      "source": [
        "df =pd.read_csv('Speed Dating Data.csv', encoding=\"ISO-8859-1\")\n",
        "df.head()"
      ],
      "execution_count": 7,
      "outputs": [
        {
          "output_type": "execute_result",
          "data": {
            "text/html": [
              "<div>\n",
              "<style scoped>\n",
              "    .dataframe tbody tr th:only-of-type {\n",
              "        vertical-align: middle;\n",
              "    }\n",
              "\n",
              "    .dataframe tbody tr th {\n",
              "        vertical-align: top;\n",
              "    }\n",
              "\n",
              "    .dataframe thead th {\n",
              "        text-align: right;\n",
              "    }\n",
              "</style>\n",
              "<table border=\"1\" class=\"dataframe\">\n",
              "  <thead>\n",
              "    <tr style=\"text-align: right;\">\n",
              "      <th></th>\n",
              "      <th>iid</th>\n",
              "      <th>id</th>\n",
              "      <th>gender</th>\n",
              "      <th>idg</th>\n",
              "      <th>condtn</th>\n",
              "      <th>wave</th>\n",
              "      <th>round</th>\n",
              "      <th>position</th>\n",
              "      <th>positin1</th>\n",
              "      <th>order</th>\n",
              "      <th>partner</th>\n",
              "      <th>pid</th>\n",
              "      <th>match</th>\n",
              "      <th>int_corr</th>\n",
              "      <th>samerace</th>\n",
              "      <th>age_o</th>\n",
              "      <th>race_o</th>\n",
              "      <th>pf_o_att</th>\n",
              "      <th>pf_o_sin</th>\n",
              "      <th>pf_o_int</th>\n",
              "      <th>pf_o_fun</th>\n",
              "      <th>pf_o_amb</th>\n",
              "      <th>pf_o_sha</th>\n",
              "      <th>dec_o</th>\n",
              "      <th>attr_o</th>\n",
              "      <th>sinc_o</th>\n",
              "      <th>intel_o</th>\n",
              "      <th>fun_o</th>\n",
              "      <th>amb_o</th>\n",
              "      <th>shar_o</th>\n",
              "      <th>like_o</th>\n",
              "      <th>prob_o</th>\n",
              "      <th>met_o</th>\n",
              "      <th>age</th>\n",
              "      <th>field</th>\n",
              "      <th>field_cd</th>\n",
              "      <th>undergra</th>\n",
              "      <th>mn_sat</th>\n",
              "      <th>tuition</th>\n",
              "      <th>race</th>\n",
              "      <th>...</th>\n",
              "      <th>amb5_2</th>\n",
              "      <th>you_call</th>\n",
              "      <th>them_cal</th>\n",
              "      <th>date_3</th>\n",
              "      <th>numdat_3</th>\n",
              "      <th>num_in_3</th>\n",
              "      <th>attr1_3</th>\n",
              "      <th>sinc1_3</th>\n",
              "      <th>intel1_3</th>\n",
              "      <th>fun1_3</th>\n",
              "      <th>amb1_3</th>\n",
              "      <th>shar1_3</th>\n",
              "      <th>attr7_3</th>\n",
              "      <th>sinc7_3</th>\n",
              "      <th>intel7_3</th>\n",
              "      <th>fun7_3</th>\n",
              "      <th>amb7_3</th>\n",
              "      <th>shar7_3</th>\n",
              "      <th>attr4_3</th>\n",
              "      <th>sinc4_3</th>\n",
              "      <th>intel4_3</th>\n",
              "      <th>fun4_3</th>\n",
              "      <th>amb4_3</th>\n",
              "      <th>shar4_3</th>\n",
              "      <th>attr2_3</th>\n",
              "      <th>sinc2_3</th>\n",
              "      <th>intel2_3</th>\n",
              "      <th>fun2_3</th>\n",
              "      <th>amb2_3</th>\n",
              "      <th>shar2_3</th>\n",
              "      <th>attr3_3</th>\n",
              "      <th>sinc3_3</th>\n",
              "      <th>intel3_3</th>\n",
              "      <th>fun3_3</th>\n",
              "      <th>amb3_3</th>\n",
              "      <th>attr5_3</th>\n",
              "      <th>sinc5_3</th>\n",
              "      <th>intel5_3</th>\n",
              "      <th>fun5_3</th>\n",
              "      <th>amb5_3</th>\n",
              "    </tr>\n",
              "  </thead>\n",
              "  <tbody>\n",
              "    <tr>\n",
              "      <th>0</th>\n",
              "      <td>1</td>\n",
              "      <td>1.0</td>\n",
              "      <td>0</td>\n",
              "      <td>1</td>\n",
              "      <td>1</td>\n",
              "      <td>1</td>\n",
              "      <td>10</td>\n",
              "      <td>7</td>\n",
              "      <td>NaN</td>\n",
              "      <td>4</td>\n",
              "      <td>1</td>\n",
              "      <td>11.0</td>\n",
              "      <td>0</td>\n",
              "      <td>0.14</td>\n",
              "      <td>0</td>\n",
              "      <td>27.0</td>\n",
              "      <td>2.0</td>\n",
              "      <td>35.0</td>\n",
              "      <td>20.0</td>\n",
              "      <td>20.0</td>\n",
              "      <td>20.0</td>\n",
              "      <td>0.0</td>\n",
              "      <td>5.0</td>\n",
              "      <td>0</td>\n",
              "      <td>6.0</td>\n",
              "      <td>8.0</td>\n",
              "      <td>8.0</td>\n",
              "      <td>8.0</td>\n",
              "      <td>8.0</td>\n",
              "      <td>6.0</td>\n",
              "      <td>7.0</td>\n",
              "      <td>4.0</td>\n",
              "      <td>2.0</td>\n",
              "      <td>21.0</td>\n",
              "      <td>Law</td>\n",
              "      <td>1.0</td>\n",
              "      <td>NaN</td>\n",
              "      <td>NaN</td>\n",
              "      <td>NaN</td>\n",
              "      <td>4.0</td>\n",
              "      <td>...</td>\n",
              "      <td>NaN</td>\n",
              "      <td>1.0</td>\n",
              "      <td>1.0</td>\n",
              "      <td>0.0</td>\n",
              "      <td>NaN</td>\n",
              "      <td>NaN</td>\n",
              "      <td>15.0</td>\n",
              "      <td>20.0</td>\n",
              "      <td>20.0</td>\n",
              "      <td>15.0</td>\n",
              "      <td>15.0</td>\n",
              "      <td>15.0</td>\n",
              "      <td>NaN</td>\n",
              "      <td>NaN</td>\n",
              "      <td>NaN</td>\n",
              "      <td>NaN</td>\n",
              "      <td>NaN</td>\n",
              "      <td>NaN</td>\n",
              "      <td>NaN</td>\n",
              "      <td>NaN</td>\n",
              "      <td>NaN</td>\n",
              "      <td>NaN</td>\n",
              "      <td>NaN</td>\n",
              "      <td>NaN</td>\n",
              "      <td>NaN</td>\n",
              "      <td>NaN</td>\n",
              "      <td>NaN</td>\n",
              "      <td>NaN</td>\n",
              "      <td>NaN</td>\n",
              "      <td>NaN</td>\n",
              "      <td>5.0</td>\n",
              "      <td>7.0</td>\n",
              "      <td>7.0</td>\n",
              "      <td>7.0</td>\n",
              "      <td>7.0</td>\n",
              "      <td>NaN</td>\n",
              "      <td>NaN</td>\n",
              "      <td>NaN</td>\n",
              "      <td>NaN</td>\n",
              "      <td>NaN</td>\n",
              "    </tr>\n",
              "    <tr>\n",
              "      <th>1</th>\n",
              "      <td>1</td>\n",
              "      <td>1.0</td>\n",
              "      <td>0</td>\n",
              "      <td>1</td>\n",
              "      <td>1</td>\n",
              "      <td>1</td>\n",
              "      <td>10</td>\n",
              "      <td>7</td>\n",
              "      <td>NaN</td>\n",
              "      <td>3</td>\n",
              "      <td>2</td>\n",
              "      <td>12.0</td>\n",
              "      <td>0</td>\n",
              "      <td>0.54</td>\n",
              "      <td>0</td>\n",
              "      <td>22.0</td>\n",
              "      <td>2.0</td>\n",
              "      <td>60.0</td>\n",
              "      <td>0.0</td>\n",
              "      <td>0.0</td>\n",
              "      <td>40.0</td>\n",
              "      <td>0.0</td>\n",
              "      <td>0.0</td>\n",
              "      <td>0</td>\n",
              "      <td>7.0</td>\n",
              "      <td>8.0</td>\n",
              "      <td>10.0</td>\n",
              "      <td>7.0</td>\n",
              "      <td>7.0</td>\n",
              "      <td>5.0</td>\n",
              "      <td>8.0</td>\n",
              "      <td>4.0</td>\n",
              "      <td>2.0</td>\n",
              "      <td>21.0</td>\n",
              "      <td>Law</td>\n",
              "      <td>1.0</td>\n",
              "      <td>NaN</td>\n",
              "      <td>NaN</td>\n",
              "      <td>NaN</td>\n",
              "      <td>4.0</td>\n",
              "      <td>...</td>\n",
              "      <td>NaN</td>\n",
              "      <td>1.0</td>\n",
              "      <td>1.0</td>\n",
              "      <td>0.0</td>\n",
              "      <td>NaN</td>\n",
              "      <td>NaN</td>\n",
              "      <td>15.0</td>\n",
              "      <td>20.0</td>\n",
              "      <td>20.0</td>\n",
              "      <td>15.0</td>\n",
              "      <td>15.0</td>\n",
              "      <td>15.0</td>\n",
              "      <td>NaN</td>\n",
              "      <td>NaN</td>\n",
              "      <td>NaN</td>\n",
              "      <td>NaN</td>\n",
              "      <td>NaN</td>\n",
              "      <td>NaN</td>\n",
              "      <td>NaN</td>\n",
              "      <td>NaN</td>\n",
              "      <td>NaN</td>\n",
              "      <td>NaN</td>\n",
              "      <td>NaN</td>\n",
              "      <td>NaN</td>\n",
              "      <td>NaN</td>\n",
              "      <td>NaN</td>\n",
              "      <td>NaN</td>\n",
              "      <td>NaN</td>\n",
              "      <td>NaN</td>\n",
              "      <td>NaN</td>\n",
              "      <td>5.0</td>\n",
              "      <td>7.0</td>\n",
              "      <td>7.0</td>\n",
              "      <td>7.0</td>\n",
              "      <td>7.0</td>\n",
              "      <td>NaN</td>\n",
              "      <td>NaN</td>\n",
              "      <td>NaN</td>\n",
              "      <td>NaN</td>\n",
              "      <td>NaN</td>\n",
              "    </tr>\n",
              "    <tr>\n",
              "      <th>2</th>\n",
              "      <td>1</td>\n",
              "      <td>1.0</td>\n",
              "      <td>0</td>\n",
              "      <td>1</td>\n",
              "      <td>1</td>\n",
              "      <td>1</td>\n",
              "      <td>10</td>\n",
              "      <td>7</td>\n",
              "      <td>NaN</td>\n",
              "      <td>10</td>\n",
              "      <td>3</td>\n",
              "      <td>13.0</td>\n",
              "      <td>1</td>\n",
              "      <td>0.16</td>\n",
              "      <td>1</td>\n",
              "      <td>22.0</td>\n",
              "      <td>4.0</td>\n",
              "      <td>19.0</td>\n",
              "      <td>18.0</td>\n",
              "      <td>19.0</td>\n",
              "      <td>18.0</td>\n",
              "      <td>14.0</td>\n",
              "      <td>12.0</td>\n",
              "      <td>1</td>\n",
              "      <td>10.0</td>\n",
              "      <td>10.0</td>\n",
              "      <td>10.0</td>\n",
              "      <td>10.0</td>\n",
              "      <td>10.0</td>\n",
              "      <td>10.0</td>\n",
              "      <td>10.0</td>\n",
              "      <td>10.0</td>\n",
              "      <td>1.0</td>\n",
              "      <td>21.0</td>\n",
              "      <td>Law</td>\n",
              "      <td>1.0</td>\n",
              "      <td>NaN</td>\n",
              "      <td>NaN</td>\n",
              "      <td>NaN</td>\n",
              "      <td>4.0</td>\n",
              "      <td>...</td>\n",
              "      <td>NaN</td>\n",
              "      <td>1.0</td>\n",
              "      <td>1.0</td>\n",
              "      <td>0.0</td>\n",
              "      <td>NaN</td>\n",
              "      <td>NaN</td>\n",
              "      <td>15.0</td>\n",
              "      <td>20.0</td>\n",
              "      <td>20.0</td>\n",
              "      <td>15.0</td>\n",
              "      <td>15.0</td>\n",
              "      <td>15.0</td>\n",
              "      <td>NaN</td>\n",
              "      <td>NaN</td>\n",
              "      <td>NaN</td>\n",
              "      <td>NaN</td>\n",
              "      <td>NaN</td>\n",
              "      <td>NaN</td>\n",
              "      <td>NaN</td>\n",
              "      <td>NaN</td>\n",
              "      <td>NaN</td>\n",
              "      <td>NaN</td>\n",
              "      <td>NaN</td>\n",
              "      <td>NaN</td>\n",
              "      <td>NaN</td>\n",
              "      <td>NaN</td>\n",
              "      <td>NaN</td>\n",
              "      <td>NaN</td>\n",
              "      <td>NaN</td>\n",
              "      <td>NaN</td>\n",
              "      <td>5.0</td>\n",
              "      <td>7.0</td>\n",
              "      <td>7.0</td>\n",
              "      <td>7.0</td>\n",
              "      <td>7.0</td>\n",
              "      <td>NaN</td>\n",
              "      <td>NaN</td>\n",
              "      <td>NaN</td>\n",
              "      <td>NaN</td>\n",
              "      <td>NaN</td>\n",
              "    </tr>\n",
              "    <tr>\n",
              "      <th>3</th>\n",
              "      <td>1</td>\n",
              "      <td>1.0</td>\n",
              "      <td>0</td>\n",
              "      <td>1</td>\n",
              "      <td>1</td>\n",
              "      <td>1</td>\n",
              "      <td>10</td>\n",
              "      <td>7</td>\n",
              "      <td>NaN</td>\n",
              "      <td>5</td>\n",
              "      <td>4</td>\n",
              "      <td>14.0</td>\n",
              "      <td>1</td>\n",
              "      <td>0.61</td>\n",
              "      <td>0</td>\n",
              "      <td>23.0</td>\n",
              "      <td>2.0</td>\n",
              "      <td>30.0</td>\n",
              "      <td>5.0</td>\n",
              "      <td>15.0</td>\n",
              "      <td>40.0</td>\n",
              "      <td>5.0</td>\n",
              "      <td>5.0</td>\n",
              "      <td>1</td>\n",
              "      <td>7.0</td>\n",
              "      <td>8.0</td>\n",
              "      <td>9.0</td>\n",
              "      <td>8.0</td>\n",
              "      <td>9.0</td>\n",
              "      <td>8.0</td>\n",
              "      <td>7.0</td>\n",
              "      <td>7.0</td>\n",
              "      <td>2.0</td>\n",
              "      <td>21.0</td>\n",
              "      <td>Law</td>\n",
              "      <td>1.0</td>\n",
              "      <td>NaN</td>\n",
              "      <td>NaN</td>\n",
              "      <td>NaN</td>\n",
              "      <td>4.0</td>\n",
              "      <td>...</td>\n",
              "      <td>NaN</td>\n",
              "      <td>1.0</td>\n",
              "      <td>1.0</td>\n",
              "      <td>0.0</td>\n",
              "      <td>NaN</td>\n",
              "      <td>NaN</td>\n",
              "      <td>15.0</td>\n",
              "      <td>20.0</td>\n",
              "      <td>20.0</td>\n",
              "      <td>15.0</td>\n",
              "      <td>15.0</td>\n",
              "      <td>15.0</td>\n",
              "      <td>NaN</td>\n",
              "      <td>NaN</td>\n",
              "      <td>NaN</td>\n",
              "      <td>NaN</td>\n",
              "      <td>NaN</td>\n",
              "      <td>NaN</td>\n",
              "      <td>NaN</td>\n",
              "      <td>NaN</td>\n",
              "      <td>NaN</td>\n",
              "      <td>NaN</td>\n",
              "      <td>NaN</td>\n",
              "      <td>NaN</td>\n",
              "      <td>NaN</td>\n",
              "      <td>NaN</td>\n",
              "      <td>NaN</td>\n",
              "      <td>NaN</td>\n",
              "      <td>NaN</td>\n",
              "      <td>NaN</td>\n",
              "      <td>5.0</td>\n",
              "      <td>7.0</td>\n",
              "      <td>7.0</td>\n",
              "      <td>7.0</td>\n",
              "      <td>7.0</td>\n",
              "      <td>NaN</td>\n",
              "      <td>NaN</td>\n",
              "      <td>NaN</td>\n",
              "      <td>NaN</td>\n",
              "      <td>NaN</td>\n",
              "    </tr>\n",
              "    <tr>\n",
              "      <th>4</th>\n",
              "      <td>1</td>\n",
              "      <td>1.0</td>\n",
              "      <td>0</td>\n",
              "      <td>1</td>\n",
              "      <td>1</td>\n",
              "      <td>1</td>\n",
              "      <td>10</td>\n",
              "      <td>7</td>\n",
              "      <td>NaN</td>\n",
              "      <td>7</td>\n",
              "      <td>5</td>\n",
              "      <td>15.0</td>\n",
              "      <td>1</td>\n",
              "      <td>0.21</td>\n",
              "      <td>0</td>\n",
              "      <td>24.0</td>\n",
              "      <td>3.0</td>\n",
              "      <td>30.0</td>\n",
              "      <td>10.0</td>\n",
              "      <td>20.0</td>\n",
              "      <td>10.0</td>\n",
              "      <td>10.0</td>\n",
              "      <td>20.0</td>\n",
              "      <td>1</td>\n",
              "      <td>8.0</td>\n",
              "      <td>7.0</td>\n",
              "      <td>9.0</td>\n",
              "      <td>6.0</td>\n",
              "      <td>9.0</td>\n",
              "      <td>7.0</td>\n",
              "      <td>8.0</td>\n",
              "      <td>6.0</td>\n",
              "      <td>2.0</td>\n",
              "      <td>21.0</td>\n",
              "      <td>Law</td>\n",
              "      <td>1.0</td>\n",
              "      <td>NaN</td>\n",
              "      <td>NaN</td>\n",
              "      <td>NaN</td>\n",
              "      <td>4.0</td>\n",
              "      <td>...</td>\n",
              "      <td>NaN</td>\n",
              "      <td>1.0</td>\n",
              "      <td>1.0</td>\n",
              "      <td>0.0</td>\n",
              "      <td>NaN</td>\n",
              "      <td>NaN</td>\n",
              "      <td>15.0</td>\n",
              "      <td>20.0</td>\n",
              "      <td>20.0</td>\n",
              "      <td>15.0</td>\n",
              "      <td>15.0</td>\n",
              "      <td>15.0</td>\n",
              "      <td>NaN</td>\n",
              "      <td>NaN</td>\n",
              "      <td>NaN</td>\n",
              "      <td>NaN</td>\n",
              "      <td>NaN</td>\n",
              "      <td>NaN</td>\n",
              "      <td>NaN</td>\n",
              "      <td>NaN</td>\n",
              "      <td>NaN</td>\n",
              "      <td>NaN</td>\n",
              "      <td>NaN</td>\n",
              "      <td>NaN</td>\n",
              "      <td>NaN</td>\n",
              "      <td>NaN</td>\n",
              "      <td>NaN</td>\n",
              "      <td>NaN</td>\n",
              "      <td>NaN</td>\n",
              "      <td>NaN</td>\n",
              "      <td>5.0</td>\n",
              "      <td>7.0</td>\n",
              "      <td>7.0</td>\n",
              "      <td>7.0</td>\n",
              "      <td>7.0</td>\n",
              "      <td>NaN</td>\n",
              "      <td>NaN</td>\n",
              "      <td>NaN</td>\n",
              "      <td>NaN</td>\n",
              "      <td>NaN</td>\n",
              "    </tr>\n",
              "  </tbody>\n",
              "</table>\n",
              "<p>5 rows × 195 columns</p>\n",
              "</div>"
            ],
            "text/plain": [
              "   iid   id  gender  idg  condtn  ...  attr5_3  sinc5_3  intel5_3  fun5_3  amb5_3\n",
              "0    1  1.0       0    1       1  ...      NaN      NaN       NaN     NaN     NaN\n",
              "1    1  1.0       0    1       1  ...      NaN      NaN       NaN     NaN     NaN\n",
              "2    1  1.0       0    1       1  ...      NaN      NaN       NaN     NaN     NaN\n",
              "3    1  1.0       0    1       1  ...      NaN      NaN       NaN     NaN     NaN\n",
              "4    1  1.0       0    1       1  ...      NaN      NaN       NaN     NaN     NaN\n",
              "\n",
              "[5 rows x 195 columns]"
            ]
          },
          "metadata": {
            "tags": []
          },
          "execution_count": 7
        }
      ]
    },
    {
      "cell_type": "code",
      "metadata": {
        "id": "dldOVu3-9ugI",
        "colab_type": "code",
        "outputId": "86ce36e2-1fe7-497f-8338-b5382912b3d5",
        "colab": {
          "base_uri": "https://localhost:8080/",
          "height": 34
        }
      },
      "source": [
        "df.shape"
      ],
      "execution_count": 8,
      "outputs": [
        {
          "output_type": "execute_result",
          "data": {
            "text/plain": [
              "(8378, 195)"
            ]
          },
          "metadata": {
            "tags": []
          },
          "execution_count": 8
        }
      ]
    },
    {
      "cell_type": "code",
      "metadata": {
        "id": "oruJ9W__9wfx",
        "colab_type": "code",
        "outputId": "8cad60a1-5ffa-4471-d4d7-65b860c617fe",
        "colab": {
          "base_uri": "https://localhost:8080/",
          "height": 101
        }
      },
      "source": [
        "df.info()"
      ],
      "execution_count": 9,
      "outputs": [
        {
          "output_type": "stream",
          "text": [
            "<class 'pandas.core.frame.DataFrame'>\n",
            "RangeIndex: 8378 entries, 0 to 8377\n",
            "Columns: 195 entries, iid to amb5_3\n",
            "dtypes: float64(174), int64(13), object(8)\n",
            "memory usage: 12.5+ MB\n"
          ],
          "name": "stdout"
        }
      ]
    },
    {
      "cell_type": "code",
      "metadata": {
        "id": "BKJLGIRu9x6N",
        "colab_type": "code",
        "outputId": "fd141996-0038-461f-c355-ee909dc3816c",
        "colab": {
          "base_uri": "https://localhost:8080/",
          "height": 118
        }
      },
      "source": [
        "#Let's check our dep. variable i.e labels\n",
        "df['match'].head()"
      ],
      "execution_count": 10,
      "outputs": [
        {
          "output_type": "execute_result",
          "data": {
            "text/plain": [
              "0    0\n",
              "1    0\n",
              "2    1\n",
              "3    1\n",
              "4    1\n",
              "Name: match, dtype: int64"
            ]
          },
          "metadata": {
            "tags": []
          },
          "execution_count": 10
        }
      ]
    },
    {
      "cell_type": "code",
      "metadata": {
        "id": "Z6UKJUez_EUD",
        "colab_type": "code",
        "outputId": "9a97e325-c271-43d4-b353-54418e8828fc",
        "colab": {
          "base_uri": "https://localhost:8080/",
          "height": 84
        }
      },
      "source": [
        "df.groupby(\"match\").size()"
      ],
      "execution_count": 11,
      "outputs": [
        {
          "output_type": "execute_result",
          "data": {
            "text/plain": [
              "match\n",
              "0    6998\n",
              "1    1380\n",
              "dtype: int64"
            ]
          },
          "metadata": {
            "tags": []
          },
          "execution_count": 11
        }
      ]
    },
    {
      "cell_type": "code",
      "metadata": {
        "id": "dIwZqVUZ_NVz",
        "colab_type": "code",
        "outputId": "4b651587-b103-4a8a-a02a-c59bbb48501d",
        "colab": {
          "base_uri": "https://localhost:8080/",
          "height": 67
        }
      },
      "source": [
        "df['match'].value_counts().sort_values(ascending=False)"
      ],
      "execution_count": 12,
      "outputs": [
        {
          "output_type": "execute_result",
          "data": {
            "text/plain": [
              "0    6998\n",
              "1    1380\n",
              "Name: match, dtype: int64"
            ]
          },
          "metadata": {
            "tags": []
          },
          "execution_count": 12
        }
      ]
    },
    {
      "cell_type": "code",
      "metadata": {
        "id": "Ey4Ig_rJ_STz",
        "colab_type": "code",
        "outputId": "6c9b0387-96d7-4844-f99a-11fae578acf8",
        "colab": {
          "base_uri": "https://localhost:8080/",
          "height": 282
        }
      },
      "source": [
        "df['match'].value_counts().plot(kind='bar')"
      ],
      "execution_count": 13,
      "outputs": [
        {
          "output_type": "execute_result",
          "data": {
            "text/plain": [
              "<matplotlib.axes._subplots.AxesSubplot at 0x7f114e7d5358>"
            ]
          },
          "metadata": {
            "tags": []
          },
          "execution_count": 13
        },
        {
          "output_type": "display_data",
          "data": {
            "image/png": "[encoded data removed]",
            "text/plain": [
              "<Figure size 432x288 with 1 Axes>"
            ]
          },
          "metadata": {
            "tags": []
          }
        }
      ]
    },
    {
      "cell_type": "markdown",
      "metadata": {
        "id": "Y6getyPW-jY1",
        "colab_type": "text"
      },
      "source": [
        "### seperate features and labels"
      ]
    },
    {
      "cell_type": "code",
      "metadata": {
        "id": "94vrl-DH-s4M",
        "colab_type": "code",
        "colab": {}
      },
      "source": [
        "df_labels=df['match']"
      ],
      "execution_count": 0,
      "outputs": []
    },
    {
      "cell_type": "code",
      "metadata": {
        "id": "ZNbB7xC996Q1",
        "colab_type": "code",
        "colab": {}
      },
      "source": [
        "df = df.drop(['match'], axis=1)"
      ],
      "execution_count": 0,
      "outputs": []
    },
    {
      "cell_type": "code",
      "metadata": {
        "id": "CfrvcXi6-Fg7",
        "colab_type": "code",
        "outputId": "56bcb4be-acfe-4098-f418-7fa35a2baaa3",
        "colab": {
          "base_uri": "https://localhost:8080/",
          "height": 118
        }
      },
      "source": [
        "df_labels[:5]"
      ],
      "execution_count": 16,
      "outputs": [
        {
          "output_type": "execute_result",
          "data": {
            "text/plain": [
              "0    0\n",
              "1    0\n",
              "2    1\n",
              "3    1\n",
              "4    1\n",
              "Name: match, dtype: int64"
            ]
          },
          "metadata": {
            "tags": []
          },
          "execution_count": 16
        }
      ]
    },
    {
      "cell_type": "markdown",
      "metadata": {
        "id": "DiUZOSks-3Rc",
        "colab_type": "text"
      },
      "source": [
        "# 3)-Preprocessing Data\n",
        "\n",
        "3.1 Cleaning <br>\n",
        "3.2 Transformation <br>\n",
        "3.3 Reduction by PCA <br>"
      ]
    },
    {
      "cell_type": "markdown",
      "metadata": {
        "id": "Nimw4PrK_8AP",
        "colab_type": "text"
      },
      "source": [
        "### 3.1 Cleaning\n",
        "\n",
        "a)-null values"
      ]
    },
    {
      "cell_type": "code",
      "metadata": {
        "id": "MZ-4-2_L-Iqk",
        "colab_type": "code",
        "outputId": "5060f7a9-e25b-468c-cb55-18aad1e1b542",
        "colab": {
          "base_uri": "https://localhost:8080/",
          "height": 34
        }
      },
      "source": [
        "na_sum = list(df.isnull().sum())\n",
        "print(len(na_sum))"
      ],
      "execution_count": 17,
      "outputs": [
        {
          "output_type": "stream",
          "text": [
            "194\n"
          ],
          "name": "stdout"
        }
      ]
    },
    {
      "cell_type": "code",
      "metadata": {
        "id": "2tOuHnavAjUU",
        "colab_type": "code",
        "outputId": "7cf658e7-66ce-42e8-ffbd-8be2ed438a3f",
        "colab": {
          "base_uri": "https://localhost:8080/",
          "height": 34
        }
      },
      "source": [
        "na_col = list(df.isnull().sum().index)\n",
        "print(len(na_col))"
      ],
      "execution_count": 18,
      "outputs": [
        {
          "output_type": "stream",
          "text": [
            "194\n"
          ],
          "name": "stdout"
        }
      ]
    },
    {
      "cell_type": "markdown",
      "metadata": {
        "id": "jjzvJHfkAXRr",
        "colab_type": "text"
      },
      "source": [
        "If a feature has more than 30% (2523) of values are null, we just drop the whole column."
      ]
    },
    {
      "cell_type": "code",
      "metadata": {
        "id": "crgLmb6MAIOj",
        "colab_type": "code",
        "outputId": "3fbe0438-de9b-4b9c-d854-3a7e338f71db",
        "colab": {
          "base_uri": "https://localhost:8080/",
          "height": 34
        }
      },
      "source": [
        "drop_col =[]\n",
        "for i in range(len(na_sum)):\n",
        "    if na_sum[i] > 2523:\n",
        "        drop_col.append(na_col[i])\n",
        "print(\"We can drop \",len(drop_col),\" Columns\")"
      ],
      "execution_count": 19,
      "outputs": [
        {
          "output_type": "stream",
          "text": [
            "We can drop  83  Columns\n"
          ],
          "name": "stdout"
        }
      ]
    },
    {
      "cell_type": "code",
      "metadata": {
        "id": "15D900w6Acpc",
        "colab_type": "code",
        "outputId": "ec635194-7d50-4619-e241-15257429b5a2",
        "colab": {
          "base_uri": "https://localhost:8080/",
          "height": 244
        }
      },
      "source": [
        "df = df.drop(drop_col,axis=1)\n",
        "df.head()"
      ],
      "execution_count": 20,
      "outputs": [
        {
          "output_type": "execute_result",
          "data": {
            "text/html": [
              "<div>\n",
              "<style scoped>\n",
              "    .dataframe tbody tr th:only-of-type {\n",
              "        vertical-align: middle;\n",
              "    }\n",
              "\n",
              "    .dataframe tbody tr th {\n",
              "        vertical-align: top;\n",
              "    }\n",
              "\n",
              "    .dataframe thead th {\n",
              "        text-align: right;\n",
              "    }\n",
              "</style>\n",
              "<table border=\"1\" class=\"dataframe\">\n",
              "  <thead>\n",
              "    <tr style=\"text-align: right;\">\n",
              "      <th></th>\n",
              "      <th>iid</th>\n",
              "      <th>id</th>\n",
              "      <th>gender</th>\n",
              "      <th>idg</th>\n",
              "      <th>condtn</th>\n",
              "      <th>wave</th>\n",
              "      <th>round</th>\n",
              "      <th>position</th>\n",
              "      <th>positin1</th>\n",
              "      <th>order</th>\n",
              "      <th>partner</th>\n",
              "      <th>pid</th>\n",
              "      <th>int_corr</th>\n",
              "      <th>samerace</th>\n",
              "      <th>age_o</th>\n",
              "      <th>race_o</th>\n",
              "      <th>pf_o_att</th>\n",
              "      <th>pf_o_sin</th>\n",
              "      <th>pf_o_int</th>\n",
              "      <th>pf_o_fun</th>\n",
              "      <th>pf_o_amb</th>\n",
              "      <th>pf_o_sha</th>\n",
              "      <th>dec_o</th>\n",
              "      <th>attr_o</th>\n",
              "      <th>sinc_o</th>\n",
              "      <th>intel_o</th>\n",
              "      <th>fun_o</th>\n",
              "      <th>amb_o</th>\n",
              "      <th>shar_o</th>\n",
              "      <th>like_o</th>\n",
              "      <th>prob_o</th>\n",
              "      <th>met_o</th>\n",
              "      <th>age</th>\n",
              "      <th>field</th>\n",
              "      <th>field_cd</th>\n",
              "      <th>race</th>\n",
              "      <th>imprace</th>\n",
              "      <th>imprelig</th>\n",
              "      <th>from</th>\n",
              "      <th>zipcode</th>\n",
              "      <th>...</th>\n",
              "      <th>intel4_1</th>\n",
              "      <th>fun4_1</th>\n",
              "      <th>amb4_1</th>\n",
              "      <th>shar4_1</th>\n",
              "      <th>attr2_1</th>\n",
              "      <th>sinc2_1</th>\n",
              "      <th>intel2_1</th>\n",
              "      <th>fun2_1</th>\n",
              "      <th>amb2_1</th>\n",
              "      <th>shar2_1</th>\n",
              "      <th>attr3_1</th>\n",
              "      <th>sinc3_1</th>\n",
              "      <th>fun3_1</th>\n",
              "      <th>intel3_1</th>\n",
              "      <th>amb3_1</th>\n",
              "      <th>dec</th>\n",
              "      <th>attr</th>\n",
              "      <th>sinc</th>\n",
              "      <th>intel</th>\n",
              "      <th>fun</th>\n",
              "      <th>amb</th>\n",
              "      <th>shar</th>\n",
              "      <th>like</th>\n",
              "      <th>prob</th>\n",
              "      <th>met</th>\n",
              "      <th>match_es</th>\n",
              "      <th>satis_2</th>\n",
              "      <th>length</th>\n",
              "      <th>numdat_2</th>\n",
              "      <th>attr1_2</th>\n",
              "      <th>sinc1_2</th>\n",
              "      <th>intel1_2</th>\n",
              "      <th>fun1_2</th>\n",
              "      <th>amb1_2</th>\n",
              "      <th>shar1_2</th>\n",
              "      <th>attr3_2</th>\n",
              "      <th>sinc3_2</th>\n",
              "      <th>intel3_2</th>\n",
              "      <th>fun3_2</th>\n",
              "      <th>amb3_2</th>\n",
              "    </tr>\n",
              "  </thead>\n",
              "  <tbody>\n",
              "    <tr>\n",
              "      <th>0</th>\n",
              "      <td>1</td>\n",
              "      <td>1.0</td>\n",
              "      <td>0</td>\n",
              "      <td>1</td>\n",
              "      <td>1</td>\n",
              "      <td>1</td>\n",
              "      <td>10</td>\n",
              "      <td>7</td>\n",
              "      <td>NaN</td>\n",
              "      <td>4</td>\n",
              "      <td>1</td>\n",
              "      <td>11.0</td>\n",
              "      <td>0.14</td>\n",
              "      <td>0</td>\n",
              "      <td>27.0</td>\n",
              "      <td>2.0</td>\n",
              "      <td>35.0</td>\n",
              "      <td>20.0</td>\n",
              "      <td>20.0</td>\n",
              "      <td>20.0</td>\n",
              "      <td>0.0</td>\n",
              "      <td>5.0</td>\n",
              "      <td>0</td>\n",
              "      <td>6.0</td>\n",
              "      <td>8.0</td>\n",
              "      <td>8.0</td>\n",
              "      <td>8.0</td>\n",
              "      <td>8.0</td>\n",
              "      <td>6.0</td>\n",
              "      <td>7.0</td>\n",
              "      <td>4.0</td>\n",
              "      <td>2.0</td>\n",
              "      <td>21.0</td>\n",
              "      <td>Law</td>\n",
              "      <td>1.0</td>\n",
              "      <td>4.0</td>\n",
              "      <td>2.0</td>\n",
              "      <td>4.0</td>\n",
              "      <td>Chicago</td>\n",
              "      <td>60,521</td>\n",
              "      <td>...</td>\n",
              "      <td>NaN</td>\n",
              "      <td>NaN</td>\n",
              "      <td>NaN</td>\n",
              "      <td>NaN</td>\n",
              "      <td>35.0</td>\n",
              "      <td>20.0</td>\n",
              "      <td>15.0</td>\n",
              "      <td>20.0</td>\n",
              "      <td>5.0</td>\n",
              "      <td>5.0</td>\n",
              "      <td>6.0</td>\n",
              "      <td>8.0</td>\n",
              "      <td>8.0</td>\n",
              "      <td>8.0</td>\n",
              "      <td>7.0</td>\n",
              "      <td>1</td>\n",
              "      <td>6.0</td>\n",
              "      <td>9.0</td>\n",
              "      <td>7.0</td>\n",
              "      <td>7.0</td>\n",
              "      <td>6.0</td>\n",
              "      <td>5.0</td>\n",
              "      <td>7.0</td>\n",
              "      <td>6.0</td>\n",
              "      <td>2.0</td>\n",
              "      <td>4.0</td>\n",
              "      <td>6.0</td>\n",
              "      <td>2.0</td>\n",
              "      <td>1.0</td>\n",
              "      <td>19.44</td>\n",
              "      <td>16.67</td>\n",
              "      <td>13.89</td>\n",
              "      <td>22.22</td>\n",
              "      <td>11.11</td>\n",
              "      <td>16.67</td>\n",
              "      <td>6.0</td>\n",
              "      <td>7.0</td>\n",
              "      <td>8.0</td>\n",
              "      <td>7.0</td>\n",
              "      <td>6.0</td>\n",
              "    </tr>\n",
              "    <tr>\n",
              "      <th>1</th>\n",
              "      <td>1</td>\n",
              "      <td>1.0</td>\n",
              "      <td>0</td>\n",
              "      <td>1</td>\n",
              "      <td>1</td>\n",
              "      <td>1</td>\n",
              "      <td>10</td>\n",
              "      <td>7</td>\n",
              "      <td>NaN</td>\n",
              "      <td>3</td>\n",
              "      <td>2</td>\n",
              "      <td>12.0</td>\n",
              "      <td>0.54</td>\n",
              "      <td>0</td>\n",
              "      <td>22.0</td>\n",
              "      <td>2.0</td>\n",
              "      <td>60.0</td>\n",
              "      <td>0.0</td>\n",
              "      <td>0.0</td>\n",
              "      <td>40.0</td>\n",
              "      <td>0.0</td>\n",
              "      <td>0.0</td>\n",
              "      <td>0</td>\n",
              "      <td>7.0</td>\n",
              "      <td>8.0</td>\n",
              "      <td>10.0</td>\n",
              "      <td>7.0</td>\n",
              "      <td>7.0</td>\n",
              "      <td>5.0</td>\n",
              "      <td>8.0</td>\n",
              "      <td>4.0</td>\n",
              "      <td>2.0</td>\n",
              "      <td>21.0</td>\n",
              "      <td>Law</td>\n",
              "      <td>1.0</td>\n",
              "      <td>4.0</td>\n",
              "      <td>2.0</td>\n",
              "      <td>4.0</td>\n",
              "      <td>Chicago</td>\n",
              "      <td>60,521</td>\n",
              "      <td>...</td>\n",
              "      <td>NaN</td>\n",
              "      <td>NaN</td>\n",
              "      <td>NaN</td>\n",
              "      <td>NaN</td>\n",
              "      <td>35.0</td>\n",
              "      <td>20.0</td>\n",
              "      <td>15.0</td>\n",
              "      <td>20.0</td>\n",
              "      <td>5.0</td>\n",
              "      <td>5.0</td>\n",
              "      <td>6.0</td>\n",
              "      <td>8.0</td>\n",
              "      <td>8.0</td>\n",
              "      <td>8.0</td>\n",
              "      <td>7.0</td>\n",
              "      <td>1</td>\n",
              "      <td>7.0</td>\n",
              "      <td>8.0</td>\n",
              "      <td>7.0</td>\n",
              "      <td>8.0</td>\n",
              "      <td>5.0</td>\n",
              "      <td>6.0</td>\n",
              "      <td>7.0</td>\n",
              "      <td>5.0</td>\n",
              "      <td>1.0</td>\n",
              "      <td>4.0</td>\n",
              "      <td>6.0</td>\n",
              "      <td>2.0</td>\n",
              "      <td>1.0</td>\n",
              "      <td>19.44</td>\n",
              "      <td>16.67</td>\n",
              "      <td>13.89</td>\n",
              "      <td>22.22</td>\n",
              "      <td>11.11</td>\n",
              "      <td>16.67</td>\n",
              "      <td>6.0</td>\n",
              "      <td>7.0</td>\n",
              "      <td>8.0</td>\n",
              "      <td>7.0</td>\n",
              "      <td>6.0</td>\n",
              "    </tr>\n",
              "    <tr>\n",
              "      <th>2</th>\n",
              "      <td>1</td>\n",
              "      <td>1.0</td>\n",
              "      <td>0</td>\n",
              "      <td>1</td>\n",
              "      <td>1</td>\n",
              "      <td>1</td>\n",
              "      <td>10</td>\n",
              "      <td>7</td>\n",
              "      <td>NaN</td>\n",
              "      <td>10</td>\n",
              "      <td>3</td>\n",
              "      <td>13.0</td>\n",
              "      <td>0.16</td>\n",
              "      <td>1</td>\n",
              "      <td>22.0</td>\n",
              "      <td>4.0</td>\n",
              "      <td>19.0</td>\n",
              "      <td>18.0</td>\n",
              "      <td>19.0</td>\n",
              "      <td>18.0</td>\n",
              "      <td>14.0</td>\n",
              "      <td>12.0</td>\n",
              "      <td>1</td>\n",
              "      <td>10.0</td>\n",
              "      <td>10.0</td>\n",
              "      <td>10.0</td>\n",
              "      <td>10.0</td>\n",
              "      <td>10.0</td>\n",
              "      <td>10.0</td>\n",
              "      <td>10.0</td>\n",
              "      <td>10.0</td>\n",
              "      <td>1.0</td>\n",
              "      <td>21.0</td>\n",
              "      <td>Law</td>\n",
              "      <td>1.0</td>\n",
              "      <td>4.0</td>\n",
              "      <td>2.0</td>\n",
              "      <td>4.0</td>\n",
              "      <td>Chicago</td>\n",
              "      <td>60,521</td>\n",
              "      <td>...</td>\n",
              "      <td>NaN</td>\n",
              "      <td>NaN</td>\n",
              "      <td>NaN</td>\n",
              "      <td>NaN</td>\n",
              "      <td>35.0</td>\n",
              "      <td>20.0</td>\n",
              "      <td>15.0</td>\n",
              "      <td>20.0</td>\n",
              "      <td>5.0</td>\n",
              "      <td>5.0</td>\n",
              "      <td>6.0</td>\n",
              "      <td>8.0</td>\n",
              "      <td>8.0</td>\n",
              "      <td>8.0</td>\n",
              "      <td>7.0</td>\n",
              "      <td>1</td>\n",
              "      <td>5.0</td>\n",
              "      <td>8.0</td>\n",
              "      <td>9.0</td>\n",
              "      <td>8.0</td>\n",
              "      <td>5.0</td>\n",
              "      <td>7.0</td>\n",
              "      <td>7.0</td>\n",
              "      <td>NaN</td>\n",
              "      <td>1.0</td>\n",
              "      <td>4.0</td>\n",
              "      <td>6.0</td>\n",
              "      <td>2.0</td>\n",
              "      <td>1.0</td>\n",
              "      <td>19.44</td>\n",
              "      <td>16.67</td>\n",
              "      <td>13.89</td>\n",
              "      <td>22.22</td>\n",
              "      <td>11.11</td>\n",
              "      <td>16.67</td>\n",
              "      <td>6.0</td>\n",
              "      <td>7.0</td>\n",
              "      <td>8.0</td>\n",
              "      <td>7.0</td>\n",
              "      <td>6.0</td>\n",
              "    </tr>\n",
              "    <tr>\n",
              "      <th>3</th>\n",
              "      <td>1</td>\n",
              "      <td>1.0</td>\n",
              "      <td>0</td>\n",
              "      <td>1</td>\n",
              "      <td>1</td>\n",
              "      <td>1</td>\n",
              "      <td>10</td>\n",
              "      <td>7</td>\n",
              "      <td>NaN</td>\n",
              "      <td>5</td>\n",
              "      <td>4</td>\n",
              "      <td>14.0</td>\n",
              "      <td>0.61</td>\n",
              "      <td>0</td>\n",
              "      <td>23.0</td>\n",
              "      <td>2.0</td>\n",
              "      <td>30.0</td>\n",
              "      <td>5.0</td>\n",
              "      <td>15.0</td>\n",
              "      <td>40.0</td>\n",
              "      <td>5.0</td>\n",
              "      <td>5.0</td>\n",
              "      <td>1</td>\n",
              "      <td>7.0</td>\n",
              "      <td>8.0</td>\n",
              "      <td>9.0</td>\n",
              "      <td>8.0</td>\n",
              "      <td>9.0</td>\n",
              "      <td>8.0</td>\n",
              "      <td>7.0</td>\n",
              "      <td>7.0</td>\n",
              "      <td>2.0</td>\n",
              "      <td>21.0</td>\n",
              "      <td>Law</td>\n",
              "      <td>1.0</td>\n",
              "      <td>4.0</td>\n",
              "      <td>2.0</td>\n",
              "      <td>4.0</td>\n",
              "      <td>Chicago</td>\n",
              "      <td>60,521</td>\n",
              "      <td>...</td>\n",
              "      <td>NaN</td>\n",
              "      <td>NaN</td>\n",
              "      <td>NaN</td>\n",
              "      <td>NaN</td>\n",
              "      <td>35.0</td>\n",
              "      <td>20.0</td>\n",
              "      <td>15.0</td>\n",
              "      <td>20.0</td>\n",
              "      <td>5.0</td>\n",
              "      <td>5.0</td>\n",
              "      <td>6.0</td>\n",
              "      <td>8.0</td>\n",
              "      <td>8.0</td>\n",
              "      <td>8.0</td>\n",
              "      <td>7.0</td>\n",
              "      <td>1</td>\n",
              "      <td>7.0</td>\n",
              "      <td>6.0</td>\n",
              "      <td>8.0</td>\n",
              "      <td>7.0</td>\n",
              "      <td>6.0</td>\n",
              "      <td>8.0</td>\n",
              "      <td>7.0</td>\n",
              "      <td>6.0</td>\n",
              "      <td>2.0</td>\n",
              "      <td>4.0</td>\n",
              "      <td>6.0</td>\n",
              "      <td>2.0</td>\n",
              "      <td>1.0</td>\n",
              "      <td>19.44</td>\n",
              "      <td>16.67</td>\n",
              "      <td>13.89</td>\n",
              "      <td>22.22</td>\n",
              "      <td>11.11</td>\n",
              "      <td>16.67</td>\n",
              "      <td>6.0</td>\n",
              "      <td>7.0</td>\n",
              "      <td>8.0</td>\n",
              "      <td>7.0</td>\n",
              "      <td>6.0</td>\n",
              "    </tr>\n",
              "    <tr>\n",
              "      <th>4</th>\n",
              "      <td>1</td>\n",
              "      <td>1.0</td>\n",
              "      <td>0</td>\n",
              "      <td>1</td>\n",
              "      <td>1</td>\n",
              "      <td>1</td>\n",
              "      <td>10</td>\n",
              "      <td>7</td>\n",
              "      <td>NaN</td>\n",
              "      <td>7</td>\n",
              "      <td>5</td>\n",
              "      <td>15.0</td>\n",
              "      <td>0.21</td>\n",
              "      <td>0</td>\n",
              "      <td>24.0</td>\n",
              "      <td>3.0</td>\n",
              "      <td>30.0</td>\n",
              "      <td>10.0</td>\n",
              "      <td>20.0</td>\n",
              "      <td>10.0</td>\n",
              "      <td>10.0</td>\n",
              "      <td>20.0</td>\n",
              "      <td>1</td>\n",
              "      <td>8.0</td>\n",
              "      <td>7.0</td>\n",
              "      <td>9.0</td>\n",
              "      <td>6.0</td>\n",
              "      <td>9.0</td>\n",
              "      <td>7.0</td>\n",
              "      <td>8.0</td>\n",
              "      <td>6.0</td>\n",
              "      <td>2.0</td>\n",
              "      <td>21.0</td>\n",
              "      <td>Law</td>\n",
              "      <td>1.0</td>\n",
              "      <td>4.0</td>\n",
              "      <td>2.0</td>\n",
              "      <td>4.0</td>\n",
              "      <td>Chicago</td>\n",
              "      <td>60,521</td>\n",
              "      <td>...</td>\n",
              "      <td>NaN</td>\n",
              "      <td>NaN</td>\n",
              "      <td>NaN</td>\n",
              "      <td>NaN</td>\n",
              "      <td>35.0</td>\n",
              "      <td>20.0</td>\n",
              "      <td>15.0</td>\n",
              "      <td>20.0</td>\n",
              "      <td>5.0</td>\n",
              "      <td>5.0</td>\n",
              "      <td>6.0</td>\n",
              "      <td>8.0</td>\n",
              "      <td>8.0</td>\n",
              "      <td>8.0</td>\n",
              "      <td>7.0</td>\n",
              "      <td>1</td>\n",
              "      <td>5.0</td>\n",
              "      <td>6.0</td>\n",
              "      <td>7.0</td>\n",
              "      <td>7.0</td>\n",
              "      <td>6.0</td>\n",
              "      <td>6.0</td>\n",
              "      <td>6.0</td>\n",
              "      <td>6.0</td>\n",
              "      <td>2.0</td>\n",
              "      <td>4.0</td>\n",
              "      <td>6.0</td>\n",
              "      <td>2.0</td>\n",
              "      <td>1.0</td>\n",
              "      <td>19.44</td>\n",
              "      <td>16.67</td>\n",
              "      <td>13.89</td>\n",
              "      <td>22.22</td>\n",
              "      <td>11.11</td>\n",
              "      <td>16.67</td>\n",
              "      <td>6.0</td>\n",
              "      <td>7.0</td>\n",
              "      <td>8.0</td>\n",
              "      <td>7.0</td>\n",
              "      <td>6.0</td>\n",
              "    </tr>\n",
              "  </tbody>\n",
              "</table>\n",
              "<p>5 rows × 111 columns</p>\n",
              "</div>"
            ],
            "text/plain": [
              "   iid   id  gender  idg  condtn  ...  attr3_2  sinc3_2  intel3_2  fun3_2  amb3_2\n",
              "0    1  1.0       0    1       1  ...      6.0      7.0       8.0     7.0     6.0\n",
              "1    1  1.0       0    1       1  ...      6.0      7.0       8.0     7.0     6.0\n",
              "2    1  1.0       0    1       1  ...      6.0      7.0       8.0     7.0     6.0\n",
              "3    1  1.0       0    1       1  ...      6.0      7.0       8.0     7.0     6.0\n",
              "4    1  1.0       0    1       1  ...      6.0      7.0       8.0     7.0     6.0\n",
              "\n",
              "[5 rows x 111 columns]"
            ]
          },
          "metadata": {
            "tags": []
          },
          "execution_count": 20
        }
      ]
    },
    {
      "cell_type": "code",
      "metadata": {
        "id": "U7psOwEkAq6A",
        "colab_type": "code",
        "outputId": "99039c66-4cde-49e8-95b2-06f65e6d0261",
        "colab": {
          "base_uri": "https://localhost:8080/",
          "height": 34
        }
      },
      "source": [
        "df.shape"
      ],
      "execution_count": 21,
      "outputs": [
        {
          "output_type": "execute_result",
          "data": {
            "text/plain": [
              "(8378, 111)"
            ]
          },
          "metadata": {
            "tags": []
          },
          "execution_count": 21
        }
      ]
    },
    {
      "cell_type": "markdown",
      "metadata": {
        "id": "0Rle5jEGAulC",
        "colab_type": "text"
      },
      "source": [
        "From 195 to 112 columns now. Columns represent our features"
      ]
    },
    {
      "cell_type": "code",
      "metadata": {
        "id": "a-_5s_wgAsEX",
        "colab_type": "code",
        "outputId": "2ede5ef0-a6c0-40a6-db94-03323453a5e3",
        "colab": {
          "base_uri": "https://localhost:8080/",
          "height": 34
        }
      },
      "source": [
        "# Checking rows now\n",
        "#check if any NaN values\n",
        "df.isnull().values.any()"
      ],
      "execution_count": 22,
      "outputs": [
        {
          "output_type": "execute_result",
          "data": {
            "text/plain": [
              "True"
            ]
          },
          "metadata": {
            "tags": []
          },
          "execution_count": 22
        }
      ]
    },
    {
      "cell_type": "markdown",
      "metadata": {
        "id": "JYn-rU9QA-pd",
        "colab_type": "text"
      },
      "source": [
        "**Imputing null values with mean**"
      ]
    },
    {
      "cell_type": "code",
      "metadata": {
        "id": "SuVwx7mYA8Tr",
        "colab_type": "code",
        "colab": {}
      },
      "source": [
        "df = df.fillna(df.mean())"
      ],
      "execution_count": 0,
      "outputs": []
    },
    {
      "cell_type": "code",
      "metadata": {
        "id": "8LFDob2HBBK8",
        "colab_type": "code",
        "outputId": "3252ad20-3bd6-477b-fd7a-17ed3a4928b3",
        "colab": {
          "base_uri": "https://localhost:8080/",
          "height": 34
        }
      },
      "source": [
        "df.isnull().values.any()"
      ],
      "execution_count": 24,
      "outputs": [
        {
          "output_type": "execute_result",
          "data": {
            "text/plain": [
              "True"
            ]
          },
          "metadata": {
            "tags": []
          },
          "execution_count": 24
        }
      ]
    },
    {
      "cell_type": "markdown",
      "metadata": {
        "id": "SZHEN7UeBEBd",
        "colab_type": "text"
      },
      "source": [
        "Still we have null values."
      ]
    },
    {
      "cell_type": "code",
      "metadata": {
        "id": "1ESBADo5BDIu",
        "colab_type": "code",
        "outputId": "b1f3a4cc-ad38-4c5d-a295-3091086efcc1",
        "colab": {
          "base_uri": "https://localhost:8080/",
          "height": 34
        }
      },
      "source": [
        "na_sum = list(df.isnull().sum())\n",
        "na_col = list(df.isnull().sum().index)\n",
        "nan_col =[]\n",
        "for i in range(len(na_sum)):\n",
        "    if na_sum[i] > 0:\n",
        "        nan_col.append(na_col[i])\n",
        "nan_col"
      ],
      "execution_count": 25,
      "outputs": [
        {
          "output_type": "execute_result",
          "data": {
            "text/plain": [
              "['field', 'from', 'zipcode', 'career']"
            ]
          },
          "metadata": {
            "tags": []
          },
          "execution_count": 25
        }
      ]
    },
    {
      "cell_type": "code",
      "metadata": {
        "id": "Mh3AEJJiBJ0F",
        "colab_type": "code",
        "outputId": "9cb3231f-638e-4382-c117-1d4ece583aa3",
        "colab": {
          "base_uri": "https://localhost:8080/",
          "height": 195
        }
      },
      "source": [
        "df[['field', 'from', 'zipcode', 'career']].head()"
      ],
      "execution_count": 26,
      "outputs": [
        {
          "output_type": "execute_result",
          "data": {
            "text/html": [
              "<div>\n",
              "<style scoped>\n",
              "    .dataframe tbody tr th:only-of-type {\n",
              "        vertical-align: middle;\n",
              "    }\n",
              "\n",
              "    .dataframe tbody tr th {\n",
              "        vertical-align: top;\n",
              "    }\n",
              "\n",
              "    .dataframe thead th {\n",
              "        text-align: right;\n",
              "    }\n",
              "</style>\n",
              "<table border=\"1\" class=\"dataframe\">\n",
              "  <thead>\n",
              "    <tr style=\"text-align: right;\">\n",
              "      <th></th>\n",
              "      <th>field</th>\n",
              "      <th>from</th>\n",
              "      <th>zipcode</th>\n",
              "      <th>career</th>\n",
              "    </tr>\n",
              "  </thead>\n",
              "  <tbody>\n",
              "    <tr>\n",
              "      <th>0</th>\n",
              "      <td>Law</td>\n",
              "      <td>Chicago</td>\n",
              "      <td>60,521</td>\n",
              "      <td>lawyer</td>\n",
              "    </tr>\n",
              "    <tr>\n",
              "      <th>1</th>\n",
              "      <td>Law</td>\n",
              "      <td>Chicago</td>\n",
              "      <td>60,521</td>\n",
              "      <td>lawyer</td>\n",
              "    </tr>\n",
              "    <tr>\n",
              "      <th>2</th>\n",
              "      <td>Law</td>\n",
              "      <td>Chicago</td>\n",
              "      <td>60,521</td>\n",
              "      <td>lawyer</td>\n",
              "    </tr>\n",
              "    <tr>\n",
              "      <th>3</th>\n",
              "      <td>Law</td>\n",
              "      <td>Chicago</td>\n",
              "      <td>60,521</td>\n",
              "      <td>lawyer</td>\n",
              "    </tr>\n",
              "    <tr>\n",
              "      <th>4</th>\n",
              "      <td>Law</td>\n",
              "      <td>Chicago</td>\n",
              "      <td>60,521</td>\n",
              "      <td>lawyer</td>\n",
              "    </tr>\n",
              "  </tbody>\n",
              "</table>\n",
              "</div>"
            ],
            "text/plain": [
              "  field     from zipcode  career\n",
              "0   Law  Chicago  60,521  lawyer\n",
              "1   Law  Chicago  60,521  lawyer\n",
              "2   Law  Chicago  60,521  lawyer\n",
              "3   Law  Chicago  60,521  lawyer\n",
              "4   Law  Chicago  60,521  lawyer"
            ]
          },
          "metadata": {
            "tags": []
          },
          "execution_count": 26
        }
      ]
    },
    {
      "cell_type": "code",
      "metadata": {
        "id": "6Oubfgf4BSYJ",
        "colab_type": "code",
        "colab": {}
      },
      "source": [
        "df_type=df[['field', 'from', 'zipcode', 'career']]"
      ],
      "execution_count": 0,
      "outputs": []
    },
    {
      "cell_type": "code",
      "metadata": {
        "id": "gEeQrFf1BVTa",
        "colab_type": "code",
        "outputId": "ccec5d68-1eac-4c52-838a-aee5ccabd48b",
        "colab": {
          "base_uri": "https://localhost:8080/",
          "height": 168
        }
      },
      "source": [
        "df_type.info()"
      ],
      "execution_count": 28,
      "outputs": [
        {
          "output_type": "stream",
          "text": [
            "<class 'pandas.core.frame.DataFrame'>\n",
            "RangeIndex: 8378 entries, 0 to 8377\n",
            "Data columns (total 4 columns):\n",
            "field      8315 non-null object\n",
            "from       8299 non-null object\n",
            "zipcode    7314 non-null object\n",
            "career     8289 non-null object\n",
            "dtypes: object(4)\n",
            "memory usage: 261.9+ KB\n"
          ],
          "name": "stdout"
        }
      ]
    },
    {
      "cell_type": "markdown",
      "metadata": {
        "id": "TbYH360vBpCs",
        "colab_type": "text"
      },
      "source": [
        "These columns are values with object type. It is hard to predict null values for these variables. So, let's just drop all these variables"
      ]
    },
    {
      "cell_type": "code",
      "metadata": {
        "id": "eo6wUwikBiEH",
        "colab_type": "code",
        "colab": {}
      },
      "source": [
        "df = df.drop(['from','zipcode','field','career'], axis=1)"
      ],
      "execution_count": 0,
      "outputs": []
    },
    {
      "cell_type": "code",
      "metadata": {
        "id": "CHzdoakmADmq",
        "colab_type": "code",
        "colab": {
          "base_uri": "https://localhost:8080/",
          "height": 244
        },
        "outputId": "aea02e8b-1120-4e96-b303-4bd18a9cc138"
      },
      "source": [
        "df.head()"
      ],
      "execution_count": 30,
      "outputs": [
        {
          "output_type": "execute_result",
          "data": {
            "text/html": [
              "<div>\n",
              "<style scoped>\n",
              "    .dataframe tbody tr th:only-of-type {\n",
              "        vertical-align: middle;\n",
              "    }\n",
              "\n",
              "    .dataframe tbody tr th {\n",
              "        vertical-align: top;\n",
              "    }\n",
              "\n",
              "    .dataframe thead th {\n",
              "        text-align: right;\n",
              "    }\n",
              "</style>\n",
              "<table border=\"1\" class=\"dataframe\">\n",
              "  <thead>\n",
              "    <tr style=\"text-align: right;\">\n",
              "      <th></th>\n",
              "      <th>iid</th>\n",
              "      <th>id</th>\n",
              "      <th>gender</th>\n",
              "      <th>idg</th>\n",
              "      <th>condtn</th>\n",
              "      <th>wave</th>\n",
              "      <th>round</th>\n",
              "      <th>position</th>\n",
              "      <th>positin1</th>\n",
              "      <th>order</th>\n",
              "      <th>partner</th>\n",
              "      <th>pid</th>\n",
              "      <th>int_corr</th>\n",
              "      <th>samerace</th>\n",
              "      <th>age_o</th>\n",
              "      <th>race_o</th>\n",
              "      <th>pf_o_att</th>\n",
              "      <th>pf_o_sin</th>\n",
              "      <th>pf_o_int</th>\n",
              "      <th>pf_o_fun</th>\n",
              "      <th>pf_o_amb</th>\n",
              "      <th>pf_o_sha</th>\n",
              "      <th>dec_o</th>\n",
              "      <th>attr_o</th>\n",
              "      <th>sinc_o</th>\n",
              "      <th>intel_o</th>\n",
              "      <th>fun_o</th>\n",
              "      <th>amb_o</th>\n",
              "      <th>shar_o</th>\n",
              "      <th>like_o</th>\n",
              "      <th>prob_o</th>\n",
              "      <th>met_o</th>\n",
              "      <th>age</th>\n",
              "      <th>field_cd</th>\n",
              "      <th>race</th>\n",
              "      <th>imprace</th>\n",
              "      <th>imprelig</th>\n",
              "      <th>goal</th>\n",
              "      <th>date</th>\n",
              "      <th>go_out</th>\n",
              "      <th>...</th>\n",
              "      <th>intel4_1</th>\n",
              "      <th>fun4_1</th>\n",
              "      <th>amb4_1</th>\n",
              "      <th>shar4_1</th>\n",
              "      <th>attr2_1</th>\n",
              "      <th>sinc2_1</th>\n",
              "      <th>intel2_1</th>\n",
              "      <th>fun2_1</th>\n",
              "      <th>amb2_1</th>\n",
              "      <th>shar2_1</th>\n",
              "      <th>attr3_1</th>\n",
              "      <th>sinc3_1</th>\n",
              "      <th>fun3_1</th>\n",
              "      <th>intel3_1</th>\n",
              "      <th>amb3_1</th>\n",
              "      <th>dec</th>\n",
              "      <th>attr</th>\n",
              "      <th>sinc</th>\n",
              "      <th>intel</th>\n",
              "      <th>fun</th>\n",
              "      <th>amb</th>\n",
              "      <th>shar</th>\n",
              "      <th>like</th>\n",
              "      <th>prob</th>\n",
              "      <th>met</th>\n",
              "      <th>match_es</th>\n",
              "      <th>satis_2</th>\n",
              "      <th>length</th>\n",
              "      <th>numdat_2</th>\n",
              "      <th>attr1_2</th>\n",
              "      <th>sinc1_2</th>\n",
              "      <th>intel1_2</th>\n",
              "      <th>fun1_2</th>\n",
              "      <th>amb1_2</th>\n",
              "      <th>shar1_2</th>\n",
              "      <th>attr3_2</th>\n",
              "      <th>sinc3_2</th>\n",
              "      <th>intel3_2</th>\n",
              "      <th>fun3_2</th>\n",
              "      <th>amb3_2</th>\n",
              "    </tr>\n",
              "  </thead>\n",
              "  <tbody>\n",
              "    <tr>\n",
              "      <th>0</th>\n",
              "      <td>1</td>\n",
              "      <td>1.0</td>\n",
              "      <td>0</td>\n",
              "      <td>1</td>\n",
              "      <td>1</td>\n",
              "      <td>1</td>\n",
              "      <td>10</td>\n",
              "      <td>7</td>\n",
              "      <td>9.295775</td>\n",
              "      <td>4</td>\n",
              "      <td>1</td>\n",
              "      <td>11.0</td>\n",
              "      <td>0.14</td>\n",
              "      <td>0</td>\n",
              "      <td>27.0</td>\n",
              "      <td>2.0</td>\n",
              "      <td>35.0</td>\n",
              "      <td>20.0</td>\n",
              "      <td>20.0</td>\n",
              "      <td>20.0</td>\n",
              "      <td>0.0</td>\n",
              "      <td>5.0</td>\n",
              "      <td>0</td>\n",
              "      <td>6.0</td>\n",
              "      <td>8.0</td>\n",
              "      <td>8.0</td>\n",
              "      <td>8.0</td>\n",
              "      <td>8.0</td>\n",
              "      <td>6.0</td>\n",
              "      <td>7.0</td>\n",
              "      <td>4.0</td>\n",
              "      <td>2.0</td>\n",
              "      <td>21.0</td>\n",
              "      <td>1.0</td>\n",
              "      <td>4.0</td>\n",
              "      <td>2.0</td>\n",
              "      <td>4.0</td>\n",
              "      <td>2.0</td>\n",
              "      <td>7.0</td>\n",
              "      <td>1.0</td>\n",
              "      <td>...</td>\n",
              "      <td>12.636308</td>\n",
              "      <td>15.566805</td>\n",
              "      <td>9.780089</td>\n",
              "      <td>11.014845</td>\n",
              "      <td>35.0</td>\n",
              "      <td>20.0</td>\n",
              "      <td>15.0</td>\n",
              "      <td>20.0</td>\n",
              "      <td>5.0</td>\n",
              "      <td>5.0</td>\n",
              "      <td>6.0</td>\n",
              "      <td>8.0</td>\n",
              "      <td>8.0</td>\n",
              "      <td>8.0</td>\n",
              "      <td>7.0</td>\n",
              "      <td>1</td>\n",
              "      <td>6.0</td>\n",
              "      <td>9.0</td>\n",
              "      <td>7.0</td>\n",
              "      <td>7.0</td>\n",
              "      <td>6.0</td>\n",
              "      <td>5.0</td>\n",
              "      <td>7.0</td>\n",
              "      <td>6.000000</td>\n",
              "      <td>2.0</td>\n",
              "      <td>4.0</td>\n",
              "      <td>6.0</td>\n",
              "      <td>2.0</td>\n",
              "      <td>1.0</td>\n",
              "      <td>19.44</td>\n",
              "      <td>16.67</td>\n",
              "      <td>13.89</td>\n",
              "      <td>22.22</td>\n",
              "      <td>11.11</td>\n",
              "      <td>16.67</td>\n",
              "      <td>6.0</td>\n",
              "      <td>7.0</td>\n",
              "      <td>8.0</td>\n",
              "      <td>7.0</td>\n",
              "      <td>6.0</td>\n",
              "    </tr>\n",
              "    <tr>\n",
              "      <th>1</th>\n",
              "      <td>1</td>\n",
              "      <td>1.0</td>\n",
              "      <td>0</td>\n",
              "      <td>1</td>\n",
              "      <td>1</td>\n",
              "      <td>1</td>\n",
              "      <td>10</td>\n",
              "      <td>7</td>\n",
              "      <td>9.295775</td>\n",
              "      <td>3</td>\n",
              "      <td>2</td>\n",
              "      <td>12.0</td>\n",
              "      <td>0.54</td>\n",
              "      <td>0</td>\n",
              "      <td>22.0</td>\n",
              "      <td>2.0</td>\n",
              "      <td>60.0</td>\n",
              "      <td>0.0</td>\n",
              "      <td>0.0</td>\n",
              "      <td>40.0</td>\n",
              "      <td>0.0</td>\n",
              "      <td>0.0</td>\n",
              "      <td>0</td>\n",
              "      <td>7.0</td>\n",
              "      <td>8.0</td>\n",
              "      <td>10.0</td>\n",
              "      <td>7.0</td>\n",
              "      <td>7.0</td>\n",
              "      <td>5.0</td>\n",
              "      <td>8.0</td>\n",
              "      <td>4.0</td>\n",
              "      <td>2.0</td>\n",
              "      <td>21.0</td>\n",
              "      <td>1.0</td>\n",
              "      <td>4.0</td>\n",
              "      <td>2.0</td>\n",
              "      <td>4.0</td>\n",
              "      <td>2.0</td>\n",
              "      <td>7.0</td>\n",
              "      <td>1.0</td>\n",
              "      <td>...</td>\n",
              "      <td>12.636308</td>\n",
              "      <td>15.566805</td>\n",
              "      <td>9.780089</td>\n",
              "      <td>11.014845</td>\n",
              "      <td>35.0</td>\n",
              "      <td>20.0</td>\n",
              "      <td>15.0</td>\n",
              "      <td>20.0</td>\n",
              "      <td>5.0</td>\n",
              "      <td>5.0</td>\n",
              "      <td>6.0</td>\n",
              "      <td>8.0</td>\n",
              "      <td>8.0</td>\n",
              "      <td>8.0</td>\n",
              "      <td>7.0</td>\n",
              "      <td>1</td>\n",
              "      <td>7.0</td>\n",
              "      <td>8.0</td>\n",
              "      <td>7.0</td>\n",
              "      <td>8.0</td>\n",
              "      <td>5.0</td>\n",
              "      <td>6.0</td>\n",
              "      <td>7.0</td>\n",
              "      <td>5.000000</td>\n",
              "      <td>1.0</td>\n",
              "      <td>4.0</td>\n",
              "      <td>6.0</td>\n",
              "      <td>2.0</td>\n",
              "      <td>1.0</td>\n",
              "      <td>19.44</td>\n",
              "      <td>16.67</td>\n",
              "      <td>13.89</td>\n",
              "      <td>22.22</td>\n",
              "      <td>11.11</td>\n",
              "      <td>16.67</td>\n",
              "      <td>6.0</td>\n",
              "      <td>7.0</td>\n",
              "      <td>8.0</td>\n",
              "      <td>7.0</td>\n",
              "      <td>6.0</td>\n",
              "    </tr>\n",
              "    <tr>\n",
              "      <th>2</th>\n",
              "      <td>1</td>\n",
              "      <td>1.0</td>\n",
              "      <td>0</td>\n",
              "      <td>1</td>\n",
              "      <td>1</td>\n",
              "      <td>1</td>\n",
              "      <td>10</td>\n",
              "      <td>7</td>\n",
              "      <td>9.295775</td>\n",
              "      <td>10</td>\n",
              "      <td>3</td>\n",
              "      <td>13.0</td>\n",
              "      <td>0.16</td>\n",
              "      <td>1</td>\n",
              "      <td>22.0</td>\n",
              "      <td>4.0</td>\n",
              "      <td>19.0</td>\n",
              "      <td>18.0</td>\n",
              "      <td>19.0</td>\n",
              "      <td>18.0</td>\n",
              "      <td>14.0</td>\n",
              "      <td>12.0</td>\n",
              "      <td>1</td>\n",
              "      <td>10.0</td>\n",
              "      <td>10.0</td>\n",
              "      <td>10.0</td>\n",
              "      <td>10.0</td>\n",
              "      <td>10.0</td>\n",
              "      <td>10.0</td>\n",
              "      <td>10.0</td>\n",
              "      <td>10.0</td>\n",
              "      <td>1.0</td>\n",
              "      <td>21.0</td>\n",
              "      <td>1.0</td>\n",
              "      <td>4.0</td>\n",
              "      <td>2.0</td>\n",
              "      <td>4.0</td>\n",
              "      <td>2.0</td>\n",
              "      <td>7.0</td>\n",
              "      <td>1.0</td>\n",
              "      <td>...</td>\n",
              "      <td>12.636308</td>\n",
              "      <td>15.566805</td>\n",
              "      <td>9.780089</td>\n",
              "      <td>11.014845</td>\n",
              "      <td>35.0</td>\n",
              "      <td>20.0</td>\n",
              "      <td>15.0</td>\n",
              "      <td>20.0</td>\n",
              "      <td>5.0</td>\n",
              "      <td>5.0</td>\n",
              "      <td>6.0</td>\n",
              "      <td>8.0</td>\n",
              "      <td>8.0</td>\n",
              "      <td>8.0</td>\n",
              "      <td>7.0</td>\n",
              "      <td>1</td>\n",
              "      <td>5.0</td>\n",
              "      <td>8.0</td>\n",
              "      <td>9.0</td>\n",
              "      <td>8.0</td>\n",
              "      <td>5.0</td>\n",
              "      <td>7.0</td>\n",
              "      <td>7.0</td>\n",
              "      <td>5.207523</td>\n",
              "      <td>1.0</td>\n",
              "      <td>4.0</td>\n",
              "      <td>6.0</td>\n",
              "      <td>2.0</td>\n",
              "      <td>1.0</td>\n",
              "      <td>19.44</td>\n",
              "      <td>16.67</td>\n",
              "      <td>13.89</td>\n",
              "      <td>22.22</td>\n",
              "      <td>11.11</td>\n",
              "      <td>16.67</td>\n",
              "      <td>6.0</td>\n",
              "      <td>7.0</td>\n",
              "      <td>8.0</td>\n",
              "      <td>7.0</td>\n",
              "      <td>6.0</td>\n",
              "    </tr>\n",
              "    <tr>\n",
              "      <th>3</th>\n",
              "      <td>1</td>\n",
              "      <td>1.0</td>\n",
              "      <td>0</td>\n",
              "      <td>1</td>\n",
              "      <td>1</td>\n",
              "      <td>1</td>\n",
              "      <td>10</td>\n",
              "      <td>7</td>\n",
              "      <td>9.295775</td>\n",
              "      <td>5</td>\n",
              "      <td>4</td>\n",
              "      <td>14.0</td>\n",
              "      <td>0.61</td>\n",
              "      <td>0</td>\n",
              "      <td>23.0</td>\n",
              "      <td>2.0</td>\n",
              "      <td>30.0</td>\n",
              "      <td>5.0</td>\n",
              "      <td>15.0</td>\n",
              "      <td>40.0</td>\n",
              "      <td>5.0</td>\n",
              "      <td>5.0</td>\n",
              "      <td>1</td>\n",
              "      <td>7.0</td>\n",
              "      <td>8.0</td>\n",
              "      <td>9.0</td>\n",
              "      <td>8.0</td>\n",
              "      <td>9.0</td>\n",
              "      <td>8.0</td>\n",
              "      <td>7.0</td>\n",
              "      <td>7.0</td>\n",
              "      <td>2.0</td>\n",
              "      <td>21.0</td>\n",
              "      <td>1.0</td>\n",
              "      <td>4.0</td>\n",
              "      <td>2.0</td>\n",
              "      <td>4.0</td>\n",
              "      <td>2.0</td>\n",
              "      <td>7.0</td>\n",
              "      <td>1.0</td>\n",
              "      <td>...</td>\n",
              "      <td>12.636308</td>\n",
              "      <td>15.566805</td>\n",
              "      <td>9.780089</td>\n",
              "      <td>11.014845</td>\n",
              "      <td>35.0</td>\n",
              "      <td>20.0</td>\n",
              "      <td>15.0</td>\n",
              "      <td>20.0</td>\n",
              "      <td>5.0</td>\n",
              "      <td>5.0</td>\n",
              "      <td>6.0</td>\n",
              "      <td>8.0</td>\n",
              "      <td>8.0</td>\n",
              "      <td>8.0</td>\n",
              "      <td>7.0</td>\n",
              "      <td>1</td>\n",
              "      <td>7.0</td>\n",
              "      <td>6.0</td>\n",
              "      <td>8.0</td>\n",
              "      <td>7.0</td>\n",
              "      <td>6.0</td>\n",
              "      <td>8.0</td>\n",
              "      <td>7.0</td>\n",
              "      <td>6.000000</td>\n",
              "      <td>2.0</td>\n",
              "      <td>4.0</td>\n",
              "      <td>6.0</td>\n",
              "      <td>2.0</td>\n",
              "      <td>1.0</td>\n",
              "      <td>19.44</td>\n",
              "      <td>16.67</td>\n",
              "      <td>13.89</td>\n",
              "      <td>22.22</td>\n",
              "      <td>11.11</td>\n",
              "      <td>16.67</td>\n",
              "      <td>6.0</td>\n",
              "      <td>7.0</td>\n",
              "      <td>8.0</td>\n",
              "      <td>7.0</td>\n",
              "      <td>6.0</td>\n",
              "    </tr>\n",
              "    <tr>\n",
              "      <th>4</th>\n",
              "      <td>1</td>\n",
              "      <td>1.0</td>\n",
              "      <td>0</td>\n",
              "      <td>1</td>\n",
              "      <td>1</td>\n",
              "      <td>1</td>\n",
              "      <td>10</td>\n",
              "      <td>7</td>\n",
              "      <td>9.295775</td>\n",
              "      <td>7</td>\n",
              "      <td>5</td>\n",
              "      <td>15.0</td>\n",
              "      <td>0.21</td>\n",
              "      <td>0</td>\n",
              "      <td>24.0</td>\n",
              "      <td>3.0</td>\n",
              "      <td>30.0</td>\n",
              "      <td>10.0</td>\n",
              "      <td>20.0</td>\n",
              "      <td>10.0</td>\n",
              "      <td>10.0</td>\n",
              "      <td>20.0</td>\n",
              "      <td>1</td>\n",
              "      <td>8.0</td>\n",
              "      <td>7.0</td>\n",
              "      <td>9.0</td>\n",
              "      <td>6.0</td>\n",
              "      <td>9.0</td>\n",
              "      <td>7.0</td>\n",
              "      <td>8.0</td>\n",
              "      <td>6.0</td>\n",
              "      <td>2.0</td>\n",
              "      <td>21.0</td>\n",
              "      <td>1.0</td>\n",
              "      <td>4.0</td>\n",
              "      <td>2.0</td>\n",
              "      <td>4.0</td>\n",
              "      <td>2.0</td>\n",
              "      <td>7.0</td>\n",
              "      <td>1.0</td>\n",
              "      <td>...</td>\n",
              "      <td>12.636308</td>\n",
              "      <td>15.566805</td>\n",
              "      <td>9.780089</td>\n",
              "      <td>11.014845</td>\n",
              "      <td>35.0</td>\n",
              "      <td>20.0</td>\n",
              "      <td>15.0</td>\n",
              "      <td>20.0</td>\n",
              "      <td>5.0</td>\n",
              "      <td>5.0</td>\n",
              "      <td>6.0</td>\n",
              "      <td>8.0</td>\n",
              "      <td>8.0</td>\n",
              "      <td>8.0</td>\n",
              "      <td>7.0</td>\n",
              "      <td>1</td>\n",
              "      <td>5.0</td>\n",
              "      <td>6.0</td>\n",
              "      <td>7.0</td>\n",
              "      <td>7.0</td>\n",
              "      <td>6.0</td>\n",
              "      <td>6.0</td>\n",
              "      <td>6.0</td>\n",
              "      <td>6.000000</td>\n",
              "      <td>2.0</td>\n",
              "      <td>4.0</td>\n",
              "      <td>6.0</td>\n",
              "      <td>2.0</td>\n",
              "      <td>1.0</td>\n",
              "      <td>19.44</td>\n",
              "      <td>16.67</td>\n",
              "      <td>13.89</td>\n",
              "      <td>22.22</td>\n",
              "      <td>11.11</td>\n",
              "      <td>16.67</td>\n",
              "      <td>6.0</td>\n",
              "      <td>7.0</td>\n",
              "      <td>8.0</td>\n",
              "      <td>7.0</td>\n",
              "      <td>6.0</td>\n",
              "    </tr>\n",
              "  </tbody>\n",
              "</table>\n",
              "<p>5 rows × 107 columns</p>\n",
              "</div>"
            ],
            "text/plain": [
              "   iid   id  gender  idg  condtn  ...  attr3_2  sinc3_2  intel3_2  fun3_2  amb3_2\n",
              "0    1  1.0       0    1       1  ...      6.0      7.0       8.0     7.0     6.0\n",
              "1    1  1.0       0    1       1  ...      6.0      7.0       8.0     7.0     6.0\n",
              "2    1  1.0       0    1       1  ...      6.0      7.0       8.0     7.0     6.0\n",
              "3    1  1.0       0    1       1  ...      6.0      7.0       8.0     7.0     6.0\n",
              "4    1  1.0       0    1       1  ...      6.0      7.0       8.0     7.0     6.0\n",
              "\n",
              "[5 rows x 107 columns]"
            ]
          },
          "metadata": {
            "tags": []
          },
          "execution_count": 30
        }
      ]
    },
    {
      "cell_type": "code",
      "metadata": {
        "id": "aytPaGopBr1c",
        "colab_type": "code",
        "outputId": "01039e14-4b8a-472e-8fd8-b2f9a6e85032",
        "colab": {
          "base_uri": "https://localhost:8080/",
          "height": 34
        }
      },
      "source": [
        "df.isnull().values.any()"
      ],
      "execution_count": 31,
      "outputs": [
        {
          "output_type": "execute_result",
          "data": {
            "text/plain": [
              "False"
            ]
          },
          "metadata": {
            "tags": []
          },
          "execution_count": 31
        }
      ]
    },
    {
      "cell_type": "markdown",
      "metadata": {
        "id": "ZlQBMBgLBxjH",
        "colab_type": "text"
      },
      "source": [
        "### 3.2)-Transformation\n",
        "\n",
        "Normalize data"
      ]
    },
    {
      "cell_type": "code",
      "metadata": {
        "id": "Rrs6F5z7_5ZY",
        "colab_type": "code",
        "colab": {}
      },
      "source": [
        ""
      ],
      "execution_count": 0,
      "outputs": []
    },
    {
      "cell_type": "code",
      "metadata": {
        "id": "VPd2YcWLBun7",
        "colab_type": "code",
        "colab": {}
      },
      "source": [
        "from sklearn.preprocessing import StandardScaler\n",
        "X = StandardScaler().fit_transform(df) # Since we have separated our label i.e match feature.So, all other values are in X"
      ],
      "execution_count": 0,
      "outputs": []
    },
    {
      "cell_type": "code",
      "metadata": {
        "id": "I9DyiNeiC6rJ",
        "colab_type": "code",
        "outputId": "a2f409db-6dd5-4aff-9690-c17ebcb3cbe7",
        "colab": {
          "base_uri": "https://localhost:8080/",
          "height": 34
        }
      },
      "source": [
        "X.shape"
      ],
      "execution_count": 33,
      "outputs": [
        {
          "output_type": "execute_result",
          "data": {
            "text/plain": [
              "(8378, 107)"
            ]
          },
          "metadata": {
            "tags": []
          },
          "execution_count": 33
        }
      ]
    },
    {
      "cell_type": "markdown",
      "metadata": {
        "id": "vVUIyMbnDAjj",
        "colab_type": "text"
      },
      "source": [
        "### 3.3)-Dimension Reduction\n",
        "PCA methods being used <br>\n",
        "Find out what is fairly good value for n_components according to the Explained Variance \n",
        "Ratio <br>\n",
        "Reduce dimensions by the n_components<br>"
      ]
    },
    {
      "cell_type": "code",
      "metadata": {
        "id": "cn4C9SpOC9fv",
        "colab_type": "code",
        "outputId": "419301b7-f495-4566-cf48-26a1884d1169",
        "colab": {
          "base_uri": "https://localhost:8080/",
          "height": 283
        }
      },
      "source": [
        "#PCA In Sklearn\n",
        "from sklearn.decomposition import PCA\n",
        "\n",
        "pca_full = PCA(n_components = None)\n",
        "pca_full.fit(X)\n",
        "\n",
        "plt.plot(range(0,107), pca_full.explained_variance_ratio_)\n",
        "plt.ylabel('Explained variance ratio')\n",
        "plt.xlabel('Principal components')\n",
        "#plt.xticks(np.arange(0,100,5))\n",
        "plt.show()"
      ],
      "execution_count": 34,
      "outputs": [
        {
          "output_type": "display_data",
          "data": {
            "image/png": "[encoded data removed]",
            "text/plain": [
              "<Figure size 432x288 with 1 Axes>"
            ]
          },
          "metadata": {
            "tags": []
          }
        }
      ]
    },
    {
      "cell_type": "markdown",
      "metadata": {
        "id": "2pG_mrvED90U",
        "colab_type": "text"
      },
      "source": [
        "**From above figure, we will choose 80 as the dimensions of Principal components.**"
      ]
    },
    {
      "cell_type": "code",
      "metadata": {
        "id": "PT6S-c2uDT-4",
        "colab_type": "code",
        "outputId": "f6712943-2d97-42c3-e4a6-99180bd9d943",
        "colab": {
          "base_uri": "https://localhost:8080/",
          "height": 252
        }
      },
      "source": [
        "x_scaled = StandardScaler().fit_transform(X)\n",
        "pca = PCA(n_components = 80)\n",
        "x_pca = pca.fit_transform(x_scaled)\n",
        "print(x_pca, end = '\\n\\n')"
      ],
      "execution_count": 35,
      "outputs": [
        {
          "output_type": "stream",
          "text": [
            "[[-0.11278903  0.43893836 -3.99012152 ...  1.24408069  0.56947507\n",
            "  -0.74990845]\n",
            " [-0.46084861  0.179021   -3.58830924 ...  1.14810351  0.38045288\n",
            "  -0.65840161]\n",
            " [-2.61677881  2.52342721 -5.04277569 ...  1.33509758  0.44050557\n",
            "  -0.68716524]\n",
            " ...\n",
            " [ 4.29349423  3.11398044  8.86817898 ...  1.46953057 -0.2501195\n",
            "   0.77704497]\n",
            " [ 3.06349127  4.87790232  7.91930178 ...  0.92375471 -1.1262404\n",
            "  -0.35889771]\n",
            " [ 1.87201351  5.70640483  7.50899066 ...  1.16882038 -0.74062151\n",
            "  -0.32560089]]\n",
            "\n"
          ],
          "name": "stdout"
        }
      ]
    },
    {
      "cell_type": "code",
      "metadata": {
        "id": "lmxEnZWXEDsy",
        "colab_type": "code",
        "outputId": "c96c8cc8-2762-4f1b-fd9d-7a00326c2eef",
        "colab": {
          "base_uri": "https://localhost:8080/",
          "height": 252
        }
      },
      "source": [
        "print(pca.explained_variance_ratio_)"
      ],
      "execution_count": 36,
      "outputs": [
        {
          "output_type": "stream",
          "text": [
            "[0.0599287  0.05130629 0.04778579 0.04120846 0.03794963 0.03442235\n",
            " 0.02928028 0.02648273 0.02516247 0.02253369 0.02148449 0.01909422\n",
            " 0.01792891 0.01660708 0.01649287 0.01499748 0.01459388 0.0135756\n",
            " 0.01335547 0.01295986 0.01223028 0.01205562 0.01173874 0.0115274\n",
            " 0.01122595 0.01099925 0.01050502 0.01044225 0.01014913 0.0100701\n",
            " 0.00998956 0.00958083 0.00934085 0.00921803 0.00898174 0.00889457\n",
            " 0.00866533 0.00851308 0.00827408 0.00815331 0.00807841 0.00788845\n",
            " 0.00775316 0.00759845 0.00726421 0.00711506 0.00700375 0.00689954\n",
            " 0.00674686 0.00654717 0.00645786 0.00639408 0.00625039 0.00623934\n",
            " 0.00600695 0.00588633 0.00575062 0.00558899 0.00542309 0.00535541\n",
            " 0.00517289 0.00513963 0.00507159 0.00485733 0.00475006 0.00472919\n",
            " 0.00467537 0.00446327 0.0043806  0.00428298 0.00421754 0.00400303\n",
            " 0.00394998 0.00380737 0.00377468 0.00366926 0.00349378 0.00339799\n",
            " 0.00330336 0.00323617]\n"
          ],
          "name": "stdout"
        }
      ]
    },
    {
      "cell_type": "code",
      "metadata": {
        "id": "colb7SPAEGqU",
        "colab_type": "code",
        "outputId": "e36e7b43-081b-4463-ae69-dd4ac7f3f8da",
        "colab": {
          "base_uri": "https://localhost:8080/",
          "height": 34
        }
      },
      "source": [
        "sum(pca.explained_variance_ratio_)"
      ],
      "execution_count": 37,
      "outputs": [
        {
          "output_type": "execute_result",
          "data": {
            "text/plain": [
              "0.9543295537845651"
            ]
          },
          "metadata": {
            "tags": []
          },
          "execution_count": 37
        }
      ]
    },
    {
      "cell_type": "code",
      "metadata": {
        "id": "Jk5TpS6QEJuZ",
        "colab_type": "code",
        "outputId": "ac482cd5-f999-4645-8745-f53b86ecf6de",
        "colab": {
          "base_uri": "https://localhost:8080/",
          "height": 34
        }
      },
      "source": [
        "x_pca.shape"
      ],
      "execution_count": 38,
      "outputs": [
        {
          "output_type": "execute_result",
          "data": {
            "text/plain": [
              "(8378, 80)"
            ]
          },
          "metadata": {
            "tags": []
          },
          "execution_count": 38
        }
      ]
    },
    {
      "cell_type": "markdown",
      "metadata": {
        "id": "MGpG1uV0Eemf",
        "colab_type": "text"
      },
      "source": [
        "# 4- Model Training  "
      ]
    },
    {
      "cell_type": "markdown",
      "metadata": {
        "id": "LAKjiXM4ZwKB",
        "colab_type": "text"
      },
      "source": [
        "### Train and Test split"
      ]
    },
    {
      "cell_type": "code",
      "metadata": {
        "id": "b8zKFaTPEMvM",
        "colab_type": "code",
        "colab": {}
      },
      "source": [
        "from sklearn.model_selection import train_test_split\n",
        "\n",
        "X_train, X_test, y_train, y_test = train_test_split(x_pca, df_labels, test_size=0.2, random_state=0)"
      ],
      "execution_count": 0,
      "outputs": []
    },
    {
      "cell_type": "code",
      "metadata": {
        "id": "nSym3t8TaH8J",
        "colab_type": "code",
        "outputId": "fc637fa7-8e8e-4a79-c937-9ea5fe180ea3",
        "colab": {
          "base_uri": "https://localhost:8080/",
          "height": 50
        }
      },
      "source": [
        "print(X_train.shape)\n",
        "print(X_test.shape)"
      ],
      "execution_count": 40,
      "outputs": [
        {
          "output_type": "stream",
          "text": [
            "(6702, 80)\n",
            "(1676, 80)\n"
          ],
          "name": "stdout"
        }
      ]
    },
    {
      "cell_type": "code",
      "metadata": {
        "id": "W16opGaJaOkn",
        "colab_type": "code",
        "outputId": "62e8619f-c713-4cc2-ea23-3fb16b7d0d5c",
        "colab": {
          "base_uri": "https://localhost:8080/",
          "height": 50
        }
      },
      "source": [
        "print(y_train.shape)\n",
        "print(y_test.shape)"
      ],
      "execution_count": 41,
      "outputs": [
        {
          "output_type": "stream",
          "text": [
            "(6702,)\n",
            "(1676,)\n"
          ],
          "name": "stdout"
        }
      ]
    },
    {
      "cell_type": "code",
      "metadata": {
        "id": "VOoyFYlkaSyq",
        "colab_type": "code",
        "outputId": "219e058e-1707-4530-dd94-74617aac9486",
        "colab": {
          "base_uri": "https://localhost:8080/",
          "height": 235
        }
      },
      "source": [
        "X_train"
      ],
      "execution_count": 42,
      "outputs": [
        {
          "output_type": "execute_result",
          "data": {
            "text/plain": [
              "array([[-4.68464167, -2.82486563, -1.51036984, ..., -0.04102065,\n",
              "        -0.69027114,  0.2202485 ],\n",
              "       [-0.74018258,  1.56521953, -0.06997607, ...,  0.2491107 ,\n",
              "         0.33756497,  0.42363954],\n",
              "       [ 1.74612928, -3.12552498,  1.71795536, ...,  0.0546167 ,\n",
              "         0.45823286,  0.27855506],\n",
              "       ...,\n",
              "       [ 0.75099825, -2.49960655, -1.51160936, ..., -0.31342012,\n",
              "        -0.21124028,  0.70019733],\n",
              "       [-3.93462881,  2.84871942, -1.62335673, ...,  0.56372732,\n",
              "         0.12162239,  0.08209962],\n",
              "       [-1.56477132, -1.87060749, -0.83035991, ..., -0.45500534,\n",
              "        -0.66363011, -0.23294656]])"
            ]
          },
          "metadata": {
            "tags": []
          },
          "execution_count": 42
        }
      ]
    },
    {
      "cell_type": "markdown",
      "metadata": {
        "id": "85lhvFnAaYv1",
        "colab_type": "text"
      },
      "source": [
        "## 4.1)- Manual Neural Network\n",
        "\n",
        "1-Build the Neural Network <br>\n",
        "2 -Set the hyperparameters, train the NN and evaluate<br>\n",
        "3- Adapt SGD method to improve the accuracy<br>"
      ]
    },
    {
      "cell_type": "markdown",
      "metadata": {
        "id": "-fglX9k6azn_",
        "colab_type": "text"
      },
      "source": [
        "#### a)-Build the Neural Network"
      ]
    },
    {
      "cell_type": "code",
      "metadata": {
        "id": "0dnhCoy0ayz0",
        "colab_type": "code",
        "colab": {}
      },
      "source": [
        "class MyNeuralNetwork(object):\n",
        "    def __init__(self, input_nodes, hidden_nodes, output_nodes, learning_rate):\n",
        "        # Set number of nodes in input, hidden and output layers.\n",
        "        self.input_nodes =  input_nodes\n",
        "        self.hidden_nodes = hidden_nodes\n",
        "        self.output_nodes = output_nodes\n",
        "\n",
        "        # Initialize weights\n",
        "        self.weights_0_1 = np.zeros((self.hidden_nodes,self.input_nodes))\n",
        "\n",
        "        self.weights_1_2 = np.random.normal(0.0, self.output_nodes**-0.5, \n",
        "                                       (self.output_nodes, self.hidden_nodes))\n",
        "        self.lr = learning_rate\n",
        "        \n",
        "        #### Set this to your implemented sigmoid function ####\n",
        "        # Activation function is the sigmoid function\n",
        "        self.sigmoid_activation = lambda x : 1 / (1 + np.exp(-x))\n",
        "        self.sigmoid_output_2_derivative = lambda x: x * (1 - x)\n",
        "    \n",
        "    def train(self, inputs_array, targets_array):\n",
        "        # Convert inputs list to 2d array\n",
        "        inputs  = inputs_array.T\n",
        "        targets = np.array(targets_array, ndmin=2)\n",
        "        #targets = targets_array\n",
        "        m = inputs_array.shape[0] # number of records\n",
        "        \n",
        "        #### Implement the forward pass here ####\n",
        "        ### Forward pass ###\n",
        "        # TODO: Hidden layer\n",
        "        layer_1_inputs = np.dot(self.weights_0_1, inputs) # signals into hidden layer\n",
        "        layer_1 = layer_1_inputs # signals from hidden layer\n",
        "        \n",
        "        # TODO: Output layer\n",
        "        layer_2_inputs = np.dot(self.weights_1_2,layer_1) # signals into final output layer\n",
        "        layer_2 = self.sigmoid_activation(layer_2_inputs) # signals from final output layer\n",
        "        \n",
        "        #### Implement the backward pass here ####\n",
        "        ### Backward pass ###\n",
        "        \n",
        "        # TODO: Output error  \n",
        "        layer_2_errors = targets - layer_2  # Output layer error is the difference between desired target and actual output.\n",
        "        layer_2_delta = layer_2_errors * self.sigmoid_output_2_derivative(layer_2)\n",
        "        \n",
        "        # TODO: Backpropagated error\n",
        "        layer_1_errors = np.dot(self.weights_1_2.T,layer_2_delta) # errors propagated to the hidden layer 2x128\n",
        "        layer_1_delta = layer_1_errors  # hidden layer gradients y = x -> 1\n",
        "        \n",
        "        # TODO: Update the weights\n",
        "        self.weights_1_2 += self.lr*np.dot(layer_2_delta,layer_1.T)/m # update hidden-to-output weights with gradient descent step\n",
        "        self.weights_0_1 += self.lr*np.dot(layer_1_delta,inputs.T)/m # update input-to-hidden weights with gradient descent step\n",
        "         \n",
        "        \n",
        "    def run(self, inputs_list):\n",
        "        # Run a forward pass through the network\n",
        "        inputs = np.array(inputs_list, ndmin=2).T\n",
        "        \n",
        "        #### Implement the forward pass here ####\n",
        "        # TODO: Hidden layer\n",
        "        hidden_inputs = np.dot(self.weights_0_1, inputs) # signals into hidden layer\n",
        "        hidden_outputs = hidden_inputs # signals from hidden layer\n",
        "        \n",
        "        # TODO: Output layer\n",
        "        final_inputs = np.dot(self.weights_1_2,hidden_outputs) # signals into final output layer\n",
        "        final_outputs = self.sigmoid_activation(final_inputs) # signals from final output layer \n",
        "        \n",
        "        return final_outputs"
      ],
      "execution_count": 0,
      "outputs": []
    },
    {
      "cell_type": "markdown",
      "metadata": {
        "id": "ZIUZWFLwa74e",
        "colab_type": "text"
      },
      "source": [
        "#### b)-Train the model and evaluation"
      ]
    },
    {
      "cell_type": "code",
      "metadata": {
        "id": "LWSZQl5Jay_z",
        "colab_type": "code",
        "outputId": "0f797060-aeb5-4def-e802-3c6f4a7b8de0",
        "colab": {
          "base_uri": "https://localhost:8080/",
          "height": 34
        }
      },
      "source": [
        "from sklearn import metrics\n",
        "### Set the hyperparameters here ###\n",
        "epochs = 100 #100\n",
        "learning_rate = 0.01 #0.1\n",
        "hidden_nodes = 10 \n",
        "output_nodes = 1\n",
        "\n",
        "N_i = X_train.shape[1]\n",
        "network = MyNeuralNetwork(N_i, hidden_nodes, output_nodes, learning_rate)\n",
        "\n",
        "for e in range(epochs):\n",
        "    network.train(X_train, y_train)\n",
        "    \n",
        "y_pred = network.run(X_test)\n",
        "y_pred = np.where(y_pred >= 0.5, 1, 0) # if probability >= 0.5, it is 1, else 0\n",
        "\n",
        "print(metrics.accuracy_score(y_test,y_pred[0]))"
      ],
      "execution_count": 44,
      "outputs": [
        {
          "output_type": "stream",
          "text": [
            "0.6640811455847255\n"
          ],
          "name": "stdout"
        }
      ]
    },
    {
      "cell_type": "code",
      "metadata": {
        "id": "OWitWEEJcipa",
        "colab_type": "code",
        "outputId": "df7ee3ad-a5d1-4c9f-c21f-6235495c2b91",
        "colab": {
          "base_uri": "https://localhost:8080/",
          "height": 34
        }
      },
      "source": [
        "print(metrics.recall_score(y_test,y_pred[0]))"
      ],
      "execution_count": 45,
      "outputs": [
        {
          "output_type": "stream",
          "text": [
            "0.9962825278810409\n"
          ],
          "name": "stdout"
        }
      ]
    },
    {
      "cell_type": "markdown",
      "metadata": {
        "id": "ha2kvdFnbDsc",
        "colab_type": "text"
      },
      "source": [
        "#### c)-SGD \n",
        "\n",
        "Stochastic gradient descent"
      ]
    },
    {
      "cell_type": "code",
      "metadata": {
        "id": "tDWDvkVCaVp_",
        "colab_type": "code",
        "colab": {}
      },
      "source": [
        "N_i = X_train.shape[1]\n",
        "network = MyNeuralNetwork(N_i, hidden_nodes, output_nodes, learning_rate)\n",
        "\n",
        "random_row_idx = np.zeros(128)\n",
        "for e in range(epochs):\n",
        "    random_row_idx = np.random.choice(X_train.shape[0],size=128)\n",
        "    X_batch = X_train[random_row_idx,:]\n",
        "    y_batch = y_train[random_row_idx]\n",
        "    network.train(X_batch, y_batch)"
      ],
      "execution_count": 0,
      "outputs": []
    },
    {
      "cell_type": "code",
      "metadata": {
        "id": "jo3zc6AgbJpE",
        "colab_type": "code",
        "outputId": "b04b5453-39bd-49d5-f646-34e0dfb1e02e",
        "colab": {
          "base_uri": "https://localhost:8080/",
          "height": 34
        }
      },
      "source": [
        "y_pred = network.run(X_test)\n",
        "y_pred = np.where(y_pred >= 0.5, 1, 0) # if probability >= 0.5, it is 1, else 0\n",
        "print(metrics.accuracy_score(y_test,y_pred[0]))"
      ],
      "execution_count": 47,
      "outputs": [
        {
          "output_type": "stream",
          "text": [
            "0.8394988066825776\n"
          ],
          "name": "stdout"
        }
      ]
    },
    {
      "cell_type": "markdown",
      "metadata": {
        "id": "-SmYT9Tmclkc",
        "colab_type": "text"
      },
      "source": [
        "## 4.2-Neural Network using Tensorflow"
      ]
    },
    {
      "cell_type": "code",
      "metadata": {
        "id": "ZlvGgLKMbNGR",
        "colab_type": "code",
        "colab": {}
      },
      "source": [
        "import tensorflow as tf"
      ],
      "execution_count": 0,
      "outputs": []
    },
    {
      "cell_type": "code",
      "metadata": {
        "id": "hQTnyueacuH6",
        "colab_type": "code",
        "outputId": "8281bcb9-fd9a-4a9d-dfa5-7c4bdde3a824",
        "colab": {
          "base_uri": "https://localhost:8080/",
          "height": 1683
        }
      },
      "source": [
        "# Build one layer DNN with 40 units respectively.\n",
        "feature_columns = tf.contrib.learn.infer_real_valued_columns_from_input(X_train)\n",
        "classifier = tf.contrib.learn.DNNClassifier(feature_columns=feature_columns, hidden_units=[40], n_classes=2)\n",
        "\n",
        "# Fit and predict.\n",
        "classifier.fit(X_train, y_train, steps=300)\n",
        "predictions_tf = list(classifier.predict(X_test, as_iterable=True))\n",
        "score = metrics.accuracy_score(y_test, predictions_tf)"
      ],
      "execution_count": 49,
      "outputs": [
        {
          "output_type": "stream",
          "text": [
            "WARNING: Logging before flag parsing goes to stderr.\n",
            "W0621 21:50:49.835163 139713708164992 lazy_loader.py:50] \n",
            "The TensorFlow contrib module will not be included in TensorFlow 2.0.\n",
            "For more information, please see:\n",
            "  * https://github.com/tensorflow/community/blob/master/rfcs/20180907-contrib-sunset.md\n",
            "  * https://github.com/tensorflow/addons\n",
            "  * https://github.com/tensorflow/io (for I/O related ops)\n",
            "If you depend on functionality not listed there, please file an issue.\n",
            "\n",
            "W0621 21:50:49.836476 139713708164992 deprecation.py:323] From <ipython-input-49-c9cee6ea5379>:1: infer_real_valued_columns_from_input (from tensorflow.contrib.learn.python.learn.estimators.estimator) is deprecated and will be removed in a future version.\n",
            "Instructions for updating:\n",
            "Please specify feature columns explicitly.\n",
            "W0621 21:50:49.838068 139713708164992 deprecation.py:323] From /usr/local/lib/python3.6/dist-packages/tensorflow/contrib/learn/python/learn/estimators/estimator.py:143: setup_train_data_feeder (from tensorflow.contrib.learn.python.learn.learn_io.data_feeder) is deprecated and will be removed in a future version.\n",
            "Instructions for updating:\n",
            "Please use tensorflow/transform or tf.data.\n",
            "W0621 21:50:49.843144 139713708164992 deprecation.py:323] From /usr/local/lib/python3.6/dist-packages/tensorflow/contrib/learn/python/learn/learn_io/data_feeder.py:96: extract_dask_data (from tensorflow.contrib.learn.python.learn.learn_io.dask_io) is deprecated and will be removed in a future version.\n",
            "Instructions for updating:\n",
            "Please feed input to tf.data to support dask.\n",
            "W0621 21:50:49.847367 139713708164992 deprecation.py:323] From /usr/local/lib/python3.6/dist-packages/tensorflow/contrib/learn/python/learn/learn_io/data_feeder.py:100: extract_pandas_data (from tensorflow.contrib.learn.python.learn.learn_io.pandas_io) is deprecated and will be removed in a future version.\n",
            "Instructions for updating:\n",
            "Please access pandas data directly.\n",
            "W0621 21:50:49.848238 139713708164992 deprecation.py:323] From /usr/local/lib/python3.6/dist-packages/tensorflow/contrib/learn/python/learn/learn_io/data_feeder.py:159: DataFeeder.__init__ (from tensorflow.contrib.learn.python.learn.learn_io.data_feeder) is deprecated and will be removed in a future version.\n",
            "Instructions for updating:\n",
            "Please use tensorflow/transform or tf.data.\n",
            "W0621 21:50:49.850626 139713708164992 deprecation.py:323] From /usr/local/lib/python3.6/dist-packages/tensorflow/contrib/learn/python/learn/learn_io/data_feeder.py:340: check_array (from tensorflow.contrib.learn.python.learn.learn_io.data_feeder) is deprecated and will be removed in a future version.\n",
            "Instructions for updating:\n",
            "Please convert numpy dtypes explicitly.\n",
            "W0621 21:50:49.852495 139713708164992 data_feeder.py:283] float64 is not supported by many models, consider casting to float32.\n",
            "W0621 21:50:49.855304 139713708164992 deprecation.py:323] From /usr/local/lib/python3.6/dist-packages/tensorflow/contrib/learn/python/learn/estimators/estimator.py:183: infer_real_valued_columns_from_input_fn (from tensorflow.contrib.learn.python.learn.estimators.estimator) is deprecated and will be removed in a future version.\n",
            "Instructions for updating:\n",
            "Please specify feature columns explicitly.\n",
            "W0621 21:50:49.860399 139713708164992 deprecation.py:323] From /usr/local/lib/python3.6/dist-packages/tensorflow/contrib/learn/python/learn/estimators/dnn.py:378: multi_class_head (from tensorflow.contrib.learn.python.learn.estimators.head) is deprecated and will be removed in a future version.\n",
            "Instructions for updating:\n",
            "Please switch to tf.contrib.estimator.*_head.\n",
            "W0621 21:50:49.861425 139713708164992 deprecation.py:323] From /usr/local/lib/python3.6/dist-packages/tensorflow/contrib/learn/python/learn/estimators/estimator.py:1179: BaseEstimator.__init__ (from tensorflow.contrib.learn.python.learn.estimators.estimator) is deprecated and will be removed in a future version.\n",
            "Instructions for updating:\n",
            "Please replace uses of any Estimator from tf.contrib.learn with an Estimator from tf.estimator.*\n",
            "W0621 21:50:49.862560 139713708164992 deprecation.py:323] From /usr/local/lib/python3.6/dist-packages/tensorflow/contrib/learn/python/learn/estimators/estimator.py:427: RunConfig.__init__ (from tensorflow.contrib.learn.python.learn.estimators.run_config) is deprecated and will be removed in a future version.\n",
            "Instructions for updating:\n",
            "When switching to tf.estimator.Estimator, use tf.estimator.RunConfig instead.\n",
            "W0621 21:50:49.864213 139713708164992 estimator.py:453] Using temporary folder as model directory: /tmp/tmp9b9gy1bz\n",
            "W0621 21:50:49.892922 139713708164992 deprecation.py:506] From <ipython-input-49-c9cee6ea5379>:5: calling BaseEstimator.fit (from tensorflow.contrib.learn.python.learn.estimators.estimator) with x is deprecated and will be removed after 2016-12-01.\n",
            "Instructions for updating:\n",
            "Estimator is decoupled from Scikit Learn interface by moving into\n",
            "separate class SKCompat. Arguments x, y and batch_size are only\n",
            "available in the SKCompat class, Estimator will only accept input_fn.\n",
            "Example conversion:\n",
            "  est = Estimator(...) -> est = SKCompat(Estimator(...))\n",
            "W0621 21:50:49.893646 139713708164992 deprecation.py:506] From <ipython-input-49-c9cee6ea5379>:5: calling BaseEstimator.fit (from tensorflow.contrib.learn.python.learn.estimators.estimator) with y is deprecated and will be removed after 2016-12-01.\n",
            "Instructions for updating:\n",
            "Estimator is decoupled from Scikit Learn interface by moving into\n",
            "separate class SKCompat. Arguments x, y and batch_size are only\n",
            "available in the SKCompat class, Estimator will only accept input_fn.\n",
            "Example conversion:\n",
            "  est = Estimator(...) -> est = SKCompat(Estimator(...))\n",
            "W0621 21:50:49.894711 139713708164992 deprecation.py:323] From /usr/local/lib/python3.6/dist-packages/tensorflow/contrib/learn/python/learn/estimators/estimator.py:508: SKCompat.__init__ (from tensorflow.contrib.learn.python.learn.estimators.estimator) is deprecated and will be removed in a future version.\n",
            "Instructions for updating:\n",
            "Please switch to the Estimator interface.\n",
            "W0621 21:50:49.895896 139713708164992 deprecation.py:323] From /usr/local/lib/python3.6/dist-packages/tensorflow/contrib/learn/python/learn/learn_io/data_feeder.py:98: extract_dask_labels (from tensorflow.contrib.learn.python.learn.learn_io.dask_io) is deprecated and will be removed in a future version.\n",
            "Instructions for updating:\n",
            "Please feed input to tf.data to support dask.\n",
            "W0621 21:50:49.896826 139713708164992 deprecation.py:323] From /usr/local/lib/python3.6/dist-packages/tensorflow/contrib/learn/python/learn/learn_io/data_feeder.py:102: extract_pandas_labels (from tensorflow.contrib.learn.python.learn.learn_io.pandas_io) is deprecated and will be removed in a future version.\n",
            "Instructions for updating:\n",
            "Please access pandas data directly.\n",
            "W0621 21:50:49.898131 139713708164992 data_feeder.py:283] float64 is not supported by many models, consider casting to float32.\n",
            "W0621 21:50:49.914400 139713708164992 deprecation.py:323] From /usr/local/lib/python3.6/dist-packages/tensorflow/python/training/training_util.py:236: Variable.initialized_value (from tensorflow.python.ops.variables) is deprecated and will be removed in a future version.\n",
            "Instructions for updating:\n",
            "Use Variable.read_value. Variables in 2.X are initialized automatically both in eager and graph (inside tf.defun) contexts.\n",
            "W0621 21:50:50.381029 139713708164992 deprecation.py:323] From /usr/local/lib/python3.6/dist-packages/tensorflow/python/ops/nn_impl.py:180: add_dispatch_support.<locals>.wrapper (from tensorflow.python.ops.array_ops) is deprecated and will be removed in a future version.\n",
            "Instructions for updating:\n",
            "Use tf.where in 2.0, which has the same broadcast rule as np.where\n",
            "W0621 21:50:50.463742 139713708164992 deprecation.py:506] From /usr/local/lib/python3.6/dist-packages/tensorflow/python/training/adagrad.py:76: calling Constant.__init__ (from tensorflow.python.ops.init_ops) with dtype is deprecated and will be removed in a future version.\n",
            "Instructions for updating:\n",
            "Call initializer instance with the dtype argument instead of passing it to the constructor\n",
            "W0621 21:50:50.556392 139713708164992 head.py:2027] Casting <dtype: 'int64'> labels to bool.\n",
            "W0621 21:50:50.628074 139713708164992 deprecation.py:323] From /usr/local/lib/python3.6/dist-packages/tensorflow/python/ops/metrics_impl.py:809: div (from tensorflow.python.ops.math_ops) is deprecated and will be removed in a future version.\n",
            "Instructions for updating:\n",
            "Deprecated in favor of operator or tf.math.divide.\n",
            "W0621 21:50:50.666106 139713708164992 head.py:2027] Casting <dtype: 'int64'> labels to bool.\n",
            "W0621 21:50:50.735582 139713708164992 metrics_impl.py:804] Trapezoidal rule is known to produce incorrect PR-AUCs; please switch to \"careful_interpolation\" instead.\n",
            "W0621 21:50:50.765990 139713708164992 metrics_impl.py:804] Trapezoidal rule is known to produce incorrect PR-AUCs; please switch to \"careful_interpolation\" instead.\n",
            "W0621 21:50:50.939868 139713708164992 deprecation.py:323] From /usr/local/lib/python3.6/dist-packages/tensorflow/contrib/learn/python/learn/estimators/head.py:678: ModelFnOps.__new__ (from tensorflow.contrib.learn.python.learn.estimators.model_fn) is deprecated and will be removed in a future version.\n",
            "Instructions for updating:\n",
            "When switching to tf.estimator.Estimator, use tf.estimator.EstimatorSpec. You can use the `estimator_spec` method to create an equivalent one.\n",
            "W0621 21:51:18.632890 139713708164992 deprecation.py:573] From /usr/local/lib/python3.6/dist-packages/tensorflow/python/util/deprecation.py:574: calling DNNClassifier.predict (from tensorflow.contrib.learn.python.learn.estimators.dnn) with outputs=None is deprecated and will be removed after 2017-03-01.\n",
            "Instructions for updating:\n",
            "Please switch to predict_classes, or set `outputs` argument.\n",
            "W0621 21:51:18.638077 139713708164992 deprecation.py:506] From /usr/local/lib/python3.6/dist-packages/tensorflow/contrib/learn/python/learn/estimators/dnn.py:463: calling BaseEstimator.predict (from tensorflow.contrib.learn.python.learn.estimators.estimator) with x is deprecated and will be removed after 2016-12-01.\n",
            "Instructions for updating:\n",
            "Estimator is decoupled from Scikit Learn interface by moving into\n",
            "separate class SKCompat. Arguments x, y and batch_size are only\n",
            "available in the SKCompat class, Estimator will only accept input_fn.\n",
            "Example conversion:\n",
            "  est = Estimator(...) -> est = SKCompat(Estimator(...))\n",
            "W0621 21:51:18.640936 139713708164992 data_feeder.py:283] float64 is not supported by many models, consider casting to float32.\n",
            "W0621 21:51:18.820537 139713708164992 deprecation.py:323] From /usr/local/lib/python3.6/dist-packages/tensorflow/python/training/saver.py:1276: checkpoint_exists (from tensorflow.python.training.checkpoint_management) is deprecated and will be removed in a future version.\n",
            "Instructions for updating:\n",
            "Use standard file APIs to check for files with this prefix.\n"
          ],
          "name": "stderr"
        }
      ]
    },
    {
      "cell_type": "code",
      "metadata": {
        "id": "04AmAUBdcy8X",
        "colab_type": "code",
        "outputId": "8620317e-c322-4918-ad37-dc7c181a760f",
        "colab": {
          "base_uri": "https://localhost:8080/",
          "height": 34
        }
      },
      "source": [
        "print('TF Accuracy: ', score)"
      ],
      "execution_count": 50,
      "outputs": [
        {
          "output_type": "stream",
          "text": [
            "TF Accuracy:  0.9976133651551312\n"
          ],
          "name": "stdout"
        }
      ]
    },
    {
      "cell_type": "markdown",
      "metadata": {
        "id": "qhWw6oGcdCwR",
        "colab_type": "text"
      },
      "source": [
        "# 4.3) Neural network Using Keras"
      ]
    },
    {
      "cell_type": "code",
      "metadata": {
        "id": "A_4yW7dpc-9T",
        "colab_type": "code",
        "colab": {}
      },
      "source": [
        "from keras.models import Sequential\n",
        "from keras.layers import Dense, Dropout\n",
        "from sklearn.model_selection import train_test_split\n",
        "import numpy\n",
        "from sklearn.preprocessing import StandardScaler"
      ],
      "execution_count": 0,
      "outputs": []
    },
    {
      "cell_type": "code",
      "metadata": {
        "id": "KhLIGFHEc_AL",
        "colab_type": "code",
        "colab": {}
      },
      "source": [
        "# To evaluate\n",
        "from sklearn.metrics import accuracy_score\n",
        "from sklearn.metrics import recall_score\n",
        "from sklearn.metrics import classification_report\n",
        "from sklearn.metrics import confusion_matrix"
      ],
      "execution_count": 0,
      "outputs": []
    },
    {
      "cell_type": "code",
      "metadata": {
        "id": "PD0X6U0Bc_Dp",
        "colab_type": "code",
        "colab": {
          "base_uri": "https://localhost:8080/",
          "height": 222
        },
        "outputId": "4f02ea76-8f56-4a15-b50c-e7b42d7ace35"
      },
      "source": [
        "#create model, add dense layers one by one specifying activation function\n",
        "model = Sequential()\n",
        "model.add(Dense(15, input_dim=X_train.shape[1], activation='relu')) # input layer requires input_dim param\n",
        "model.add(Dense(10, activation='relu'))\n",
        "model.add(Dense(8, activation='relu'))\n",
        "model.add(Dropout(.2))\n",
        "model.add(Dense(1, activation='sigmoid')) # sigmoid instead of relu for final probability between 0 and 1"
      ],
      "execution_count": 53,
      "outputs": [
        {
          "output_type": "stream",
          "text": [
            "W0621 21:51:18.917740 139713708164992 deprecation_wrapper.py:119] From /usr/local/lib/python3.6/dist-packages/keras/backend/tensorflow_backend.py:74: The name tf.get_default_graph is deprecated. Please use tf.compat.v1.get_default_graph instead.\n",
            "\n",
            "W0621 21:51:18.919698 139713708164992 deprecation_wrapper.py:119] From /usr/local/lib/python3.6/dist-packages/keras/backend/tensorflow_backend.py:517: The name tf.placeholder is deprecated. Please use tf.compat.v1.placeholder instead.\n",
            "\n",
            "W0621 21:51:18.924459 139713708164992 deprecation_wrapper.py:119] From /usr/local/lib/python3.6/dist-packages/keras/backend/tensorflow_backend.py:4138: The name tf.random_uniform is deprecated. Please use tf.random.uniform instead.\n",
            "\n",
            "W0621 21:51:18.969696 139713708164992 deprecation_wrapper.py:119] From /usr/local/lib/python3.6/dist-packages/keras/backend/tensorflow_backend.py:133: The name tf.placeholder_with_default is deprecated. Please use tf.compat.v1.placeholder_with_default instead.\n",
            "\n",
            "W0621 21:51:18.980757 139713708164992 deprecation.py:506] From /usr/local/lib/python3.6/dist-packages/keras/backend/tensorflow_backend.py:3445: calling dropout (from tensorflow.python.ops.nn_ops) with keep_prob is deprecated and will be removed in a future version.\n",
            "Instructions for updating:\n",
            "Please use `rate` instead of `keep_prob`. Rate should be set to `rate = 1 - keep_prob`.\n"
          ],
          "name": "stderr"
        }
      ]
    },
    {
      "cell_type": "code",
      "metadata": {
        "id": "EgkGigGtAe3t",
        "colab_type": "code",
        "colab": {
          "base_uri": "https://localhost:8080/",
          "height": 104
        },
        "outputId": "df81246a-023a-42c8-85f5-747df7d628e2"
      },
      "source": [
        "# compile the model, adam gradient descent (optimized)\n",
        "model.compile(loss=\"binary_crossentropy\", optimizer=\"adam\", metrics=['accuracy'])"
      ],
      "execution_count": 54,
      "outputs": [
        {
          "output_type": "stream",
          "text": [
            "W0621 21:51:19.011296 139713708164992 deprecation_wrapper.py:119] From /usr/local/lib/python3.6/dist-packages/keras/optimizers.py:790: The name tf.train.Optimizer is deprecated. Please use tf.compat.v1.train.Optimizer instead.\n",
            "\n",
            "W0621 21:51:19.036694 139713708164992 deprecation_wrapper.py:119] From /usr/local/lib/python3.6/dist-packages/keras/backend/tensorflow_backend.py:3376: The name tf.log is deprecated. Please use tf.math.log instead.\n",
            "\n"
          ],
          "name": "stderr"
        }
      ]
    },
    {
      "cell_type": "code",
      "metadata": {
        "id": "4WcvhtOWAe6z",
        "colab_type": "code",
        "colab": {
          "base_uri": "https://localhost:8080/",
          "height": 302
        },
        "outputId": "2fe3aa08-177c-4946-9382-8638b1fc08d4"
      },
      "source": [
        "model.summary()"
      ],
      "execution_count": 55,
      "outputs": [
        {
          "output_type": "stream",
          "text": [
            "_________________________________________________________________\n",
            "Layer (type)                 Output Shape              Param #   \n",
            "=================================================================\n",
            "dense_1 (Dense)              (None, 15)                1215      \n",
            "_________________________________________________________________\n",
            "dense_2 (Dense)              (None, 10)                160       \n",
            "_________________________________________________________________\n",
            "dense_3 (Dense)              (None, 8)                 88        \n",
            "_________________________________________________________________\n",
            "dropout_1 (Dropout)          (None, 8)                 0         \n",
            "_________________________________________________________________\n",
            "dense_4 (Dense)              (None, 1)                 9         \n",
            "=================================================================\n",
            "Total params: 1,472\n",
            "Trainable params: 1,472\n",
            "Non-trainable params: 0\n",
            "_________________________________________________________________\n"
          ],
          "name": "stdout"
        }
      ]
    },
    {
      "cell_type": "code",
      "metadata": {
        "id": "3FMgj-LxAe94",
        "colab_type": "code",
        "colab": {
          "base_uri": "https://localhost:8080/",
          "height": 3394
        },
        "outputId": "4eca1443-8e52-459e-ffbe-aa561391a935"
      },
      "source": [
        "# call the function to fit to the data (training the network)\n",
        "history=model.fit(X_train, y_train, epochs = 100, batch_size=20, validation_data=(X_test, y_test))"
      ],
      "execution_count": 56,
      "outputs": [
        {
          "output_type": "stream",
          "text": [
            "Train on 6702 samples, validate on 1676 samples\n",
            "Epoch 1/100\n",
            "6702/6702 [==============================] - 2s 262us/step - loss: 0.3889 - acc: 0.8233 - val_loss: 0.2304 - val_acc: 0.8484\n",
            "Epoch 2/100\n",
            "6702/6702 [==============================] - 1s 201us/step - loss: 0.1251 - acc: 0.9521 - val_loss: 0.0315 - val_acc: 0.9928\n",
            "Epoch 3/100\n",
            "6702/6702 [==============================] - 1s 198us/step - loss: 0.0226 - acc: 0.9952 - val_loss: 0.0077 - val_acc: 0.9994\n",
            "Epoch 4/100\n",
            "6702/6702 [==============================] - 1s 198us/step - loss: 0.0096 - acc: 0.9973 - val_loss: 0.0049 - val_acc: 0.9994\n",
            "Epoch 5/100\n",
            "6702/6702 [==============================] - 1s 196us/step - loss: 0.0046 - acc: 0.9991 - val_loss: 0.0032 - val_acc: 0.9994\n",
            "Epoch 6/100\n",
            "6702/6702 [==============================] - 1s 198us/step - loss: 0.0033 - acc: 0.9996 - val_loss: 0.0034 - val_acc: 0.9994\n",
            "Epoch 7/100\n",
            "6702/6702 [==============================] - 1s 198us/step - loss: 0.0023 - acc: 0.9999 - val_loss: 0.0035 - val_acc: 0.9994\n",
            "Epoch 8/100\n",
            "6702/6702 [==============================] - 1s 200us/step - loss: 0.0020 - acc: 0.9994 - val_loss: 0.0028 - val_acc: 0.9994\n",
            "Epoch 9/100\n",
            "6702/6702 [==============================] - 1s 198us/step - loss: 0.0023 - acc: 0.9996 - val_loss: 0.0019 - val_acc: 0.9994\n",
            "Epoch 10/100\n",
            "6702/6702 [==============================] - 1s 203us/step - loss: 0.0012 - acc: 0.9999 - val_loss: 0.0019 - val_acc: 0.9994\n",
            "Epoch 11/100\n",
            "6702/6702 [==============================] - 1s 197us/step - loss: 0.0016 - acc: 0.9997 - val_loss: 0.0023 - val_acc: 0.9994\n",
            "Epoch 12/100\n",
            "6702/6702 [==============================] - 1s 196us/step - loss: 0.0018 - acc: 0.9997 - val_loss: 0.0025 - val_acc: 0.9994\n",
            "Epoch 13/100\n",
            "6702/6702 [==============================] - 1s 196us/step - loss: 0.0013 - acc: 0.9999 - val_loss: 0.0039 - val_acc: 0.9994\n",
            "Epoch 14/100\n",
            "6702/6702 [==============================] - 1s 199us/step - loss: 0.0021 - acc: 0.9990 - val_loss: 4.3608e-04 - val_acc: 1.0000\n",
            "Epoch 15/100\n",
            "6702/6702 [==============================] - 1s 194us/step - loss: 0.0013 - acc: 0.9997 - val_loss: 0.0040 - val_acc: 0.9988\n",
            "Epoch 16/100\n",
            "6702/6702 [==============================] - 1s 197us/step - loss: 0.0017 - acc: 0.9993 - val_loss: 2.9028e-04 - val_acc: 1.0000\n",
            "Epoch 17/100\n",
            "6702/6702 [==============================] - 1s 194us/step - loss: 0.0013 - acc: 1.0000 - val_loss: 3.0349e-04 - val_acc: 1.0000\n",
            "Epoch 18/100\n",
            "6702/6702 [==============================] - 1s 197us/step - loss: 0.0011 - acc: 0.9997 - val_loss: 6.5723e-05 - val_acc: 1.0000\n",
            "Epoch 19/100\n",
            "6702/6702 [==============================] - 1s 197us/step - loss: 0.0014 - acc: 0.9999 - val_loss: 9.9352e-05 - val_acc: 1.0000\n",
            "Epoch 20/100\n",
            "6702/6702 [==============================] - 1s 201us/step - loss: 6.1603e-04 - acc: 0.9999 - val_loss: 4.8130e-05 - val_acc: 1.0000\n",
            "Epoch 21/100\n",
            "6702/6702 [==============================] - 1s 196us/step - loss: 4.7534e-04 - acc: 1.0000 - val_loss: 5.5370e-05 - val_acc: 1.0000\n",
            "Epoch 22/100\n",
            "6702/6702 [==============================] - 1s 196us/step - loss: 0.0010 - acc: 0.9999 - val_loss: 1.1722e-04 - val_acc: 1.0000\n",
            "Epoch 23/100\n",
            "6702/6702 [==============================] - 1s 197us/step - loss: 8.5778e-04 - acc: 0.9997 - val_loss: 1.0320e-04 - val_acc: 1.0000\n",
            "Epoch 24/100\n",
            "6702/6702 [==============================] - 1s 195us/step - loss: 0.0011 - acc: 0.9999 - val_loss: 1.7607e-04 - val_acc: 1.0000\n",
            "Epoch 25/100\n",
            "6702/6702 [==============================] - 1s 198us/step - loss: 0.0028 - acc: 0.9994 - val_loss: 0.0088 - val_acc: 0.9988\n",
            "Epoch 26/100\n",
            "6702/6702 [==============================] - 1s 204us/step - loss: 0.0037 - acc: 0.9993 - val_loss: 0.0061 - val_acc: 0.9982\n",
            "Epoch 27/100\n",
            "6702/6702 [==============================] - 1s 198us/step - loss: 0.0013 - acc: 0.9999 - val_loss: 0.0092 - val_acc: 0.9988\n",
            "Epoch 28/100\n",
            "6702/6702 [==============================] - 1s 198us/step - loss: 7.3644e-04 - acc: 1.0000 - val_loss: 0.0098 - val_acc: 0.9988\n",
            "Epoch 29/100\n",
            "6702/6702 [==============================] - 1s 200us/step - loss: 0.0010 - acc: 0.9997 - val_loss: 0.0095 - val_acc: 0.9994\n",
            "Epoch 30/100\n",
            "6702/6702 [==============================] - 1s 205us/step - loss: 0.0011 - acc: 0.9999 - val_loss: 0.0093 - val_acc: 0.9994\n",
            "Epoch 31/100\n",
            "6702/6702 [==============================] - 1s 198us/step - loss: 5.2509e-04 - acc: 0.9997 - val_loss: 0.0070 - val_acc: 0.9994\n",
            "Epoch 32/100\n",
            "6702/6702 [==============================] - 1s 197us/step - loss: 7.7427e-04 - acc: 0.9999 - val_loss: 0.0070 - val_acc: 0.9994\n",
            "Epoch 33/100\n",
            "6702/6702 [==============================] - 1s 202us/step - loss: 3.4707e-04 - acc: 1.0000 - val_loss: 0.0067 - val_acc: 0.9994\n",
            "Epoch 34/100\n",
            "6702/6702 [==============================] - 1s 199us/step - loss: 7.2606e-04 - acc: 0.9997 - val_loss: 0.0066 - val_acc: 0.9994\n",
            "Epoch 35/100\n",
            "6702/6702 [==============================] - 1s 194us/step - loss: 3.7442e-04 - acc: 0.9999 - val_loss: 0.0063 - val_acc: 0.9994\n",
            "Epoch 36/100\n",
            "6702/6702 [==============================] - 1s 197us/step - loss: 3.7433e-04 - acc: 0.9999 - val_loss: 0.0076 - val_acc: 0.9988\n",
            "Epoch 37/100\n",
            "6702/6702 [==============================] - 1s 195us/step - loss: 7.2634e-04 - acc: 0.9999 - val_loss: 0.0072 - val_acc: 0.9988\n",
            "Epoch 38/100\n",
            "6702/6702 [==============================] - 1s 198us/step - loss: 8.8567e-04 - acc: 0.9997 - val_loss: 0.0069 - val_acc: 0.9988\n",
            "Epoch 39/100\n",
            "6702/6702 [==============================] - 1s 196us/step - loss: 5.3263e-04 - acc: 0.9999 - val_loss: 0.0069 - val_acc: 0.9988\n",
            "Epoch 40/100\n",
            "6702/6702 [==============================] - 1s 198us/step - loss: 4.1672e-04 - acc: 1.0000 - val_loss: 0.0064 - val_acc: 0.9988\n",
            "Epoch 41/100\n",
            "6702/6702 [==============================] - 1s 195us/step - loss: 7.3774e-04 - acc: 0.9999 - val_loss: 0.0044 - val_acc: 0.9988\n",
            "Epoch 42/100\n",
            "6702/6702 [==============================] - 1s 193us/step - loss: 5.6392e-04 - acc: 0.9999 - val_loss: 0.0050 - val_acc: 0.9988\n",
            "Epoch 43/100\n",
            "6702/6702 [==============================] - 1s 193us/step - loss: 3.7242e-04 - acc: 1.0000 - val_loss: 0.0046 - val_acc: 0.9988\n",
            "Epoch 44/100\n",
            "6702/6702 [==============================] - 1s 196us/step - loss: 8.0538e-04 - acc: 0.9999 - val_loss: 0.0042 - val_acc: 0.9988\n",
            "Epoch 45/100\n",
            "6702/6702 [==============================] - 1s 195us/step - loss: 7.2990e-04 - acc: 0.9999 - val_loss: 0.0041 - val_acc: 0.9988\n",
            "Epoch 46/100\n",
            "6702/6702 [==============================] - 1s 194us/step - loss: 0.0014 - acc: 0.9994 - val_loss: 0.0026 - val_acc: 0.9994\n",
            "Epoch 47/100\n",
            "6702/6702 [==============================] - 1s 195us/step - loss: 3.2877e-04 - acc: 1.0000 - val_loss: 0.0025 - val_acc: 0.9994\n",
            "Epoch 48/100\n",
            "6702/6702 [==============================] - 1s 196us/step - loss: 9.2364e-04 - acc: 0.9996 - val_loss: 0.0024 - val_acc: 0.9994\n",
            "Epoch 49/100\n",
            "6702/6702 [==============================] - 1s 197us/step - loss: 4.7848e-04 - acc: 0.9999 - val_loss: 0.0022 - val_acc: 0.9994\n",
            "Epoch 50/100\n",
            "6702/6702 [==============================] - 1s 201us/step - loss: 2.9689e-04 - acc: 0.9999 - val_loss: 0.0053 - val_acc: 0.9994\n",
            "Epoch 51/100\n",
            "6702/6702 [==============================] - 1s 194us/step - loss: 5.1986e-04 - acc: 0.9999 - val_loss: 0.0050 - val_acc: 0.9994\n",
            "Epoch 52/100\n",
            "6702/6702 [==============================] - 1s 192us/step - loss: 4.7464e-04 - acc: 0.9999 - val_loss: 0.0049 - val_acc: 0.9994\n",
            "Epoch 53/100\n",
            "6702/6702 [==============================] - 1s 196us/step - loss: 0.0016 - acc: 0.9993 - val_loss: 0.0036 - val_acc: 0.9994\n",
            "Epoch 54/100\n",
            "6702/6702 [==============================] - 1s 198us/step - loss: 8.7622e-04 - acc: 0.9996 - val_loss: 0.0030 - val_acc: 0.9994\n",
            "Epoch 55/100\n",
            "6702/6702 [==============================] - 1s 192us/step - loss: 8.5405e-04 - acc: 0.9997 - val_loss: 0.0029 - val_acc: 0.9994\n",
            "Epoch 56/100\n",
            "6702/6702 [==============================] - 1s 196us/step - loss: 0.0100 - acc: 0.9990 - val_loss: 0.0133 - val_acc: 0.9976\n",
            "Epoch 57/100\n",
            "6702/6702 [==============================] - 1s 198us/step - loss: 0.0042 - acc: 0.9987 - val_loss: 0.0090 - val_acc: 0.9988\n",
            "Epoch 58/100\n",
            "6702/6702 [==============================] - 1s 193us/step - loss: 0.0011 - acc: 0.9996 - val_loss: 0.0100 - val_acc: 0.9988\n",
            "Epoch 59/100\n",
            "6702/6702 [==============================] - 1s 195us/step - loss: 7.3441e-04 - acc: 0.9997 - val_loss: 0.0079 - val_acc: 0.9988\n",
            "Epoch 60/100\n",
            "6702/6702 [==============================] - 1s 198us/step - loss: 9.3526e-04 - acc: 0.9997 - val_loss: 0.0079 - val_acc: 0.9988\n",
            "Epoch 61/100\n",
            "6702/6702 [==============================] - 1s 199us/step - loss: 8.4829e-04 - acc: 0.9996 - val_loss: 0.0078 - val_acc: 0.9988\n",
            "Epoch 62/100\n",
            "6702/6702 [==============================] - 1s 197us/step - loss: 0.0013 - acc: 0.9996 - val_loss: 0.0070 - val_acc: 0.9988\n",
            "Epoch 63/100\n",
            "6702/6702 [==============================] - 1s 203us/step - loss: 6.8362e-04 - acc: 0.9999 - val_loss: 0.0075 - val_acc: 0.9988\n",
            "Epoch 64/100\n",
            "6702/6702 [==============================] - 1s 199us/step - loss: 3.7392e-04 - acc: 1.0000 - val_loss: 0.0074 - val_acc: 0.9994\n",
            "Epoch 65/100\n",
            "6702/6702 [==============================] - 1s 199us/step - loss: 0.0014 - acc: 0.9994 - val_loss: 0.0074 - val_acc: 0.9994\n",
            "Epoch 66/100\n",
            "6702/6702 [==============================] - 1s 195us/step - loss: 9.9659e-04 - acc: 0.9996 - val_loss: 0.0061 - val_acc: 0.9988\n",
            "Epoch 67/100\n",
            "6702/6702 [==============================] - 1s 198us/step - loss: 7.5718e-04 - acc: 0.9997 - val_loss: 0.0060 - val_acc: 0.9988\n",
            "Epoch 68/100\n",
            "6702/6702 [==============================] - 1s 196us/step - loss: 2.8166e-04 - acc: 1.0000 - val_loss: 0.0059 - val_acc: 0.9988\n",
            "Epoch 69/100\n",
            "6702/6702 [==============================] - 1s 193us/step - loss: 8.0922e-04 - acc: 0.9999 - val_loss: 0.0055 - val_acc: 0.9994\n",
            "Epoch 70/100\n",
            "6702/6702 [==============================] - 1s 194us/step - loss: 2.3053e-04 - acc: 1.0000 - val_loss: 0.0053 - val_acc: 0.9994\n",
            "Epoch 71/100\n",
            "6702/6702 [==============================] - 1s 200us/step - loss: 6.4140e-04 - acc: 0.9997 - val_loss: 0.0053 - val_acc: 0.9994\n",
            "Epoch 72/100\n",
            "6702/6702 [==============================] - 1s 196us/step - loss: 3.7864e-04 - acc: 0.9999 - val_loss: 0.0048 - val_acc: 0.9994\n",
            "Epoch 73/100\n",
            "6702/6702 [==============================] - 1s 196us/step - loss: 6.3326e-04 - acc: 0.9999 - val_loss: 0.0047 - val_acc: 0.9994\n",
            "Epoch 74/100\n",
            "6702/6702 [==============================] - 1s 196us/step - loss: 5.7120e-04 - acc: 0.9999 - val_loss: 0.0027 - val_acc: 0.9994\n",
            "Epoch 75/100\n",
            "6702/6702 [==============================] - 1s 198us/step - loss: 7.8608e-04 - acc: 0.9997 - val_loss: 0.0030 - val_acc: 0.9994\n",
            "Epoch 76/100\n",
            "6702/6702 [==============================] - 1s 195us/step - loss: 8.9072e-04 - acc: 0.9997 - val_loss: 0.0028 - val_acc: 0.9994\n",
            "Epoch 77/100\n",
            "6702/6702 [==============================] - 1s 193us/step - loss: 7.5447e-04 - acc: 0.9999 - val_loss: 0.0028 - val_acc: 0.9994\n",
            "Epoch 78/100\n",
            "6702/6702 [==============================] - 1s 200us/step - loss: 7.1679e-04 - acc: 0.9997 - val_loss: 0.0030 - val_acc: 0.9994\n",
            "Epoch 79/100\n",
            "6702/6702 [==============================] - 1s 198us/step - loss: 2.3618e-04 - acc: 1.0000 - val_loss: 0.0027 - val_acc: 0.9994\n",
            "Epoch 80/100\n",
            "6702/6702 [==============================] - 1s 206us/step - loss: 0.0015 - acc: 0.9993 - val_loss: 0.0026 - val_acc: 0.9994\n",
            "Epoch 81/100\n",
            "6702/6702 [==============================] - 1s 200us/step - loss: 5.4628e-04 - acc: 0.9999 - val_loss: 0.0032 - val_acc: 0.9988\n",
            "Epoch 82/100\n",
            "6702/6702 [==============================] - 1s 198us/step - loss: 0.0010 - acc: 0.9996 - val_loss: 0.0019 - val_acc: 0.9988\n",
            "Epoch 83/100\n",
            "6702/6702 [==============================] - 1s 198us/step - loss: 7.8654e-04 - acc: 0.9997 - val_loss: 7.5624e-04 - val_acc: 0.9994\n",
            "Epoch 84/100\n",
            "6702/6702 [==============================] - 1s 196us/step - loss: 4.0077e-04 - acc: 1.0000 - val_loss: 8.9093e-05 - val_acc: 1.0000\n",
            "Epoch 85/100\n",
            "6702/6702 [==============================] - 1s 198us/step - loss: 4.4088e-04 - acc: 0.9999 - val_loss: 7.3419e-05 - val_acc: 1.0000\n",
            "Epoch 86/100\n",
            "6702/6702 [==============================] - 1s 198us/step - loss: 0.0012 - acc: 0.9994 - val_loss: 2.2971e-05 - val_acc: 1.0000\n",
            "Epoch 87/100\n",
            "6702/6702 [==============================] - 1s 198us/step - loss: 0.0011 - acc: 0.9996 - val_loss: 2.0665e-05 - val_acc: 1.0000\n",
            "Epoch 88/100\n",
            "6702/6702 [==============================] - 1s 203us/step - loss: 5.7283e-04 - acc: 0.9999 - val_loss: 2.0600e-05 - val_acc: 1.0000\n",
            "Epoch 89/100\n",
            "6702/6702 [==============================] - 1s 195us/step - loss: 5.3757e-04 - acc: 0.9999 - val_loss: 1.8973e-05 - val_acc: 1.0000\n",
            "Epoch 90/100\n",
            "6702/6702 [==============================] - 1s 199us/step - loss: 3.5144e-04 - acc: 1.0000 - val_loss: 1.2774e-05 - val_acc: 1.0000\n",
            "Epoch 91/100\n",
            "6702/6702 [==============================] - 1s 200us/step - loss: 5.9313e-04 - acc: 0.9999 - val_loss: 1.4986e-05 - val_acc: 1.0000\n",
            "Epoch 92/100\n",
            "6702/6702 [==============================] - 1s 200us/step - loss: 2.4384e-04 - acc: 1.0000 - val_loss: 4.7392e-06 - val_acc: 1.0000\n",
            "Epoch 93/100\n",
            "6702/6702 [==============================] - 1s 202us/step - loss: 0.0033 - acc: 0.9996 - val_loss: 0.0225 - val_acc: 0.9976\n",
            "Epoch 94/100\n",
            "6702/6702 [==============================] - 1s 202us/step - loss: 0.0031 - acc: 0.9996 - val_loss: 0.0290 - val_acc: 0.9982\n",
            "Epoch 95/100\n",
            "6702/6702 [==============================] - 1s 203us/step - loss: 0.0029 - acc: 0.9997 - val_loss: 0.0289 - val_acc: 0.9982\n",
            "Epoch 96/100\n",
            "6702/6702 [==============================] - 1s 197us/step - loss: 0.0038 - acc: 0.9993 - val_loss: 0.0289 - val_acc: 0.9982\n",
            "Epoch 97/100\n",
            "6702/6702 [==============================] - 1s 197us/step - loss: 0.0030 - acc: 0.9997 - val_loss: 0.0289 - val_acc: 0.9982\n",
            "Epoch 98/100\n",
            "6702/6702 [==============================] - 1s 199us/step - loss: 0.0033 - acc: 0.9994 - val_loss: 0.0289 - val_acc: 0.9982\n",
            "Epoch 99/100\n",
            "6702/6702 [==============================] - 1s 199us/step - loss: 0.0028 - acc: 0.9997 - val_loss: 0.0125 - val_acc: 0.9988\n",
            "Epoch 100/100\n",
            "6702/6702 [==============================] - 1s 197us/step - loss: 0.0038 - acc: 0.9993 - val_loss: 0.0133 - val_acc: 0.9988\n"
          ],
          "name": "stdout"
        }
      ]
    },
    {
      "cell_type": "code",
      "metadata": {
        "id": "kiLOwgHEAfA9",
        "colab_type": "code",
        "colab": {}
      },
      "source": [
        "y_pred_keras = model.predict(X_test)"
      ],
      "execution_count": 0,
      "outputs": []
    },
    {
      "cell_type": "code",
      "metadata": {
        "id": "wnezHaNPc_Gb",
        "colab_type": "code",
        "colab": {}
      },
      "source": [
        "#convert in crisp class\n",
        "yhat_class_keras = model.predict_classes(X_test, verbose=0)"
      ],
      "execution_count": 0,
      "outputs": []
    },
    {
      "cell_type": "code",
      "metadata": {
        "id": "cvEQDCZkCOB4",
        "colab_type": "code",
        "colab": {
          "base_uri": "https://localhost:8080/",
          "height": 101
        },
        "outputId": "ddc65825-e5fb-41be-fab2-ca8d6be7713a"
      },
      "source": [
        "yhat_class_keras[:5]"
      ],
      "execution_count": 67,
      "outputs": [
        {
          "output_type": "execute_result",
          "data": {
            "text/plain": [
              "array([[0],\n",
              "       [0],\n",
              "       [0],\n",
              "       [0],\n",
              "       [0]], dtype=int32)"
            ]
          },
          "metadata": {
            "tags": []
          },
          "execution_count": 67
        }
      ]
    },
    {
      "cell_type": "code",
      "metadata": {
        "id": "a4rcBhAtA8H8",
        "colab_type": "code",
        "colab": {
          "base_uri": "https://localhost:8080/",
          "height": 50
        },
        "outputId": "28e2aef1-9dd7-40e5-d258-c56446e98947"
      },
      "source": [
        "print(recall_score(y_test, yhat_class_keras))\n",
        "print(accuracy_score(y_test, yhat_class_keras))"
      ],
      "execution_count": 68,
      "outputs": [
        {
          "output_type": "stream",
          "text": [
            "0.9925650557620818\n",
            "0.9988066825775657\n"
          ],
          "name": "stdout"
        }
      ]
    },
    {
      "cell_type": "code",
      "metadata": {
        "id": "_Bgybz8IA8Qt",
        "colab_type": "code",
        "colab": {
          "base_uri": "https://localhost:8080/",
          "height": 168
        },
        "outputId": "0f08a3a7-5eef-4cf0-de62-0d051ecc1eb9"
      },
      "source": [
        "from sklearn.metrics import classification_report,confusion_matrix\n",
        "print(classification_report(y_test, yhat_class_keras))"
      ],
      "execution_count": 69,
      "outputs": [
        {
          "output_type": "stream",
          "text": [
            "              precision    recall  f1-score   support\n",
            "\n",
            "           0       1.00      1.00      1.00      1407\n",
            "           1       1.00      0.99      1.00       269\n",
            "\n",
            "    accuracy                           1.00      1676\n",
            "   macro avg       1.00      1.00      1.00      1676\n",
            "weighted avg       1.00      1.00      1.00      1676\n",
            "\n"
          ],
          "name": "stdout"
        }
      ]
    },
    {
      "cell_type": "code",
      "metadata": {
        "id": "YL5T1xzYA8XM",
        "colab_type": "code",
        "colab": {}
      },
      "source": [
        "import matplotlib.pyplot as plt\n",
        "plt.style.use('ggplot')\n",
        "\n",
        "def plot_history(history):\n",
        "    acc = history.history['acc']\n",
        "    val_acc = history.history['val_acc']\n",
        "    loss = history.history['loss']\n",
        "    val_loss = history.history['val_loss']\n",
        "    x = range(1, len(acc) + 1)\n",
        "\n",
        "    plt.figure(figsize=(12, 5))\n",
        "    plt.subplot(1, 2, 1)\n",
        "    plt.plot(x, acc, 'b', label='Training acc')\n",
        "    plt.plot(x, val_acc, 'r', label='Validation acc')\n",
        "    plt.title('Training and validation accuracy')\n",
        "    plt.legend()\n",
        "    plt.subplot(1, 2, 2)\n",
        "    plt.plot(x, loss, 'b', label='Training loss')\n",
        "    plt.plot(x, val_loss, 'r', label='Validation loss')\n",
        "    plt.title('Training and validation loss')\n",
        "    plt.legend()"
      ],
      "execution_count": 0,
      "outputs": []
    },
    {
      "cell_type": "code",
      "metadata": {
        "id": "mrnJK2vxBDz_",
        "colab_type": "code",
        "colab": {
          "base_uri": "https://localhost:8080/",
          "height": 337
        },
        "outputId": "4d87482d-8da3-4b8b-f942-11f3b1718ed7"
      },
      "source": [
        "plot_history(history)"
      ],
      "execution_count": 71,
      "outputs": [
        {
          "output_type": "display_data",
          "data": {
            "image/png": "[encoded data removed]",
            "text/plain": [
              "<Figure size 864x360 with 2 Axes>"
            ]
          },
          "metadata": {
            "tags": []
          }
        }
      ]
    },
    {
      "cell_type": "markdown",
      "metadata": {
        "id": "fLoHF99Yc-R1",
        "colab_type": "text"
      },
      "source": [
        "## 4.4)- SVC\n",
        "\n",
        "It is same as SVM. is a wrapper around the libsvm library and supports different kernels while LinearSVC is based on liblinear and only supports a linear kernel"
      ]
    },
    {
      "cell_type": "code",
      "metadata": {
        "id": "v6AbdH5Sc4a6",
        "colab_type": "code",
        "colab": {}
      },
      "source": [
        "from sklearn.svm import SVC\n",
        "svc = SVC()\n",
        "svc.fit(X_train, y_train)\n",
        "y_pred_svc = svc.predict(X_test)"
      ],
      "execution_count": 0,
      "outputs": []
    },
    {
      "cell_type": "code",
      "metadata": {
        "id": "b4uTSWpAdQbH",
        "colab_type": "code",
        "outputId": "dbf12979-fdc3-49a4-ab96-0e826e7123f8",
        "colab": {
          "base_uri": "https://localhost:8080/",
          "height": 50
        }
      },
      "source": [
        "y_pred_svc[:30]"
      ],
      "execution_count": 73,
      "outputs": [
        {
          "output_type": "execute_result",
          "data": {
            "text/plain": [
              "array([0, 0, 0, 0, 0, 0, 0, 0, 1, 0, 0, 1, 0, 0, 0, 1, 0, 0, 0, 0, 0, 0,\n",
              "       0, 0, 0, 0, 0, 0, 0, 0])"
            ]
          },
          "metadata": {
            "tags": []
          },
          "execution_count": 73
        }
      ]
    },
    {
      "cell_type": "code",
      "metadata": {
        "id": "nut-OASVdVgi",
        "colab_type": "code",
        "outputId": "598d437e-20a9-4c15-cc31-bc5db17a1536",
        "colab": {
          "base_uri": "https://localhost:8080/",
          "height": 34
        }
      },
      "source": [
        "print('SVM Accuracy: ', metrics.accuracy_score(y_test,y_pred_svc))"
      ],
      "execution_count": 74,
      "outputs": [
        {
          "output_type": "stream",
          "text": [
            "SVM Accuracy:  0.9946300715990454\n"
          ],
          "name": "stdout"
        }
      ]
    },
    {
      "cell_type": "code",
      "metadata": {
        "id": "-YnobxdudvuJ",
        "colab_type": "code",
        "outputId": "23ad36f6-8eaf-4e6e-e7d3-4e382d4808e9",
        "colab": {
          "base_uri": "https://localhost:8080/",
          "height": 34
        }
      },
      "source": [
        "print(metrics.recall_score(y_test,y_pred_svc))"
      ],
      "execution_count": 75,
      "outputs": [
        {
          "output_type": "stream",
          "text": [
            "0.966542750929368\n"
          ],
          "name": "stdout"
        }
      ]
    },
    {
      "cell_type": "markdown",
      "metadata": {
        "id": "JC8Gb8I-dlps",
        "colab_type": "text"
      },
      "source": [
        "## 4.5)-Logistic regression"
      ]
    },
    {
      "cell_type": "code",
      "metadata": {
        "id": "P6lX-jbGdYrJ",
        "colab_type": "code",
        "colab": {}
      },
      "source": [
        "from sklearn.linear_model import LogisticRegression\n",
        "\n",
        "logreg = LogisticRegression(C=1e5)\n",
        "logreg.fit(X_train, y_train)\n",
        "y_pred_log = logreg.predict(X_test)"
      ],
      "execution_count": 0,
      "outputs": []
    },
    {
      "cell_type": "code",
      "metadata": {
        "id": "zHorxx-xdqXA",
        "colab_type": "code",
        "outputId": "166ecc80-e173-4b4e-f246-b41eb0cba296",
        "colab": {
          "base_uri": "https://localhost:8080/",
          "height": 34
        }
      },
      "source": [
        "y_pred_log"
      ],
      "execution_count": 77,
      "outputs": [
        {
          "output_type": "execute_result",
          "data": {
            "text/plain": [
              "array([0, 0, 0, ..., 0, 0, 1])"
            ]
          },
          "metadata": {
            "tags": []
          },
          "execution_count": 77
        }
      ]
    },
    {
      "cell_type": "code",
      "metadata": {
        "id": "tZ2cu1yEdw3O",
        "colab_type": "code",
        "outputId": "45ef03c6-0bc5-4e93-e811-eba8f18e77b9",
        "colab": {
          "base_uri": "https://localhost:8080/",
          "height": 34
        }
      },
      "source": [
        "print('Log Regression Accuracy: ', metrics.accuracy_score(y_test,y_pred_log))"
      ],
      "execution_count": 78,
      "outputs": [
        {
          "output_type": "stream",
          "text": [
            "Log Regression Accuracy:  1.0\n"
          ],
          "name": "stdout"
        }
      ]
    },
    {
      "cell_type": "code",
      "metadata": {
        "id": "HLPwPjZgdmN_",
        "colab_type": "code",
        "colab": {}
      },
      "source": [
        ""
      ],
      "execution_count": 0,
      "outputs": []
    },
    {
      "cell_type": "markdown",
      "metadata": {
        "id": "PKGdsOz9e4V8",
        "colab_type": "text"
      },
      "source": [
        "Seems overfit as accuracy can only be 100% in an ideal scenario"
      ]
    },
    {
      "cell_type": "code",
      "metadata": {
        "id": "WfvPkq88dnUD",
        "colab_type": "code",
        "outputId": "7268b2f3-df2f-4f60-c1a5-65783d4891c6",
        "colab": {
          "base_uri": "https://localhost:8080/",
          "height": 34
        }
      },
      "source": [
        "print(metrics.recall_score(y_test,y_pred_log))"
      ],
      "execution_count": 79,
      "outputs": [
        {
          "output_type": "stream",
          "text": [
            "1.0\n"
          ],
          "name": "stdout"
        }
      ]
    },
    {
      "cell_type": "markdown",
      "metadata": {
        "id": "2_i_w-xueNoq",
        "colab_type": "text"
      },
      "source": [
        "Manual NN: 0.839498806683.<br>\n",
        "TF Accuracy: 0.999403341289<br>\n",
        "Dense Neural Network:0.998 <br>\n",
        "SVM Accuracy: 0.994630071599<br>\n",
        "Log Regression Accuracy: 1.0<br>"
      ]
    }
  ]
}