{
  "nbformat": 4,
  "nbformat_minor": 0,
  "metadata": {
    "kernelspec": {
      "name": "python3",
      "display_name": "Python 3"
    },
    "language_info": {
      "codemirror_mode": {
        "name": "ipython",
        "version": 3
      },
      "file_extension": ".py",
      "mimetype": "text/x-python",
      "name": "python",
      "nbconvert_exporter": "python",
      "pygments_lexer": "ipython3",
      "version": "3.6.3"
    },
    "colab": {
      "name": "ML.ipynb",
      "provenance": []
    },
    "accelerator": "GPU"
  },
  "cells": [
    {
      "cell_type": "markdown",
      "metadata": {
        "id": "5AY_3ZiJ4sQn",
        "colab_type": "text"
      },
      "source": [
        "# Assignment\n",
        "\n",
        "This notebook includes \n",
        "\n",
        "- Task1: data exploration and analysis\n",
        "- Task2 using machine learning approach. I would love to apply econometrics and traditional stats.Perhaps later :)"
      ]
    },
    {
      "cell_type": "code",
      "metadata": {
        "id": "CwMztIw54sQq",
        "colab_type": "code",
        "colab": {}
      },
      "source": [
        "#support both Python 2 and Python 3 with minimal overhead.\n",
        "from __future__ import absolute_import, division, print_function"
      ],
      "execution_count": 0,
      "outputs": []
    },
    {
      "cell_type": "code",
      "metadata": {
        "id": "3CQvyWGm4sQv",
        "colab_type": "code",
        "colab": {}
      },
      "source": [
        "# Let's be rebels and ignore warnings for now\n",
        "import warnings\n",
        "warnings.filterwarnings('ignore')"
      ],
      "execution_count": 0,
      "outputs": []
    },
    {
      "cell_type": "code",
      "metadata": {
        "id": "j6mrIEwL4sQy",
        "colab_type": "code",
        "colab": {}
      },
      "source": [
        "import requests\n",
        "import pickle\n",
        "import numpy as np \n",
        "import pandas as pd "
      ],
      "execution_count": 0,
      "outputs": []
    },
    {
      "cell_type": "code",
      "metadata": {
        "id": "Jd1lvjk04sQ1",
        "colab_type": "code",
        "colab": {
          "base_uri": "https://localhost:8080/",
          "height": 34
        },
        "outputId": "25243328-2598-47a7-c618-fb6f532e83e2"
      },
      "source": [
        "#For Visuals\n",
        "import matplotlib.pyplot as plt\n",
        "import seaborn as sns\n",
        "sns.set()\n",
        "from matplotlib import rcParams\n",
        "rcParams['figure.figsize'] = 11, 8\n",
        "%config InlineBackend.figure_format = 'svg'\n",
        "%matplotlib inline\n",
        "%pylab inline"
      ],
      "execution_count": 4,
      "outputs": [
        {
          "output_type": "stream",
          "text": [
            "Populating the interactive namespace from numpy and matplotlib\n"
          ],
          "name": "stdout"
        }
      ]
    },
    {
      "cell_type": "code",
      "metadata": {
        "id": "f0f6D6844sQ5",
        "colab_type": "code",
        "colab": {}
      },
      "source": [
        "# For modeling building and tunning\n",
        "from sklearn.model_selection import train_test_split\n",
        "from sklearn.preprocessing import StandardScaler\n",
        "from sklearn.preprocessing import Imputer\n",
        "from sklearn.svm import SVC\n",
        "from sklearn.linear_model import LogisticRegression\n",
        "from sklearn.model_selection import KFold\n",
        "from sklearn.model_selection import cross_val_score\n",
        "from sklearn.naive_bayes import GaussianNB\n",
        "from sklearn.neighbors import KNeighborsClassifier\n",
        "from sklearn.tree import DecisionTreeClassifier\n",
        "from sklearn.ensemble import RandomForestClassifier"
      ],
      "execution_count": 0,
      "outputs": []
    },
    {
      "cell_type": "code",
      "metadata": {
        "id": "61I_aOqH4sQ8",
        "colab_type": "code",
        "colab": {}
      },
      "source": [
        "# for evaluation\n",
        "\n",
        "from sklearn.metrics import accuracy_score\n",
        "from sklearn.metrics import recall_score\n",
        "from sklearn.metrics import classification_report\n",
        "from sklearn.metrics import confusion_matrix"
      ],
      "execution_count": 0,
      "outputs": []
    },
    {
      "cell_type": "markdown",
      "metadata": {
        "id": "QBN2BIcy4sQ_",
        "colab_type": "text"
      },
      "source": [
        "# 2)-Loading data"
      ]
    },
    {
      "cell_type": "code",
      "metadata": {
        "id": "KMZJ-4RV4sQ_",
        "colab_type": "code",
        "colab": {
          "base_uri": "https://localhost:8080/",
          "height": 195
        },
        "outputId": "ff1f21a4-09e6-4edd-f965-ae6e0ec7711d"
      },
      "source": [
        "df = pd.read_csv('test_data.csv')\n",
        "df.head()"
      ],
      "execution_count": 7,
      "outputs": [
        {
          "output_type": "execute_result",
          "data": {
            "text/html": [
              "<div>\n",
              "<style scoped>\n",
              "    .dataframe tbody tr th:only-of-type {\n",
              "        vertical-align: middle;\n",
              "    }\n",
              "\n",
              "    .dataframe tbody tr th {\n",
              "        vertical-align: top;\n",
              "    }\n",
              "\n",
              "    .dataframe thead th {\n",
              "        text-align: right;\n",
              "    }\n",
              "</style>\n",
              "<table border=\"1\" class=\"dataframe\">\n",
              "  <thead>\n",
              "    <tr style=\"text-align: right;\">\n",
              "      <th></th>\n",
              "      <th>dul</th>\n",
              "      <th>fresh_weight_plug</th>\n",
              "      <th>leaf_length</th>\n",
              "      <th>led_type_id</th>\n",
              "      <th>light_distribution_id</th>\n",
              "      <th>marketable</th>\n",
              "      <th>nutrients_id</th>\n",
              "      <th>plant_id</th>\n",
              "      <th>plug_density_m2</th>\n",
              "      <th>substrate_id</th>\n",
              "    </tr>\n",
              "  </thead>\n",
              "  <tbody>\n",
              "    <tr>\n",
              "      <th>0</th>\n",
              "      <td>14</td>\n",
              "      <td>NaN</td>\n",
              "      <td>21.3</td>\n",
              "      <td>7</td>\n",
              "      <td>130.0</td>\n",
              "      <td>0.0</td>\n",
              "      <td>2</td>\n",
              "      <td>1</td>\n",
              "      <td>624</td>\n",
              "      <td>2</td>\n",
              "    </tr>\n",
              "    <tr>\n",
              "      <th>1</th>\n",
              "      <td>14</td>\n",
              "      <td>6.33</td>\n",
              "      <td>NaN</td>\n",
              "      <td>7</td>\n",
              "      <td>130.0</td>\n",
              "      <td>1.0</td>\n",
              "      <td>2</td>\n",
              "      <td>1</td>\n",
              "      <td>624</td>\n",
              "      <td>2</td>\n",
              "    </tr>\n",
              "    <tr>\n",
              "      <th>2</th>\n",
              "      <td>14</td>\n",
              "      <td>6.32</td>\n",
              "      <td>20.7</td>\n",
              "      <td>7</td>\n",
              "      <td>130.0</td>\n",
              "      <td>1.0</td>\n",
              "      <td>2</td>\n",
              "      <td>1</td>\n",
              "      <td>624</td>\n",
              "      <td>2</td>\n",
              "    </tr>\n",
              "    <tr>\n",
              "      <th>3</th>\n",
              "      <td>14</td>\n",
              "      <td>5.92</td>\n",
              "      <td>20.2</td>\n",
              "      <td>7</td>\n",
              "      <td>130.0</td>\n",
              "      <td>0.0</td>\n",
              "      <td>2</td>\n",
              "      <td>1</td>\n",
              "      <td>624</td>\n",
              "      <td>2</td>\n",
              "    </tr>\n",
              "    <tr>\n",
              "      <th>4</th>\n",
              "      <td>14</td>\n",
              "      <td>6.13</td>\n",
              "      <td>20.4</td>\n",
              "      <td>7</td>\n",
              "      <td>130.0</td>\n",
              "      <td>1.0</td>\n",
              "      <td>2</td>\n",
              "      <td>1</td>\n",
              "      <td>624</td>\n",
              "      <td>2</td>\n",
              "    </tr>\n",
              "  </tbody>\n",
              "</table>\n",
              "</div>"
            ],
            "text/plain": [
              "   dul  fresh_weight_plug  leaf_length  ...  plant_id  plug_density_m2  substrate_id\n",
              "0   14                NaN         21.3  ...         1              624             2\n",
              "1   14               6.33          NaN  ...         1              624             2\n",
              "2   14               6.32         20.7  ...         1              624             2\n",
              "3   14               5.92         20.2  ...         1              624             2\n",
              "4   14               6.13         20.4  ...         1              624             2\n",
              "\n",
              "[5 rows x 10 columns]"
            ]
          },
          "metadata": {
            "tags": []
          },
          "execution_count": 7
        }
      ]
    },
    {
      "cell_type": "code",
      "metadata": {
        "id": "2X5XhQ7B4sRC",
        "colab_type": "code",
        "colab": {
          "base_uri": "https://localhost:8080/",
          "height": 34
        },
        "outputId": "6421b038-7f53-40d7-ee94-936e72b7e506"
      },
      "source": [
        "df.shape"
      ],
      "execution_count": 8,
      "outputs": [
        {
          "output_type": "execute_result",
          "data": {
            "text/plain": [
              "(1784, 10)"
            ]
          },
          "metadata": {
            "tags": []
          },
          "execution_count": 8
        }
      ]
    },
    {
      "cell_type": "markdown",
      "metadata": {
        "id": "1nOtijFp4sRE",
        "colab_type": "text"
      },
      "source": [
        "# 3)- Exploring data\n",
        "\n",
        "- Task1: data exploration and analysis"
      ]
    },
    {
      "cell_type": "markdown",
      "metadata": {
        "id": "X970K8824sRE",
        "colab_type": "text"
      },
      "source": [
        "### 3.1)- Data type"
      ]
    },
    {
      "cell_type": "code",
      "metadata": {
        "id": "JGZbnXZU4sRF",
        "colab_type": "code",
        "colab": {
          "base_uri": "https://localhost:8080/",
          "height": 343
        },
        "outputId": "436879e6-4b08-4b0c-cf04-3fef92a2c8ff"
      },
      "source": [
        "# Checking all variables with their data-type\n",
        "def _tbl_dtype(dataset):\n",
        "    sum_dtype = pd.DataFrame(dataset.dtypes).sort_values(0).rename(columns = {0:'Data Type'})\n",
        "    return sum_dtype\n",
        "\n",
        "table_dtype = _tbl_dtype(df)\n",
        "table_dtype"
      ],
      "execution_count": 9,
      "outputs": [
        {
          "output_type": "execute_result",
          "data": {
            "text/html": [
              "<div>\n",
              "<style scoped>\n",
              "    .dataframe tbody tr th:only-of-type {\n",
              "        vertical-align: middle;\n",
              "    }\n",
              "\n",
              "    .dataframe tbody tr th {\n",
              "        vertical-align: top;\n",
              "    }\n",
              "\n",
              "    .dataframe thead th {\n",
              "        text-align: right;\n",
              "    }\n",
              "</style>\n",
              "<table border=\"1\" class=\"dataframe\">\n",
              "  <thead>\n",
              "    <tr style=\"text-align: right;\">\n",
              "      <th></th>\n",
              "      <th>Data Type</th>\n",
              "    </tr>\n",
              "  </thead>\n",
              "  <tbody>\n",
              "    <tr>\n",
              "      <th>dul</th>\n",
              "      <td>int64</td>\n",
              "    </tr>\n",
              "    <tr>\n",
              "      <th>led_type_id</th>\n",
              "      <td>int64</td>\n",
              "    </tr>\n",
              "    <tr>\n",
              "      <th>nutrients_id</th>\n",
              "      <td>int64</td>\n",
              "    </tr>\n",
              "    <tr>\n",
              "      <th>plant_id</th>\n",
              "      <td>int64</td>\n",
              "    </tr>\n",
              "    <tr>\n",
              "      <th>plug_density_m2</th>\n",
              "      <td>int64</td>\n",
              "    </tr>\n",
              "    <tr>\n",
              "      <th>substrate_id</th>\n",
              "      <td>int64</td>\n",
              "    </tr>\n",
              "    <tr>\n",
              "      <th>fresh_weight_plug</th>\n",
              "      <td>float64</td>\n",
              "    </tr>\n",
              "    <tr>\n",
              "      <th>leaf_length</th>\n",
              "      <td>float64</td>\n",
              "    </tr>\n",
              "    <tr>\n",
              "      <th>light_distribution_id</th>\n",
              "      <td>float64</td>\n",
              "    </tr>\n",
              "    <tr>\n",
              "      <th>marketable</th>\n",
              "      <td>float64</td>\n",
              "    </tr>\n",
              "  </tbody>\n",
              "</table>\n",
              "</div>"
            ],
            "text/plain": [
              "                      Data Type\n",
              "dul                       int64\n",
              "led_type_id               int64\n",
              "nutrients_id              int64\n",
              "plant_id                  int64\n",
              "plug_density_m2           int64\n",
              "substrate_id              int64\n",
              "fresh_weight_plug       float64\n",
              "leaf_length             float64\n",
              "light_distribution_id   float64\n",
              "marketable              float64"
            ]
          },
          "metadata": {
            "tags": []
          },
          "execution_count": 9
        }
      ]
    },
    {
      "cell_type": "markdown",
      "metadata": {
        "id": "5q5JrCdY4sRH",
        "colab_type": "text"
      },
      "source": [
        "### 3.2)-Checking categorical variables"
      ]
    },
    {
      "cell_type": "code",
      "metadata": {
        "id": "uCXMDTNw4sRI",
        "colab_type": "code",
        "colab": {
          "base_uri": "https://localhost:8080/",
          "height": 34
        },
        "outputId": "d23742f1-288c-4db3-8bbb-ffe337d2e61f"
      },
      "source": [
        "# Checking unique categorical variables\n",
        "df.select_dtypes('object').apply(pd.Series.nunique, axis = 0)"
      ],
      "execution_count": 10,
      "outputs": [
        {
          "output_type": "execute_result",
          "data": {
            "text/plain": [
              "Series([], dtype: float64)"
            ]
          },
          "metadata": {
            "tags": []
          },
          "execution_count": 10
        }
      ]
    },
    {
      "cell_type": "markdown",
      "metadata": {
        "id": "GtuTL4DB4sRK",
        "colab_type": "text"
      },
      "source": [
        "There is none marked as categorical varible. I was hoping \"marketable\" but, it is already converted to numerical values. Still we cannot assume it to be a numerical variable. As 1 is not greater than 0."
      ]
    },
    {
      "cell_type": "markdown",
      "metadata": {
        "id": "vtUAxt0o4sRL",
        "colab_type": "text"
      },
      "source": [
        "### 3.3)-Data Description"
      ]
    },
    {
      "cell_type": "code",
      "metadata": {
        "id": "KNyUeqSs4sRL",
        "colab_type": "code",
        "colab": {
          "base_uri": "https://localhost:8080/",
          "height": 284
        },
        "outputId": "159fa6d2-0636-4e6e-afb6-ae3fadd85d6e"
      },
      "source": [
        "df.describe()"
      ],
      "execution_count": 11,
      "outputs": [
        {
          "output_type": "execute_result",
          "data": {
            "text/html": [
              "<div>\n",
              "<style scoped>\n",
              "    .dataframe tbody tr th:only-of-type {\n",
              "        vertical-align: middle;\n",
              "    }\n",
              "\n",
              "    .dataframe tbody tr th {\n",
              "        vertical-align: top;\n",
              "    }\n",
              "\n",
              "    .dataframe thead th {\n",
              "        text-align: right;\n",
              "    }\n",
              "</style>\n",
              "<table border=\"1\" class=\"dataframe\">\n",
              "  <thead>\n",
              "    <tr style=\"text-align: right;\">\n",
              "      <th></th>\n",
              "      <th>dul</th>\n",
              "      <th>fresh_weight_plug</th>\n",
              "      <th>leaf_length</th>\n",
              "      <th>led_type_id</th>\n",
              "      <th>light_distribution_id</th>\n",
              "      <th>marketable</th>\n",
              "      <th>nutrients_id</th>\n",
              "      <th>plant_id</th>\n",
              "      <th>plug_density_m2</th>\n",
              "      <th>substrate_id</th>\n",
              "    </tr>\n",
              "  </thead>\n",
              "  <tbody>\n",
              "    <tr>\n",
              "      <th>count</th>\n",
              "      <td>1784.000000</td>\n",
              "      <td>1596.000000</td>\n",
              "      <td>1426.000000</td>\n",
              "      <td>1784.000000</td>\n",
              "      <td>1687.000000</td>\n",
              "      <td>1784.000000</td>\n",
              "      <td>1784.000000</td>\n",
              "      <td>1784.000000</td>\n",
              "      <td>1784.000000</td>\n",
              "      <td>1784.000000</td>\n",
              "    </tr>\n",
              "    <tr>\n",
              "      <th>mean</th>\n",
              "      <td>18.784753</td>\n",
              "      <td>6.895294</td>\n",
              "      <td>19.058282</td>\n",
              "      <td>1.512892</td>\n",
              "      <td>192.193242</td>\n",
              "      <td>0.700673</td>\n",
              "      <td>2.818386</td>\n",
              "      <td>1.994395</td>\n",
              "      <td>791.690583</td>\n",
              "      <td>9.950673</td>\n",
              "    </tr>\n",
              "    <tr>\n",
              "      <th>std</th>\n",
              "      <td>2.834898</td>\n",
              "      <td>1.149987</td>\n",
              "      <td>2.839304</td>\n",
              "      <td>1.756919</td>\n",
              "      <td>32.994886</td>\n",
              "      <td>0.458092</td>\n",
              "      <td>0.385634</td>\n",
              "      <td>0.815561</td>\n",
              "      <td>132.569002</td>\n",
              "      <td>4.756296</td>\n",
              "    </tr>\n",
              "    <tr>\n",
              "      <th>min</th>\n",
              "      <td>14.000000</td>\n",
              "      <td>5.000000</td>\n",
              "      <td>10.000000</td>\n",
              "      <td>1.000000</td>\n",
              "      <td>130.000000</td>\n",
              "      <td>0.000000</td>\n",
              "      <td>2.000000</td>\n",
              "      <td>1.000000</td>\n",
              "      <td>624.000000</td>\n",
              "      <td>2.000000</td>\n",
              "    </tr>\n",
              "    <tr>\n",
              "      <th>25%</th>\n",
              "      <td>16.750000</td>\n",
              "      <td>6.077500</td>\n",
              "      <td>17.000000</td>\n",
              "      <td>1.000000</td>\n",
              "      <td>170.000000</td>\n",
              "      <td>0.000000</td>\n",
              "      <td>3.000000</td>\n",
              "      <td>1.000000</td>\n",
              "      <td>633.000000</td>\n",
              "      <td>4.000000</td>\n",
              "    </tr>\n",
              "    <tr>\n",
              "      <th>50%</th>\n",
              "      <td>18.000000</td>\n",
              "      <td>6.580000</td>\n",
              "      <td>18.400000</td>\n",
              "      <td>1.000000</td>\n",
              "      <td>170.000000</td>\n",
              "      <td>1.000000</td>\n",
              "      <td>3.000000</td>\n",
              "      <td>2.000000</td>\n",
              "      <td>849.000000</td>\n",
              "      <td>13.000000</td>\n",
              "    </tr>\n",
              "    <tr>\n",
              "      <th>75%</th>\n",
              "      <td>20.000000</td>\n",
              "      <td>7.380000</td>\n",
              "      <td>20.400000</td>\n",
              "      <td>1.000000</td>\n",
              "      <td>230.000000</td>\n",
              "      <td>1.000000</td>\n",
              "      <td>3.000000</td>\n",
              "      <td>3.000000</td>\n",
              "      <td>849.000000</td>\n",
              "      <td>13.000000</td>\n",
              "    </tr>\n",
              "    <tr>\n",
              "      <th>max</th>\n",
              "      <td>24.000000</td>\n",
              "      <td>13.760000</td>\n",
              "      <td>29.200000</td>\n",
              "      <td>8.000000</td>\n",
              "      <td>230.000000</td>\n",
              "      <td>1.000000</td>\n",
              "      <td>3.000000</td>\n",
              "      <td>3.000000</td>\n",
              "      <td>1050.000000</td>\n",
              "      <td>13.000000</td>\n",
              "    </tr>\n",
              "  </tbody>\n",
              "</table>\n",
              "</div>"
            ],
            "text/plain": [
              "               dul  fresh_weight_plug  ...  plug_density_m2  substrate_id\n",
              "count  1784.000000        1596.000000  ...      1784.000000   1784.000000\n",
              "mean     18.784753           6.895294  ...       791.690583      9.950673\n",
              "std       2.834898           1.149987  ...       132.569002      4.756296\n",
              "min      14.000000           5.000000  ...       624.000000      2.000000\n",
              "25%      16.750000           6.077500  ...       633.000000      4.000000\n",
              "50%      18.000000           6.580000  ...       849.000000     13.000000\n",
              "75%      20.000000           7.380000  ...       849.000000     13.000000\n",
              "max      24.000000          13.760000  ...      1050.000000     13.000000\n",
              "\n",
              "[8 rows x 10 columns]"
            ]
          },
          "metadata": {
            "tags": []
          },
          "execution_count": 11
        }
      ]
    },
    {
      "cell_type": "markdown",
      "metadata": {
        "id": "TaUwuAyw4sRO",
        "colab_type": "text"
      },
      "source": [
        "It shows max and min values. There we can see mean values and we can find that some values have very high distribution considering their mean value and standard dev."
      ]
    },
    {
      "cell_type": "markdown",
      "metadata": {
        "id": "qvZnS_W84sRO",
        "colab_type": "text"
      },
      "source": [
        "### 3.4)-Sorting"
      ]
    },
    {
      "cell_type": "code",
      "metadata": {
        "id": "yEN1M1gW4sRP",
        "colab_type": "code",
        "colab": {
          "base_uri": "https://localhost:8080/",
          "height": 195
        },
        "outputId": "b920cb14-3eff-45c3-f3ee-839caee4221e"
      },
      "source": [
        "df.sort_values(by='leaf_length', ascending=False).head()"
      ],
      "execution_count": 12,
      "outputs": [
        {
          "output_type": "execute_result",
          "data": {
            "text/html": [
              "<div>\n",
              "<style scoped>\n",
              "    .dataframe tbody tr th:only-of-type {\n",
              "        vertical-align: middle;\n",
              "    }\n",
              "\n",
              "    .dataframe tbody tr th {\n",
              "        vertical-align: top;\n",
              "    }\n",
              "\n",
              "    .dataframe thead th {\n",
              "        text-align: right;\n",
              "    }\n",
              "</style>\n",
              "<table border=\"1\" class=\"dataframe\">\n",
              "  <thead>\n",
              "    <tr style=\"text-align: right;\">\n",
              "      <th></th>\n",
              "      <th>dul</th>\n",
              "      <th>fresh_weight_plug</th>\n",
              "      <th>leaf_length</th>\n",
              "      <th>led_type_id</th>\n",
              "      <th>light_distribution_id</th>\n",
              "      <th>marketable</th>\n",
              "      <th>nutrients_id</th>\n",
              "      <th>plant_id</th>\n",
              "      <th>plug_density_m2</th>\n",
              "      <th>substrate_id</th>\n",
              "    </tr>\n",
              "  </thead>\n",
              "  <tbody>\n",
              "    <tr>\n",
              "      <th>496</th>\n",
              "      <td>20</td>\n",
              "      <td>8.30</td>\n",
              "      <td>29.2</td>\n",
              "      <td>8</td>\n",
              "      <td>170.0</td>\n",
              "      <td>0.0</td>\n",
              "      <td>3</td>\n",
              "      <td>1</td>\n",
              "      <td>624</td>\n",
              "      <td>2</td>\n",
              "    </tr>\n",
              "    <tr>\n",
              "      <th>223</th>\n",
              "      <td>19</td>\n",
              "      <td>10.96</td>\n",
              "      <td>28.6</td>\n",
              "      <td>7</td>\n",
              "      <td>130.0</td>\n",
              "      <td>1.0</td>\n",
              "      <td>2</td>\n",
              "      <td>2</td>\n",
              "      <td>624</td>\n",
              "      <td>2</td>\n",
              "    </tr>\n",
              "    <tr>\n",
              "      <th>514</th>\n",
              "      <td>20</td>\n",
              "      <td>9.62</td>\n",
              "      <td>28.5</td>\n",
              "      <td>1</td>\n",
              "      <td>170.0</td>\n",
              "      <td>0.0</td>\n",
              "      <td>3</td>\n",
              "      <td>2</td>\n",
              "      <td>624</td>\n",
              "      <td>2</td>\n",
              "    </tr>\n",
              "    <tr>\n",
              "      <th>502</th>\n",
              "      <td>20</td>\n",
              "      <td>8.11</td>\n",
              "      <td>28.5</td>\n",
              "      <td>8</td>\n",
              "      <td>170.0</td>\n",
              "      <td>0.0</td>\n",
              "      <td>3</td>\n",
              "      <td>1</td>\n",
              "      <td>624</td>\n",
              "      <td>2</td>\n",
              "    </tr>\n",
              "    <tr>\n",
              "      <th>245</th>\n",
              "      <td>19</td>\n",
              "      <td>NaN</td>\n",
              "      <td>28.4</td>\n",
              "      <td>1</td>\n",
              "      <td>230.0</td>\n",
              "      <td>1.0</td>\n",
              "      <td>2</td>\n",
              "      <td>1</td>\n",
              "      <td>624</td>\n",
              "      <td>2</td>\n",
              "    </tr>\n",
              "  </tbody>\n",
              "</table>\n",
              "</div>"
            ],
            "text/plain": [
              "     dul  fresh_weight_plug  ...  plug_density_m2  substrate_id\n",
              "496   20               8.30  ...              624             2\n",
              "223   19              10.96  ...              624             2\n",
              "514   20               9.62  ...              624             2\n",
              "502   20               8.11  ...              624             2\n",
              "245   19                NaN  ...              624             2\n",
              "\n",
              "[5 rows x 10 columns]"
            ]
          },
          "metadata": {
            "tags": []
          },
          "execution_count": 12
        }
      ]
    },
    {
      "cell_type": "code",
      "metadata": {
        "id": "JAt4WGaM4sRR",
        "colab_type": "code",
        "colab": {
          "base_uri": "https://localhost:8080/",
          "height": 195
        },
        "outputId": "c9c86bd2-8bce-496f-8889-7bc613aedb57"
      },
      "source": [
        "df.sort_values(by=['leaf_length', 'plant_id'], ascending=[True, False]).head()"
      ],
      "execution_count": 13,
      "outputs": [
        {
          "output_type": "execute_result",
          "data": {
            "text/html": [
              "<div>\n",
              "<style scoped>\n",
              "    .dataframe tbody tr th:only-of-type {\n",
              "        vertical-align: middle;\n",
              "    }\n",
              "\n",
              "    .dataframe tbody tr th {\n",
              "        vertical-align: top;\n",
              "    }\n",
              "\n",
              "    .dataframe thead th {\n",
              "        text-align: right;\n",
              "    }\n",
              "</style>\n",
              "<table border=\"1\" class=\"dataframe\">\n",
              "  <thead>\n",
              "    <tr style=\"text-align: right;\">\n",
              "      <th></th>\n",
              "      <th>dul</th>\n",
              "      <th>fresh_weight_plug</th>\n",
              "      <th>leaf_length</th>\n",
              "      <th>led_type_id</th>\n",
              "      <th>light_distribution_id</th>\n",
              "      <th>marketable</th>\n",
              "      <th>nutrients_id</th>\n",
              "      <th>plant_id</th>\n",
              "      <th>plug_density_m2</th>\n",
              "      <th>substrate_id</th>\n",
              "    </tr>\n",
              "  </thead>\n",
              "  <tbody>\n",
              "    <tr>\n",
              "      <th>227</th>\n",
              "      <td>19</td>\n",
              "      <td>5.00</td>\n",
              "      <td>10.0</td>\n",
              "      <td>7</td>\n",
              "      <td>130.0</td>\n",
              "      <td>1.0</td>\n",
              "      <td>2</td>\n",
              "      <td>2</td>\n",
              "      <td>624</td>\n",
              "      <td>2</td>\n",
              "    </tr>\n",
              "    <tr>\n",
              "      <th>787</th>\n",
              "      <td>17</td>\n",
              "      <td>5.82</td>\n",
              "      <td>14.6</td>\n",
              "      <td>1</td>\n",
              "      <td>230.0</td>\n",
              "      <td>0.0</td>\n",
              "      <td>3</td>\n",
              "      <td>3</td>\n",
              "      <td>947</td>\n",
              "      <td>13</td>\n",
              "    </tr>\n",
              "    <tr>\n",
              "      <th>598</th>\n",
              "      <td>16</td>\n",
              "      <td>5.63</td>\n",
              "      <td>14.8</td>\n",
              "      <td>1</td>\n",
              "      <td>230.0</td>\n",
              "      <td>0.0</td>\n",
              "      <td>3</td>\n",
              "      <td>3</td>\n",
              "      <td>849</td>\n",
              "      <td>13</td>\n",
              "    </tr>\n",
              "    <tr>\n",
              "      <th>789</th>\n",
              "      <td>17</td>\n",
              "      <td>5.74</td>\n",
              "      <td>14.8</td>\n",
              "      <td>1</td>\n",
              "      <td>230.0</td>\n",
              "      <td>0.0</td>\n",
              "      <td>3</td>\n",
              "      <td>3</td>\n",
              "      <td>947</td>\n",
              "      <td>13</td>\n",
              "    </tr>\n",
              "    <tr>\n",
              "      <th>785</th>\n",
              "      <td>17</td>\n",
              "      <td>5.88</td>\n",
              "      <td>14.9</td>\n",
              "      <td>1</td>\n",
              "      <td>NaN</td>\n",
              "      <td>0.0</td>\n",
              "      <td>3</td>\n",
              "      <td>3</td>\n",
              "      <td>947</td>\n",
              "      <td>13</td>\n",
              "    </tr>\n",
              "  </tbody>\n",
              "</table>\n",
              "</div>"
            ],
            "text/plain": [
              "     dul  fresh_weight_plug  ...  plug_density_m2  substrate_id\n",
              "227   19               5.00  ...              624             2\n",
              "787   17               5.82  ...              947            13\n",
              "598   16               5.63  ...              849            13\n",
              "789   17               5.74  ...              947            13\n",
              "785   17               5.88  ...              947            13\n",
              "\n",
              "[5 rows x 10 columns]"
            ]
          },
          "metadata": {
            "tags": []
          },
          "execution_count": 13
        }
      ]
    },
    {
      "cell_type": "code",
      "metadata": {
        "id": "PoHLKyL24sRT",
        "colab_type": "code",
        "colab": {
          "base_uri": "https://localhost:8080/",
          "height": 195
        },
        "outputId": "769370bc-55e0-4322-c86a-c6f264400682"
      },
      "source": [
        "df.sort_values(by=['leaf_length','marketable'], ascending=[True, False]).head()"
      ],
      "execution_count": 14,
      "outputs": [
        {
          "output_type": "execute_result",
          "data": {
            "text/html": [
              "<div>\n",
              "<style scoped>\n",
              "    .dataframe tbody tr th:only-of-type {\n",
              "        vertical-align: middle;\n",
              "    }\n",
              "\n",
              "    .dataframe tbody tr th {\n",
              "        vertical-align: top;\n",
              "    }\n",
              "\n",
              "    .dataframe thead th {\n",
              "        text-align: right;\n",
              "    }\n",
              "</style>\n",
              "<table border=\"1\" class=\"dataframe\">\n",
              "  <thead>\n",
              "    <tr style=\"text-align: right;\">\n",
              "      <th></th>\n",
              "      <th>dul</th>\n",
              "      <th>fresh_weight_plug</th>\n",
              "      <th>leaf_length</th>\n",
              "      <th>led_type_id</th>\n",
              "      <th>light_distribution_id</th>\n",
              "      <th>marketable</th>\n",
              "      <th>nutrients_id</th>\n",
              "      <th>plant_id</th>\n",
              "      <th>plug_density_m2</th>\n",
              "      <th>substrate_id</th>\n",
              "    </tr>\n",
              "  </thead>\n",
              "  <tbody>\n",
              "    <tr>\n",
              "      <th>227</th>\n",
              "      <td>19</td>\n",
              "      <td>5.00</td>\n",
              "      <td>10.0</td>\n",
              "      <td>7</td>\n",
              "      <td>130.0</td>\n",
              "      <td>1.0</td>\n",
              "      <td>2</td>\n",
              "      <td>2</td>\n",
              "      <td>624</td>\n",
              "      <td>2</td>\n",
              "    </tr>\n",
              "    <tr>\n",
              "      <th>787</th>\n",
              "      <td>17</td>\n",
              "      <td>5.82</td>\n",
              "      <td>14.6</td>\n",
              "      <td>1</td>\n",
              "      <td>230.0</td>\n",
              "      <td>0.0</td>\n",
              "      <td>3</td>\n",
              "      <td>3</td>\n",
              "      <td>947</td>\n",
              "      <td>13</td>\n",
              "    </tr>\n",
              "    <tr>\n",
              "      <th>598</th>\n",
              "      <td>16</td>\n",
              "      <td>5.63</td>\n",
              "      <td>14.8</td>\n",
              "      <td>1</td>\n",
              "      <td>230.0</td>\n",
              "      <td>0.0</td>\n",
              "      <td>3</td>\n",
              "      <td>3</td>\n",
              "      <td>849</td>\n",
              "      <td>13</td>\n",
              "    </tr>\n",
              "    <tr>\n",
              "      <th>789</th>\n",
              "      <td>17</td>\n",
              "      <td>5.74</td>\n",
              "      <td>14.8</td>\n",
              "      <td>1</td>\n",
              "      <td>230.0</td>\n",
              "      <td>0.0</td>\n",
              "      <td>3</td>\n",
              "      <td>3</td>\n",
              "      <td>947</td>\n",
              "      <td>13</td>\n",
              "    </tr>\n",
              "    <tr>\n",
              "      <th>785</th>\n",
              "      <td>17</td>\n",
              "      <td>5.88</td>\n",
              "      <td>14.9</td>\n",
              "      <td>1</td>\n",
              "      <td>NaN</td>\n",
              "      <td>0.0</td>\n",
              "      <td>3</td>\n",
              "      <td>3</td>\n",
              "      <td>947</td>\n",
              "      <td>13</td>\n",
              "    </tr>\n",
              "  </tbody>\n",
              "</table>\n",
              "</div>"
            ],
            "text/plain": [
              "     dul  fresh_weight_plug  ...  plug_density_m2  substrate_id\n",
              "227   19               5.00  ...              624             2\n",
              "787   17               5.82  ...              947            13\n",
              "598   16               5.63  ...              849            13\n",
              "789   17               5.74  ...              947            13\n",
              "785   17               5.88  ...              947            13\n",
              "\n",
              "[5 rows x 10 columns]"
            ]
          },
          "metadata": {
            "tags": []
          },
          "execution_count": 14
        }
      ]
    },
    {
      "cell_type": "markdown",
      "metadata": {
        "id": "YwOmwuMh4sRV",
        "colab_type": "text"
      },
      "source": [
        "### 3.5)- Correlation"
      ]
    },
    {
      "cell_type": "code",
      "metadata": {
        "id": "BHnfE5uj4sRW",
        "colab_type": "code",
        "colab": {}
      },
      "source": [
        "data_corrs = df.corr()"
      ],
      "execution_count": 0,
      "outputs": []
    },
    {
      "cell_type": "code",
      "metadata": {
        "id": "WcQ3wGWN4sRY",
        "colab_type": "code",
        "colab": {
          "base_uri": "https://localhost:8080/",
          "height": 652
        },
        "outputId": "5b00ace4-e20b-4c2e-dcea-6b688c2c50bf"
      },
      "source": [
        "plt.figure(figsize = (8, 6))\n",
        "\n",
        "# Heatmap of correlations\n",
        "sns.heatmap(data_corrs, cmap = plt.cm.RdYlBu_r, vmin = -0.25, annot = True, vmax = 0.6)\n",
        "plt.title('Correlation Heatmap');"
      ],
      "execution_count": 16,
      "outputs": [
        {
          "output_type": "display_data",
          "data": {
            "text/plain": [
              "<Figure size 576x432 with 2 Axes>"
            ],
            "image/svg+xml": "<?xml version=\"1.0\" encoding=\"utf-8\" standalone=\"no\"?>\n<!DOCTYPE svg PUBLIC \"-//W3C//DTD SVG 1.1//EN\"\n  \"http://www.w3.org/Graphics/SVG/1.1/DTD/svg11.dtd\">\n<!-- Created with matplotlib (https://matplotlib.org/) -->\n<svg height=\"473.280625pt\" version=\"1.1\" viewBox=\"0 0 570.960344 473.280625\" width=\"570.960344pt\" xmlns=\"http://www.w3.org/2000/svg\" xmlns:xlink=\"http://www.w3.org/1999/xlink\">\n <defs>\n  <style type=\"text/css\">\n*{stroke-linecap:butt;stroke-linejoin:round;}\n  </style>\n </defs>\n <g id=\"figure_1\">\n  <g id=\"patch_1\">\n   <path d=\"M 0 473.280625 \nL 570.960344 473.280625 \nL 570.960344 0 \nL 0 0 \nz\n\" style=\"fill:none;\"/>\n  </g>\n  <g id=\"axes_1\">\n   <g id=\"patch_2\">\n    <path d=\"M 124.8025 348.478125 \nL 481.9225 348.478125 \nL 481.9225 22.318125 \nL 124.8025 22.318125 \nz\n\" style=\"fill:#eaeaf2;\"/>\n   </g>\n   <g id=\"matplotlib.axis_1\">\n    <g id=\"xtick_1\">\n     <g id=\"text_1\">\n      <!-- dul -->\n      <defs>\n       <path d=\"M 45.40625 46.390625 \nL 45.40625 75.984375 \nL 54.390625 75.984375 \nL 54.390625 0 \nL 45.40625 0 \nL 45.40625 8.203125 \nQ 42.578125 3.328125 38.25 0.953125 \nQ 33.9375 -1.421875 27.875 -1.421875 \nQ 17.96875 -1.421875 11.734375 6.484375 \nQ 5.515625 14.40625 5.515625 27.296875 \nQ 5.515625 40.1875 11.734375 48.09375 \nQ 17.96875 56 27.875 56 \nQ 33.9375 56 38.25 53.625 \nQ 42.578125 51.265625 45.40625 46.390625 \nz\nM 14.796875 27.296875 \nQ 14.796875 17.390625 18.875 11.75 \nQ 22.953125 6.109375 30.078125 6.109375 \nQ 37.203125 6.109375 41.296875 11.75 \nQ 45.40625 17.390625 45.40625 27.296875 \nQ 45.40625 37.203125 41.296875 42.84375 \nQ 37.203125 48.484375 30.078125 48.484375 \nQ 22.953125 48.484375 18.875 42.84375 \nQ 14.796875 37.203125 14.796875 27.296875 \nz\n\" id=\"DejaVuSans-100\"/>\n       <path d=\"M 8.5 21.578125 \nL 8.5 54.6875 \nL 17.484375 54.6875 \nL 17.484375 21.921875 \nQ 17.484375 14.15625 20.5 10.265625 \nQ 23.53125 6.390625 29.59375 6.390625 \nQ 36.859375 6.390625 41.078125 11.03125 \nQ 45.3125 15.671875 45.3125 23.6875 \nL 45.3125 54.6875 \nL 54.296875 54.6875 \nL 54.296875 0 \nL 45.3125 0 \nL 45.3125 8.40625 \nQ 42.046875 3.421875 37.71875 1 \nQ 33.40625 -1.421875 27.6875 -1.421875 \nQ 18.265625 -1.421875 13.375 4.4375 \nQ 8.5 10.296875 8.5 21.578125 \nz\nM 31.109375 56 \nz\n\" id=\"DejaVuSans-117\"/>\n       <path d=\"M 9.421875 75.984375 \nL 18.40625 75.984375 \nL 18.40625 0 \nL 9.421875 0 \nz\n\" id=\"DejaVuSans-108\"/>\n      </defs>\n      <g style=\"fill:#262626;\" transform=\"translate(145.693813 374.988594)rotate(-90)scale(0.11 -0.11)\">\n       <use xlink:href=\"#DejaVuSans-100\"/>\n       <use x=\"63.476562\" xlink:href=\"#DejaVuSans-117\"/>\n       <use x=\"126.855469\" xlink:href=\"#DejaVuSans-108\"/>\n      </g>\n     </g>\n    </g>\n    <g id=\"xtick_2\">\n     <g id=\"text_2\">\n      <!-- fresh_weight_plug -->\n      <defs>\n       <path d=\"M 37.109375 75.984375 \nL 37.109375 68.5 \nL 28.515625 68.5 \nQ 23.6875 68.5 21.796875 66.546875 \nQ 19.921875 64.59375 19.921875 59.515625 \nL 19.921875 54.6875 \nL 34.71875 54.6875 \nL 34.71875 47.703125 \nL 19.921875 47.703125 \nL 19.921875 0 \nL 10.890625 0 \nL 10.890625 47.703125 \nL 2.296875 47.703125 \nL 2.296875 54.6875 \nL 10.890625 54.6875 \nL 10.890625 58.5 \nQ 10.890625 67.625 15.140625 71.796875 \nQ 19.390625 75.984375 28.609375 75.984375 \nz\n\" id=\"DejaVuSans-102\"/>\n       <path d=\"M 41.109375 46.296875 \nQ 39.59375 47.171875 37.8125 47.578125 \nQ 36.03125 48 33.890625 48 \nQ 26.265625 48 22.1875 43.046875 \nQ 18.109375 38.09375 18.109375 28.8125 \nL 18.109375 0 \nL 9.078125 0 \nL 9.078125 54.6875 \nL 18.109375 54.6875 \nL 18.109375 46.1875 \nQ 20.953125 51.171875 25.484375 53.578125 \nQ 30.03125 56 36.53125 56 \nQ 37.453125 56 38.578125 55.875 \nQ 39.703125 55.765625 41.0625 55.515625 \nz\n\" id=\"DejaVuSans-114\"/>\n       <path d=\"M 56.203125 29.59375 \nL 56.203125 25.203125 \nL 14.890625 25.203125 \nQ 15.484375 15.921875 20.484375 11.0625 \nQ 25.484375 6.203125 34.421875 6.203125 \nQ 39.59375 6.203125 44.453125 7.46875 \nQ 49.3125 8.734375 54.109375 11.28125 \nL 54.109375 2.78125 \nQ 49.265625 0.734375 44.1875 -0.34375 \nQ 39.109375 -1.421875 33.890625 -1.421875 \nQ 20.796875 -1.421875 13.15625 6.1875 \nQ 5.515625 13.8125 5.515625 26.8125 \nQ 5.515625 40.234375 12.765625 48.109375 \nQ 20.015625 56 32.328125 56 \nQ 43.359375 56 49.78125 48.890625 \nQ 56.203125 41.796875 56.203125 29.59375 \nz\nM 47.21875 32.234375 \nQ 47.125 39.59375 43.09375 43.984375 \nQ 39.0625 48.390625 32.421875 48.390625 \nQ 24.90625 48.390625 20.390625 44.140625 \nQ 15.875 39.890625 15.1875 32.171875 \nz\n\" id=\"DejaVuSans-101\"/>\n       <path d=\"M 44.28125 53.078125 \nL 44.28125 44.578125 \nQ 40.484375 46.53125 36.375 47.5 \nQ 32.28125 48.484375 27.875 48.484375 \nQ 21.1875 48.484375 17.84375 46.4375 \nQ 14.5 44.390625 14.5 40.28125 \nQ 14.5 37.15625 16.890625 35.375 \nQ 19.28125 33.59375 26.515625 31.984375 \nL 29.59375 31.296875 \nQ 39.15625 29.25 43.1875 25.515625 \nQ 47.21875 21.78125 47.21875 15.09375 \nQ 47.21875 7.46875 41.1875 3.015625 \nQ 35.15625 -1.421875 24.609375 -1.421875 \nQ 20.21875 -1.421875 15.453125 -0.5625 \nQ 10.6875 0.296875 5.421875 2 \nL 5.421875 11.28125 \nQ 10.40625 8.6875 15.234375 7.390625 \nQ 20.0625 6.109375 24.8125 6.109375 \nQ 31.15625 6.109375 34.5625 8.28125 \nQ 37.984375 10.453125 37.984375 14.40625 \nQ 37.984375 18.0625 35.515625 20.015625 \nQ 33.0625 21.96875 24.703125 23.78125 \nL 21.578125 24.515625 \nQ 13.234375 26.265625 9.515625 29.90625 \nQ 5.8125 33.546875 5.8125 39.890625 \nQ 5.8125 47.609375 11.28125 51.796875 \nQ 16.75 56 26.8125 56 \nQ 31.78125 56 36.171875 55.265625 \nQ 40.578125 54.546875 44.28125 53.078125 \nz\n\" id=\"DejaVuSans-115\"/>\n       <path d=\"M 54.890625 33.015625 \nL 54.890625 0 \nL 45.90625 0 \nL 45.90625 32.71875 \nQ 45.90625 40.484375 42.875 44.328125 \nQ 39.84375 48.1875 33.796875 48.1875 \nQ 26.515625 48.1875 22.3125 43.546875 \nQ 18.109375 38.921875 18.109375 30.90625 \nL 18.109375 0 \nL 9.078125 0 \nL 9.078125 75.984375 \nL 18.109375 75.984375 \nL 18.109375 46.1875 \nQ 21.34375 51.125 25.703125 53.5625 \nQ 30.078125 56 35.796875 56 \nQ 45.21875 56 50.046875 50.171875 \nQ 54.890625 44.34375 54.890625 33.015625 \nz\n\" id=\"DejaVuSans-104\"/>\n       <path d=\"M 50.984375 -16.609375 \nL 50.984375 -23.578125 \nL -0.984375 -23.578125 \nL -0.984375 -16.609375 \nz\n\" id=\"DejaVuSans-95\"/>\n       <path d=\"M 4.203125 54.6875 \nL 13.1875 54.6875 \nL 24.421875 12.015625 \nL 35.59375 54.6875 \nL 46.1875 54.6875 \nL 57.421875 12.015625 \nL 68.609375 54.6875 \nL 77.59375 54.6875 \nL 63.28125 0 \nL 52.6875 0 \nL 40.921875 44.828125 \nL 29.109375 0 \nL 18.5 0 \nz\n\" id=\"DejaVuSans-119\"/>\n       <path d=\"M 9.421875 54.6875 \nL 18.40625 54.6875 \nL 18.40625 0 \nL 9.421875 0 \nz\nM 9.421875 75.984375 \nL 18.40625 75.984375 \nL 18.40625 64.59375 \nL 9.421875 64.59375 \nz\n\" id=\"DejaVuSans-105\"/>\n       <path d=\"M 45.40625 27.984375 \nQ 45.40625 37.75 41.375 43.109375 \nQ 37.359375 48.484375 30.078125 48.484375 \nQ 22.859375 48.484375 18.828125 43.109375 \nQ 14.796875 37.75 14.796875 27.984375 \nQ 14.796875 18.265625 18.828125 12.890625 \nQ 22.859375 7.515625 30.078125 7.515625 \nQ 37.359375 7.515625 41.375 12.890625 \nQ 45.40625 18.265625 45.40625 27.984375 \nz\nM 54.390625 6.78125 \nQ 54.390625 -7.171875 48.1875 -13.984375 \nQ 42 -20.796875 29.203125 -20.796875 \nQ 24.46875 -20.796875 20.265625 -20.09375 \nQ 16.0625 -19.390625 12.109375 -17.921875 \nL 12.109375 -9.1875 \nQ 16.0625 -11.328125 19.921875 -12.34375 \nQ 23.78125 -13.375 27.78125 -13.375 \nQ 36.625 -13.375 41.015625 -8.765625 \nQ 45.40625 -4.15625 45.40625 5.171875 \nL 45.40625 9.625 \nQ 42.625 4.78125 38.28125 2.390625 \nQ 33.9375 0 27.875 0 \nQ 17.828125 0 11.671875 7.65625 \nQ 5.515625 15.328125 5.515625 27.984375 \nQ 5.515625 40.671875 11.671875 48.328125 \nQ 17.828125 56 27.875 56 \nQ 33.9375 56 38.28125 53.609375 \nQ 42.625 51.21875 45.40625 46.390625 \nL 45.40625 54.6875 \nL 54.390625 54.6875 \nz\n\" id=\"DejaVuSans-103\"/>\n       <path d=\"M 18.3125 70.21875 \nL 18.3125 54.6875 \nL 36.8125 54.6875 \nL 36.8125 47.703125 \nL 18.3125 47.703125 \nL 18.3125 18.015625 \nQ 18.3125 11.328125 20.140625 9.421875 \nQ 21.96875 7.515625 27.59375 7.515625 \nL 36.8125 7.515625 \nL 36.8125 0 \nL 27.59375 0 \nQ 17.1875 0 13.234375 3.875 \nQ 9.28125 7.765625 9.28125 18.015625 \nL 9.28125 47.703125 \nL 2.6875 47.703125 \nL 2.6875 54.6875 \nL 9.28125 54.6875 \nL 9.28125 70.21875 \nz\n\" id=\"DejaVuSans-116\"/>\n       <path d=\"M 18.109375 8.203125 \nL 18.109375 -20.796875 \nL 9.078125 -20.796875 \nL 9.078125 54.6875 \nL 18.109375 54.6875 \nL 18.109375 46.390625 \nQ 20.953125 51.265625 25.265625 53.625 \nQ 29.59375 56 35.59375 56 \nQ 45.5625 56 51.78125 48.09375 \nQ 58.015625 40.1875 58.015625 27.296875 \nQ 58.015625 14.40625 51.78125 6.484375 \nQ 45.5625 -1.421875 35.59375 -1.421875 \nQ 29.59375 -1.421875 25.265625 0.953125 \nQ 20.953125 3.328125 18.109375 8.203125 \nz\nM 48.6875 27.296875 \nQ 48.6875 37.203125 44.609375 42.84375 \nQ 40.53125 48.484375 33.40625 48.484375 \nQ 26.265625 48.484375 22.1875 42.84375 \nQ 18.109375 37.203125 18.109375 27.296875 \nQ 18.109375 17.390625 22.1875 11.75 \nQ 26.265625 6.109375 33.40625 6.109375 \nQ 40.53125 6.109375 44.609375 11.75 \nQ 48.6875 17.390625 48.6875 27.296875 \nz\n\" id=\"DejaVuSans-112\"/>\n      </defs>\n      <g style=\"fill:#262626;\" transform=\"translate(181.252844 457.92)rotate(-90)scale(0.11 -0.11)\">\n       <use xlink:href=\"#DejaVuSans-102\"/>\n       <use x=\"35.205078\" xlink:href=\"#DejaVuSans-114\"/>\n       <use x=\"76.287109\" xlink:href=\"#DejaVuSans-101\"/>\n       <use x=\"137.810547\" xlink:href=\"#DejaVuSans-115\"/>\n       <use x=\"189.910156\" xlink:href=\"#DejaVuSans-104\"/>\n       <use x=\"253.289062\" xlink:href=\"#DejaVuSans-95\"/>\n       <use x=\"303.289062\" xlink:href=\"#DejaVuSans-119\"/>\n       <use x=\"385.076172\" xlink:href=\"#DejaVuSans-101\"/>\n       <use x=\"446.599609\" xlink:href=\"#DejaVuSans-105\"/>\n       <use x=\"474.382812\" xlink:href=\"#DejaVuSans-103\"/>\n       <use x=\"537.859375\" xlink:href=\"#DejaVuSans-104\"/>\n       <use x=\"601.238281\" xlink:href=\"#DejaVuSans-116\"/>\n       <use x=\"640.447266\" xlink:href=\"#DejaVuSans-95\"/>\n       <use x=\"690.447266\" xlink:href=\"#DejaVuSans-112\"/>\n       <use x=\"753.923828\" xlink:href=\"#DejaVuSans-108\"/>\n       <use x=\"781.707031\" xlink:href=\"#DejaVuSans-117\"/>\n       <use x=\"845.085938\" xlink:href=\"#DejaVuSans-103\"/>\n      </g>\n     </g>\n    </g>\n    <g id=\"xtick_3\">\n     <g id=\"text_3\">\n      <!-- leaf_length -->\n      <defs>\n       <path d=\"M 34.28125 27.484375 \nQ 23.390625 27.484375 19.1875 25 \nQ 14.984375 22.515625 14.984375 16.5 \nQ 14.984375 11.71875 18.140625 8.90625 \nQ 21.296875 6.109375 26.703125 6.109375 \nQ 34.1875 6.109375 38.703125 11.40625 \nQ 43.21875 16.703125 43.21875 25.484375 \nL 43.21875 27.484375 \nz\nM 52.203125 31.203125 \nL 52.203125 0 \nL 43.21875 0 \nL 43.21875 8.296875 \nQ 40.140625 3.328125 35.546875 0.953125 \nQ 30.953125 -1.421875 24.3125 -1.421875 \nQ 15.921875 -1.421875 10.953125 3.296875 \nQ 6 8.015625 6 15.921875 \nQ 6 25.140625 12.171875 29.828125 \nQ 18.359375 34.515625 30.609375 34.515625 \nL 43.21875 34.515625 \nL 43.21875 35.40625 \nQ 43.21875 41.609375 39.140625 45 \nQ 35.0625 48.390625 27.6875 48.390625 \nQ 23 48.390625 18.546875 47.265625 \nQ 14.109375 46.140625 10.015625 43.890625 \nL 10.015625 52.203125 \nQ 14.9375 54.109375 19.578125 55.046875 \nQ 24.21875 56 28.609375 56 \nQ 40.484375 56 46.34375 49.84375 \nQ 52.203125 43.703125 52.203125 31.203125 \nz\n\" id=\"DejaVuSans-97\"/>\n       <path d=\"M 54.890625 33.015625 \nL 54.890625 0 \nL 45.90625 0 \nL 45.90625 32.71875 \nQ 45.90625 40.484375 42.875 44.328125 \nQ 39.84375 48.1875 33.796875 48.1875 \nQ 26.515625 48.1875 22.3125 43.546875 \nQ 18.109375 38.921875 18.109375 30.90625 \nL 18.109375 0 \nL 9.078125 0 \nL 9.078125 54.6875 \nL 18.109375 54.6875 \nL 18.109375 46.1875 \nQ 21.34375 51.125 25.703125 53.5625 \nQ 30.078125 56 35.796875 56 \nQ 45.21875 56 50.046875 50.171875 \nQ 54.890625 44.34375 54.890625 33.015625 \nz\n\" id=\"DejaVuSans-110\"/>\n      </defs>\n      <g style=\"fill:#262626;\" transform=\"translate(216.964844 418.978281)rotate(-90)scale(0.11 -0.11)\">\n       <use xlink:href=\"#DejaVuSans-108\"/>\n       <use x=\"27.783203\" xlink:href=\"#DejaVuSans-101\"/>\n       <use x=\"89.306641\" xlink:href=\"#DejaVuSans-97\"/>\n       <use x=\"150.585938\" xlink:href=\"#DejaVuSans-102\"/>\n       <use x=\"185.791016\" xlink:href=\"#DejaVuSans-95\"/>\n       <use x=\"235.791016\" xlink:href=\"#DejaVuSans-108\"/>\n       <use x=\"263.574219\" xlink:href=\"#DejaVuSans-101\"/>\n       <use x=\"325.097656\" xlink:href=\"#DejaVuSans-110\"/>\n       <use x=\"388.476562\" xlink:href=\"#DejaVuSans-103\"/>\n       <use x=\"451.953125\" xlink:href=\"#DejaVuSans-116\"/>\n       <use x=\"491.162109\" xlink:href=\"#DejaVuSans-104\"/>\n      </g>\n     </g>\n    </g>\n    <g id=\"xtick_4\">\n     <g id=\"text_4\">\n      <!-- led_type_id -->\n      <defs>\n       <path d=\"M 32.171875 -5.078125 \nQ 28.375 -14.84375 24.75 -17.8125 \nQ 21.140625 -20.796875 15.09375 -20.796875 \nL 7.90625 -20.796875 \nL 7.90625 -13.28125 \nL 13.1875 -13.28125 \nQ 16.890625 -13.28125 18.9375 -11.515625 \nQ 21 -9.765625 23.484375 -3.21875 \nL 25.09375 0.875 \nL 2.984375 54.6875 \nL 12.5 54.6875 \nL 29.59375 11.921875 \nL 46.6875 54.6875 \nL 56.203125 54.6875 \nz\n\" id=\"DejaVuSans-121\"/>\n      </defs>\n      <g style=\"fill:#262626;\" transform=\"translate(252.676844 420.399687)rotate(-90)scale(0.11 -0.11)\">\n       <use xlink:href=\"#DejaVuSans-108\"/>\n       <use x=\"27.783203\" xlink:href=\"#DejaVuSans-101\"/>\n       <use x=\"89.306641\" xlink:href=\"#DejaVuSans-100\"/>\n       <use x=\"152.783203\" xlink:href=\"#DejaVuSans-95\"/>\n       <use x=\"202.783203\" xlink:href=\"#DejaVuSans-116\"/>\n       <use x=\"241.992188\" xlink:href=\"#DejaVuSans-121\"/>\n       <use x=\"301.171875\" xlink:href=\"#DejaVuSans-112\"/>\n       <use x=\"364.648438\" xlink:href=\"#DejaVuSans-101\"/>\n       <use x=\"426.171875\" xlink:href=\"#DejaVuSans-95\"/>\n       <use x=\"476.171875\" xlink:href=\"#DejaVuSans-105\"/>\n       <use x=\"503.955078\" xlink:href=\"#DejaVuSans-100\"/>\n      </g>\n     </g>\n    </g>\n    <g id=\"xtick_5\">\n     <g id=\"text_5\">\n      <!-- light_distribution_id -->\n      <defs>\n       <path d=\"M 48.6875 27.296875 \nQ 48.6875 37.203125 44.609375 42.84375 \nQ 40.53125 48.484375 33.40625 48.484375 \nQ 26.265625 48.484375 22.1875 42.84375 \nQ 18.109375 37.203125 18.109375 27.296875 \nQ 18.109375 17.390625 22.1875 11.75 \nQ 26.265625 6.109375 33.40625 6.109375 \nQ 40.53125 6.109375 44.609375 11.75 \nQ 48.6875 17.390625 48.6875 27.296875 \nz\nM 18.109375 46.390625 \nQ 20.953125 51.265625 25.265625 53.625 \nQ 29.59375 56 35.59375 56 \nQ 45.5625 56 51.78125 48.09375 \nQ 58.015625 40.1875 58.015625 27.296875 \nQ 58.015625 14.40625 51.78125 6.484375 \nQ 45.5625 -1.421875 35.59375 -1.421875 \nQ 29.59375 -1.421875 25.265625 0.953125 \nQ 20.953125 3.328125 18.109375 8.203125 \nL 18.109375 0 \nL 9.078125 0 \nL 9.078125 75.984375 \nL 18.109375 75.984375 \nz\n\" id=\"DejaVuSans-98\"/>\n       <path d=\"M 30.609375 48.390625 \nQ 23.390625 48.390625 19.1875 42.75 \nQ 14.984375 37.109375 14.984375 27.296875 \nQ 14.984375 17.484375 19.15625 11.84375 \nQ 23.34375 6.203125 30.609375 6.203125 \nQ 37.796875 6.203125 41.984375 11.859375 \nQ 46.1875 17.53125 46.1875 27.296875 \nQ 46.1875 37.015625 41.984375 42.703125 \nQ 37.796875 48.390625 30.609375 48.390625 \nz\nM 30.609375 56 \nQ 42.328125 56 49.015625 48.375 \nQ 55.71875 40.765625 55.71875 27.296875 \nQ 55.71875 13.875 49.015625 6.21875 \nQ 42.328125 -1.421875 30.609375 -1.421875 \nQ 18.84375 -1.421875 12.171875 6.21875 \nQ 5.515625 13.875 5.515625 27.296875 \nQ 5.515625 40.765625 12.171875 48.375 \nQ 18.84375 56 30.609375 56 \nz\n\" id=\"DejaVuSans-111\"/>\n      </defs>\n      <g style=\"fill:#262626;\" transform=\"translate(288.388844 466.080625)rotate(-90)scale(0.11 -0.11)\">\n       <use xlink:href=\"#DejaVuSans-108\"/>\n       <use x=\"27.783203\" xlink:href=\"#DejaVuSans-105\"/>\n       <use x=\"55.566406\" xlink:href=\"#DejaVuSans-103\"/>\n       <use x=\"119.042969\" xlink:href=\"#DejaVuSans-104\"/>\n       <use x=\"182.421875\" xlink:href=\"#DejaVuSans-116\"/>\n       <use x=\"221.630859\" xlink:href=\"#DejaVuSans-95\"/>\n       <use x=\"271.630859\" xlink:href=\"#DejaVuSans-100\"/>\n       <use x=\"335.107422\" xlink:href=\"#DejaVuSans-105\"/>\n       <use x=\"362.890625\" xlink:href=\"#DejaVuSans-115\"/>\n       <use x=\"414.990234\" xlink:href=\"#DejaVuSans-116\"/>\n       <use x=\"454.199219\" xlink:href=\"#DejaVuSans-114\"/>\n       <use x=\"495.3125\" xlink:href=\"#DejaVuSans-105\"/>\n       <use x=\"523.095703\" xlink:href=\"#DejaVuSans-98\"/>\n       <use x=\"586.572266\" xlink:href=\"#DejaVuSans-117\"/>\n       <use x=\"649.951172\" xlink:href=\"#DejaVuSans-116\"/>\n       <use x=\"689.160156\" xlink:href=\"#DejaVuSans-105\"/>\n       <use x=\"716.943359\" xlink:href=\"#DejaVuSans-111\"/>\n       <use x=\"778.125\" xlink:href=\"#DejaVuSans-110\"/>\n       <use x=\"841.503906\" xlink:href=\"#DejaVuSans-95\"/>\n       <use x=\"891.503906\" xlink:href=\"#DejaVuSans-105\"/>\n       <use x=\"919.287109\" xlink:href=\"#DejaVuSans-100\"/>\n      </g>\n     </g>\n    </g>\n    <g id=\"xtick_6\">\n     <g id=\"text_6\">\n      <!-- marketable -->\n      <defs>\n       <path d=\"M 52 44.1875 \nQ 55.375 50.25 60.0625 53.125 \nQ 64.75 56 71.09375 56 \nQ 79.640625 56 84.28125 50.015625 \nQ 88.921875 44.046875 88.921875 33.015625 \nL 88.921875 0 \nL 79.890625 0 \nL 79.890625 32.71875 \nQ 79.890625 40.578125 77.09375 44.375 \nQ 74.3125 48.1875 68.609375 48.1875 \nQ 61.625 48.1875 57.5625 43.546875 \nQ 53.515625 38.921875 53.515625 30.90625 \nL 53.515625 0 \nL 44.484375 0 \nL 44.484375 32.71875 \nQ 44.484375 40.625 41.703125 44.40625 \nQ 38.921875 48.1875 33.109375 48.1875 \nQ 26.21875 48.1875 22.15625 43.53125 \nQ 18.109375 38.875 18.109375 30.90625 \nL 18.109375 0 \nL 9.078125 0 \nL 9.078125 54.6875 \nL 18.109375 54.6875 \nL 18.109375 46.1875 \nQ 21.1875 51.21875 25.484375 53.609375 \nQ 29.78125 56 35.6875 56 \nQ 41.65625 56 45.828125 52.96875 \nQ 50 49.953125 52 44.1875 \nz\n\" id=\"DejaVuSans-109\"/>\n       <path d=\"M 9.078125 75.984375 \nL 18.109375 75.984375 \nL 18.109375 31.109375 \nL 44.921875 54.6875 \nL 56.390625 54.6875 \nL 27.390625 29.109375 \nL 57.625 0 \nL 45.90625 0 \nL 18.109375 26.703125 \nL 18.109375 0 \nL 9.078125 0 \nz\n\" id=\"DejaVuSans-107\"/>\n      </defs>\n      <g style=\"fill:#262626;\" transform=\"translate(324.253813 420.949687)rotate(-90)scale(0.11 -0.11)\">\n       <use xlink:href=\"#DejaVuSans-109\"/>\n       <use x=\"97.412109\" xlink:href=\"#DejaVuSans-97\"/>\n       <use x=\"158.691406\" xlink:href=\"#DejaVuSans-114\"/>\n       <use x=\"199.804688\" xlink:href=\"#DejaVuSans-107\"/>\n       <use x=\"257.667969\" xlink:href=\"#DejaVuSans-101\"/>\n       <use x=\"319.191406\" xlink:href=\"#DejaVuSans-116\"/>\n       <use x=\"358.400391\" xlink:href=\"#DejaVuSans-97\"/>\n       <use x=\"419.679688\" xlink:href=\"#DejaVuSans-98\"/>\n       <use x=\"483.15625\" xlink:href=\"#DejaVuSans-108\"/>\n       <use x=\"510.939453\" xlink:href=\"#DejaVuSans-101\"/>\n      </g>\n     </g>\n    </g>\n    <g id=\"xtick_7\">\n     <g id=\"text_7\">\n      <!-- nutrients_id -->\n      <g style=\"fill:#262626;\" transform=\"translate(359.812844 423.1325)rotate(-90)scale(0.11 -0.11)\">\n       <use xlink:href=\"#DejaVuSans-110\"/>\n       <use x=\"63.378906\" xlink:href=\"#DejaVuSans-117\"/>\n       <use x=\"126.757812\" xlink:href=\"#DejaVuSans-116\"/>\n       <use x=\"165.966797\" xlink:href=\"#DejaVuSans-114\"/>\n       <use x=\"207.080078\" xlink:href=\"#DejaVuSans-105\"/>\n       <use x=\"234.863281\" xlink:href=\"#DejaVuSans-101\"/>\n       <use x=\"296.386719\" xlink:href=\"#DejaVuSans-110\"/>\n       <use x=\"359.765625\" xlink:href=\"#DejaVuSans-116\"/>\n       <use x=\"398.974609\" xlink:href=\"#DejaVuSans-115\"/>\n       <use x=\"451.074219\" xlink:href=\"#DejaVuSans-95\"/>\n       <use x=\"501.074219\" xlink:href=\"#DejaVuSans-105\"/>\n       <use x=\"528.857422\" xlink:href=\"#DejaVuSans-100\"/>\n      </g>\n     </g>\n    </g>\n    <g id=\"xtick_8\">\n     <g id=\"text_8\">\n      <!-- plant_id -->\n      <g style=\"fill:#262626;\" transform=\"translate(395.524844 401.581094)rotate(-90)scale(0.11 -0.11)\">\n       <use xlink:href=\"#DejaVuSans-112\"/>\n       <use x=\"63.476562\" xlink:href=\"#DejaVuSans-108\"/>\n       <use x=\"91.259766\" xlink:href=\"#DejaVuSans-97\"/>\n       <use x=\"152.539062\" xlink:href=\"#DejaVuSans-110\"/>\n       <use x=\"215.917969\" xlink:href=\"#DejaVuSans-116\"/>\n       <use x=\"255.126953\" xlink:href=\"#DejaVuSans-95\"/>\n       <use x=\"305.126953\" xlink:href=\"#DejaVuSans-105\"/>\n       <use x=\"332.910156\" xlink:href=\"#DejaVuSans-100\"/>\n      </g>\n     </g>\n    </g>\n    <g id=\"xtick_9\">\n     <g id=\"text_9\">\n      <!-- plug_density_m2 -->\n      <defs>\n       <path d=\"M 19.1875 8.296875 \nL 53.609375 8.296875 \nL 53.609375 0 \nL 7.328125 0 \nL 7.328125 8.296875 \nQ 12.9375 14.109375 22.625 23.890625 \nQ 32.328125 33.6875 34.8125 36.53125 \nQ 39.546875 41.84375 41.421875 45.53125 \nQ 43.3125 49.21875 43.3125 52.78125 \nQ 43.3125 58.59375 39.234375 62.25 \nQ 35.15625 65.921875 28.609375 65.921875 \nQ 23.96875 65.921875 18.8125 64.3125 \nQ 13.671875 62.703125 7.8125 59.421875 \nL 7.8125 69.390625 \nQ 13.765625 71.78125 18.9375 73 \nQ 24.125 74.21875 28.421875 74.21875 \nQ 39.75 74.21875 46.484375 68.546875 \nQ 53.21875 62.890625 53.21875 53.421875 \nQ 53.21875 48.921875 51.53125 44.890625 \nQ 49.859375 40.875 45.40625 35.40625 \nQ 44.1875 33.984375 37.640625 27.21875 \nQ 31.109375 20.453125 19.1875 8.296875 \nz\n\" id=\"DejaVuSans-50\"/>\n      </defs>\n      <g style=\"fill:#262626;\" transform=\"translate(431.236844 451.0175)rotate(-90)scale(0.11 -0.11)\">\n       <use xlink:href=\"#DejaVuSans-112\"/>\n       <use x=\"63.476562\" xlink:href=\"#DejaVuSans-108\"/>\n       <use x=\"91.259766\" xlink:href=\"#DejaVuSans-117\"/>\n       <use x=\"154.638672\" xlink:href=\"#DejaVuSans-103\"/>\n       <use x=\"218.115234\" xlink:href=\"#DejaVuSans-95\"/>\n       <use x=\"268.115234\" xlink:href=\"#DejaVuSans-100\"/>\n       <use x=\"331.591797\" xlink:href=\"#DejaVuSans-101\"/>\n       <use x=\"393.115234\" xlink:href=\"#DejaVuSans-110\"/>\n       <use x=\"456.494141\" xlink:href=\"#DejaVuSans-115\"/>\n       <use x=\"508.59375\" xlink:href=\"#DejaVuSans-105\"/>\n       <use x=\"536.376953\" xlink:href=\"#DejaVuSans-116\"/>\n       <use x=\"575.585938\" xlink:href=\"#DejaVuSans-121\"/>\n       <use x=\"634.765625\" xlink:href=\"#DejaVuSans-95\"/>\n       <use x=\"684.765625\" xlink:href=\"#DejaVuSans-109\"/>\n       <use x=\"782.177734\" xlink:href=\"#DejaVuSans-50\"/>\n      </g>\n     </g>\n    </g>\n    <g id=\"xtick_10\">\n     <g id=\"text_10\">\n      <!-- substrate_id -->\n      <g style=\"fill:#262626;\" transform=\"translate(466.948844 425.588594)rotate(-90)scale(0.11 -0.11)\">\n       <use xlink:href=\"#DejaVuSans-115\"/>\n       <use x=\"52.099609\" xlink:href=\"#DejaVuSans-117\"/>\n       <use x=\"115.478516\" xlink:href=\"#DejaVuSans-98\"/>\n       <use x=\"178.955078\" xlink:href=\"#DejaVuSans-115\"/>\n       <use x=\"231.054688\" xlink:href=\"#DejaVuSans-116\"/>\n       <use x=\"270.263672\" xlink:href=\"#DejaVuSans-114\"/>\n       <use x=\"311.376953\" xlink:href=\"#DejaVuSans-97\"/>\n       <use x=\"372.65625\" xlink:href=\"#DejaVuSans-116\"/>\n       <use x=\"411.865234\" xlink:href=\"#DejaVuSans-101\"/>\n       <use x=\"473.388672\" xlink:href=\"#DejaVuSans-95\"/>\n       <use x=\"523.388672\" xlink:href=\"#DejaVuSans-105\"/>\n       <use x=\"551.171875\" xlink:href=\"#DejaVuSans-100\"/>\n      </g>\n     </g>\n    </g>\n   </g>\n   <g id=\"matplotlib.axis_2\">\n    <g id=\"ytick_1\">\n     <g id=\"text_11\">\n      <!-- dul -->\n      <g style=\"fill:#262626;\" transform=\"translate(98.292031 26.497266)scale(0.11 -0.11)\">\n       <use xlink:href=\"#DejaVuSans-100\"/>\n       <use x=\"63.476562\" xlink:href=\"#DejaVuSans-117\"/>\n       <use x=\"126.855469\" xlink:href=\"#DejaVuSans-108\"/>\n      </g>\n     </g>\n    </g>\n    <g id=\"ytick_2\">\n     <g id=\"text_12\">\n      <!-- fresh_weight_plug -->\n      <g style=\"fill:#262626;\" transform=\"translate(15.360625 62.737266)scale(0.11 -0.11)\">\n       <use xlink:href=\"#DejaVuSans-102\"/>\n       <use x=\"35.205078\" xlink:href=\"#DejaVuSans-114\"/>\n       <use x=\"76.287109\" xlink:href=\"#DejaVuSans-101\"/>\n       <use x=\"137.810547\" xlink:href=\"#DejaVuSans-115\"/>\n       <use x=\"189.910156\" xlink:href=\"#DejaVuSans-104\"/>\n       <use x=\"253.289062\" xlink:href=\"#DejaVuSans-95\"/>\n       <use x=\"303.289062\" xlink:href=\"#DejaVuSans-119\"/>\n       <use x=\"385.076172\" xlink:href=\"#DejaVuSans-101\"/>\n       <use x=\"446.599609\" xlink:href=\"#DejaVuSans-105\"/>\n       <use x=\"474.382812\" xlink:href=\"#DejaVuSans-103\"/>\n       <use x=\"537.859375\" xlink:href=\"#DejaVuSans-104\"/>\n       <use x=\"601.238281\" xlink:href=\"#DejaVuSans-116\"/>\n       <use x=\"640.447266\" xlink:href=\"#DejaVuSans-95\"/>\n       <use x=\"690.447266\" xlink:href=\"#DejaVuSans-112\"/>\n       <use x=\"753.923828\" xlink:href=\"#DejaVuSans-108\"/>\n       <use x=\"781.707031\" xlink:href=\"#DejaVuSans-117\"/>\n       <use x=\"845.085938\" xlink:href=\"#DejaVuSans-103\"/>\n      </g>\n     </g>\n    </g>\n    <g id=\"ytick_3\">\n     <g id=\"text_13\">\n      <!-- leaf_length -->\n      <g style=\"fill:#262626;\" transform=\"translate(54.302344 98.977266)scale(0.11 -0.11)\">\n       <use xlink:href=\"#DejaVuSans-108\"/>\n       <use x=\"27.783203\" xlink:href=\"#DejaVuSans-101\"/>\n       <use x=\"89.306641\" xlink:href=\"#DejaVuSans-97\"/>\n       <use x=\"150.585938\" xlink:href=\"#DejaVuSans-102\"/>\n       <use x=\"185.791016\" xlink:href=\"#DejaVuSans-95\"/>\n       <use x=\"235.791016\" xlink:href=\"#DejaVuSans-108\"/>\n       <use x=\"263.574219\" xlink:href=\"#DejaVuSans-101\"/>\n       <use x=\"325.097656\" xlink:href=\"#DejaVuSans-110\"/>\n       <use x=\"388.476562\" xlink:href=\"#DejaVuSans-103\"/>\n       <use x=\"451.953125\" xlink:href=\"#DejaVuSans-116\"/>\n       <use x=\"491.162109\" xlink:href=\"#DejaVuSans-104\"/>\n      </g>\n     </g>\n    </g>\n    <g id=\"ytick_4\">\n     <g id=\"text_14\">\n      <!-- led_type_id -->\n      <g style=\"fill:#262626;\" transform=\"translate(52.880938 135.217266)scale(0.11 -0.11)\">\n       <use xlink:href=\"#DejaVuSans-108\"/>\n       <use x=\"27.783203\" xlink:href=\"#DejaVuSans-101\"/>\n       <use x=\"89.306641\" xlink:href=\"#DejaVuSans-100\"/>\n       <use x=\"152.783203\" xlink:href=\"#DejaVuSans-95\"/>\n       <use x=\"202.783203\" xlink:href=\"#DejaVuSans-116\"/>\n       <use x=\"241.992188\" xlink:href=\"#DejaVuSans-121\"/>\n       <use x=\"301.171875\" xlink:href=\"#DejaVuSans-112\"/>\n       <use x=\"364.648438\" xlink:href=\"#DejaVuSans-101\"/>\n       <use x=\"426.171875\" xlink:href=\"#DejaVuSans-95\"/>\n       <use x=\"476.171875\" xlink:href=\"#DejaVuSans-105\"/>\n       <use x=\"503.955078\" xlink:href=\"#DejaVuSans-100\"/>\n      </g>\n     </g>\n    </g>\n    <g id=\"ytick_5\">\n     <g id=\"text_15\">\n      <!-- light_distribution_id -->\n      <g style=\"fill:#262626;\" transform=\"translate(7.2 171.457266)scale(0.11 -0.11)\">\n       <use xlink:href=\"#DejaVuSans-108\"/>\n       <use x=\"27.783203\" xlink:href=\"#DejaVuSans-105\"/>\n       <use x=\"55.566406\" xlink:href=\"#DejaVuSans-103\"/>\n       <use x=\"119.042969\" xlink:href=\"#DejaVuSans-104\"/>\n       <use x=\"182.421875\" xlink:href=\"#DejaVuSans-116\"/>\n       <use x=\"221.630859\" xlink:href=\"#DejaVuSans-95\"/>\n       <use x=\"271.630859\" xlink:href=\"#DejaVuSans-100\"/>\n       <use x=\"335.107422\" xlink:href=\"#DejaVuSans-105\"/>\n       <use x=\"362.890625\" xlink:href=\"#DejaVuSans-115\"/>\n       <use x=\"414.990234\" xlink:href=\"#DejaVuSans-116\"/>\n       <use x=\"454.199219\" xlink:href=\"#DejaVuSans-114\"/>\n       <use x=\"495.3125\" xlink:href=\"#DejaVuSans-105\"/>\n       <use x=\"523.095703\" xlink:href=\"#DejaVuSans-98\"/>\n       <use x=\"586.572266\" xlink:href=\"#DejaVuSans-117\"/>\n       <use x=\"649.951172\" xlink:href=\"#DejaVuSans-116\"/>\n       <use x=\"689.160156\" xlink:href=\"#DejaVuSans-105\"/>\n       <use x=\"716.943359\" xlink:href=\"#DejaVuSans-111\"/>\n       <use x=\"778.125\" xlink:href=\"#DejaVuSans-110\"/>\n       <use x=\"841.503906\" xlink:href=\"#DejaVuSans-95\"/>\n       <use x=\"891.503906\" xlink:href=\"#DejaVuSans-105\"/>\n       <use x=\"919.287109\" xlink:href=\"#DejaVuSans-100\"/>\n      </g>\n     </g>\n    </g>\n    <g id=\"ytick_6\">\n     <g id=\"text_16\">\n      <!-- marketable -->\n      <g style=\"fill:#262626;\" transform=\"translate(52.330938 207.697266)scale(0.11 -0.11)\">\n       <use xlink:href=\"#DejaVuSans-109\"/>\n       <use x=\"97.412109\" xlink:href=\"#DejaVuSans-97\"/>\n       <use x=\"158.691406\" xlink:href=\"#DejaVuSans-114\"/>\n       <use x=\"199.804688\" xlink:href=\"#DejaVuSans-107\"/>\n       <use x=\"257.667969\" xlink:href=\"#DejaVuSans-101\"/>\n       <use x=\"319.191406\" xlink:href=\"#DejaVuSans-116\"/>\n       <use x=\"358.400391\" xlink:href=\"#DejaVuSans-97\"/>\n       <use x=\"419.679688\" xlink:href=\"#DejaVuSans-98\"/>\n       <use x=\"483.15625\" xlink:href=\"#DejaVuSans-108\"/>\n       <use x=\"510.939453\" xlink:href=\"#DejaVuSans-101\"/>\n      </g>\n     </g>\n    </g>\n    <g id=\"ytick_7\">\n     <g id=\"text_17\">\n      <!-- nutrients_id -->\n      <g style=\"fill:#262626;\" transform=\"translate(50.148125 243.937266)scale(0.11 -0.11)\">\n       <use xlink:href=\"#DejaVuSans-110\"/>\n       <use x=\"63.378906\" xlink:href=\"#DejaVuSans-117\"/>\n       <use x=\"126.757812\" xlink:href=\"#DejaVuSans-116\"/>\n       <use x=\"165.966797\" xlink:href=\"#DejaVuSans-114\"/>\n       <use x=\"207.080078\" xlink:href=\"#DejaVuSans-105\"/>\n       <use x=\"234.863281\" xlink:href=\"#DejaVuSans-101\"/>\n       <use x=\"296.386719\" xlink:href=\"#DejaVuSans-110\"/>\n       <use x=\"359.765625\" xlink:href=\"#DejaVuSans-116\"/>\n       <use x=\"398.974609\" xlink:href=\"#DejaVuSans-115\"/>\n       <use x=\"451.074219\" xlink:href=\"#DejaVuSans-95\"/>\n       <use x=\"501.074219\" xlink:href=\"#DejaVuSans-105\"/>\n       <use x=\"528.857422\" xlink:href=\"#DejaVuSans-100\"/>\n      </g>\n     </g>\n    </g>\n    <g id=\"ytick_8\">\n     <g id=\"text_18\">\n      <!-- plant_id -->\n      <g style=\"fill:#262626;\" transform=\"translate(71.699531 280.177266)scale(0.11 -0.11)\">\n       <use xlink:href=\"#DejaVuSans-112\"/>\n       <use x=\"63.476562\" xlink:href=\"#DejaVuSans-108\"/>\n       <use x=\"91.259766\" xlink:href=\"#DejaVuSans-97\"/>\n       <use x=\"152.539062\" xlink:href=\"#DejaVuSans-110\"/>\n       <use x=\"215.917969\" xlink:href=\"#DejaVuSans-116\"/>\n       <use x=\"255.126953\" xlink:href=\"#DejaVuSans-95\"/>\n       <use x=\"305.126953\" xlink:href=\"#DejaVuSans-105\"/>\n       <use x=\"332.910156\" xlink:href=\"#DejaVuSans-100\"/>\n      </g>\n     </g>\n    </g>\n    <g id=\"ytick_9\">\n     <g id=\"text_19\">\n      <!-- plug_density_m2 -->\n      <g style=\"fill:#262626;\" transform=\"translate(22.263125 316.417266)scale(0.11 -0.11)\">\n       <use xlink:href=\"#DejaVuSans-112\"/>\n       <use x=\"63.476562\" xlink:href=\"#DejaVuSans-108\"/>\n       <use x=\"91.259766\" xlink:href=\"#DejaVuSans-117\"/>\n       <use x=\"154.638672\" xlink:href=\"#DejaVuSans-103\"/>\n       <use x=\"218.115234\" xlink:href=\"#DejaVuSans-95\"/>\n       <use x=\"268.115234\" xlink:href=\"#DejaVuSans-100\"/>\n       <use x=\"331.591797\" xlink:href=\"#DejaVuSans-101\"/>\n       <use x=\"393.115234\" xlink:href=\"#DejaVuSans-110\"/>\n       <use x=\"456.494141\" xlink:href=\"#DejaVuSans-115\"/>\n       <use x=\"508.59375\" xlink:href=\"#DejaVuSans-105\"/>\n       <use x=\"536.376953\" xlink:href=\"#DejaVuSans-116\"/>\n       <use x=\"575.585938\" xlink:href=\"#DejaVuSans-121\"/>\n       <use x=\"634.765625\" xlink:href=\"#DejaVuSans-95\"/>\n       <use x=\"684.765625\" xlink:href=\"#DejaVuSans-109\"/>\n       <use x=\"782.177734\" xlink:href=\"#DejaVuSans-50\"/>\n      </g>\n     </g>\n    </g>\n    <g id=\"ytick_10\">\n     <g id=\"text_20\">\n      <!-- substrate_id -->\n      <g style=\"fill:#262626;\" transform=\"translate(47.692031 352.657266)scale(0.11 -0.11)\">\n       <use xlink:href=\"#DejaVuSans-115\"/>\n       <use x=\"52.099609\" xlink:href=\"#DejaVuSans-117\"/>\n       <use x=\"115.478516\" xlink:href=\"#DejaVuSans-98\"/>\n       <use x=\"178.955078\" xlink:href=\"#DejaVuSans-115\"/>\n       <use x=\"231.054688\" xlink:href=\"#DejaVuSans-116\"/>\n       <use x=\"270.263672\" xlink:href=\"#DejaVuSans-114\"/>\n       <use x=\"311.376953\" xlink:href=\"#DejaVuSans-97\"/>\n       <use x=\"372.65625\" xlink:href=\"#DejaVuSans-116\"/>\n       <use x=\"411.865234\" xlink:href=\"#DejaVuSans-101\"/>\n       <use x=\"473.388672\" xlink:href=\"#DejaVuSans-95\"/>\n       <use x=\"523.388672\" xlink:href=\"#DejaVuSans-105\"/>\n       <use x=\"551.171875\" xlink:href=\"#DejaVuSans-100\"/>\n      </g>\n     </g>\n    </g>\n   </g>\n   <g id=\"QuadMesh_1\">\n    <path clip-path=\"url(#p13e01d3b05)\" d=\"M 124.8025 4.198125 \nL 160.5145 4.198125 \nL 160.5145 40.438125 \nL 124.8025 40.438125 \nL 124.8025 4.198125 \n\" style=\"fill:#a50026;\"/>\n    <path clip-path=\"url(#p13e01d3b05)\" d=\"M 160.5145 4.198125 \nL 196.2265 4.198125 \nL 196.2265 40.438125 \nL 160.5145 40.438125 \nL 160.5145 4.198125 \n\" style=\"fill:#fdc576;\"/>\n    <path clip-path=\"url(#p13e01d3b05)\" d=\"M 196.2265 4.198125 \nL 231.9385 4.198125 \nL 231.9385 40.438125 \nL 196.2265 40.438125 \nL 196.2265 4.198125 \n\" style=\"fill:#e1f3f6;\"/>\n    <path clip-path=\"url(#p13e01d3b05)\" d=\"M 231.9385 4.198125 \nL 267.6505 4.198125 \nL 267.6505 40.438125 \nL 231.9385 40.438125 \nL 231.9385 4.198125 \n\" style=\"fill:#416aaf;\"/>\n    <path clip-path=\"url(#p13e01d3b05)\" d=\"M 267.6505 4.198125 \nL 303.3625 4.198125 \nL 303.3625 40.438125 \nL 267.6505 40.438125 \nL 267.6505 4.198125 \n\" style=\"fill:#f7fcce;\"/>\n    <path clip-path=\"url(#p13e01d3b05)\" d=\"M 303.3625 4.198125 \nL 339.0745 4.198125 \nL 339.0745 40.438125 \nL 303.3625 40.438125 \nL 303.3625 4.198125 \n\" style=\"fill:#fece7f;\"/>\n    <path clip-path=\"url(#p13e01d3b05)\" d=\"M 339.0745 4.198125 \nL 374.7865 4.198125 \nL 374.7865 40.438125 \nL 339.0745 40.438125 \nL 339.0745 4.198125 \n\" style=\"fill:#f67c4a;\"/>\n    <path clip-path=\"url(#p13e01d3b05)\" d=\"M 374.7865 4.198125 \nL 410.4985 4.198125 \nL 410.4985 40.438125 \nL 374.7865 40.438125 \nL 374.7865 4.198125 \n\" style=\"fill:#acdae9;\"/>\n    <path clip-path=\"url(#p13e01d3b05)\" d=\"M 410.4985 4.198125 \nL 446.2105 4.198125 \nL 446.2105 40.438125 \nL 410.4985 40.438125 \nL 410.4985 4.198125 \n\" style=\"fill:#c7e7f1;\"/>\n    <path clip-path=\"url(#p13e01d3b05)\" d=\"M 446.2105 4.198125 \nL 481.9225 4.198125 \nL 481.9225 40.438125 \nL 446.2105 40.438125 \nL 446.2105 4.198125 \n\" style=\"fill:#f57547;\"/>\n    <path clip-path=\"url(#p13e01d3b05)\" d=\"M 124.8025 40.438125 \nL 160.5145 40.438125 \nL 160.5145 76.678125 \nL 124.8025 76.678125 \nL 124.8025 40.438125 \n\" style=\"fill:#fdc576;\"/>\n    <path clip-path=\"url(#p13e01d3b05)\" d=\"M 160.5145 40.438125 \nL 196.2265 40.438125 \nL 196.2265 76.678125 \nL 160.5145 76.678125 \nL 160.5145 40.438125 \n\" style=\"fill:#a50026;\"/>\n    <path clip-path=\"url(#p13e01d3b05)\" d=\"M 196.2265 40.438125 \nL 231.9385 40.438125 \nL 231.9385 76.678125 \nL 196.2265 76.678125 \nL 196.2265 40.438125 \n\" style=\"fill:#a50026;\"/>\n    <path clip-path=\"url(#p13e01d3b05)\" d=\"M 231.9385 40.438125 \nL 267.6505 40.438125 \nL 267.6505 76.678125 \nL 231.9385 76.678125 \nL 231.9385 40.438125 \n\" style=\"fill:#daf0f6;\"/>\n    <path clip-path=\"url(#p13e01d3b05)\" d=\"M 267.6505 40.438125 \nL 303.3625 40.438125 \nL 303.3625 76.678125 \nL 267.6505 76.678125 \nL 267.6505 40.438125 \n\" style=\"fill:#81b7d7;\"/>\n    <path clip-path=\"url(#p13e01d3b05)\" d=\"M 303.3625 40.438125 \nL 339.0745 40.438125 \nL 339.0745 76.678125 \nL 303.3625 76.678125 \nL 303.3625 40.438125 \n\" style=\"fill:#fa9857;\"/>\n    <path clip-path=\"url(#p13e01d3b05)\" d=\"M 339.0745 40.438125 \nL 374.7865 40.438125 \nL 374.7865 76.678125 \nL 339.0745 76.678125 \nL 339.0745 40.438125 \n\" style=\"fill:#313695;\"/>\n    <path clip-path=\"url(#p13e01d3b05)\" d=\"M 374.7865 40.438125 \nL 410.4985 40.438125 \nL 410.4985 76.678125 \nL 374.7865 76.678125 \nL 374.7865 40.438125 \n\" style=\"fill:#e5f5ef;\"/>\n    <path clip-path=\"url(#p13e01d3b05)\" d=\"M 410.4985 40.438125 \nL 446.2105 40.438125 \nL 446.2105 76.678125 \nL 410.4985 76.678125 \nL 410.4985 40.438125 \n\" style=\"fill:#313695;\"/>\n    <path clip-path=\"url(#p13e01d3b05)\" d=\"M 446.2105 40.438125 \nL 481.9225 40.438125 \nL 481.9225 76.678125 \nL 446.2105 76.678125 \nL 446.2105 40.438125 \n\" style=\"fill:#313695;\"/>\n    <path clip-path=\"url(#p13e01d3b05)\" d=\"M 124.8025 76.678125 \nL 160.5145 76.678125 \nL 160.5145 112.918125 \nL 124.8025 112.918125 \nL 124.8025 76.678125 \n\" style=\"fill:#e1f3f6;\"/>\n    <path clip-path=\"url(#p13e01d3b05)\" d=\"M 160.5145 76.678125 \nL 196.2265 76.678125 \nL 196.2265 112.918125 \nL 160.5145 112.918125 \nL 160.5145 76.678125 \n\" style=\"fill:#a50026;\"/>\n    <path clip-path=\"url(#p13e01d3b05)\" d=\"M 196.2265 76.678125 \nL 231.9385 76.678125 \nL 231.9385 112.918125 \nL 196.2265 112.918125 \nL 196.2265 76.678125 \n\" style=\"fill:#a50026;\"/>\n    <path clip-path=\"url(#p13e01d3b05)\" d=\"M 231.9385 76.678125 \nL 267.6505 76.678125 \nL 267.6505 112.918125 \nL 231.9385 112.918125 \nL 231.9385 76.678125 \n\" style=\"fill:#f8864f;\"/>\n    <path clip-path=\"url(#p13e01d3b05)\" d=\"M 267.6505 76.678125 \nL 303.3625 76.678125 \nL 303.3625 112.918125 \nL 267.6505 112.918125 \nL 267.6505 76.678125 \n\" style=\"fill:#313695;\"/>\n    <path clip-path=\"url(#p13e01d3b05)\" d=\"M 303.3625 76.678125 \nL 339.0745 76.678125 \nL 339.0745 112.918125 \nL 303.3625 112.918125 \nL 303.3625 76.678125 \n\" style=\"fill:#fdaf62;\"/>\n    <path clip-path=\"url(#p13e01d3b05)\" d=\"M 339.0745 76.678125 \nL 374.7865 76.678125 \nL 374.7865 112.918125 \nL 339.0745 112.918125 \nL 339.0745 76.678125 \n\" style=\"fill:#313695;\"/>\n    <path clip-path=\"url(#p13e01d3b05)\" d=\"M 374.7865 76.678125 \nL 410.4985 76.678125 \nL 410.4985 112.918125 \nL 374.7865 112.918125 \nL 374.7865 76.678125 \n\" style=\"fill:#394fa1;\"/>\n    <path clip-path=\"url(#p13e01d3b05)\" d=\"M 410.4985 76.678125 \nL 446.2105 76.678125 \nL 446.2105 112.918125 \nL 410.4985 112.918125 \nL 410.4985 76.678125 \n\" style=\"fill:#313695;\"/>\n    <path clip-path=\"url(#p13e01d3b05)\" d=\"M 446.2105 76.678125 \nL 481.9225 76.678125 \nL 481.9225 112.918125 \nL 446.2105 112.918125 \nL 446.2105 76.678125 \n\" style=\"fill:#313695;\"/>\n    <path clip-path=\"url(#p13e01d3b05)\" d=\"M 124.8025 112.918125 \nL 160.5145 112.918125 \nL 160.5145 149.158125 \nL 124.8025 149.158125 \nL 124.8025 112.918125 \n\" style=\"fill:#416aaf;\"/>\n    <path clip-path=\"url(#p13e01d3b05)\" d=\"M 160.5145 112.918125 \nL 196.2265 112.918125 \nL 196.2265 149.158125 \nL 160.5145 149.158125 \nL 160.5145 112.918125 \n\" style=\"fill:#daf0f6;\"/>\n    <path clip-path=\"url(#p13e01d3b05)\" d=\"M 196.2265 112.918125 \nL 231.9385 112.918125 \nL 231.9385 149.158125 \nL 196.2265 149.158125 \nL 196.2265 112.918125 \n\" style=\"fill:#f8864f;\"/>\n    <path clip-path=\"url(#p13e01d3b05)\" d=\"M 231.9385 112.918125 \nL 267.6505 112.918125 \nL 267.6505 149.158125 \nL 231.9385 149.158125 \nL 231.9385 112.918125 \n\" style=\"fill:#a50026;\"/>\n    <path clip-path=\"url(#p13e01d3b05)\" d=\"M 267.6505 112.918125 \nL 303.3625 112.918125 \nL 303.3625 149.158125 \nL 267.6505 149.158125 \nL 267.6505 112.918125 \n\" style=\"fill:#313695;\"/>\n    <path clip-path=\"url(#p13e01d3b05)\" d=\"M 303.3625 112.918125 \nL 339.0745 112.918125 \nL 339.0745 149.158125 \nL 303.3625 149.158125 \nL 303.3625 112.918125 \n\" style=\"fill:#69a0ca;\"/>\n    <path clip-path=\"url(#p13e01d3b05)\" d=\"M 339.0745 112.918125 \nL 374.7865 112.918125 \nL 374.7865 149.158125 \nL 339.0745 149.158125 \nL 339.0745 112.918125 \n\" style=\"fill:#384ca0;\"/>\n    <path clip-path=\"url(#p13e01d3b05)\" d=\"M 374.7865 112.918125 \nL 410.4985 112.918125 \nL 410.4985 149.158125 \nL 374.7865 149.158125 \nL 374.7865 112.918125 \n\" style=\"fill:#313695;\"/>\n    <path clip-path=\"url(#p13e01d3b05)\" d=\"M 410.4985 112.918125 \nL 446.2105 112.918125 \nL 446.2105 149.158125 \nL 410.4985 149.158125 \nL 410.4985 112.918125 \n\" style=\"fill:#7ab2d4;\"/>\n    <path clip-path=\"url(#p13e01d3b05)\" d=\"M 446.2105 112.918125 \nL 481.9225 112.918125 \nL 481.9225 149.158125 \nL 446.2105 149.158125 \nL 446.2105 112.918125 \n\" style=\"fill:#313695;\"/>\n    <path clip-path=\"url(#p13e01d3b05)\" d=\"M 124.8025 149.158125 \nL 160.5145 149.158125 \nL 160.5145 185.398125 \nL 124.8025 185.398125 \nL 124.8025 149.158125 \n\" style=\"fill:#f7fcce;\"/>\n    <path clip-path=\"url(#p13e01d3b05)\" d=\"M 160.5145 149.158125 \nL 196.2265 149.158125 \nL 196.2265 185.398125 \nL 160.5145 185.398125 \nL 160.5145 149.158125 \n\" style=\"fill:#81b7d7;\"/>\n    <path clip-path=\"url(#p13e01d3b05)\" d=\"M 196.2265 149.158125 \nL 231.9385 149.158125 \nL 231.9385 185.398125 \nL 196.2265 185.398125 \nL 196.2265 149.158125 \n\" style=\"fill:#313695;\"/>\n    <path clip-path=\"url(#p13e01d3b05)\" d=\"M 231.9385 149.158125 \nL 267.6505 149.158125 \nL 267.6505 185.398125 \nL 231.9385 185.398125 \nL 231.9385 149.158125 \n\" style=\"fill:#313695;\"/>\n    <path clip-path=\"url(#p13e01d3b05)\" d=\"M 267.6505 149.158125 \nL 303.3625 149.158125 \nL 303.3625 185.398125 \nL 267.6505 185.398125 \nL 267.6505 149.158125 \n\" style=\"fill:#a50026;\"/>\n    <path clip-path=\"url(#p13e01d3b05)\" d=\"M 303.3625 149.158125 \nL 339.0745 149.158125 \nL 339.0745 185.398125 \nL 303.3625 185.398125 \nL 303.3625 149.158125 \n\" style=\"fill:#7fb6d6;\"/>\n    <path clip-path=\"url(#p13e01d3b05)\" d=\"M 339.0745 149.158125 \nL 374.7865 149.158125 \nL 374.7865 185.398125 \nL 339.0745 185.398125 \nL 339.0745 149.158125 \n\" style=\"fill:#feeca2;\"/>\n    <path clip-path=\"url(#p13e01d3b05)\" d=\"M 374.7865 149.158125 \nL 410.4985 149.158125 \nL 410.4985 185.398125 \nL 374.7865 185.398125 \nL 374.7865 149.158125 \n\" style=\"fill:#a8d6e8;\"/>\n    <path clip-path=\"url(#p13e01d3b05)\" d=\"M 410.4985 149.158125 \nL 446.2105 149.158125 \nL 446.2105 185.398125 \nL 410.4985 185.398125 \nL 410.4985 149.158125 \n\" style=\"fill:#cfebf3;\"/>\n    <path clip-path=\"url(#p13e01d3b05)\" d=\"M 446.2105 149.158125 \nL 481.9225 149.158125 \nL 481.9225 185.398125 \nL 446.2105 185.398125 \nL 446.2105 149.158125 \n\" style=\"fill:#fca55d;\"/>\n    <path clip-path=\"url(#p13e01d3b05)\" d=\"M 124.8025 185.398125 \nL 160.5145 185.398125 \nL 160.5145 221.638125 \nL 124.8025 221.638125 \nL 124.8025 185.398125 \n\" style=\"fill:#fece7f;\"/>\n    <path clip-path=\"url(#p13e01d3b05)\" d=\"M 160.5145 185.398125 \nL 196.2265 185.398125 \nL 196.2265 221.638125 \nL 160.5145 221.638125 \nL 160.5145 185.398125 \n\" style=\"fill:#fa9857;\"/>\n    <path clip-path=\"url(#p13e01d3b05)\" d=\"M 196.2265 185.398125 \nL 231.9385 185.398125 \nL 231.9385 221.638125 \nL 196.2265 221.638125 \nL 196.2265 185.398125 \n\" style=\"fill:#fdaf62;\"/>\n    <path clip-path=\"url(#p13e01d3b05)\" d=\"M 231.9385 185.398125 \nL 267.6505 185.398125 \nL 267.6505 221.638125 \nL 231.9385 221.638125 \nL 231.9385 185.398125 \n\" style=\"fill:#69a0ca;\"/>\n    <path clip-path=\"url(#p13e01d3b05)\" d=\"M 267.6505 185.398125 \nL 303.3625 185.398125 \nL 303.3625 221.638125 \nL 267.6505 221.638125 \nL 267.6505 185.398125 \n\" style=\"fill:#7fb6d6;\"/>\n    <path clip-path=\"url(#p13e01d3b05)\" d=\"M 303.3625 185.398125 \nL 339.0745 185.398125 \nL 339.0745 221.638125 \nL 303.3625 221.638125 \nL 303.3625 185.398125 \n\" style=\"fill:#a50026;\"/>\n    <path clip-path=\"url(#p13e01d3b05)\" d=\"M 339.0745 185.398125 \nL 374.7865 185.398125 \nL 374.7865 221.638125 \nL 339.0745 221.638125 \nL 339.0745 185.398125 \n\" style=\"fill:#36459c;\"/>\n    <path clip-path=\"url(#p13e01d3b05)\" d=\"M 374.7865 185.398125 \nL 410.4985 185.398125 \nL 410.4985 221.638125 \nL 374.7865 221.638125 \nL 374.7865 185.398125 \n\" style=\"fill:#c1e4ef;\"/>\n    <path clip-path=\"url(#p13e01d3b05)\" d=\"M 410.4985 185.398125 \nL 446.2105 185.398125 \nL 446.2105 221.638125 \nL 410.4985 221.638125 \nL 410.4985 185.398125 \n\" style=\"fill:#374a9f;\"/>\n    <path clip-path=\"url(#p13e01d3b05)\" d=\"M 446.2105 185.398125 \nL 481.9225 185.398125 \nL 481.9225 221.638125 \nL 446.2105 221.638125 \nL 446.2105 185.398125 \n\" style=\"fill:#416aaf;\"/>\n    <path clip-path=\"url(#p13e01d3b05)\" d=\"M 124.8025 221.638125 \nL 160.5145 221.638125 \nL 160.5145 257.878125 \nL 124.8025 257.878125 \nL 124.8025 221.638125 \n\" style=\"fill:#f67c4a;\"/>\n    <path clip-path=\"url(#p13e01d3b05)\" d=\"M 160.5145 221.638125 \nL 196.2265 221.638125 \nL 196.2265 257.878125 \nL 160.5145 257.878125 \nL 160.5145 221.638125 \n\" style=\"fill:#313695;\"/>\n    <path clip-path=\"url(#p13e01d3b05)\" d=\"M 196.2265 221.638125 \nL 231.9385 221.638125 \nL 231.9385 257.878125 \nL 196.2265 257.878125 \nL 196.2265 221.638125 \n\" style=\"fill:#313695;\"/>\n    <path clip-path=\"url(#p13e01d3b05)\" d=\"M 231.9385 221.638125 \nL 267.6505 221.638125 \nL 267.6505 257.878125 \nL 231.9385 257.878125 \nL 231.9385 221.638125 \n\" style=\"fill:#384ca0;\"/>\n    <path clip-path=\"url(#p13e01d3b05)\" d=\"M 267.6505 221.638125 \nL 303.3625 221.638125 \nL 303.3625 257.878125 \nL 267.6505 257.878125 \nL 267.6505 221.638125 \n\" style=\"fill:#feeca2;\"/>\n    <path clip-path=\"url(#p13e01d3b05)\" d=\"M 303.3625 221.638125 \nL 339.0745 221.638125 \nL 339.0745 257.878125 \nL 303.3625 257.878125 \nL 303.3625 221.638125 \n\" style=\"fill:#36459c;\"/>\n    <path clip-path=\"url(#p13e01d3b05)\" d=\"M 339.0745 221.638125 \nL 374.7865 221.638125 \nL 374.7865 257.878125 \nL 339.0745 257.878125 \nL 339.0745 221.638125 \n\" style=\"fill:#a50026;\"/>\n    <path clip-path=\"url(#p13e01d3b05)\" d=\"M 374.7865 221.638125 \nL 410.4985 221.638125 \nL 410.4985 257.878125 \nL 374.7865 257.878125 \nL 374.7865 221.638125 \n\" style=\"fill:#a6d5e7;\"/>\n    <path clip-path=\"url(#p13e01d3b05)\" d=\"M 410.4985 221.638125 \nL 446.2105 221.638125 \nL 446.2105 257.878125 \nL 410.4985 257.878125 \nL 410.4985 221.638125 \n\" style=\"fill:#fff7b3;\"/>\n    <path clip-path=\"url(#p13e01d3b05)\" d=\"M 446.2105 221.638125 \nL 481.9225 221.638125 \nL 481.9225 257.878125 \nL 446.2105 257.878125 \nL 446.2105 221.638125 \n\" style=\"fill:#a50026;\"/>\n    <path clip-path=\"url(#p13e01d3b05)\" d=\"M 124.8025 257.878125 \nL 160.5145 257.878125 \nL 160.5145 294.118125 \nL 124.8025 294.118125 \nL 124.8025 257.878125 \n\" style=\"fill:#acdae9;\"/>\n    <path clip-path=\"url(#p13e01d3b05)\" d=\"M 160.5145 257.878125 \nL 196.2265 257.878125 \nL 196.2265 294.118125 \nL 160.5145 294.118125 \nL 160.5145 257.878125 \n\" style=\"fill:#e5f5ef;\"/>\n    <path clip-path=\"url(#p13e01d3b05)\" d=\"M 196.2265 257.878125 \nL 231.9385 257.878125 \nL 231.9385 294.118125 \nL 196.2265 294.118125 \nL 196.2265 257.878125 \n\" style=\"fill:#394fa1;\"/>\n    <path clip-path=\"url(#p13e01d3b05)\" d=\"M 231.9385 257.878125 \nL 267.6505 257.878125 \nL 267.6505 294.118125 \nL 231.9385 294.118125 \nL 231.9385 257.878125 \n\" style=\"fill:#313695;\"/>\n    <path clip-path=\"url(#p13e01d3b05)\" d=\"M 267.6505 257.878125 \nL 303.3625 257.878125 \nL 303.3625 294.118125 \nL 267.6505 294.118125 \nL 267.6505 257.878125 \n\" style=\"fill:#a8d6e8;\"/>\n    <path clip-path=\"url(#p13e01d3b05)\" d=\"M 303.3625 257.878125 \nL 339.0745 257.878125 \nL 339.0745 294.118125 \nL 303.3625 294.118125 \nL 303.3625 257.878125 \n\" style=\"fill:#c1e4ef;\"/>\n    <path clip-path=\"url(#p13e01d3b05)\" d=\"M 339.0745 257.878125 \nL 374.7865 257.878125 \nL 374.7865 294.118125 \nL 339.0745 294.118125 \nL 339.0745 257.878125 \n\" style=\"fill:#a6d5e7;\"/>\n    <path clip-path=\"url(#p13e01d3b05)\" d=\"M 374.7865 257.878125 \nL 410.4985 257.878125 \nL 410.4985 294.118125 \nL 374.7865 294.118125 \nL 374.7865 257.878125 \n\" style=\"fill:#a50026;\"/>\n    <path clip-path=\"url(#p13e01d3b05)\" d=\"M 410.4985 257.878125 \nL 446.2105 257.878125 \nL 446.2105 294.118125 \nL 410.4985 294.118125 \nL 410.4985 257.878125 \n\" style=\"fill:#9fd0e4;\"/>\n    <path clip-path=\"url(#p13e01d3b05)\" d=\"M 446.2105 257.878125 \nL 481.9225 257.878125 \nL 481.9225 294.118125 \nL 446.2105 294.118125 \nL 446.2105 257.878125 \n\" style=\"fill:#aedbea;\"/>\n    <path clip-path=\"url(#p13e01d3b05)\" d=\"M 124.8025 294.118125 \nL 160.5145 294.118125 \nL 160.5145 330.358125 \nL 124.8025 330.358125 \nL 124.8025 294.118125 \n\" style=\"fill:#c7e7f1;\"/>\n    <path clip-path=\"url(#p13e01d3b05)\" d=\"M 160.5145 294.118125 \nL 196.2265 294.118125 \nL 196.2265 330.358125 \nL 160.5145 330.358125 \nL 160.5145 294.118125 \n\" style=\"fill:#313695;\"/>\n    <path clip-path=\"url(#p13e01d3b05)\" d=\"M 196.2265 294.118125 \nL 231.9385 294.118125 \nL 231.9385 330.358125 \nL 196.2265 330.358125 \nL 196.2265 294.118125 \n\" style=\"fill:#313695;\"/>\n    <path clip-path=\"url(#p13e01d3b05)\" d=\"M 231.9385 294.118125 \nL 267.6505 294.118125 \nL 267.6505 330.358125 \nL 231.9385 330.358125 \nL 231.9385 294.118125 \n\" style=\"fill:#7ab2d4;\"/>\n    <path clip-path=\"url(#p13e01d3b05)\" d=\"M 267.6505 294.118125 \nL 303.3625 294.118125 \nL 303.3625 330.358125 \nL 267.6505 330.358125 \nL 267.6505 294.118125 \n\" style=\"fill:#cfebf3;\"/>\n    <path clip-path=\"url(#p13e01d3b05)\" d=\"M 303.3625 294.118125 \nL 339.0745 294.118125 \nL 339.0745 330.358125 \nL 303.3625 330.358125 \nL 303.3625 294.118125 \n\" style=\"fill:#374a9f;\"/>\n    <path clip-path=\"url(#p13e01d3b05)\" d=\"M 339.0745 294.118125 \nL 374.7865 294.118125 \nL 374.7865 330.358125 \nL 339.0745 330.358125 \nL 339.0745 294.118125 \n\" style=\"fill:#fff7b3;\"/>\n    <path clip-path=\"url(#p13e01d3b05)\" d=\"M 374.7865 294.118125 \nL 410.4985 294.118125 \nL 410.4985 330.358125 \nL 374.7865 330.358125 \nL 374.7865 294.118125 \n\" style=\"fill:#9fd0e4;\"/>\n    <path clip-path=\"url(#p13e01d3b05)\" d=\"M 410.4985 294.118125 \nL 446.2105 294.118125 \nL 446.2105 330.358125 \nL 410.4985 330.358125 \nL 410.4985 294.118125 \n\" style=\"fill:#a50026;\"/>\n    <path clip-path=\"url(#p13e01d3b05)\" d=\"M 446.2105 294.118125 \nL 481.9225 294.118125 \nL 481.9225 330.358125 \nL 446.2105 330.358125 \nL 446.2105 294.118125 \n\" style=\"fill:#fee79b;\"/>\n    <path clip-path=\"url(#p13e01d3b05)\" d=\"M 124.8025 330.358125 \nL 160.5145 330.358125 \nL 160.5145 366.598125 \nL 124.8025 366.598125 \nL 124.8025 330.358125 \n\" style=\"fill:#f57547;\"/>\n    <path clip-path=\"url(#p13e01d3b05)\" d=\"M 160.5145 330.358125 \nL 196.2265 330.358125 \nL 196.2265 366.598125 \nL 160.5145 366.598125 \nL 160.5145 330.358125 \n\" style=\"fill:#313695;\"/>\n    <path clip-path=\"url(#p13e01d3b05)\" d=\"M 196.2265 330.358125 \nL 231.9385 330.358125 \nL 231.9385 366.598125 \nL 196.2265 366.598125 \nL 196.2265 330.358125 \n\" style=\"fill:#313695;\"/>\n    <path clip-path=\"url(#p13e01d3b05)\" d=\"M 231.9385 330.358125 \nL 267.6505 330.358125 \nL 267.6505 366.598125 \nL 231.9385 366.598125 \nL 231.9385 330.358125 \n\" style=\"fill:#313695;\"/>\n    <path clip-path=\"url(#p13e01d3b05)\" d=\"M 267.6505 330.358125 \nL 303.3625 330.358125 \nL 303.3625 366.598125 \nL 267.6505 366.598125 \nL 267.6505 330.358125 \n\" style=\"fill:#fca55d;\"/>\n    <path clip-path=\"url(#p13e01d3b05)\" d=\"M 303.3625 330.358125 \nL 339.0745 330.358125 \nL 339.0745 366.598125 \nL 303.3625 366.598125 \nL 303.3625 330.358125 \n\" style=\"fill:#416aaf;\"/>\n    <path clip-path=\"url(#p13e01d3b05)\" d=\"M 339.0745 330.358125 \nL 374.7865 330.358125 \nL 374.7865 366.598125 \nL 339.0745 366.598125 \nL 339.0745 330.358125 \n\" style=\"fill:#a50026;\"/>\n    <path clip-path=\"url(#p13e01d3b05)\" d=\"M 374.7865 330.358125 \nL 410.4985 330.358125 \nL 410.4985 366.598125 \nL 374.7865 366.598125 \nL 374.7865 330.358125 \n\" style=\"fill:#aedbea;\"/>\n    <path clip-path=\"url(#p13e01d3b05)\" d=\"M 410.4985 330.358125 \nL 446.2105 330.358125 \nL 446.2105 366.598125 \nL 410.4985 366.598125 \nL 410.4985 330.358125 \n\" style=\"fill:#fee79b;\"/>\n    <path clip-path=\"url(#p13e01d3b05)\" d=\"M 446.2105 330.358125 \nL 481.9225 330.358125 \nL 481.9225 366.598125 \nL 446.2105 366.598125 \nL 446.2105 330.358125 \n\" style=\"fill:#a50026;\"/>\n   </g>\n   <g id=\"text_21\">\n    <!-- 1 -->\n    <defs>\n     <path d=\"M 12.40625 8.296875 \nL 28.515625 8.296875 \nL 28.515625 63.921875 \nL 10.984375 60.40625 \nL 10.984375 69.390625 \nL 28.421875 72.90625 \nL 38.28125 72.90625 \nL 38.28125 8.296875 \nL 54.390625 8.296875 \nL 54.390625 0 \nL 12.40625 0 \nz\n\" id=\"DejaVuSans-49\"/>\n    </defs>\n    <g style=\"fill:#ffffff;\" transform=\"translate(139.47725 25.0775)scale(0.1 -0.1)\">\n     <use xlink:href=\"#DejaVuSans-49\"/>\n    </g>\n   </g>\n   <g id=\"text_22\">\n    <!-- 0.31 -->\n    <defs>\n     <path d=\"M 31.78125 66.40625 \nQ 24.171875 66.40625 20.328125 58.90625 \nQ 16.5 51.421875 16.5 36.375 \nQ 16.5 21.390625 20.328125 13.890625 \nQ 24.171875 6.390625 31.78125 6.390625 \nQ 39.453125 6.390625 43.28125 13.890625 \nQ 47.125 21.390625 47.125 36.375 \nQ 47.125 51.421875 43.28125 58.90625 \nQ 39.453125 66.40625 31.78125 66.40625 \nz\nM 31.78125 74.21875 \nQ 44.046875 74.21875 50.515625 64.515625 \nQ 56.984375 54.828125 56.984375 36.375 \nQ 56.984375 17.96875 50.515625 8.265625 \nQ 44.046875 -1.421875 31.78125 -1.421875 \nQ 19.53125 -1.421875 13.0625 8.265625 \nQ 6.59375 17.96875 6.59375 36.375 \nQ 6.59375 54.828125 13.0625 64.515625 \nQ 19.53125 74.21875 31.78125 74.21875 \nz\n\" id=\"DejaVuSans-48\"/>\n     <path d=\"M 10.6875 12.40625 \nL 21 12.40625 \nL 21 0 \nL 10.6875 0 \nz\n\" id=\"DejaVuSans-46\"/>\n     <path d=\"M 40.578125 39.3125 \nQ 47.65625 37.796875 51.625 33 \nQ 55.609375 28.21875 55.609375 21.1875 \nQ 55.609375 10.40625 48.1875 4.484375 \nQ 40.765625 -1.421875 27.09375 -1.421875 \nQ 22.515625 -1.421875 17.65625 -0.515625 \nQ 12.796875 0.390625 7.625 2.203125 \nL 7.625 11.71875 \nQ 11.71875 9.328125 16.59375 8.109375 \nQ 21.484375 6.890625 26.8125 6.890625 \nQ 36.078125 6.890625 40.9375 10.546875 \nQ 45.796875 14.203125 45.796875 21.1875 \nQ 45.796875 27.640625 41.28125 31.265625 \nQ 36.765625 34.90625 28.71875 34.90625 \nL 20.21875 34.90625 \nL 20.21875 43.015625 \nL 29.109375 43.015625 \nQ 36.375 43.015625 40.234375 45.921875 \nQ 44.09375 48.828125 44.09375 54.296875 \nQ 44.09375 59.90625 40.109375 62.90625 \nQ 36.140625 65.921875 28.71875 65.921875 \nQ 24.65625 65.921875 20.015625 65.03125 \nQ 15.375 64.15625 9.8125 62.3125 \nL 9.8125 71.09375 \nQ 15.4375 72.65625 20.34375 73.4375 \nQ 25.25 74.21875 29.59375 74.21875 \nQ 40.828125 74.21875 47.359375 69.109375 \nQ 53.90625 64.015625 53.90625 55.328125 \nQ 53.90625 49.265625 50.4375 45.09375 \nQ 46.96875 40.921875 40.578125 39.3125 \nz\n\" id=\"DejaVuSans-51\"/>\n    </defs>\n    <g style=\"fill:#262626;\" transform=\"translate(167.237688 25.0775)scale(0.1 -0.1)\">\n     <use xlink:href=\"#DejaVuSans-48\"/>\n     <use x=\"63.623047\" xlink:href=\"#DejaVuSans-46\"/>\n     <use x=\"95.410156\" xlink:href=\"#DejaVuSans-51\"/>\n     <use x=\"159.033203\" xlink:href=\"#DejaVuSans-49\"/>\n    </g>\n   </g>\n   <g id=\"text_23\">\n    <!-- 0.093 -->\n    <defs>\n     <path d=\"M 10.984375 1.515625 \nL 10.984375 10.5 \nQ 14.703125 8.734375 18.5 7.8125 \nQ 22.3125 6.890625 25.984375 6.890625 \nQ 35.75 6.890625 40.890625 13.453125 \nQ 46.046875 20.015625 46.78125 33.40625 \nQ 43.953125 29.203125 39.59375 26.953125 \nQ 35.25 24.703125 29.984375 24.703125 \nQ 19.046875 24.703125 12.671875 31.3125 \nQ 6.296875 37.9375 6.296875 49.421875 \nQ 6.296875 60.640625 12.9375 67.421875 \nQ 19.578125 74.21875 30.609375 74.21875 \nQ 43.265625 74.21875 49.921875 64.515625 \nQ 56.59375 54.828125 56.59375 36.375 \nQ 56.59375 19.140625 48.40625 8.859375 \nQ 40.234375 -1.421875 26.421875 -1.421875 \nQ 22.703125 -1.421875 18.890625 -0.6875 \nQ 15.09375 0.046875 10.984375 1.515625 \nz\nM 30.609375 32.421875 \nQ 37.25 32.421875 41.125 36.953125 \nQ 45.015625 41.5 45.015625 49.421875 \nQ 45.015625 57.28125 41.125 61.84375 \nQ 37.25 66.40625 30.609375 66.40625 \nQ 23.96875 66.40625 20.09375 61.84375 \nQ 16.21875 57.28125 16.21875 49.421875 \nQ 16.21875 41.5 20.09375 36.953125 \nQ 23.96875 32.421875 30.609375 32.421875 \nz\n\" id=\"DejaVuSans-57\"/>\n    </defs>\n    <g style=\"fill:#262626;\" transform=\"translate(199.768438 25.0775)scale(0.1 -0.1)\">\n     <use xlink:href=\"#DejaVuSans-48\"/>\n     <use x=\"63.623047\" xlink:href=\"#DejaVuSans-46\"/>\n     <use x=\"95.410156\" xlink:href=\"#DejaVuSans-48\"/>\n     <use x=\"159.033203\" xlink:href=\"#DejaVuSans-57\"/>\n     <use x=\"222.65625\" xlink:href=\"#DejaVuSans-51\"/>\n    </g>\n   </g>\n   <g id=\"text_24\">\n    <!-- -0.18 -->\n    <defs>\n     <path d=\"M 4.890625 31.390625 \nL 31.203125 31.390625 \nL 31.203125 23.390625 \nL 4.890625 23.390625 \nz\n\" id=\"DejaVuSans-45\"/>\n     <path d=\"M 31.78125 34.625 \nQ 24.75 34.625 20.71875 30.859375 \nQ 16.703125 27.09375 16.703125 20.515625 \nQ 16.703125 13.921875 20.71875 10.15625 \nQ 24.75 6.390625 31.78125 6.390625 \nQ 38.8125 6.390625 42.859375 10.171875 \nQ 46.921875 13.96875 46.921875 20.515625 \nQ 46.921875 27.09375 42.890625 30.859375 \nQ 38.875 34.625 31.78125 34.625 \nz\nM 21.921875 38.8125 \nQ 15.578125 40.375 12.03125 44.71875 \nQ 8.5 49.078125 8.5 55.328125 \nQ 8.5 64.0625 14.71875 69.140625 \nQ 20.953125 74.21875 31.78125 74.21875 \nQ 42.671875 74.21875 48.875 69.140625 \nQ 55.078125 64.0625 55.078125 55.328125 \nQ 55.078125 49.078125 51.53125 44.71875 \nQ 48 40.375 41.703125 38.8125 \nQ 48.828125 37.15625 52.796875 32.3125 \nQ 56.78125 27.484375 56.78125 20.515625 \nQ 56.78125 9.90625 50.3125 4.234375 \nQ 43.84375 -1.421875 31.78125 -1.421875 \nQ 19.734375 -1.421875 13.25 4.234375 \nQ 6.78125 9.90625 6.78125 20.515625 \nQ 6.78125 27.484375 10.78125 32.3125 \nQ 14.796875 37.15625 21.921875 38.8125 \nz\nM 18.3125 54.390625 \nQ 18.3125 48.734375 21.84375 45.5625 \nQ 25.390625 42.390625 31.78125 42.390625 \nQ 38.140625 42.390625 41.71875 45.5625 \nQ 45.3125 48.734375 45.3125 54.390625 \nQ 45.3125 60.0625 41.71875 63.234375 \nQ 38.140625 66.40625 31.78125 66.40625 \nQ 25.390625 66.40625 21.84375 63.234375 \nQ 18.3125 60.0625 18.3125 54.390625 \nz\n\" id=\"DejaVuSans-56\"/>\n    </defs>\n    <g style=\"fill:#ffffff;\" transform=\"translate(236.857781 25.0775)scale(0.1 -0.1)\">\n     <use xlink:href=\"#DejaVuSans-45\"/>\n     <use x=\"36.083984\" xlink:href=\"#DejaVuSans-48\"/>\n     <use x=\"99.707031\" xlink:href=\"#DejaVuSans-46\"/>\n     <use x=\"131.494141\" xlink:href=\"#DejaVuSans-49\"/>\n     <use x=\"195.117188\" xlink:href=\"#DejaVuSans-56\"/>\n    </g>\n   </g>\n   <g id=\"text_25\">\n    <!-- 0.15 -->\n    <defs>\n     <path d=\"M 10.796875 72.90625 \nL 49.515625 72.90625 \nL 49.515625 64.59375 \nL 19.828125 64.59375 \nL 19.828125 46.734375 \nQ 21.96875 47.46875 24.109375 47.828125 \nQ 26.265625 48.1875 28.421875 48.1875 \nQ 40.625 48.1875 47.75 41.5 \nQ 54.890625 34.8125 54.890625 23.390625 \nQ 54.890625 11.625 47.5625 5.09375 \nQ 40.234375 -1.421875 26.90625 -1.421875 \nQ 22.3125 -1.421875 17.546875 -0.640625 \nQ 12.796875 0.140625 7.71875 1.703125 \nL 7.71875 11.625 \nQ 12.109375 9.234375 16.796875 8.0625 \nQ 21.484375 6.890625 26.703125 6.890625 \nQ 35.15625 6.890625 40.078125 11.328125 \nQ 45.015625 15.765625 45.015625 23.390625 \nQ 45.015625 31 40.078125 35.4375 \nQ 35.15625 39.890625 26.703125 39.890625 \nQ 22.75 39.890625 18.8125 39.015625 \nQ 14.890625 38.140625 10.796875 36.28125 \nz\n\" id=\"DejaVuSans-53\"/>\n    </defs>\n    <g style=\"fill:#262626;\" transform=\"translate(274.373688 25.0775)scale(0.1 -0.1)\">\n     <use xlink:href=\"#DejaVuSans-48\"/>\n     <use x=\"63.623047\" xlink:href=\"#DejaVuSans-46\"/>\n     <use x=\"95.410156\" xlink:href=\"#DejaVuSans-49\"/>\n     <use x=\"159.033203\" xlink:href=\"#DejaVuSans-53\"/>\n    </g>\n   </g>\n   <g id=\"text_26\">\n    <!-- 0.29 -->\n    <g style=\"fill:#262626;\" transform=\"translate(310.085688 25.0775)scale(0.1 -0.1)\">\n     <use xlink:href=\"#DejaVuSans-48\"/>\n     <use x=\"63.623047\" xlink:href=\"#DejaVuSans-46\"/>\n     <use x=\"95.410156\" xlink:href=\"#DejaVuSans-50\"/>\n     <use x=\"159.033203\" xlink:href=\"#DejaVuSans-57\"/>\n    </g>\n   </g>\n   <g id=\"text_27\">\n    <!-- 0.41 -->\n    <defs>\n     <path d=\"M 37.796875 64.3125 \nL 12.890625 25.390625 \nL 37.796875 25.390625 \nz\nM 35.203125 72.90625 \nL 47.609375 72.90625 \nL 47.609375 25.390625 \nL 58.015625 25.390625 \nL 58.015625 17.1875 \nL 47.609375 17.1875 \nL 47.609375 0 \nL 37.796875 0 \nL 37.796875 17.1875 \nL 4.890625 17.1875 \nL 4.890625 26.703125 \nz\n\" id=\"DejaVuSans-52\"/>\n    </defs>\n    <g style=\"fill:#ffffff;\" transform=\"translate(345.797688 25.0775)scale(0.1 -0.1)\">\n     <use xlink:href=\"#DejaVuSans-48\"/>\n     <use x=\"63.623047\" xlink:href=\"#DejaVuSans-46\"/>\n     <use x=\"95.410156\" xlink:href=\"#DejaVuSans-52\"/>\n     <use x=\"159.033203\" xlink:href=\"#DejaVuSans-49\"/>\n    </g>\n   </g>\n   <g id=\"text_28\">\n    <!-- 0.0068 -->\n    <defs>\n     <path d=\"M 33.015625 40.375 \nQ 26.375 40.375 22.484375 35.828125 \nQ 18.609375 31.296875 18.609375 23.390625 \nQ 18.609375 15.53125 22.484375 10.953125 \nQ 26.375 6.390625 33.015625 6.390625 \nQ 39.65625 6.390625 43.53125 10.953125 \nQ 47.40625 15.53125 47.40625 23.390625 \nQ 47.40625 31.296875 43.53125 35.828125 \nQ 39.65625 40.375 33.015625 40.375 \nz\nM 52.59375 71.296875 \nL 52.59375 62.3125 \nQ 48.875 64.0625 45.09375 64.984375 \nQ 41.3125 65.921875 37.59375 65.921875 \nQ 27.828125 65.921875 22.671875 59.328125 \nQ 17.53125 52.734375 16.796875 39.40625 \nQ 19.671875 43.65625 24.015625 45.921875 \nQ 28.375 48.1875 33.59375 48.1875 \nQ 44.578125 48.1875 50.953125 41.515625 \nQ 57.328125 34.859375 57.328125 23.390625 \nQ 57.328125 12.15625 50.6875 5.359375 \nQ 44.046875 -1.421875 33.015625 -1.421875 \nQ 20.359375 -1.421875 13.671875 8.265625 \nQ 6.984375 17.96875 6.984375 36.375 \nQ 6.984375 53.65625 15.1875 63.9375 \nQ 23.390625 74.21875 37.203125 74.21875 \nQ 40.921875 74.21875 44.703125 73.484375 \nQ 48.484375 72.75 52.59375 71.296875 \nz\n\" id=\"DejaVuSans-54\"/>\n    </defs>\n    <g style=\"fill:#262626;\" transform=\"translate(375.147188 25.0775)scale(0.1 -0.1)\">\n     <use xlink:href=\"#DejaVuSans-48\"/>\n     <use x=\"63.623047\" xlink:href=\"#DejaVuSans-46\"/>\n     <use x=\"95.410156\" xlink:href=\"#DejaVuSans-48\"/>\n     <use x=\"159.033203\" xlink:href=\"#DejaVuSans-48\"/>\n     <use x=\"222.65625\" xlink:href=\"#DejaVuSans-54\"/>\n     <use x=\"286.279297\" xlink:href=\"#DejaVuSans-56\"/>\n    </g>\n   </g>\n   <g id=\"text_29\">\n    <!-- 0.052 -->\n    <g style=\"fill:#262626;\" transform=\"translate(414.040438 25.0775)scale(0.1 -0.1)\">\n     <use xlink:href=\"#DejaVuSans-48\"/>\n     <use x=\"63.623047\" xlink:href=\"#DejaVuSans-46\"/>\n     <use x=\"95.410156\" xlink:href=\"#DejaVuSans-48\"/>\n     <use x=\"159.033203\" xlink:href=\"#DejaVuSans-53\"/>\n     <use x=\"222.65625\" xlink:href=\"#DejaVuSans-50\"/>\n    </g>\n   </g>\n   <g id=\"text_30\">\n    <!-- 0.42 -->\n    <g style=\"fill:#ffffff;\" transform=\"translate(452.933688 25.0775)scale(0.1 -0.1)\">\n     <use xlink:href=\"#DejaVuSans-48\"/>\n     <use x=\"63.623047\" xlink:href=\"#DejaVuSans-46\"/>\n     <use x=\"95.410156\" xlink:href=\"#DejaVuSans-52\"/>\n     <use x=\"159.033203\" xlink:href=\"#DejaVuSans-50\"/>\n    </g>\n   </g>\n   <g id=\"text_31\">\n    <!-- 0.31 -->\n    <g style=\"fill:#262626;\" transform=\"translate(131.525688 61.3175)scale(0.1 -0.1)\">\n     <use xlink:href=\"#DejaVuSans-48\"/>\n     <use x=\"63.623047\" xlink:href=\"#DejaVuSans-46\"/>\n     <use x=\"95.410156\" xlink:href=\"#DejaVuSans-51\"/>\n     <use x=\"159.033203\" xlink:href=\"#DejaVuSans-49\"/>\n    </g>\n   </g>\n   <g id=\"text_32\">\n    <!-- 1 -->\n    <g style=\"fill:#ffffff;\" transform=\"translate(175.18925 61.3175)scale(0.1 -0.1)\">\n     <use xlink:href=\"#DejaVuSans-49\"/>\n    </g>\n   </g>\n   <g id=\"text_33\">\n    <!-- 0.75 -->\n    <defs>\n     <path d=\"M 8.203125 72.90625 \nL 55.078125 72.90625 \nL 55.078125 68.703125 \nL 28.609375 0 \nL 18.3125 0 \nL 43.21875 64.59375 \nL 8.203125 64.59375 \nz\n\" id=\"DejaVuSans-55\"/>\n    </defs>\n    <g style=\"fill:#ffffff;\" transform=\"translate(202.949688 61.3175)scale(0.1 -0.1)\">\n     <use xlink:href=\"#DejaVuSans-48\"/>\n     <use x=\"63.623047\" xlink:href=\"#DejaVuSans-46\"/>\n     <use x=\"95.410156\" xlink:href=\"#DejaVuSans-55\"/>\n     <use x=\"159.033203\" xlink:href=\"#DejaVuSans-53\"/>\n    </g>\n   </g>\n   <g id=\"text_34\">\n    <!-- 0.08 -->\n    <g style=\"fill:#262626;\" transform=\"translate(238.661688 61.3175)scale(0.1 -0.1)\">\n     <use xlink:href=\"#DejaVuSans-48\"/>\n     <use x=\"63.623047\" xlink:href=\"#DejaVuSans-46\"/>\n     <use x=\"95.410156\" xlink:href=\"#DejaVuSans-48\"/>\n     <use x=\"159.033203\" xlink:href=\"#DejaVuSans-56\"/>\n    </g>\n   </g>\n   <g id=\"text_35\">\n    <!-- -0.058 -->\n    <g style=\"fill:#262626;\" transform=\"translate(269.388531 61.3175)scale(0.1 -0.1)\">\n     <use xlink:href=\"#DejaVuSans-45\"/>\n     <use x=\"36.083984\" xlink:href=\"#DejaVuSans-48\"/>\n     <use x=\"99.707031\" xlink:href=\"#DejaVuSans-46\"/>\n     <use x=\"131.494141\" xlink:href=\"#DejaVuSans-48\"/>\n     <use x=\"195.117188\" xlink:href=\"#DejaVuSans-53\"/>\n     <use x=\"258.740234\" xlink:href=\"#DejaVuSans-56\"/>\n    </g>\n   </g>\n   <g id=\"text_36\">\n    <!-- 0.37 -->\n    <g style=\"fill:#262626;\" transform=\"translate(310.085688 61.3175)scale(0.1 -0.1)\">\n     <use xlink:href=\"#DejaVuSans-48\"/>\n     <use x=\"63.623047\" xlink:href=\"#DejaVuSans-46\"/>\n     <use x=\"95.410156\" xlink:href=\"#DejaVuSans-51\"/>\n     <use x=\"159.033203\" xlink:href=\"#DejaVuSans-55\"/>\n    </g>\n   </g>\n   <g id=\"text_37\">\n    <!-- -0.44 -->\n    <g style=\"fill:#ffffff;\" transform=\"translate(343.993781 61.3175)scale(0.1 -0.1)\">\n     <use xlink:href=\"#DejaVuSans-45\"/>\n     <use x=\"36.083984\" xlink:href=\"#DejaVuSans-48\"/>\n     <use x=\"99.707031\" xlink:href=\"#DejaVuSans-46\"/>\n     <use x=\"131.494141\" xlink:href=\"#DejaVuSans-52\"/>\n     <use x=\"195.117188\" xlink:href=\"#DejaVuSans-52\"/>\n    </g>\n   </g>\n   <g id=\"text_38\">\n    <!-- 0.1 -->\n    <g style=\"fill:#262626;\" transform=\"translate(384.690938 61.3175)scale(0.1 -0.1)\">\n     <use xlink:href=\"#DejaVuSans-48\"/>\n     <use x=\"63.623047\" xlink:href=\"#DejaVuSans-46\"/>\n     <use x=\"95.410156\" xlink:href=\"#DejaVuSans-49\"/>\n    </g>\n   </g>\n   <g id=\"text_39\">\n    <!-- -0.41 -->\n    <g style=\"fill:#ffffff;\" transform=\"translate(415.417781 61.3175)scale(0.1 -0.1)\">\n     <use xlink:href=\"#DejaVuSans-45\"/>\n     <use x=\"36.083984\" xlink:href=\"#DejaVuSans-48\"/>\n     <use x=\"99.707031\" xlink:href=\"#DejaVuSans-46\"/>\n     <use x=\"131.494141\" xlink:href=\"#DejaVuSans-52\"/>\n     <use x=\"195.117188\" xlink:href=\"#DejaVuSans-49\"/>\n    </g>\n   </g>\n   <g id=\"text_40\">\n    <!-- -0.45 -->\n    <g style=\"fill:#ffffff;\" transform=\"translate(451.129781 61.3175)scale(0.1 -0.1)\">\n     <use xlink:href=\"#DejaVuSans-45\"/>\n     <use x=\"36.083984\" xlink:href=\"#DejaVuSans-48\"/>\n     <use x=\"99.707031\" xlink:href=\"#DejaVuSans-46\"/>\n     <use x=\"131.494141\" xlink:href=\"#DejaVuSans-52\"/>\n     <use x=\"195.117188\" xlink:href=\"#DejaVuSans-53\"/>\n    </g>\n   </g>\n   <g id=\"text_41\">\n    <!-- 0.093 -->\n    <g style=\"fill:#262626;\" transform=\"translate(128.344437 97.5575)scale(0.1 -0.1)\">\n     <use xlink:href=\"#DejaVuSans-48\"/>\n     <use x=\"63.623047\" xlink:href=\"#DejaVuSans-46\"/>\n     <use x=\"95.410156\" xlink:href=\"#DejaVuSans-48\"/>\n     <use x=\"159.033203\" xlink:href=\"#DejaVuSans-57\"/>\n     <use x=\"222.65625\" xlink:href=\"#DejaVuSans-51\"/>\n    </g>\n   </g>\n   <g id=\"text_42\">\n    <!-- 0.75 -->\n    <g style=\"fill:#ffffff;\" transform=\"translate(167.237688 97.5575)scale(0.1 -0.1)\">\n     <use xlink:href=\"#DejaVuSans-48\"/>\n     <use x=\"63.623047\" xlink:href=\"#DejaVuSans-46\"/>\n     <use x=\"95.410156\" xlink:href=\"#DejaVuSans-55\"/>\n     <use x=\"159.033203\" xlink:href=\"#DejaVuSans-53\"/>\n    </g>\n   </g>\n   <g id=\"text_43\">\n    <!-- 1 -->\n    <g style=\"fill:#ffffff;\" transform=\"translate(210.90125 97.5575)scale(0.1 -0.1)\">\n     <use xlink:href=\"#DejaVuSans-49\"/>\n    </g>\n   </g>\n   <g id=\"text_44\">\n    <!-- 0.4 -->\n    <g style=\"fill:#ffffff;\" transform=\"translate(241.842938 97.5575)scale(0.1 -0.1)\">\n     <use xlink:href=\"#DejaVuSans-48\"/>\n     <use x=\"63.623047\" xlink:href=\"#DejaVuSans-46\"/>\n     <use x=\"95.410156\" xlink:href=\"#DejaVuSans-52\"/>\n    </g>\n   </g>\n   <g id=\"text_45\">\n    <!-- -0.28 -->\n    <g style=\"fill:#ffffff;\" transform=\"translate(272.569781 97.5575)scale(0.1 -0.1)\">\n     <use xlink:href=\"#DejaVuSans-45\"/>\n     <use x=\"36.083984\" xlink:href=\"#DejaVuSans-48\"/>\n     <use x=\"99.707031\" xlink:href=\"#DejaVuSans-46\"/>\n     <use x=\"131.494141\" xlink:href=\"#DejaVuSans-50\"/>\n     <use x=\"195.117188\" xlink:href=\"#DejaVuSans-56\"/>\n    </g>\n   </g>\n   <g id=\"text_46\">\n    <!-- 0.34 -->\n    <g style=\"fill:#262626;\" transform=\"translate(310.085688 97.5575)scale(0.1 -0.1)\">\n     <use xlink:href=\"#DejaVuSans-48\"/>\n     <use x=\"63.623047\" xlink:href=\"#DejaVuSans-46\"/>\n     <use x=\"95.410156\" xlink:href=\"#DejaVuSans-51\"/>\n     <use x=\"159.033203\" xlink:href=\"#DejaVuSans-52\"/>\n    </g>\n   </g>\n   <g id=\"text_47\">\n    <!-- -0.54 -->\n    <g style=\"fill:#ffffff;\" transform=\"translate(343.993781 97.5575)scale(0.1 -0.1)\">\n     <use xlink:href=\"#DejaVuSans-45\"/>\n     <use x=\"36.083984\" xlink:href=\"#DejaVuSans-48\"/>\n     <use x=\"99.707031\" xlink:href=\"#DejaVuSans-46\"/>\n     <use x=\"131.494141\" xlink:href=\"#DejaVuSans-53\"/>\n     <use x=\"195.117188\" xlink:href=\"#DejaVuSans-52\"/>\n    </g>\n   </g>\n   <g id=\"text_48\">\n    <!-- -0.21 -->\n    <g style=\"fill:#ffffff;\" transform=\"translate(379.705781 97.5575)scale(0.1 -0.1)\">\n     <use xlink:href=\"#DejaVuSans-45\"/>\n     <use x=\"36.083984\" xlink:href=\"#DejaVuSans-48\"/>\n     <use x=\"99.707031\" xlink:href=\"#DejaVuSans-46\"/>\n     <use x=\"131.494141\" xlink:href=\"#DejaVuSans-50\"/>\n     <use x=\"195.117188\" xlink:href=\"#DejaVuSans-49\"/>\n    </g>\n   </g>\n   <g id=\"text_49\">\n    <!-- -0.26 -->\n    <g style=\"fill:#ffffff;\" transform=\"translate(415.417781 97.5575)scale(0.1 -0.1)\">\n     <use xlink:href=\"#DejaVuSans-45\"/>\n     <use x=\"36.083984\" xlink:href=\"#DejaVuSans-48\"/>\n     <use x=\"99.707031\" xlink:href=\"#DejaVuSans-46\"/>\n     <use x=\"131.494141\" xlink:href=\"#DejaVuSans-50\"/>\n     <use x=\"195.117188\" xlink:href=\"#DejaVuSans-54\"/>\n    </g>\n   </g>\n   <g id=\"text_50\">\n    <!-- -0.65 -->\n    <g style=\"fill:#ffffff;\" transform=\"translate(451.129781 97.5575)scale(0.1 -0.1)\">\n     <use xlink:href=\"#DejaVuSans-45\"/>\n     <use x=\"36.083984\" xlink:href=\"#DejaVuSans-48\"/>\n     <use x=\"99.707031\" xlink:href=\"#DejaVuSans-46\"/>\n     <use x=\"131.494141\" xlink:href=\"#DejaVuSans-54\"/>\n     <use x=\"195.117188\" xlink:href=\"#DejaVuSans-53\"/>\n    </g>\n   </g>\n   <g id=\"text_51\">\n    <!-- -0.18 -->\n    <g style=\"fill:#ffffff;\" transform=\"translate(129.721781 133.7975)scale(0.1 -0.1)\">\n     <use xlink:href=\"#DejaVuSans-45\"/>\n     <use x=\"36.083984\" xlink:href=\"#DejaVuSans-48\"/>\n     <use x=\"99.707031\" xlink:href=\"#DejaVuSans-46\"/>\n     <use x=\"131.494141\" xlink:href=\"#DejaVuSans-49\"/>\n     <use x=\"195.117188\" xlink:href=\"#DejaVuSans-56\"/>\n    </g>\n   </g>\n   <g id=\"text_52\">\n    <!-- 0.08 -->\n    <g style=\"fill:#262626;\" transform=\"translate(167.237688 133.7975)scale(0.1 -0.1)\">\n     <use xlink:href=\"#DejaVuSans-48\"/>\n     <use x=\"63.623047\" xlink:href=\"#DejaVuSans-46\"/>\n     <use x=\"95.410156\" xlink:href=\"#DejaVuSans-48\"/>\n     <use x=\"159.033203\" xlink:href=\"#DejaVuSans-56\"/>\n    </g>\n   </g>\n   <g id=\"text_53\">\n    <!-- 0.4 -->\n    <g style=\"fill:#ffffff;\" transform=\"translate(206.130938 133.7975)scale(0.1 -0.1)\">\n     <use xlink:href=\"#DejaVuSans-48\"/>\n     <use x=\"63.623047\" xlink:href=\"#DejaVuSans-46\"/>\n     <use x=\"95.410156\" xlink:href=\"#DejaVuSans-52\"/>\n    </g>\n   </g>\n   <g id=\"text_54\">\n    <!-- 1 -->\n    <g style=\"fill:#ffffff;\" transform=\"translate(246.61325 133.7975)scale(0.1 -0.1)\">\n     <use xlink:href=\"#DejaVuSans-49\"/>\n    </g>\n   </g>\n   <g id=\"text_55\">\n    <!-- -0.37 -->\n    <g style=\"fill:#ffffff;\" transform=\"translate(272.569781 133.7975)scale(0.1 -0.1)\">\n     <use xlink:href=\"#DejaVuSans-45\"/>\n     <use x=\"36.083984\" xlink:href=\"#DejaVuSans-48\"/>\n     <use x=\"99.707031\" xlink:href=\"#DejaVuSans-46\"/>\n     <use x=\"131.494141\" xlink:href=\"#DejaVuSans-51\"/>\n     <use x=\"195.117188\" xlink:href=\"#DejaVuSans-55\"/>\n    </g>\n   </g>\n   <g id=\"text_56\">\n    <!-- -0.098 -->\n    <g style=\"fill:#ffffff;\" transform=\"translate(305.100531 133.7975)scale(0.1 -0.1)\">\n     <use xlink:href=\"#DejaVuSans-45\"/>\n     <use x=\"36.083984\" xlink:href=\"#DejaVuSans-48\"/>\n     <use x=\"99.707031\" xlink:href=\"#DejaVuSans-46\"/>\n     <use x=\"131.494141\" xlink:href=\"#DejaVuSans-48\"/>\n     <use x=\"195.117188\" xlink:href=\"#DejaVuSans-57\"/>\n     <use x=\"258.740234\" xlink:href=\"#DejaVuSans-56\"/>\n    </g>\n   </g>\n   <g id=\"text_57\">\n    <!-- -0.22 -->\n    <g style=\"fill:#ffffff;\" transform=\"translate(343.993781 133.7975)scale(0.1 -0.1)\">\n     <use xlink:href=\"#DejaVuSans-45\"/>\n     <use x=\"36.083984\" xlink:href=\"#DejaVuSans-48\"/>\n     <use x=\"99.707031\" xlink:href=\"#DejaVuSans-46\"/>\n     <use x=\"131.494141\" xlink:href=\"#DejaVuSans-50\"/>\n     <use x=\"195.117188\" xlink:href=\"#DejaVuSans-50\"/>\n    </g>\n   </g>\n   <g id=\"text_58\">\n    <!-- -0.27 -->\n    <g style=\"fill:#ffffff;\" transform=\"translate(379.705781 133.7975)scale(0.1 -0.1)\">\n     <use xlink:href=\"#DejaVuSans-45\"/>\n     <use x=\"36.083984\" xlink:href=\"#DejaVuSans-48\"/>\n     <use x=\"99.707031\" xlink:href=\"#DejaVuSans-46\"/>\n     <use x=\"131.494141\" xlink:href=\"#DejaVuSans-50\"/>\n     <use x=\"195.117188\" xlink:href=\"#DejaVuSans-55\"/>\n    </g>\n   </g>\n   <g id=\"text_59\">\n    <!-- -0.071 -->\n    <g style=\"fill:#262626;\" transform=\"translate(412.236531 133.7975)scale(0.1 -0.1)\">\n     <use xlink:href=\"#DejaVuSans-45\"/>\n     <use x=\"36.083984\" xlink:href=\"#DejaVuSans-48\"/>\n     <use x=\"99.707031\" xlink:href=\"#DejaVuSans-46\"/>\n     <use x=\"131.494141\" xlink:href=\"#DejaVuSans-48\"/>\n     <use x=\"195.117188\" xlink:href=\"#DejaVuSans-55\"/>\n     <use x=\"258.740234\" xlink:href=\"#DejaVuSans-49\"/>\n    </g>\n   </g>\n   <g id=\"text_60\">\n    <!-- -0.46 -->\n    <g style=\"fill:#ffffff;\" transform=\"translate(451.129781 133.7975)scale(0.1 -0.1)\">\n     <use xlink:href=\"#DejaVuSans-45\"/>\n     <use x=\"36.083984\" xlink:href=\"#DejaVuSans-48\"/>\n     <use x=\"99.707031\" xlink:href=\"#DejaVuSans-46\"/>\n     <use x=\"131.494141\" xlink:href=\"#DejaVuSans-52\"/>\n     <use x=\"195.117188\" xlink:href=\"#DejaVuSans-54\"/>\n    </g>\n   </g>\n   <g id=\"text_61\">\n    <!-- 0.15 -->\n    <g style=\"fill:#262626;\" transform=\"translate(131.525688 170.0375)scale(0.1 -0.1)\">\n     <use xlink:href=\"#DejaVuSans-48\"/>\n     <use x=\"63.623047\" xlink:href=\"#DejaVuSans-46\"/>\n     <use x=\"95.410156\" xlink:href=\"#DejaVuSans-49\"/>\n     <use x=\"159.033203\" xlink:href=\"#DejaVuSans-53\"/>\n    </g>\n   </g>\n   <g id=\"text_62\">\n    <!-- -0.058 -->\n    <g style=\"fill:#262626;\" transform=\"translate(162.252531 170.0375)scale(0.1 -0.1)\">\n     <use xlink:href=\"#DejaVuSans-45\"/>\n     <use x=\"36.083984\" xlink:href=\"#DejaVuSans-48\"/>\n     <use x=\"99.707031\" xlink:href=\"#DejaVuSans-46\"/>\n     <use x=\"131.494141\" xlink:href=\"#DejaVuSans-48\"/>\n     <use x=\"195.117188\" xlink:href=\"#DejaVuSans-53\"/>\n     <use x=\"258.740234\" xlink:href=\"#DejaVuSans-56\"/>\n    </g>\n   </g>\n   <g id=\"text_63\">\n    <!-- -0.28 -->\n    <g style=\"fill:#ffffff;\" transform=\"translate(201.145781 170.0375)scale(0.1 -0.1)\">\n     <use xlink:href=\"#DejaVuSans-45\"/>\n     <use x=\"36.083984\" xlink:href=\"#DejaVuSans-48\"/>\n     <use x=\"99.707031\" xlink:href=\"#DejaVuSans-46\"/>\n     <use x=\"131.494141\" xlink:href=\"#DejaVuSans-50\"/>\n     <use x=\"195.117188\" xlink:href=\"#DejaVuSans-56\"/>\n    </g>\n   </g>\n   <g id=\"text_64\">\n    <!-- -0.37 -->\n    <g style=\"fill:#ffffff;\" transform=\"translate(236.857781 170.0375)scale(0.1 -0.1)\">\n     <use xlink:href=\"#DejaVuSans-45\"/>\n     <use x=\"36.083984\" xlink:href=\"#DejaVuSans-48\"/>\n     <use x=\"99.707031\" xlink:href=\"#DejaVuSans-46\"/>\n     <use x=\"131.494141\" xlink:href=\"#DejaVuSans-51\"/>\n     <use x=\"195.117188\" xlink:href=\"#DejaVuSans-55\"/>\n    </g>\n   </g>\n   <g id=\"text_65\">\n    <!-- 1 -->\n    <g style=\"fill:#ffffff;\" transform=\"translate(282.32525 170.0375)scale(0.1 -0.1)\">\n     <use xlink:href=\"#DejaVuSans-49\"/>\n    </g>\n   </g>\n   <g id=\"text_66\">\n    <!-- -0.061 -->\n    <g style=\"fill:#262626;\" transform=\"translate(305.100531 170.0375)scale(0.1 -0.1)\">\n     <use xlink:href=\"#DejaVuSans-45\"/>\n     <use x=\"36.083984\" xlink:href=\"#DejaVuSans-48\"/>\n     <use x=\"99.707031\" xlink:href=\"#DejaVuSans-46\"/>\n     <use x=\"131.494141\" xlink:href=\"#DejaVuSans-48\"/>\n     <use x=\"195.117188\" xlink:href=\"#DejaVuSans-54\"/>\n     <use x=\"258.740234\" xlink:href=\"#DejaVuSans-49\"/>\n    </g>\n   </g>\n   <g id=\"text_67\">\n    <!-- 0.23 -->\n    <g style=\"fill:#262626;\" transform=\"translate(345.797688 170.0375)scale(0.1 -0.1)\">\n     <use xlink:href=\"#DejaVuSans-48\"/>\n     <use x=\"63.623047\" xlink:href=\"#DejaVuSans-46\"/>\n     <use x=\"95.410156\" xlink:href=\"#DejaVuSans-50\"/>\n     <use x=\"159.033203\" xlink:href=\"#DejaVuSans-51\"/>\n    </g>\n   </g>\n   <g id=\"text_68\">\n    <!-- 0.0015 -->\n    <g style=\"fill:#262626;\" transform=\"translate(375.147188 170.0375)scale(0.1 -0.1)\">\n     <use xlink:href=\"#DejaVuSans-48\"/>\n     <use x=\"63.623047\" xlink:href=\"#DejaVuSans-46\"/>\n     <use x=\"95.410156\" xlink:href=\"#DejaVuSans-48\"/>\n     <use x=\"159.033203\" xlink:href=\"#DejaVuSans-48\"/>\n     <use x=\"222.65625\" xlink:href=\"#DejaVuSans-49\"/>\n     <use x=\"286.279297\" xlink:href=\"#DejaVuSans-53\"/>\n    </g>\n   </g>\n   <g id=\"text_69\">\n    <!-- 0.065 -->\n    <g style=\"fill:#262626;\" transform=\"translate(414.040438 170.0375)scale(0.1 -0.1)\">\n     <use xlink:href=\"#DejaVuSans-48\"/>\n     <use x=\"63.623047\" xlink:href=\"#DejaVuSans-46\"/>\n     <use x=\"95.410156\" xlink:href=\"#DejaVuSans-48\"/>\n     <use x=\"159.033203\" xlink:href=\"#DejaVuSans-54\"/>\n     <use x=\"222.65625\" xlink:href=\"#DejaVuSans-53\"/>\n    </g>\n   </g>\n   <g id=\"text_70\">\n    <!-- 0.36 -->\n    <g style=\"fill:#262626;\" transform=\"translate(452.933688 170.0375)scale(0.1 -0.1)\">\n     <use xlink:href=\"#DejaVuSans-48\"/>\n     <use x=\"63.623047\" xlink:href=\"#DejaVuSans-46\"/>\n     <use x=\"95.410156\" xlink:href=\"#DejaVuSans-51\"/>\n     <use x=\"159.033203\" xlink:href=\"#DejaVuSans-54\"/>\n    </g>\n   </g>\n   <g id=\"text_71\">\n    <!-- 0.29 -->\n    <g style=\"fill:#262626;\" transform=\"translate(131.525688 206.2775)scale(0.1 -0.1)\">\n     <use xlink:href=\"#DejaVuSans-48\"/>\n     <use x=\"63.623047\" xlink:href=\"#DejaVuSans-46\"/>\n     <use x=\"95.410156\" xlink:href=\"#DejaVuSans-50\"/>\n     <use x=\"159.033203\" xlink:href=\"#DejaVuSans-57\"/>\n    </g>\n   </g>\n   <g id=\"text_72\">\n    <!-- 0.37 -->\n    <g style=\"fill:#262626;\" transform=\"translate(167.237688 206.2775)scale(0.1 -0.1)\">\n     <use xlink:href=\"#DejaVuSans-48\"/>\n     <use x=\"63.623047\" xlink:href=\"#DejaVuSans-46\"/>\n     <use x=\"95.410156\" xlink:href=\"#DejaVuSans-51\"/>\n     <use x=\"159.033203\" xlink:href=\"#DejaVuSans-55\"/>\n    </g>\n   </g>\n   <g id=\"text_73\">\n    <!-- 0.34 -->\n    <g style=\"fill:#262626;\" transform=\"translate(202.949688 206.2775)scale(0.1 -0.1)\">\n     <use xlink:href=\"#DejaVuSans-48\"/>\n     <use x=\"63.623047\" xlink:href=\"#DejaVuSans-46\"/>\n     <use x=\"95.410156\" xlink:href=\"#DejaVuSans-51\"/>\n     <use x=\"159.033203\" xlink:href=\"#DejaVuSans-52\"/>\n    </g>\n   </g>\n   <g id=\"text_74\">\n    <!-- -0.098 -->\n    <g style=\"fill:#ffffff;\" transform=\"translate(233.676531 206.2775)scale(0.1 -0.1)\">\n     <use xlink:href=\"#DejaVuSans-45\"/>\n     <use x=\"36.083984\" xlink:href=\"#DejaVuSans-48\"/>\n     <use x=\"99.707031\" xlink:href=\"#DejaVuSans-46\"/>\n     <use x=\"131.494141\" xlink:href=\"#DejaVuSans-48\"/>\n     <use x=\"195.117188\" xlink:href=\"#DejaVuSans-57\"/>\n     <use x=\"258.740234\" xlink:href=\"#DejaVuSans-56\"/>\n    </g>\n   </g>\n   <g id=\"text_75\">\n    <!-- -0.061 -->\n    <g style=\"fill:#262626;\" transform=\"translate(269.388531 206.2775)scale(0.1 -0.1)\">\n     <use xlink:href=\"#DejaVuSans-45\"/>\n     <use x=\"36.083984\" xlink:href=\"#DejaVuSans-48\"/>\n     <use x=\"99.707031\" xlink:href=\"#DejaVuSans-46\"/>\n     <use x=\"131.494141\" xlink:href=\"#DejaVuSans-48\"/>\n     <use x=\"195.117188\" xlink:href=\"#DejaVuSans-54\"/>\n     <use x=\"258.740234\" xlink:href=\"#DejaVuSans-49\"/>\n    </g>\n   </g>\n   <g id=\"text_76\">\n    <!-- 1 -->\n    <g style=\"fill:#ffffff;\" transform=\"translate(318.03725 206.2775)scale(0.1 -0.1)\">\n     <use xlink:href=\"#DejaVuSans-49\"/>\n    </g>\n   </g>\n   <g id=\"text_77\">\n    <!-- -0.23 -->\n    <g style=\"fill:#ffffff;\" transform=\"translate(343.993781 206.2775)scale(0.1 -0.1)\">\n     <use xlink:href=\"#DejaVuSans-45\"/>\n     <use x=\"36.083984\" xlink:href=\"#DejaVuSans-48\"/>\n     <use x=\"99.707031\" xlink:href=\"#DejaVuSans-46\"/>\n     <use x=\"131.494141\" xlink:href=\"#DejaVuSans-50\"/>\n     <use x=\"195.117188\" xlink:href=\"#DejaVuSans-51\"/>\n    </g>\n   </g>\n   <g id=\"text_78\">\n    <!-- 0.039 -->\n    <g style=\"fill:#262626;\" transform=\"translate(378.328438 206.2775)scale(0.1 -0.1)\">\n     <use xlink:href=\"#DejaVuSans-48\"/>\n     <use x=\"63.623047\" xlink:href=\"#DejaVuSans-46\"/>\n     <use x=\"95.410156\" xlink:href=\"#DejaVuSans-48\"/>\n     <use x=\"159.033203\" xlink:href=\"#DejaVuSans-51\"/>\n     <use x=\"222.65625\" xlink:href=\"#DejaVuSans-57\"/>\n    </g>\n   </g>\n   <g id=\"text_79\">\n    <!-- -0.22 -->\n    <g style=\"fill:#ffffff;\" transform=\"translate(415.417781 206.2775)scale(0.1 -0.1)\">\n     <use xlink:href=\"#DejaVuSans-45\"/>\n     <use x=\"36.083984\" xlink:href=\"#DejaVuSans-48\"/>\n     <use x=\"99.707031\" xlink:href=\"#DejaVuSans-46\"/>\n     <use x=\"131.494141\" xlink:href=\"#DejaVuSans-50\"/>\n     <use x=\"195.117188\" xlink:href=\"#DejaVuSans-50\"/>\n    </g>\n   </g>\n   <g id=\"text_80\">\n    <!-- -0.18 -->\n    <g style=\"fill:#ffffff;\" transform=\"translate(451.129781 206.2775)scale(0.1 -0.1)\">\n     <use xlink:href=\"#DejaVuSans-45\"/>\n     <use x=\"36.083984\" xlink:href=\"#DejaVuSans-48\"/>\n     <use x=\"99.707031\" xlink:href=\"#DejaVuSans-46\"/>\n     <use x=\"131.494141\" xlink:href=\"#DejaVuSans-49\"/>\n     <use x=\"195.117188\" xlink:href=\"#DejaVuSans-56\"/>\n    </g>\n   </g>\n   <g id=\"text_81\">\n    <!-- 0.41 -->\n    <g style=\"fill:#ffffff;\" transform=\"translate(131.525688 242.5175)scale(0.1 -0.1)\">\n     <use xlink:href=\"#DejaVuSans-48\"/>\n     <use x=\"63.623047\" xlink:href=\"#DejaVuSans-46\"/>\n     <use x=\"95.410156\" xlink:href=\"#DejaVuSans-52\"/>\n     <use x=\"159.033203\" xlink:href=\"#DejaVuSans-49\"/>\n    </g>\n   </g>\n   <g id=\"text_82\">\n    <!-- -0.44 -->\n    <g style=\"fill:#ffffff;\" transform=\"translate(165.433781 242.5175)scale(0.1 -0.1)\">\n     <use xlink:href=\"#DejaVuSans-45\"/>\n     <use x=\"36.083984\" xlink:href=\"#DejaVuSans-48\"/>\n     <use x=\"99.707031\" xlink:href=\"#DejaVuSans-46\"/>\n     <use x=\"131.494141\" xlink:href=\"#DejaVuSans-52\"/>\n     <use x=\"195.117188\" xlink:href=\"#DejaVuSans-52\"/>\n    </g>\n   </g>\n   <g id=\"text_83\">\n    <!-- -0.54 -->\n    <g style=\"fill:#ffffff;\" transform=\"translate(201.145781 242.5175)scale(0.1 -0.1)\">\n     <use xlink:href=\"#DejaVuSans-45\"/>\n     <use x=\"36.083984\" xlink:href=\"#DejaVuSans-48\"/>\n     <use x=\"99.707031\" xlink:href=\"#DejaVuSans-46\"/>\n     <use x=\"131.494141\" xlink:href=\"#DejaVuSans-53\"/>\n     <use x=\"195.117188\" xlink:href=\"#DejaVuSans-52\"/>\n    </g>\n   </g>\n   <g id=\"text_84\">\n    <!-- -0.22 -->\n    <g style=\"fill:#ffffff;\" transform=\"translate(236.857781 242.5175)scale(0.1 -0.1)\">\n     <use xlink:href=\"#DejaVuSans-45\"/>\n     <use x=\"36.083984\" xlink:href=\"#DejaVuSans-48\"/>\n     <use x=\"99.707031\" xlink:href=\"#DejaVuSans-46\"/>\n     <use x=\"131.494141\" xlink:href=\"#DejaVuSans-50\"/>\n     <use x=\"195.117188\" xlink:href=\"#DejaVuSans-50\"/>\n    </g>\n   </g>\n   <g id=\"text_85\">\n    <!-- 0.23 -->\n    <g style=\"fill:#262626;\" transform=\"translate(274.373688 242.5175)scale(0.1 -0.1)\">\n     <use xlink:href=\"#DejaVuSans-48\"/>\n     <use x=\"63.623047\" xlink:href=\"#DejaVuSans-46\"/>\n     <use x=\"95.410156\" xlink:href=\"#DejaVuSans-50\"/>\n     <use x=\"159.033203\" xlink:href=\"#DejaVuSans-51\"/>\n    </g>\n   </g>\n   <g id=\"text_86\">\n    <!-- -0.23 -->\n    <g style=\"fill:#ffffff;\" transform=\"translate(308.281781 242.5175)scale(0.1 -0.1)\">\n     <use xlink:href=\"#DejaVuSans-45\"/>\n     <use x=\"36.083984\" xlink:href=\"#DejaVuSans-48\"/>\n     <use x=\"99.707031\" xlink:href=\"#DejaVuSans-46\"/>\n     <use x=\"131.494141\" xlink:href=\"#DejaVuSans-50\"/>\n     <use x=\"195.117188\" xlink:href=\"#DejaVuSans-51\"/>\n    </g>\n   </g>\n   <g id=\"text_87\">\n    <!-- 1 -->\n    <g style=\"fill:#ffffff;\" transform=\"translate(353.74925 242.5175)scale(0.1 -0.1)\">\n     <use xlink:href=\"#DejaVuSans-49\"/>\n    </g>\n   </g>\n   <g id=\"text_88\">\n    <!-- -0.0032 -->\n    <g style=\"fill:#262626;\" transform=\"translate(373.343281 242.5175)scale(0.1 -0.1)\">\n     <use xlink:href=\"#DejaVuSans-45\"/>\n     <use x=\"36.083984\" xlink:href=\"#DejaVuSans-48\"/>\n     <use x=\"99.707031\" xlink:href=\"#DejaVuSans-46\"/>\n     <use x=\"131.494141\" xlink:href=\"#DejaVuSans-48\"/>\n     <use x=\"195.117188\" xlink:href=\"#DejaVuSans-48\"/>\n     <use x=\"258.740234\" xlink:href=\"#DejaVuSans-51\"/>\n     <use x=\"322.363281\" xlink:href=\"#DejaVuSans-50\"/>\n    </g>\n   </g>\n   <g id=\"text_89\">\n    <!-- 0.2 -->\n    <g style=\"fill:#262626;\" transform=\"translate(420.402938 242.5175)scale(0.1 -0.1)\">\n     <use xlink:href=\"#DejaVuSans-48\"/>\n     <use x=\"63.623047\" xlink:href=\"#DejaVuSans-46\"/>\n     <use x=\"95.410156\" xlink:href=\"#DejaVuSans-50\"/>\n    </g>\n   </g>\n   <g id=\"text_90\">\n    <!-- 0.69 -->\n    <g style=\"fill:#ffffff;\" transform=\"translate(452.933688 242.5175)scale(0.1 -0.1)\">\n     <use xlink:href=\"#DejaVuSans-48\"/>\n     <use x=\"63.623047\" xlink:href=\"#DejaVuSans-46\"/>\n     <use x=\"95.410156\" xlink:href=\"#DejaVuSans-54\"/>\n     <use x=\"159.033203\" xlink:href=\"#DejaVuSans-57\"/>\n    </g>\n   </g>\n   <g id=\"text_91\">\n    <!-- 0.0068 -->\n    <g style=\"fill:#262626;\" transform=\"translate(125.163188 278.7575)scale(0.1 -0.1)\">\n     <use xlink:href=\"#DejaVuSans-48\"/>\n     <use x=\"63.623047\" xlink:href=\"#DejaVuSans-46\"/>\n     <use x=\"95.410156\" xlink:href=\"#DejaVuSans-48\"/>\n     <use x=\"159.033203\" xlink:href=\"#DejaVuSans-48\"/>\n     <use x=\"222.65625\" xlink:href=\"#DejaVuSans-54\"/>\n     <use x=\"286.279297\" xlink:href=\"#DejaVuSans-56\"/>\n    </g>\n   </g>\n   <g id=\"text_92\">\n    <!-- 0.1 -->\n    <g style=\"fill:#262626;\" transform=\"translate(170.418938 278.7575)scale(0.1 -0.1)\">\n     <use xlink:href=\"#DejaVuSans-48\"/>\n     <use x=\"63.623047\" xlink:href=\"#DejaVuSans-46\"/>\n     <use x=\"95.410156\" xlink:href=\"#DejaVuSans-49\"/>\n    </g>\n   </g>\n   <g id=\"text_93\">\n    <!-- -0.21 -->\n    <g style=\"fill:#ffffff;\" transform=\"translate(201.145781 278.7575)scale(0.1 -0.1)\">\n     <use xlink:href=\"#DejaVuSans-45\"/>\n     <use x=\"36.083984\" xlink:href=\"#DejaVuSans-48\"/>\n     <use x=\"99.707031\" xlink:href=\"#DejaVuSans-46\"/>\n     <use x=\"131.494141\" xlink:href=\"#DejaVuSans-50\"/>\n     <use x=\"195.117188\" xlink:href=\"#DejaVuSans-49\"/>\n    </g>\n   </g>\n   <g id=\"text_94\">\n    <!-- -0.27 -->\n    <g style=\"fill:#ffffff;\" transform=\"translate(236.857781 278.7575)scale(0.1 -0.1)\">\n     <use xlink:href=\"#DejaVuSans-45\"/>\n     <use x=\"36.083984\" xlink:href=\"#DejaVuSans-48\"/>\n     <use x=\"99.707031\" xlink:href=\"#DejaVuSans-46\"/>\n     <use x=\"131.494141\" xlink:href=\"#DejaVuSans-50\"/>\n     <use x=\"195.117188\" xlink:href=\"#DejaVuSans-55\"/>\n    </g>\n   </g>\n   <g id=\"text_95\">\n    <!-- 0.0015 -->\n    <g style=\"fill:#262626;\" transform=\"translate(268.011188 278.7575)scale(0.1 -0.1)\">\n     <use xlink:href=\"#DejaVuSans-48\"/>\n     <use x=\"63.623047\" xlink:href=\"#DejaVuSans-46\"/>\n     <use x=\"95.410156\" xlink:href=\"#DejaVuSans-48\"/>\n     <use x=\"159.033203\" xlink:href=\"#DejaVuSans-48\"/>\n     <use x=\"222.65625\" xlink:href=\"#DejaVuSans-49\"/>\n     <use x=\"286.279297\" xlink:href=\"#DejaVuSans-53\"/>\n    </g>\n   </g>\n   <g id=\"text_96\">\n    <!-- 0.039 -->\n    <g style=\"fill:#262626;\" transform=\"translate(306.904438 278.7575)scale(0.1 -0.1)\">\n     <use xlink:href=\"#DejaVuSans-48\"/>\n     <use x=\"63.623047\" xlink:href=\"#DejaVuSans-46\"/>\n     <use x=\"95.410156\" xlink:href=\"#DejaVuSans-48\"/>\n     <use x=\"159.033203\" xlink:href=\"#DejaVuSans-51\"/>\n     <use x=\"222.65625\" xlink:href=\"#DejaVuSans-57\"/>\n    </g>\n   </g>\n   <g id=\"text_97\">\n    <!-- -0.0032 -->\n    <g style=\"fill:#262626;\" transform=\"translate(337.631281 278.7575)scale(0.1 -0.1)\">\n     <use xlink:href=\"#DejaVuSans-45\"/>\n     <use x=\"36.083984\" xlink:href=\"#DejaVuSans-48\"/>\n     <use x=\"99.707031\" xlink:href=\"#DejaVuSans-46\"/>\n     <use x=\"131.494141\" xlink:href=\"#DejaVuSans-48\"/>\n     <use x=\"195.117188\" xlink:href=\"#DejaVuSans-48\"/>\n     <use x=\"258.740234\" xlink:href=\"#DejaVuSans-51\"/>\n     <use x=\"322.363281\" xlink:href=\"#DejaVuSans-50\"/>\n    </g>\n   </g>\n   <g id=\"text_98\">\n    <!-- 1 -->\n    <g style=\"fill:#ffffff;\" transform=\"translate(389.46125 278.7575)scale(0.1 -0.1)\">\n     <use xlink:href=\"#DejaVuSans-49\"/>\n    </g>\n   </g>\n   <g id=\"text_99\">\n    <!-- -0.013 -->\n    <g style=\"fill:#262626;\" transform=\"translate(412.236531 278.7575)scale(0.1 -0.1)\">\n     <use xlink:href=\"#DejaVuSans-45\"/>\n     <use x=\"36.083984\" xlink:href=\"#DejaVuSans-48\"/>\n     <use x=\"99.707031\" xlink:href=\"#DejaVuSans-46\"/>\n     <use x=\"131.494141\" xlink:href=\"#DejaVuSans-48\"/>\n     <use x=\"195.117188\" xlink:href=\"#DejaVuSans-49\"/>\n     <use x=\"258.740234\" xlink:href=\"#DejaVuSans-51\"/>\n    </g>\n   </g>\n   <g id=\"text_100\">\n    <!-- 0.011 -->\n    <g style=\"fill:#262626;\" transform=\"translate(449.752438 278.7575)scale(0.1 -0.1)\">\n     <use xlink:href=\"#DejaVuSans-48\"/>\n     <use x=\"63.623047\" xlink:href=\"#DejaVuSans-46\"/>\n     <use x=\"95.410156\" xlink:href=\"#DejaVuSans-48\"/>\n     <use x=\"159.033203\" xlink:href=\"#DejaVuSans-49\"/>\n     <use x=\"222.65625\" xlink:href=\"#DejaVuSans-49\"/>\n    </g>\n   </g>\n   <g id=\"text_101\">\n    <!-- 0.052 -->\n    <g style=\"fill:#262626;\" transform=\"translate(128.344437 314.9975)scale(0.1 -0.1)\">\n     <use xlink:href=\"#DejaVuSans-48\"/>\n     <use x=\"63.623047\" xlink:href=\"#DejaVuSans-46\"/>\n     <use x=\"95.410156\" xlink:href=\"#DejaVuSans-48\"/>\n     <use x=\"159.033203\" xlink:href=\"#DejaVuSans-53\"/>\n     <use x=\"222.65625\" xlink:href=\"#DejaVuSans-50\"/>\n    </g>\n   </g>\n   <g id=\"text_102\">\n    <!-- -0.41 -->\n    <g style=\"fill:#ffffff;\" transform=\"translate(165.433781 314.9975)scale(0.1 -0.1)\">\n     <use xlink:href=\"#DejaVuSans-45\"/>\n     <use x=\"36.083984\" xlink:href=\"#DejaVuSans-48\"/>\n     <use x=\"99.707031\" xlink:href=\"#DejaVuSans-46\"/>\n     <use x=\"131.494141\" xlink:href=\"#DejaVuSans-52\"/>\n     <use x=\"195.117188\" xlink:href=\"#DejaVuSans-49\"/>\n    </g>\n   </g>\n   <g id=\"text_103\">\n    <!-- -0.26 -->\n    <g style=\"fill:#ffffff;\" transform=\"translate(201.145781 314.9975)scale(0.1 -0.1)\">\n     <use xlink:href=\"#DejaVuSans-45\"/>\n     <use x=\"36.083984\" xlink:href=\"#DejaVuSans-48\"/>\n     <use x=\"99.707031\" xlink:href=\"#DejaVuSans-46\"/>\n     <use x=\"131.494141\" xlink:href=\"#DejaVuSans-50\"/>\n     <use x=\"195.117188\" xlink:href=\"#DejaVuSans-54\"/>\n    </g>\n   </g>\n   <g id=\"text_104\">\n    <!-- -0.071 -->\n    <g style=\"fill:#262626;\" transform=\"translate(233.676531 314.9975)scale(0.1 -0.1)\">\n     <use xlink:href=\"#DejaVuSans-45\"/>\n     <use x=\"36.083984\" xlink:href=\"#DejaVuSans-48\"/>\n     <use x=\"99.707031\" xlink:href=\"#DejaVuSans-46\"/>\n     <use x=\"131.494141\" xlink:href=\"#DejaVuSans-48\"/>\n     <use x=\"195.117188\" xlink:href=\"#DejaVuSans-55\"/>\n     <use x=\"258.740234\" xlink:href=\"#DejaVuSans-49\"/>\n    </g>\n   </g>\n   <g id=\"text_105\">\n    <!-- 0.065 -->\n    <g style=\"fill:#262626;\" transform=\"translate(271.192438 314.9975)scale(0.1 -0.1)\">\n     <use xlink:href=\"#DejaVuSans-48\"/>\n     <use x=\"63.623047\" xlink:href=\"#DejaVuSans-46\"/>\n     <use x=\"95.410156\" xlink:href=\"#DejaVuSans-48\"/>\n     <use x=\"159.033203\" xlink:href=\"#DejaVuSans-54\"/>\n     <use x=\"222.65625\" xlink:href=\"#DejaVuSans-53\"/>\n    </g>\n   </g>\n   <g id=\"text_106\">\n    <!-- -0.22 -->\n    <g style=\"fill:#ffffff;\" transform=\"translate(308.281781 314.9975)scale(0.1 -0.1)\">\n     <use xlink:href=\"#DejaVuSans-45\"/>\n     <use x=\"36.083984\" xlink:href=\"#DejaVuSans-48\"/>\n     <use x=\"99.707031\" xlink:href=\"#DejaVuSans-46\"/>\n     <use x=\"131.494141\" xlink:href=\"#DejaVuSans-50\"/>\n     <use x=\"195.117188\" xlink:href=\"#DejaVuSans-50\"/>\n    </g>\n   </g>\n   <g id=\"text_107\">\n    <!-- 0.2 -->\n    <g style=\"fill:#262626;\" transform=\"translate(348.978938 314.9975)scale(0.1 -0.1)\">\n     <use xlink:href=\"#DejaVuSans-48\"/>\n     <use x=\"63.623047\" xlink:href=\"#DejaVuSans-46\"/>\n     <use x=\"95.410156\" xlink:href=\"#DejaVuSans-50\"/>\n    </g>\n   </g>\n   <g id=\"text_108\">\n    <!-- -0.013 -->\n    <g style=\"fill:#262626;\" transform=\"translate(376.524531 314.9975)scale(0.1 -0.1)\">\n     <use xlink:href=\"#DejaVuSans-45\"/>\n     <use x=\"36.083984\" xlink:href=\"#DejaVuSans-48\"/>\n     <use x=\"99.707031\" xlink:href=\"#DejaVuSans-46\"/>\n     <use x=\"131.494141\" xlink:href=\"#DejaVuSans-48\"/>\n     <use x=\"195.117188\" xlink:href=\"#DejaVuSans-49\"/>\n     <use x=\"258.740234\" xlink:href=\"#DejaVuSans-51\"/>\n    </g>\n   </g>\n   <g id=\"text_109\">\n    <!-- 1 -->\n    <g style=\"fill:#ffffff;\" transform=\"translate(425.17325 314.9975)scale(0.1 -0.1)\">\n     <use xlink:href=\"#DejaVuSans-49\"/>\n    </g>\n   </g>\n   <g id=\"text_110\">\n    <!-- 0.24 -->\n    <g style=\"fill:#262626;\" transform=\"translate(452.933688 314.9975)scale(0.1 -0.1)\">\n     <use xlink:href=\"#DejaVuSans-48\"/>\n     <use x=\"63.623047\" xlink:href=\"#DejaVuSans-46\"/>\n     <use x=\"95.410156\" xlink:href=\"#DejaVuSans-50\"/>\n     <use x=\"159.033203\" xlink:href=\"#DejaVuSans-52\"/>\n    </g>\n   </g>\n   <g id=\"text_111\">\n    <!-- 0.42 -->\n    <g style=\"fill:#ffffff;\" transform=\"translate(131.525688 351.2375)scale(0.1 -0.1)\">\n     <use xlink:href=\"#DejaVuSans-48\"/>\n     <use x=\"63.623047\" xlink:href=\"#DejaVuSans-46\"/>\n     <use x=\"95.410156\" xlink:href=\"#DejaVuSans-52\"/>\n     <use x=\"159.033203\" xlink:href=\"#DejaVuSans-50\"/>\n    </g>\n   </g>\n   <g id=\"text_112\">\n    <!-- -0.45 -->\n    <g style=\"fill:#ffffff;\" transform=\"translate(165.433781 351.2375)scale(0.1 -0.1)\">\n     <use xlink:href=\"#DejaVuSans-45\"/>\n     <use x=\"36.083984\" xlink:href=\"#DejaVuSans-48\"/>\n     <use x=\"99.707031\" xlink:href=\"#DejaVuSans-46\"/>\n     <use x=\"131.494141\" xlink:href=\"#DejaVuSans-52\"/>\n     <use x=\"195.117188\" xlink:href=\"#DejaVuSans-53\"/>\n    </g>\n   </g>\n   <g id=\"text_113\">\n    <!-- -0.65 -->\n    <g style=\"fill:#ffffff;\" transform=\"translate(201.145781 351.2375)scale(0.1 -0.1)\">\n     <use xlink:href=\"#DejaVuSans-45\"/>\n     <use x=\"36.083984\" xlink:href=\"#DejaVuSans-48\"/>\n     <use x=\"99.707031\" xlink:href=\"#DejaVuSans-46\"/>\n     <use x=\"131.494141\" xlink:href=\"#DejaVuSans-54\"/>\n     <use x=\"195.117188\" xlink:href=\"#DejaVuSans-53\"/>\n    </g>\n   </g>\n   <g id=\"text_114\">\n    <!-- -0.46 -->\n    <g style=\"fill:#ffffff;\" transform=\"translate(236.857781 351.2375)scale(0.1 -0.1)\">\n     <use xlink:href=\"#DejaVuSans-45\"/>\n     <use x=\"36.083984\" xlink:href=\"#DejaVuSans-48\"/>\n     <use x=\"99.707031\" xlink:href=\"#DejaVuSans-46\"/>\n     <use x=\"131.494141\" xlink:href=\"#DejaVuSans-52\"/>\n     <use x=\"195.117188\" xlink:href=\"#DejaVuSans-54\"/>\n    </g>\n   </g>\n   <g id=\"text_115\">\n    <!-- 0.36 -->\n    <g style=\"fill:#262626;\" transform=\"translate(274.373688 351.2375)scale(0.1 -0.1)\">\n     <use xlink:href=\"#DejaVuSans-48\"/>\n     <use x=\"63.623047\" xlink:href=\"#DejaVuSans-46\"/>\n     <use x=\"95.410156\" xlink:href=\"#DejaVuSans-51\"/>\n     <use x=\"159.033203\" xlink:href=\"#DejaVuSans-54\"/>\n    </g>\n   </g>\n   <g id=\"text_116\">\n    <!-- -0.18 -->\n    <g style=\"fill:#ffffff;\" transform=\"translate(308.281781 351.2375)scale(0.1 -0.1)\">\n     <use xlink:href=\"#DejaVuSans-45\"/>\n     <use x=\"36.083984\" xlink:href=\"#DejaVuSans-48\"/>\n     <use x=\"99.707031\" xlink:href=\"#DejaVuSans-46\"/>\n     <use x=\"131.494141\" xlink:href=\"#DejaVuSans-49\"/>\n     <use x=\"195.117188\" xlink:href=\"#DejaVuSans-56\"/>\n    </g>\n   </g>\n   <g id=\"text_117\">\n    <!-- 0.69 -->\n    <g style=\"fill:#ffffff;\" transform=\"translate(345.797688 351.2375)scale(0.1 -0.1)\">\n     <use xlink:href=\"#DejaVuSans-48\"/>\n     <use x=\"63.623047\" xlink:href=\"#DejaVuSans-46\"/>\n     <use x=\"95.410156\" xlink:href=\"#DejaVuSans-54\"/>\n     <use x=\"159.033203\" xlink:href=\"#DejaVuSans-57\"/>\n    </g>\n   </g>\n   <g id=\"text_118\">\n    <!-- 0.011 -->\n    <g style=\"fill:#262626;\" transform=\"translate(378.328438 351.2375)scale(0.1 -0.1)\">\n     <use xlink:href=\"#DejaVuSans-48\"/>\n     <use x=\"63.623047\" xlink:href=\"#DejaVuSans-46\"/>\n     <use x=\"95.410156\" xlink:href=\"#DejaVuSans-48\"/>\n     <use x=\"159.033203\" xlink:href=\"#DejaVuSans-49\"/>\n     <use x=\"222.65625\" xlink:href=\"#DejaVuSans-49\"/>\n    </g>\n   </g>\n   <g id=\"text_119\">\n    <!-- 0.24 -->\n    <g style=\"fill:#262626;\" transform=\"translate(417.221688 351.2375)scale(0.1 -0.1)\">\n     <use xlink:href=\"#DejaVuSans-48\"/>\n     <use x=\"63.623047\" xlink:href=\"#DejaVuSans-46\"/>\n     <use x=\"95.410156\" xlink:href=\"#DejaVuSans-50\"/>\n     <use x=\"159.033203\" xlink:href=\"#DejaVuSans-52\"/>\n    </g>\n   </g>\n   <g id=\"text_120\">\n    <!-- 1 -->\n    <g style=\"fill:#ffffff;\" transform=\"translate(460.88525 351.2375)scale(0.1 -0.1)\">\n     <use xlink:href=\"#DejaVuSans-49\"/>\n    </g>\n   </g>\n   <g id=\"text_121\">\n    <!-- Correlation Heatmap -->\n    <defs>\n     <path d=\"M 64.40625 67.28125 \nL 64.40625 56.890625 \nQ 59.421875 61.53125 53.78125 63.8125 \nQ 48.140625 66.109375 41.796875 66.109375 \nQ 29.296875 66.109375 22.65625 58.46875 \nQ 16.015625 50.828125 16.015625 36.375 \nQ 16.015625 21.96875 22.65625 14.328125 \nQ 29.296875 6.6875 41.796875 6.6875 \nQ 48.140625 6.6875 53.78125 8.984375 \nQ 59.421875 11.28125 64.40625 15.921875 \nL 64.40625 5.609375 \nQ 59.234375 2.09375 53.4375 0.328125 \nQ 47.65625 -1.421875 41.21875 -1.421875 \nQ 24.65625 -1.421875 15.125 8.703125 \nQ 5.609375 18.84375 5.609375 36.375 \nQ 5.609375 53.953125 15.125 64.078125 \nQ 24.65625 74.21875 41.21875 74.21875 \nQ 47.75 74.21875 53.53125 72.484375 \nQ 59.328125 70.75 64.40625 67.28125 \nz\n\" id=\"DejaVuSans-67\"/>\n     <path id=\"DejaVuSans-32\"/>\n     <path d=\"M 9.8125 72.90625 \nL 19.671875 72.90625 \nL 19.671875 43.015625 \nL 55.515625 43.015625 \nL 55.515625 72.90625 \nL 65.375 72.90625 \nL 65.375 0 \nL 55.515625 0 \nL 55.515625 34.71875 \nL 19.671875 34.71875 \nL 19.671875 0 \nL 9.8125 0 \nz\n\" id=\"DejaVuSans-72\"/>\n    </defs>\n    <g style=\"fill:#262626;\" transform=\"translate(240.5725 16.318125)scale(0.12 -0.12)\">\n     <use xlink:href=\"#DejaVuSans-67\"/>\n     <use x=\"69.824219\" xlink:href=\"#DejaVuSans-111\"/>\n     <use x=\"131.005859\" xlink:href=\"#DejaVuSans-114\"/>\n     <use x=\"172.103516\" xlink:href=\"#DejaVuSans-114\"/>\n     <use x=\"213.185547\" xlink:href=\"#DejaVuSans-101\"/>\n     <use x=\"274.708984\" xlink:href=\"#DejaVuSans-108\"/>\n     <use x=\"302.492188\" xlink:href=\"#DejaVuSans-97\"/>\n     <use x=\"363.771484\" xlink:href=\"#DejaVuSans-116\"/>\n     <use x=\"402.980469\" xlink:href=\"#DejaVuSans-105\"/>\n     <use x=\"430.763672\" xlink:href=\"#DejaVuSans-111\"/>\n     <use x=\"491.945312\" xlink:href=\"#DejaVuSans-110\"/>\n     <use x=\"555.324219\" xlink:href=\"#DejaVuSans-32\"/>\n     <use x=\"587.111328\" xlink:href=\"#DejaVuSans-72\"/>\n     <use x=\"662.306641\" xlink:href=\"#DejaVuSans-101\"/>\n     <use x=\"723.830078\" xlink:href=\"#DejaVuSans-97\"/>\n     <use x=\"785.109375\" xlink:href=\"#DejaVuSans-116\"/>\n     <use x=\"824.318359\" xlink:href=\"#DejaVuSans-109\"/>\n     <use x=\"921.730469\" xlink:href=\"#DejaVuSans-97\"/>\n     <use x=\"983.009766\" xlink:href=\"#DejaVuSans-112\"/>\n    </g>\n   </g>\n  </g>\n  <g id=\"axes_2\">\n   <g id=\"patch_3\">\n    <path clip-path=\"url(#p0cabce5011)\" d=\"M 504.2425 348.478125 \nL 504.2425 347.204062 \nL 504.2425 23.592187 \nL 504.2425 22.318125 \nL 520.5505 22.318125 \nL 520.5505 23.592187 \nL 520.5505 347.204062 \nL 520.5505 348.478125 \nz\n\" style=\"fill:#eaeaf2;stroke:#eaeaf2;stroke-linejoin:miter;stroke-width:0.01;\"/>\n   </g>\n   <g id=\"matplotlib.axis_3\"/>\n   <g id=\"matplotlib.axis_4\">\n    <g id=\"ytick_11\">\n     <g id=\"line2d_1\">\n      <defs>\n       <path d=\"M 0 0 \nL 6 0 \n\" id=\"m38e165b7dd\" style=\"stroke:#262626;stroke-width:1.25;\"/>\n      </defs>\n      <g>\n       <use style=\"fill:#262626;stroke:#262626;stroke-width:1.25;\" x=\"520.5505\" xlink:href=\"#m38e165b7dd\" y=\"310.10636\"/>\n      </g>\n     </g>\n     <g id=\"text_122\">\n      <!-- −0.15 -->\n      <defs>\n       <path d=\"M 10.59375 35.5 \nL 73.1875 35.5 \nL 73.1875 27.203125 \nL 10.59375 27.203125 \nz\n\" id=\"DejaVuSans-8722\"/>\n      </defs>\n      <g style=\"fill:#262626;\" transform=\"translate(530.0505 314.285501)scale(0.11 -0.11)\">\n       <use xlink:href=\"#DejaVuSans-8722\"/>\n       <use x=\"83.789062\" xlink:href=\"#DejaVuSans-48\"/>\n       <use x=\"147.412109\" xlink:href=\"#DejaVuSans-46\"/>\n       <use x=\"179.199219\" xlink:href=\"#DejaVuSans-49\"/>\n       <use x=\"242.822266\" xlink:href=\"#DejaVuSans-53\"/>\n      </g>\n     </g>\n    </g>\n    <g id=\"ytick_12\">\n     <g id=\"line2d_2\">\n      <g>\n       <use style=\"fill:#262626;stroke:#262626;stroke-width:1.25;\" x=\"520.5505\" xlink:href=\"#m38e165b7dd\" y=\"252.548713\"/>\n      </g>\n     </g>\n     <g id=\"text_123\">\n      <!-- 0.00 -->\n      <g style=\"fill:#262626;\" transform=\"translate(530.0505 256.727854)scale(0.11 -0.11)\">\n       <use xlink:href=\"#DejaVuSans-48\"/>\n       <use x=\"63.623047\" xlink:href=\"#DejaVuSans-46\"/>\n       <use x=\"95.410156\" xlink:href=\"#DejaVuSans-48\"/>\n       <use x=\"159.033203\" xlink:href=\"#DejaVuSans-48\"/>\n      </g>\n     </g>\n    </g>\n    <g id=\"ytick_13\">\n     <g id=\"line2d_3\">\n      <g>\n       <use style=\"fill:#262626;stroke:#262626;stroke-width:1.25;\" x=\"520.5505\" xlink:href=\"#m38e165b7dd\" y=\"194.991066\"/>\n      </g>\n     </g>\n     <g id=\"text_124\">\n      <!-- 0.15 -->\n      <g style=\"fill:#262626;\" transform=\"translate(530.0505 199.170207)scale(0.11 -0.11)\">\n       <use xlink:href=\"#DejaVuSans-48\"/>\n       <use x=\"63.623047\" xlink:href=\"#DejaVuSans-46\"/>\n       <use x=\"95.410156\" xlink:href=\"#DejaVuSans-49\"/>\n       <use x=\"159.033203\" xlink:href=\"#DejaVuSans-53\"/>\n      </g>\n     </g>\n    </g>\n    <g id=\"ytick_14\">\n     <g id=\"line2d_4\">\n      <g>\n       <use style=\"fill:#262626;stroke:#262626;stroke-width:1.25;\" x=\"520.5505\" xlink:href=\"#m38e165b7dd\" y=\"137.433419\"/>\n      </g>\n     </g>\n     <g id=\"text_125\">\n      <!-- 0.30 -->\n      <g style=\"fill:#262626;\" transform=\"translate(530.0505 141.61256)scale(0.11 -0.11)\">\n       <use xlink:href=\"#DejaVuSans-48\"/>\n       <use x=\"63.623047\" xlink:href=\"#DejaVuSans-46\"/>\n       <use x=\"95.410156\" xlink:href=\"#DejaVuSans-51\"/>\n       <use x=\"159.033203\" xlink:href=\"#DejaVuSans-48\"/>\n      </g>\n     </g>\n    </g>\n    <g id=\"ytick_15\">\n     <g id=\"line2d_5\">\n      <g>\n       <use style=\"fill:#262626;stroke:#262626;stroke-width:1.25;\" x=\"520.5505\" xlink:href=\"#m38e165b7dd\" y=\"79.875772\"/>\n      </g>\n     </g>\n     <g id=\"text_126\">\n      <!-- 0.45 -->\n      <g style=\"fill:#262626;\" transform=\"translate(530.0505 84.054913)scale(0.11 -0.11)\">\n       <use xlink:href=\"#DejaVuSans-48\"/>\n       <use x=\"63.623047\" xlink:href=\"#DejaVuSans-46\"/>\n       <use x=\"95.410156\" xlink:href=\"#DejaVuSans-52\"/>\n       <use x=\"159.033203\" xlink:href=\"#DejaVuSans-53\"/>\n      </g>\n     </g>\n    </g>\n    <g id=\"ytick_16\">\n     <g id=\"line2d_6\">\n      <g>\n       <use style=\"fill:#262626;stroke:#262626;stroke-width:1.25;\" x=\"520.5505\" xlink:href=\"#m38e165b7dd\" y=\"22.318125\"/>\n      </g>\n     </g>\n     <g id=\"text_127\">\n      <!-- 0.60 -->\n      <g style=\"fill:#262626;\" transform=\"translate(530.0505 26.497266)scale(0.11 -0.11)\">\n       <use xlink:href=\"#DejaVuSans-48\"/>\n       <use x=\"63.623047\" xlink:href=\"#DejaVuSans-46\"/>\n       <use x=\"95.410156\" xlink:href=\"#DejaVuSans-54\"/>\n       <use x=\"159.033203\" xlink:href=\"#DejaVuSans-48\"/>\n      </g>\n     </g>\n    </g>\n   </g>\n   <image height=\"326\" id=\"image7d32359491\" transform=\"scale(1 -1)translate(0 -326)\" width=\"17\" x=\"504\" xlink:href=\"data:image/png;base64,\niVBORw0KGgoAAAANSUhEUgAAABEAAAFGCAYAAACMkXQBAAAABHNCSVQICAgIfAhkiAAAAcJJREFUeJztmsGNwzAMBCXZDeWTTq9cW/eP/dMIGBCrAhar4ZJUEPfP92+2xXP20Vc12tkPQKSN4XCybqMF7NupBpZwwjBpB1HigP09pgasxQQJmyb21cBCTtaxMGAHwQQR8axRDxNIRBM2oneYsFmqY0qspToUE8kG9FTHFDaNiGgXWxpQ1cXEdbqEyXkE7CYnIrCAyGEBm7BtEmHAEvMkYJ+nWGITtleRZQ0qbAiTdQ3GSTUmzC4GnKjASpioEouISKpTj4nECbSLLdfxVEc1HiVOoH/f2g2IdEBktMvhJGA3OakGtgNgqcmGXCdgfw7VgJWqQ3UxMJQ0sReFDQHLOJkWsA1wQoksf7zMOIHA3h6wGibIdRiwtcJGgJ2i6njASnJiYmIpsWfvBOzzmJiIRGqFrZSICiyxd2oxEb1PRGAlOfGIiBKrEUnYNokwYOeFgCVECCfT88hBwF7E8irGhAgbFHtLF2t6h4q9JbEQk3TxQ0TUxR6wkpx45onokYOAvWtNton8uLZUp1zYwmSTiKiLKzVgErvJiWplSJiIwgY0sUpknWvAvpww2SQiAjuJrz4CVixSjgkw7QN2kwjC5B+9SEVjL0uiugAAAABJRU5ErkJggg==\" y=\"-22\"/>\n   <g id=\"patch_4\">\n    <path d=\"M 504.2425 348.478125 \nL 504.2425 347.204062 \nL 504.2425 23.592187 \nL 504.2425 22.318125 \nL 520.5505 22.318125 \nL 520.5505 23.592187 \nL 520.5505 347.204062 \nL 520.5505 348.478125 \nz\n\" style=\"fill:none;\"/>\n   </g>\n  </g>\n </g>\n <defs>\n  <clipPath id=\"p13e01d3b05\">\n   <rect height=\"326.16\" width=\"357.12\" x=\"124.8025\" y=\"22.318125\"/>\n  </clipPath>\n  <clipPath id=\"p0cabce5011\">\n   <rect height=\"326.16\" width=\"16.308\" x=\"504.2425\" y=\"22.318125\"/>\n  </clipPath>\n </defs>\n</svg>\n"
          },
          "metadata": {
            "tags": []
          }
        }
      ]
    },
    {
      "cell_type": "markdown",
      "metadata": {
        "id": "FTOvnI6p4sRa",
        "colab_type": "text"
      },
      "source": [
        "We will come to this when we make comparison with dependant variable\n",
        "\n",
        "For now, we can see that fresh_weight_plug and leaf length have higher relation. Perhaps they are very close in explaining effect of each other. We can make big conclusion about it now. for now, let's keep it an assumption"
      ]
    },
    {
      "cell_type": "markdown",
      "metadata": {
        "id": "Jb7PXmhd4sRb",
        "colab_type": "text"
      },
      "source": [
        "### 3.6)- Missing values"
      ]
    },
    {
      "cell_type": "code",
      "metadata": {
        "id": "mB3TJgoS4sRc",
        "colab_type": "code",
        "colab": {}
      },
      "source": [
        "def find_missing_values(df, columns):\n",
        "    \"\"\"\n",
        "    Finds number of rows where certain columns are missing values.\n",
        "    ::param_df:: = target dataframe\n",
        "    ::param_columns:: = list of columns\n",
        "    \"\"\"\n",
        "    missing_vals = {}\n",
        "    print(\"Number of missing or NaN values for each column:\")\n",
        "    df_length = len(df)\n",
        "    for column in columns:\n",
        "        total_column_values = df[column].value_counts().sum()\n",
        "        missing_vals[column] = df_length-total_column_values\n",
        "        #missing_vals.append(str(column)+ \" column has {} missing or NaN values.\".format())\n",
        "    return missing_vals"
      ],
      "execution_count": 0,
      "outputs": []
    },
    {
      "cell_type": "code",
      "metadata": {
        "id": "-gLwkTFl4sRg",
        "colab_type": "code",
        "colab": {
          "base_uri": "https://localhost:8080/",
          "height": 202
        },
        "outputId": "1d1ece15-9c3a-44b4-bab6-ad02805e405a"
      },
      "source": [
        "missing_values = find_missing_values(df, columns=df.columns)\n",
        "missing_values"
      ],
      "execution_count": 18,
      "outputs": [
        {
          "output_type": "stream",
          "text": [
            "Number of missing or NaN values for each column:\n"
          ],
          "name": "stdout"
        },
        {
          "output_type": "execute_result",
          "data": {
            "text/plain": [
              "{'dul': 0,\n",
              " 'fresh_weight_plug': 188,\n",
              " 'leaf_length': 358,\n",
              " 'led_type_id': 0,\n",
              " 'light_distribution_id': 97,\n",
              " 'marketable': 0,\n",
              " 'nutrients_id': 0,\n",
              " 'plant_id': 0,\n",
              " 'plug_density_m2': 0,\n",
              " 'substrate_id': 0}"
            ]
          },
          "metadata": {
            "tags": []
          },
          "execution_count": 18
        }
      ]
    },
    {
      "cell_type": "code",
      "metadata": {
        "id": "EF2uv7DQ4sRk",
        "colab_type": "code",
        "colab": {
          "base_uri": "https://localhost:8080/",
          "height": 994
        },
        "outputId": "873defcf-ce77-404d-f78e-643566782bfa"
      },
      "source": [
        "import missingno\n",
        "missingno.matrix(df, figsize = (30,10))"
      ],
      "execution_count": 19,
      "outputs": [
        {
          "output_type": "execute_result",
          "data": {
            "text/plain": [
              "<matplotlib.axes._subplots.AxesSubplot at 0x7fafde598c50>"
            ]
          },
          "metadata": {
            "tags": []
          },
          "execution_count": 19
        },
        {
          "output_type": "display_data",
          "data": {
            "text/plain": [
              "<Figure size 2160x720 with 2 Axes>"
            ],
            "image/svg+xml": "<?xml version=\"1.0\" encoding=\"utf-8\" standalone=\"no\"?>\n<!DOCTYPE svg PUBLIC \"-//W3C//DTD SVG 1.1//EN\"\n  \"http://www.w3.org/Graphics/SVG/1.1/DTD/svg11.dtd\">\n<!-- Created with matplotlib (https://matplotlib.org/) -->\n<svg height=\"701.707494pt\" version=\"1.1\" viewBox=\"0 0 1766.615 701.707494\" width=\"1766.615pt\" xmlns=\"http://www.w3.org/2000/svg\" xmlns:xlink=\"http://www.w3.org/1999/xlink\">\n <defs>\n  <style type=\"text/css\">\n*{stroke-linecap:butt;stroke-linejoin:round;}\n  </style>\n </defs>\n <g id=\"figure_1\">\n  <g id=\"patch_1\">\n   <path d=\"M 0 701.707494 \nL 1766.615 701.707494 \nL 1766.615 0 \nL 0 0 \nz\n\" style=\"fill:none;\"/>\n  </g>\n  <g id=\"axes_1\">\n   <g id=\"patch_2\">\n    <path d=\"M 1640.999038 682.749681 \nL 1741.6 682.749681 \nL 1741.6 139.149681 \nL 1640.999038 139.149681 \nz\n\" style=\"fill:#ffffff;\"/>\n   </g>\n   <g id=\"matplotlib.axis_1\"/>\n   <g id=\"matplotlib.axis_2\"/>\n   <g id=\"line2d_1\">\n    <path clip-path=\"url(#pefb45f4821)\" d=\"M 1712.856868 682.749681 \nL 1712.856868 681.835043 \nL 1698.485302 681.530164 \nL 1712.856868 681.225284 \nL 1712.856868 678.786249 \nL 1684.113736 678.481369 \nL 1712.856868 678.17649 \nL 1698.485302 677.871611 \nL 1712.856868 677.566731 \nL 1712.856868 675.737455 \nL 1698.485302 675.432575 \nL 1712.856868 675.127696 \nL 1712.856868 672.688661 \nL 1698.485302 672.383781 \nL 1698.485302 671.164263 \nL 1712.856868 670.859384 \nL 1712.856868 669.334987 \nL 1698.485302 669.030108 \nL 1712.856868 668.725228 \nL 1684.113736 668.115469 \nL 1712.856868 667.81059 \nL 1712.856868 666.591072 \nL 1698.485302 666.286193 \nL 1698.485302 665.981313 \nL 1712.856868 665.676434 \nL 1712.856868 665.371555 \nL 1698.485302 665.066675 \nL 1712.856868 664.761796 \nL 1712.856868 663.847157 \nL 1698.485302 663.542278 \nL 1712.856868 663.237399 \nL 1712.856868 659.273966 \nL 1698.485302 658.969087 \nL 1712.856868 658.664207 \nL 1712.856868 657.749569 \nL 1698.485302 657.44469 \nL 1712.856868 657.13981 \nL 1712.856868 655.920293 \nL 1698.485302 655.615413 \nL 1698.485302 655.310534 \nL 1712.856868 655.005654 \nL 1712.856868 654.091016 \nL 1698.485302 653.786137 \nL 1712.856868 653.481257 \nL 1698.485302 653.176378 \nL 1698.485302 652.566619 \nL 1712.856868 652.26174 \nL 1712.856868 651.95686 \nL 1684.113736 651.347101 \nL 1712.856868 651.042222 \nL 1712.856868 650.737343 \nL 1698.485302 650.432463 \nL 1712.856868 650.127584 \nL 1712.856868 648.908066 \nL 1698.485302 648.603187 \nL 1712.856868 648.298307 \nL 1712.856868 647.993428 \nL 1684.113736 647.383669 \nL 1698.485302 647.07879 \nL 1698.485302 646.77391 \nL 1712.856868 646.469031 \nL 1712.856868 646.164151 \nL 1698.485302 645.859272 \nL 1712.856868 645.554392 \nL 1712.856868 645.249513 \nL 1698.485302 644.944634 \nL 1698.485302 643.725116 \nL 1712.856868 643.420237 \nL 1712.856868 641.286081 \nL 1698.485302 640.981201 \nL 1712.856868 640.676322 \nL 1712.856868 640.371442 \nL 1698.485302 640.066563 \nL 1698.485302 639.761684 \nL 1712.856868 639.456804 \nL 1712.856868 637.932407 \nL 1684.113736 637.627528 \nL 1712.856868 637.322648 \nL 1712.856868 637.017769 \nL 1698.485302 636.712889 \nL 1712.856868 636.40801 \nL 1698.485302 636.103131 \nL 1712.856868 635.798251 \nL 1712.856868 634.578733 \nL 1698.485302 634.273854 \nL 1712.856868 633.968975 \nL 1712.856868 632.749457 \nL 1684.113736 632.444578 \nL 1712.856868 632.139698 \nL 1698.485302 631.834819 \nL 1712.856868 631.529939 \nL 1698.485302 631.22506 \nL 1698.485302 630.92018 \nL 1712.856868 630.615301 \nL 1698.485302 630.310422 \nL 1698.485302 630.005542 \nL 1712.856868 629.700663 \nL 1712.856868 628.481145 \nL 1698.485302 628.176266 \nL 1712.856868 627.871386 \nL 1712.856868 627.261627 \nL 1698.485302 626.956748 \nL 1712.856868 626.651869 \nL 1712.856868 626.04211 \nL 1698.485302 625.73723 \nL 1698.485302 625.432351 \nL 1712.856868 625.127472 \nL 1712.856868 624.822592 \nL 1698.485302 624.517713 \nL 1712.856868 624.212833 \nL 1698.485302 623.907954 \nL 1712.856868 623.603074 \nL 1712.856868 623.298195 \nL 1698.485302 622.993316 \nL 1712.856868 622.688436 \nL 1712.856868 622.383557 \nL 1698.485302 622.078677 \nL 1712.856868 621.773798 \nL 1712.856868 620.85916 \nL 1698.485302 620.55428 \nL 1712.856868 620.249401 \nL 1712.856868 619.639642 \nL 1698.485302 619.334763 \nL 1712.856868 619.029883 \nL 1698.485302 618.725004 \nL 1712.856868 618.420124 \nL 1698.485302 618.115245 \nL 1712.856868 617.810366 \nL 1698.485302 617.505486 \nL 1698.485302 617.200607 \nL 1712.856868 616.895727 \nL 1712.856868 616.590848 \nL 1698.485302 616.285968 \nL 1712.856868 615.981089 \nL 1698.485302 615.67621 \nL 1698.485302 615.37133 \nL 1712.856868 615.066451 \nL 1712.856868 614.456692 \nL 1698.485302 614.151813 \nL 1712.856868 613.846933 \nL 1712.856868 613.542054 \nL 1698.485302 613.237174 \nL 1712.856868 612.932295 \nL 1698.485302 612.627415 \nL 1712.856868 612.322536 \nL 1712.856868 610.18838 \nL 1698.485302 609.883501 \nL 1712.856868 609.578621 \nL 1712.856868 608.663983 \nL 1698.485302 608.359104 \nL 1698.485302 608.054224 \nL 1712.856868 607.749345 \nL 1712.856868 606.529827 \nL 1684.113736 606.224948 \nL 1712.856868 605.920068 \nL 1712.856868 605.615189 \nL 1698.485302 605.310309 \nL 1712.856868 605.00543 \nL 1698.485302 604.700551 \nL 1712.856868 604.395671 \nL 1698.485302 604.090792 \nL 1698.485302 603.785912 \nL 1712.856868 603.481033 \nL 1712.856868 602.261515 \nL 1698.485302 601.956636 \nL 1698.485302 601.651756 \nL 1712.856868 601.346877 \nL 1712.856868 599.517601 \nL 1684.113736 599.212721 \nL 1712.856868 598.602962 \nL 1712.856868 598.298083 \nL 1698.485302 597.993203 \nL 1698.485302 597.688324 \nL 1712.856868 597.383445 \nL 1712.856868 594.029771 \nL 1698.485302 593.724892 \nL 1712.856868 593.420012 \nL 1712.856868 593.115133 \nL 1698.485302 592.810253 \nL 1698.485302 592.200495 \nL 1712.856868 591.895615 \nL 1712.856868 591.285856 \nL 1684.113736 590.676097 \nL 1698.485302 590.371218 \nL 1698.485302 590.066339 \nL 1712.856868 589.761459 \nL 1712.856868 589.45658 \nL 1698.485302 589.1517 \nL 1712.856868 588.846821 \nL 1712.856868 588.541942 \nL 1698.485302 588.237062 \nL 1712.856868 587.932183 \nL 1698.485302 587.627303 \nL 1712.856868 587.322424 \nL 1712.856868 586.712665 \nL 1698.485302 586.407786 \nL 1712.856868 586.102906 \nL 1712.856868 585.798027 \nL 1698.485302 585.493147 \nL 1712.856868 585.188268 \nL 1712.856868 583.96875 \nL 1698.485302 583.663871 \nL 1712.856868 583.358991 \nL 1712.856868 582.749233 \nL 1698.485302 582.444353 \nL 1712.856868 582.139474 \nL 1712.856868 581.834594 \nL 1698.485302 581.529715 \nL 1712.856868 581.224836 \nL 1712.856868 579.09068 \nL 1698.485302 578.7858 \nL 1698.485302 578.480921 \nL 1712.856868 578.176041 \nL 1712.856868 576.956524 \nL 1698.485302 576.651644 \nL 1698.485302 576.346765 \nL 1712.856868 576.041885 \nL 1698.485302 575.737006 \nL 1712.856868 575.432127 \nL 1712.856868 573.297971 \nL 1698.485302 572.993091 \nL 1698.485302 572.688212 \nL 1712.856868 572.383332 \nL 1698.485302 572.078453 \nL 1712.856868 571.773574 \nL 1698.485302 571.468694 \nL 1698.485302 571.163815 \nL 1712.856868 570.858935 \nL 1698.485302 570.554056 \nL 1698.485302 570.249177 \nL 1712.856868 569.944297 \nL 1698.485302 569.639418 \nL 1712.856868 569.334538 \nL 1698.485302 569.029659 \nL 1698.485302 568.724779 \nL 1712.856868 568.4199 \nL 1712.856868 567.810141 \nL 1698.485302 567.505262 \nL 1712.856868 567.200382 \nL 1712.856868 565.980865 \nL 1698.485302 565.675985 \nL 1698.485302 565.371106 \nL 1712.856868 565.066226 \nL 1712.856868 563.846709 \nL 1684.113736 563.541829 \nL 1712.856868 563.23695 \nL 1698.485302 562.932071 \nL 1698.485302 561.712553 \nL 1712.856868 561.407673 \nL 1698.485302 561.102794 \nL 1712.856868 560.797915 \nL 1698.485302 560.493035 \nL 1712.856868 560.188156 \nL 1698.485302 559.883276 \nL 1712.856868 559.578397 \nL 1712.856868 558.663759 \nL 1698.485302 558.358879 \nL 1712.856868 558.054 \nL 1712.856868 557.444241 \nL 1698.485302 557.139362 \nL 1712.856868 556.834482 \nL 1712.856868 556.529603 \nL 1698.485302 556.224723 \nL 1698.485302 555.919844 \nL 1712.856868 555.614965 \nL 1712.856868 555.005206 \nL 1698.485302 554.700326 \nL 1712.856868 554.395447 \nL 1712.856868 552.87105 \nL 1698.485302 552.56617 \nL 1712.856868 552.261291 \nL 1712.856868 551.956412 \nL 1698.485302 551.651532 \nL 1698.485302 551.346653 \nL 1712.856868 551.041773 \nL 1698.485302 550.736894 \nL 1712.856868 550.432014 \nL 1698.485302 550.127135 \nL 1712.856868 549.822256 \nL 1698.485302 549.517376 \nL 1712.856868 549.212497 \nL 1712.856868 548.297859 \nL 1698.485302 547.992979 \nL 1712.856868 547.6881 \nL 1698.485302 547.38322 \nL 1669.74217 547.078341 \nL 1712.856868 546.773461 \nL 1698.485302 546.468582 \nL 1712.856868 546.163703 \nL 1712.856868 543.114908 \nL 1684.113736 542.810029 \nL 1712.856868 542.50515 \nL 1698.485302 542.20027 \nL 1698.485302 541.590511 \nL 1712.856868 541.285632 \nL 1712.856868 536.407561 \nL 1684.113736 536.102682 \nL 1712.856868 535.797802 \nL 1698.485302 535.492923 \nL 1698.485302 535.188044 \nL 1684.113736 534.883164 \nL 1712.856868 534.578285 \nL 1698.485302 534.273405 \nL 1712.856868 533.968526 \nL 1712.856868 532.444129 \nL 1684.113736 531.83437 \nL 1712.856868 531.529491 \nL 1712.856868 531.224611 \nL 1698.485302 530.919732 \nL 1712.856868 530.614852 \nL 1712.856868 530.309973 \nL 1698.485302 530.005094 \nL 1698.485302 529.700214 \nL 1712.856868 529.395335 \nL 1698.485302 529.090455 \nL 1698.485302 528.785576 \nL 1712.856868 528.480696 \nL 1684.113736 528.175817 \nL 1712.856868 527.870938 \nL 1698.485302 527.566058 \nL 1698.485302 527.261179 \nL 1712.856868 526.956299 \nL 1712.856868 525.736782 \nL 1698.485302 525.431902 \nL 1698.485302 525.127023 \nL 1712.856868 524.822143 \nL 1698.485302 524.517264 \nL 1712.856868 524.212385 \nL 1698.485302 523.907505 \nL 1698.485302 523.602626 \nL 1712.856868 523.297746 \nL 1712.856868 520.553832 \nL 1698.485302 520.248952 \nL 1698.485302 519.639193 \nL 1712.856868 519.334314 \nL 1712.856868 518.724555 \nL 1698.485302 518.419676 \nL 1712.856868 518.114796 \nL 1698.485302 517.809917 \nL 1712.856868 517.505037 \nL 1712.856868 516.590399 \nL 1698.485302 516.28552 \nL 1712.856868 515.98064 \nL 1712.856868 515.066002 \nL 1698.485302 514.761123 \nL 1712.856868 514.456243 \nL 1698.485302 514.151364 \nL 1712.856868 513.846484 \nL 1684.113736 513.541605 \nL 1712.856868 512.931846 \nL 1684.113736 512.322087 \nL 1712.856868 512.017208 \nL 1712.856868 510.187931 \nL 1698.485302 509.883052 \nL 1698.485302 509.578173 \nL 1712.856868 509.273293 \nL 1712.856868 508.053776 \nL 1698.485302 507.748896 \nL 1712.856868 507.444017 \nL 1712.856868 507.139137 \nL 1698.485302 506.834258 \nL 1698.485302 506.529378 \nL 1712.856868 506.224499 \nL 1698.485302 505.91962 \nL 1698.485302 505.61474 \nL 1712.856868 505.309861 \nL 1698.485302 505.004981 \nL 1712.856868 504.700102 \nL 1712.856868 504.090343 \nL 1698.485302 503.785464 \nL 1712.856868 503.480584 \nL 1684.113736 503.175705 \nL 1712.856868 502.870825 \nL 1712.856868 501.041549 \nL 1698.485302 500.73667 \nL 1698.485302 500.43179 \nL 1712.856868 500.126911 \nL 1712.856868 499.517152 \nL 1684.113736 499.212272 \nL 1698.485302 498.907393 \nL 1698.485302 498.602514 \nL 1712.856868 498.297634 \nL 1712.856868 497.687875 \nL 1698.485302 497.382996 \nL 1712.856868 497.078117 \nL 1712.856868 496.163478 \nL 1684.113736 495.858599 \nL 1712.856868 495.553719 \nL 1712.856868 494.943961 \nL 1698.485302 494.639081 \nL 1712.856868 494.334202 \nL 1712.856868 493.419564 \nL 1698.485302 493.114684 \nL 1712.856868 492.809805 \nL 1698.485302 492.504925 \nL 1712.856868 492.200046 \nL 1712.856868 491.590287 \nL 1698.485302 491.285408 \nL 1712.856868 490.980528 \nL 1698.485302 490.675649 \nL 1712.856868 490.370769 \nL 1698.485302 490.06589 \nL 1712.856868 489.761011 \nL 1698.485302 489.456131 \nL 1712.856868 489.151252 \nL 1712.856868 488.541493 \nL 1698.485302 488.236613 \nL 1698.485302 487.931734 \nL 1712.856868 487.626855 \nL 1712.856868 487.017096 \nL 1698.485302 486.712216 \nL 1698.485302 486.102458 \nL 1712.856868 485.797578 \nL 1712.856868 485.492699 \nL 1698.485302 485.187819 \nL 1712.856868 484.88294 \nL 1698.485302 484.57806 \nL 1712.856868 484.273181 \nL 1712.856868 483.663422 \nL 1698.485302 483.358543 \nL 1698.485302 483.053663 \nL 1712.856868 482.748784 \nL 1712.856868 482.139025 \nL 1698.485302 481.834146 \nL 1712.856868 481.529266 \nL 1698.485302 481.224387 \nL 1712.856868 480.919507 \nL 1698.485302 480.614628 \nL 1698.485302 480.309749 \nL 1712.856868 480.004869 \nL 1712.856868 478.480472 \nL 1698.485302 478.175593 \nL 1698.485302 477.565834 \nL 1712.856868 477.260954 \nL 1712.856868 476.651196 \nL 1698.485302 476.346316 \nL 1698.485302 475.431678 \nL 1712.856868 475.126799 \nL 1712.856868 472.687763 \nL 1698.485302 472.382884 \nL 1712.856868 472.078004 \nL 1698.485302 471.773125 \nL 1698.485302 471.468246 \nL 1712.856868 471.163366 \nL 1712.856868 469.943848 \nL 1698.485302 469.638969 \nL 1712.856868 469.33409 \nL 1698.485302 469.02921 \nL 1712.856868 468.724331 \nL 1684.113736 468.419451 \nL 1712.856868 468.114572 \nL 1712.856868 466.285295 \nL 1698.485302 465.980416 \nL 1712.856868 465.675537 \nL 1712.856868 465.065778 \nL 1698.485302 464.760898 \nL 1712.856868 464.456019 \nL 1712.856868 462.321863 \nL 1698.485302 462.016984 \nL 1698.485302 461.712104 \nL 1712.856868 461.407225 \nL 1698.485302 461.102345 \nL 1712.856868 460.797466 \nL 1712.856868 458.968189 \nL 1698.485302 458.66331 \nL 1712.856868 458.358431 \nL 1712.856868 457.443792 \nL 1684.113736 457.138913 \nL 1712.856868 456.834034 \nL 1698.485302 456.529154 \nL 1698.485302 456.224275 \nL 1712.856868 455.919395 \nL 1712.856868 454.394998 \nL 1698.485302 454.090119 \nL 1698.485302 453.785239 \nL 1712.856868 453.48036 \nL 1712.856868 453.175481 \nL 1698.485302 452.870601 \nL 1698.485302 452.260842 \nL 1712.856868 451.955963 \nL 1712.856868 451.041325 \nL 1698.485302 450.736445 \nL 1712.856868 450.431566 \nL 1712.856868 448.602289 \nL 1698.485302 448.29741 \nL 1698.485302 447.99253 \nL 1712.856868 447.687651 \nL 1712.856868 447.077892 \nL 1698.485302 446.773013 \nL 1712.856868 446.468133 \nL 1698.485302 446.163254 \nL 1712.856868 445.858375 \nL 1712.856868 445.553495 \nL 1698.485302 445.248616 \nL 1698.485302 444.943736 \nL 1712.856868 444.638857 \nL 1712.856868 443.419339 \nL 1684.113736 443.11446 \nL 1712.856868 442.80958 \nL 1712.856868 442.504701 \nL 1698.485302 442.199822 \nL 1712.856868 441.894942 \nL 1698.485302 441.590063 \nL 1712.856868 441.285183 \nL 1712.856868 440.065666 \nL 1698.485302 439.760786 \nL 1712.856868 439.455907 \nL 1698.485302 439.151027 \nL 1712.856868 438.846148 \nL 1712.856868 437.321751 \nL 1698.485302 437.016871 \nL 1698.485302 436.407113 \nL 1712.856868 436.102233 \nL 1712.856868 434.577836 \nL 1698.485302 434.272957 \nL 1712.856868 433.968077 \nL 1698.485302 433.663198 \nL 1712.856868 433.358318 \nL 1684.113736 432.74856 \nL 1698.485302 432.44368 \nL 1698.485302 431.529042 \nL 1712.856868 431.224163 \nL 1712.856868 430.614404 \nL 1698.485302 430.309524 \nL 1712.856868 430.004645 \nL 1698.485302 429.699765 \nL 1698.485302 428.785127 \nL 1712.856868 428.480248 \nL 1712.856868 427.56561 \nL 1698.485302 427.26073 \nL 1698.485302 426.650971 \nL 1712.856868 426.346092 \nL 1712.856868 425.736333 \nL 1698.485302 425.431454 \nL 1712.856868 425.126574 \nL 1712.856868 423.297298 \nL 1698.485302 422.992418 \nL 1698.485302 422.687539 \nL 1712.856868 422.382659 \nL 1698.485302 422.07778 \nL 1712.856868 421.772901 \nL 1712.856868 420.553383 \nL 1698.485302 420.248504 \nL 1712.856868 419.943624 \nL 1712.856868 418.419227 \nL 1698.485302 418.114348 \nL 1698.485302 417.809468 \nL 1712.856868 417.504589 \nL 1712.856868 417.199709 \nL 1698.485302 416.89483 \nL 1698.485302 416.285071 \nL 1712.856868 415.980192 \nL 1712.856868 413.846036 \nL 1698.485302 413.541156 \nL 1712.856868 413.236277 \nL 1698.485302 412.931398 \nL 1698.485302 412.626518 \nL 1684.113736 412.321639 \nL 1712.856868 411.71188 \nL 1698.485302 411.407 \nL 1712.856868 411.102121 \nL 1712.856868 410.797242 \nL 1698.485302 410.492362 \nL 1712.856868 410.187483 \nL 1712.856868 408.663086 \nL 1698.485302 408.358206 \nL 1712.856868 408.053327 \nL 1712.856868 407.138689 \nL 1698.485302 406.833809 \nL 1712.856868 406.52893 \nL 1712.856868 405.919171 \nL 1698.485302 405.614292 \nL 1712.856868 405.309412 \nL 1712.856868 405.004533 \nL 1698.485302 404.699653 \nL 1712.856868 404.394774 \nL 1712.856868 404.089894 \nL 1698.485302 403.785015 \nL 1698.485302 403.480136 \nL 1684.113736 403.175256 \nL 1712.856868 402.870377 \nL 1712.856868 402.565497 \nL 1684.113736 401.955739 \nL 1712.856868 401.650859 \nL 1712.856868 401.34598 \nL 1698.485302 401.0411 \nL 1712.856868 400.736221 \nL 1712.856868 400.431341 \nL 1698.485302 400.126462 \nL 1712.856868 399.821583 \nL 1712.856868 399.516703 \nL 1698.485302 399.211824 \nL 1712.856868 398.906944 \nL 1712.856868 396.772788 \nL 1698.485302 396.467909 \nL 1698.485302 396.16303 \nL 1712.856868 395.85815 \nL 1712.856868 395.248391 \nL 1684.113736 394.943512 \nL 1712.856868 394.333753 \nL 1698.485302 394.028874 \nL 1712.856868 393.723994 \nL 1712.856868 392.199597 \nL 1698.485302 391.894718 \nL 1712.856868 391.589838 \nL 1712.856868 391.284959 \nL 1684.113736 390.98008 \nL 1712.856868 390.370321 \nL 1698.485302 390.065441 \nL 1698.485302 389.760562 \nL 1712.856868 389.455682 \nL 1712.856868 389.150803 \nL 1698.485302 388.845924 \nL 1698.485302 388.541044 \nL 1712.856868 388.236165 \nL 1712.856868 387.321527 \nL 1698.485302 387.016647 \nL 1712.856868 386.711768 \nL 1698.485302 386.406888 \nL 1712.856868 386.102009 \nL 1712.856868 385.187371 \nL 1698.485302 384.882491 \nL 1712.856868 384.577612 \nL 1712.856868 384.272732 \nL 1698.485302 383.967853 \nL 1712.856868 383.662974 \nL 1712.856868 383.053215 \nL 1698.485302 382.748335 \nL 1712.856868 382.443456 \nL 1712.856868 381.223938 \nL 1698.485302 380.919059 \nL 1712.856868 380.614179 \nL 1712.856868 380.3093 \nL 1698.485302 380.004421 \nL 1712.856868 379.699541 \nL 1712.856868 378.784903 \nL 1698.485302 378.480023 \nL 1698.485302 378.175144 \nL 1712.856868 377.870265 \nL 1698.485302 377.565385 \nL 1698.485302 376.955626 \nL 1712.856868 376.650747 \nL 1712.856868 376.345868 \nL 1698.485302 376.040988 \nL 1698.485302 375.431229 \nL 1712.856868 375.12635 \nL 1712.856868 374.82147 \nL 1698.485302 374.516591 \nL 1712.856868 374.211712 \nL 1712.856868 373.601953 \nL 1698.485302 373.297073 \nL 1698.485302 372.992194 \nL 1712.856868 372.687315 \nL 1712.856868 372.077556 \nL 1684.113736 371.772676 \nL 1712.856868 371.467797 \nL 1712.856868 368.419003 \nL 1698.485302 368.114123 \nL 1698.485302 367.809244 \nL 1712.856868 367.504364 \nL 1712.856868 366.894606 \nL 1698.485302 366.589726 \nL 1698.485302 365.979967 \nL 1712.856868 365.675088 \nL 1712.856868 365.065329 \nL 1698.485302 364.76045 \nL 1712.856868 364.45557 \nL 1712.856868 363.845811 \nL 1698.485302 363.540932 \nL 1698.485302 363.236053 \nL 1712.856868 362.931173 \nL 1698.485302 362.626294 \nL 1712.856868 362.321414 \nL 1684.113736 362.016535 \nL 1712.856868 361.711655 \nL 1698.485302 361.406776 \nL 1712.856868 361.101897 \nL 1712.856868 360.492138 \nL 1684.113736 360.187258 \nL 1712.856868 359.5775 \nL 1712.856868 357.748223 \nL 1698.485302 357.443344 \nL 1698.485302 356.833585 \nL 1712.856868 356.528705 \nL 1712.856868 355.309188 \nL 1698.485302 355.004308 \nL 1712.856868 354.699429 \nL 1712.856868 353.175032 \nL 1698.485302 352.870152 \nL 1712.856868 352.565273 \nL 1698.485302 352.260394 \nL 1698.485302 351.955514 \nL 1684.113736 351.650635 \nL 1712.856868 351.345755 \nL 1712.856868 350.735996 \nL 1698.485302 350.431117 \nL 1712.856868 350.126238 \nL 1712.856868 349.821358 \nL 1698.485302 349.516479 \nL 1712.856868 349.211599 \nL 1712.856868 346.162805 \nL 1698.485302 345.857926 \nL 1712.856868 345.553046 \nL 1698.485302 345.248167 \nL 1712.856868 344.943288 \nL 1712.856868 343.72377 \nL 1698.485302 343.41889 \nL 1698.485302 343.114011 \nL 1712.856868 342.809132 \nL 1698.485302 342.504252 \nL 1712.856868 342.199373 \nL 1712.856868 339.455458 \nL 1698.485302 339.150579 \nL 1712.856868 338.845699 \nL 1712.856868 338.23594 \nL 1698.485302 337.931061 \nL 1712.856868 337.626182 \nL 1712.856868 337.321302 \nL 1698.485302 337.016423 \nL 1712.856868 336.711543 \nL 1698.485302 336.406664 \nL 1698.485302 336.101784 \nL 1712.856868 335.796905 \nL 1712.856868 334.577387 \nL 1698.485302 334.272508 \nL 1712.856868 333.967629 \nL 1712.856868 331.223714 \nL 1698.485302 330.918834 \nL 1712.856868 330.613955 \nL 1712.856868 328.784678 \nL 1698.485302 328.479799 \nL 1712.856868 328.17492 \nL 1712.856868 326.650523 \nL 1698.485302 326.345643 \nL 1712.856868 326.040764 \nL 1698.485302 325.735884 \nL 1698.485302 325.431005 \nL 1712.856868 325.126125 \nL 1712.856868 324.211487 \nL 1698.485302 323.906608 \nL 1712.856868 323.601728 \nL 1712.856868 319.638296 \nL 1698.485302 319.333417 \nL 1698.485302 319.028537 \nL 1712.856868 318.723658 \nL 1698.485302 318.418778 \nL 1712.856868 318.113899 \nL 1712.856868 317.809019 \nL 1698.485302 317.50414 \nL 1698.485302 316.589502 \nL 1684.113736 316.284622 \nL 1712.856868 315.979743 \nL 1712.856868 314.150466 \nL 1698.485302 313.845587 \nL 1712.856868 313.540708 \nL 1712.856868 313.235828 \nL 1698.485302 312.930949 \nL 1712.856868 312.626069 \nL 1712.856868 312.32119 \nL 1684.113736 312.016311 \nL 1698.485302 311.711431 \nL 1698.485302 311.101672 \nL 1712.856868 310.796793 \nL 1698.485302 310.491913 \nL 1698.485302 309.882155 \nL 1712.856868 309.577275 \nL 1712.856868 308.052878 \nL 1684.113736 307.747999 \nL 1712.856868 307.13824 \nL 1712.856868 305.918722 \nL 1698.485302 305.613843 \nL 1698.485302 305.308963 \nL 1712.856868 305.004084 \nL 1712.856868 303.479687 \nL 1698.485302 303.174807 \nL 1712.856868 302.869928 \nL 1712.856868 301.95529 \nL 1698.485302 301.65041 \nL 1698.485302 301.345531 \nL 1712.856868 301.040652 \nL 1698.485302 300.735772 \nL 1698.485302 300.430893 \nL 1712.856868 300.126013 \nL 1712.856868 299.516254 \nL 1684.113736 299.211375 \nL 1712.856868 298.906496 \nL 1698.485302 298.601616 \nL 1712.856868 298.296737 \nL 1698.485302 297.991857 \nL 1712.856868 297.686978 \nL 1712.856868 297.382099 \nL 1698.485302 297.077219 \nL 1712.856868 296.77234 \nL 1712.856868 295.857701 \nL 1698.485302 295.552822 \nL 1712.856868 295.247943 \nL 1712.856868 294.943063 \nL 1698.485302 294.638184 \nL 1712.856868 294.333304 \nL 1712.856868 294.028425 \nL 1698.485302 293.723546 \nL 1698.485302 293.418666 \nL 1712.856868 293.113787 \nL 1712.856868 292.199148 \nL 1698.485302 291.894269 \nL 1698.485302 291.58939 \nL 1712.856868 291.28451 \nL 1712.856868 289.760113 \nL 1684.113736 289.150354 \nL 1712.856868 288.845475 \nL 1698.485302 288.540595 \nL 1698.485302 287.930837 \nL 1712.856868 287.625957 \nL 1712.856868 287.016198 \nL 1698.485302 286.711319 \nL 1712.856868 286.40644 \nL 1712.856868 286.10156 \nL 1698.485302 285.796681 \nL 1712.856868 285.491801 \nL 1712.856868 285.186922 \nL 1684.113736 284.882042 \nL 1684.113736 284.577163 \nL 1698.485302 284.272284 \nL 1698.485302 283.967404 \nL 1712.856868 283.662525 \nL 1712.856868 281.833248 \nL 1698.485302 281.528369 \nL 1712.856868 281.223489 \nL 1698.485302 280.91861 \nL 1698.485302 280.308851 \nL 1712.856868 280.003972 \nL 1698.485302 279.699092 \nL 1712.856868 279.394213 \nL 1698.485302 279.089334 \nL 1712.856868 278.784454 \nL 1712.856868 277.564936 \nL 1698.485302 277.260057 \nL 1712.856868 276.955178 \nL 1712.856868 276.650298 \nL 1698.485302 276.345419 \nL 1712.856868 276.040539 \nL 1712.856868 275.125901 \nL 1684.113736 274.821022 \nL 1698.485302 274.516142 \nL 1698.485302 273.906383 \nL 1712.856868 273.601504 \nL 1712.856868 272.991745 \nL 1698.485302 272.686866 \nL 1712.856868 272.381986 \nL 1712.856868 271.772228 \nL 1698.485302 271.467348 \nL 1712.856868 271.162469 \nL 1698.485302 270.857589 \nL 1698.485302 270.55271 \nL 1684.113736 270.24783 \nL 1712.856868 269.942951 \nL 1698.485302 269.638072 \nL 1712.856868 269.333192 \nL 1712.856868 268.723433 \nL 1698.485302 268.418554 \nL 1712.856868 268.113675 \nL 1712.856868 267.808795 \nL 1684.113736 267.199036 \nL 1712.856868 266.894157 \nL 1712.856868 266.284398 \nL 1698.485302 265.979519 \nL 1712.856868 265.674639 \nL 1712.856868 264.760001 \nL 1698.485302 264.455122 \nL 1698.485302 263.845363 \nL 1712.856868 263.540483 \nL 1712.856868 262.930724 \nL 1684.113736 262.625845 \nL 1712.856868 262.320966 \nL 1712.856868 261.101448 \nL 1698.485302 260.796569 \nL 1712.856868 260.491689 \nL 1712.856868 259.88193 \nL 1684.113736 259.577051 \nL 1712.856868 259.272171 \nL 1712.856868 258.967292 \nL 1698.485302 258.662413 \nL 1712.856868 258.357533 \nL 1698.485302 258.052654 \nL 1698.485302 257.747774 \nL 1712.856868 257.442895 \nL 1712.856868 255.308739 \nL 1698.485302 255.00386 \nL 1712.856868 254.69898 \nL 1684.113736 254.089221 \nL 1712.856868 253.479463 \nL 1684.113736 253.174583 \nL 1712.856868 252.869704 \nL 1712.856868 251.040427 \nL 1698.485302 250.735548 \nL 1698.485302 250.430668 \nL 1712.856868 250.125789 \nL 1698.485302 249.82091 \nL 1698.485302 249.51603 \nL 1712.856868 249.211151 \nL 1712.856868 248.296512 \nL 1698.485302 247.991633 \nL 1698.485302 247.381874 \nL 1712.856868 247.076995 \nL 1712.856868 245.857477 \nL 1698.485302 245.552598 \nL 1712.856868 245.247718 \nL 1712.856868 240.979406 \nL 1698.485302 240.674527 \nL 1712.856868 240.369648 \nL 1712.856868 240.064768 \nL 1698.485302 239.759889 \nL 1698.485302 239.15013 \nL 1712.856868 238.845251 \nL 1712.856868 238.540371 \nL 1698.485302 238.235492 \nL 1698.485302 237.930612 \nL 1712.856868 237.625733 \nL 1698.485302 237.320853 \nL 1712.856868 237.015974 \nL 1712.856868 236.101336 \nL 1698.485302 235.796456 \nL 1712.856868 235.491577 \nL 1712.856868 234.576939 \nL 1698.485302 234.272059 \nL 1712.856868 233.96718 \nL 1712.856868 233.052542 \nL 1698.485302 232.747662 \nL 1712.856868 232.442783 \nL 1684.113736 232.137903 \nL 1712.856868 231.833024 \nL 1712.856868 230.003747 \nL 1698.485302 229.698868 \nL 1712.856868 229.393989 \nL 1712.856868 228.78423 \nL 1698.485302 228.47935 \nL 1698.485302 228.174471 \nL 1712.856868 227.869592 \nL 1712.856868 225.430556 \nL 1684.113736 224.820797 \nL 1712.856868 224.515918 \nL 1698.485302 224.211039 \nL 1712.856868 223.906159 \nL 1698.485302 223.60128 \nL 1712.856868 223.2964 \nL 1698.485302 222.991521 \nL 1712.856868 222.686641 \nL 1698.485302 222.381762 \nL 1712.856868 222.076883 \nL 1712.856868 221.467124 \nL 1698.485302 221.162244 \nL 1712.856868 220.857365 \nL 1712.856868 220.247606 \nL 1698.485302 219.942727 \nL 1712.856868 219.637847 \nL 1712.856868 218.723209 \nL 1698.485302 218.41833 \nL 1712.856868 218.11345 \nL 1712.856868 217.808571 \nL 1698.485302 217.503691 \nL 1712.856868 217.198812 \nL 1712.856868 215.674415 \nL 1698.485302 215.369535 \nL 1712.856868 215.064656 \nL 1712.856868 214.759777 \nL 1698.485302 214.454897 \nL 1712.856868 214.150018 \nL 1698.485302 213.845138 \nL 1712.856868 213.540259 \nL 1712.856868 212.625621 \nL 1698.485302 212.320741 \nL 1712.856868 212.015862 \nL 1712.856868 208.357309 \nL 1698.485302 208.052429 \nL 1712.856868 207.74755 \nL 1698.485302 207.442671 \nL 1712.856868 207.137791 \nL 1712.856868 206.832912 \nL 1698.485302 206.528032 \nL 1712.856868 206.223153 \nL 1698.485302 205.918274 \nL 1712.856868 205.613394 \nL 1684.113736 205.308515 \nL 1712.856868 205.003635 \nL 1698.485302 204.698756 \nL 1698.485302 204.393876 \nL 1684.113736 204.088997 \nL 1712.856868 203.784118 \nL 1698.485302 203.479238 \nL 1698.485302 203.174359 \nL 1712.856868 202.869479 \nL 1698.485302 202.5646 \nL 1712.856868 202.259721 \nL 1698.485302 201.954841 \nL 1698.485302 201.649962 \nL 1684.113736 201.345082 \nL 1712.856868 201.040203 \nL 1712.856868 199.515806 \nL 1684.113736 199.210926 \nL 1712.856868 198.906047 \nL 1712.856868 198.601168 \nL 1698.485302 198.296288 \nL 1698.485302 197.686529 \nL 1712.856868 197.38165 \nL 1712.856868 196.467012 \nL 1698.485302 196.162132 \nL 1712.856868 195.857253 \nL 1712.856868 195.247494 \nL 1698.485302 194.942615 \nL 1698.485302 194.637735 \nL 1712.856868 194.332856 \nL 1698.485302 194.027976 \nL 1712.856868 193.723097 \nL 1712.856868 193.113338 \nL 1684.113736 192.808459 \nL 1684.113736 192.503579 \nL 1698.485302 192.1987 \nL 1698.485302 191.89382 \nL 1712.856868 191.588941 \nL 1712.856868 190.979182 \nL 1698.485302 190.674303 \nL 1712.856868 190.369423 \nL 1712.856868 188.845026 \nL 1698.485302 188.540147 \nL 1712.856868 188.235267 \nL 1712.856868 187.625509 \nL 1684.113736 187.320629 \nL 1712.856868 187.01575 \nL 1712.856868 185.796232 \nL 1698.485302 185.491353 \nL 1712.856868 185.186473 \nL 1712.856868 183.662076 \nL 1698.485302 183.357197 \nL 1698.485302 183.052317 \nL 1712.856868 182.747438 \nL 1712.856868 182.442558 \nL 1698.485302 182.137679 \nL 1698.485302 181.223041 \nL 1712.856868 180.918161 \nL 1712.856868 180.613282 \nL 1698.485302 180.308403 \nL 1712.856868 180.003523 \nL 1712.856868 179.698644 \nL 1698.485302 179.393764 \nL 1712.856868 179.088885 \nL 1712.856868 178.479126 \nL 1698.485302 178.174247 \nL 1712.856868 177.869367 \nL 1712.856868 176.954729 \nL 1698.485302 176.64985 \nL 1712.856868 176.34497 \nL 1712.856868 176.040091 \nL 1698.485302 175.735211 \nL 1712.856868 175.430332 \nL 1698.485302 175.125452 \nL 1712.856868 174.820573 \nL 1712.856868 174.515694 \nL 1698.485302 174.210814 \nL 1698.485302 173.905935 \nL 1712.856868 173.601055 \nL 1712.856868 170.857141 \nL 1698.485302 170.552261 \nL 1712.856868 170.247382 \nL 1698.485302 169.942502 \nL 1698.485302 169.637623 \nL 1712.856868 169.332744 \nL 1712.856868 169.027864 \nL 1698.485302 168.722985 \nL 1712.856868 168.418105 \nL 1712.856868 167.808346 \nL 1698.485302 167.503467 \nL 1698.485302 166.588829 \nL 1712.856868 166.283949 \nL 1698.485302 165.97907 \nL 1712.856868 165.674191 \nL 1712.856868 165.369311 \nL 1698.485302 165.064432 \nL 1712.856868 164.759552 \nL 1712.856868 164.149793 \nL 1698.485302 163.844914 \nL 1698.485302 163.235155 \nL 1712.856868 162.930276 \nL 1712.856868 161.405879 \nL 1698.485302 161.100999 \nL 1698.485302 160.79612 \nL 1712.856868 160.49124 \nL 1698.485302 160.186361 \nL 1712.856868 159.881482 \nL 1712.856868 159.271723 \nL 1698.485302 158.966843 \nL 1712.856868 158.661964 \nL 1698.485302 158.357085 \nL 1698.485302 158.052205 \nL 1712.856868 157.747326 \nL 1698.485302 157.442446 \nL 1712.856868 157.137567 \nL 1712.856868 156.832687 \nL 1684.113736 156.527808 \nL 1712.856868 155.918049 \nL 1698.485302 155.61317 \nL 1712.856868 155.30829 \nL 1712.856868 154.698532 \nL 1698.485302 154.393652 \nL 1712.856868 154.088773 \nL 1698.485302 153.783893 \nL 1712.856868 153.479014 \nL 1698.485302 153.174134 \nL 1698.485302 152.564376 \nL 1712.856868 152.259496 \nL 1712.856868 151.649737 \nL 1698.485302 151.344858 \nL 1712.856868 151.039979 \nL 1712.856868 150.12534 \nL 1698.485302 149.820461 \nL 1712.856868 149.515581 \nL 1712.856868 148.600943 \nL 1698.485302 148.296064 \nL 1712.856868 147.991184 \nL 1712.856868 147.686305 \nL 1698.485302 147.381426 \nL 1712.856868 147.076546 \nL 1698.485302 146.771667 \nL 1698.485302 145.857028 \nL 1712.856868 145.552149 \nL 1698.485302 145.24727 \nL 1698.485302 144.94239 \nL 1712.856868 144.637511 \nL 1698.485302 144.332631 \nL 1712.856868 144.027752 \nL 1712.856868 143.722873 \nL 1698.485302 143.417993 \nL 1712.856868 143.113114 \nL 1698.485302 142.808234 \nL 1712.856868 142.503355 \nL 1712.856868 142.198475 \nL 1684.113736 141.588717 \nL 1712.856868 141.283837 \nL 1698.485302 140.978958 \nL 1712.856868 140.674078 \nL 1712.856868 139.75944 \nL 1698.485302 139.454561 \nL 1698.485302 139.149681 \nL 1698.485302 139.149681 \n\" style=\"fill:none;stroke:#404040;stroke-linecap:round;stroke-width:1.5;\"/>\n   </g>\n   <g id=\"line2d_2\">\n    <defs>\n     <path d=\"M 0 2.5 \nC 0.663008 2.5 1.29895 2.236584 1.767767 1.767767 \nC 2.236584 1.29895 2.5 0.663008 2.5 0 \nC 2.5 -0.663008 2.236584 -1.29895 1.767767 -1.767767 \nC 1.29895 -2.236584 0.663008 -2.5 0 -2.5 \nC -0.663008 -2.5 -1.29895 -2.236584 -1.767767 -1.767767 \nC -2.236584 -1.29895 -2.5 -0.663008 -2.5 0 \nC -2.5 0.663008 -2.236584 1.29895 -1.767767 1.767767 \nC -1.29895 2.236584 -0.663008 2.5 0 2.5 \nz\n\" id=\"mcae48ceb0c\" style=\"stroke:#404040;\"/>\n    </defs>\n    <g clip-path=\"url(#pefb45f4821)\">\n     <use style=\"fill:#404040;stroke:#404040;\" x=\"1669.74217\" xlink:href=\"#mcae48ceb0c\" y=\"547.078341\"/>\n    </g>\n   </g>\n   <g id=\"line2d_3\">\n    <g clip-path=\"url(#pefb45f4821)\">\n     <use style=\"fill:#404040;stroke:#404040;\" x=\"1712.856868\" xlink:href=\"#mcae48ceb0c\" y=\"682.749681\"/>\n    </g>\n   </g>\n   <g id=\"text_1\">\n    <!-- 10 -->\n    <defs>\n     <path d=\"M 12.40625 8.296875 \nL 28.515625 8.296875 \nL 28.515625 63.921875 \nL 10.984375 60.40625 \nL 10.984375 69.390625 \nL 28.421875 72.90625 \nL 38.28125 72.90625 \nL 38.28125 8.296875 \nL 54.390625 8.296875 \nL 54.390625 0 \nL 12.40625 0 \nz\n\" id=\"DejaVuSans-49\"/>\n     <path d=\"M 31.78125 66.40625 \nQ 24.171875 66.40625 20.328125 58.90625 \nQ 16.5 51.421875 16.5 36.375 \nQ 16.5 21.390625 20.328125 13.890625 \nQ 24.171875 6.390625 31.78125 6.390625 \nQ 39.453125 6.390625 43.28125 13.890625 \nQ 47.125 21.390625 47.125 36.375 \nQ 47.125 51.421875 43.28125 58.90625 \nQ 39.453125 66.40625 31.78125 66.40625 \nz\nM 31.78125 74.21875 \nQ 44.046875 74.21875 50.515625 64.515625 \nQ 56.984375 54.828125 56.984375 36.375 \nQ 56.984375 17.96875 50.515625 8.265625 \nQ 44.046875 -1.421875 31.78125 -1.421875 \nQ 19.53125 -1.421875 13.0625 8.265625 \nQ 6.59375 17.96875 6.59375 36.375 \nQ 6.59375 54.828125 13.0625 64.515625 \nQ 19.53125 74.21875 31.78125 74.21875 \nz\n\" id=\"DejaVuSans-48\"/>\n    </defs>\n    <g style=\"fill:#262626;\" transform=\"translate(1741.6 686.612806)scale(0.14 -0.14)\">\n     <use xlink:href=\"#DejaVuSans-49\"/>\n     <use x=\"63.623047\" xlink:href=\"#DejaVuSans-48\"/>\n    </g>\n   </g>\n   <g id=\"text_2\">\n    <!-- 7 -->\n    <defs>\n     <path d=\"M 8.203125 72.90625 \nL 55.078125 72.90625 \nL 55.078125 68.703125 \nL 28.609375 0 \nL 18.3125 0 \nL 43.21875 64.59375 \nL 8.203125 64.59375 \nz\n\" id=\"DejaVuSans-55\"/>\n    </defs>\n    <g style=\"fill:#262626;\" transform=\"translate(1632.091538 550.941466)scale(0.14 -0.14)\">\n     <use xlink:href=\"#DejaVuSans-55\"/>\n    </g>\n   </g>\n  </g>\n  <g id=\"axes_2\">\n   <g id=\"patch_3\">\n    <path d=\"M 67.6 682.749681 \nL 1576.614423 682.749681 \nL 1576.614423 139.149681 \nL 67.6 139.149681 \nz\n\" style=\"fill:#eaeaf2;\"/>\n   </g>\n   <g clip-path=\"url(#p6e4cf62fb4)\">\n    <image height=\"1784\" id=\"image7f52e8cf6d\" transform=\"matrix(151 0 0 0.305104 67.6 138.597129)\" width=\"10\" xlink:href=\"data:image/png;base64,\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\"/>\n   </g>\n   <g id=\"matplotlib.axis_3\">\n    <g id=\"xtick_1\">\n     <g id=\"text_3\">\n      <!-- dul -->\n      <defs>\n       <path d=\"M 45.40625 46.390625 \nL 45.40625 75.984375 \nL 54.390625 75.984375 \nL 54.390625 0 \nL 45.40625 0 \nL 45.40625 8.203125 \nQ 42.578125 3.328125 38.25 0.953125 \nQ 33.9375 -1.421875 27.875 -1.421875 \nQ 17.96875 -1.421875 11.734375 6.484375 \nQ 5.515625 14.40625 5.515625 27.296875 \nQ 5.515625 40.1875 11.734375 48.09375 \nQ 17.96875 56 27.875 56 \nQ 33.9375 56 38.25 53.625 \nQ 42.578125 51.265625 45.40625 46.390625 \nz\nM 14.796875 27.296875 \nQ 14.796875 17.390625 18.875 11.75 \nQ 22.953125 6.109375 30.078125 6.109375 \nQ 37.203125 6.109375 41.296875 11.75 \nQ 45.40625 17.390625 45.40625 27.296875 \nQ 45.40625 37.203125 41.296875 42.84375 \nQ 37.203125 48.484375 30.078125 48.484375 \nQ 22.953125 48.484375 18.875 42.84375 \nQ 14.796875 37.203125 14.796875 27.296875 \nz\n\" id=\"DejaVuSans-100\"/>\n       <path d=\"M 8.5 21.578125 \nL 8.5 54.6875 \nL 17.484375 54.6875 \nL 17.484375 21.921875 \nQ 17.484375 14.15625 20.5 10.265625 \nQ 23.53125 6.390625 29.59375 6.390625 \nQ 36.859375 6.390625 41.078125 11.03125 \nQ 45.3125 15.671875 45.3125 23.6875 \nL 45.3125 54.6875 \nL 54.296875 54.6875 \nL 54.296875 0 \nL 45.3125 0 \nL 45.3125 8.40625 \nQ 42.046875 3.421875 37.71875 1 \nQ 33.40625 -1.421875 27.6875 -1.421875 \nQ 18.265625 -1.421875 13.375 4.4375 \nQ 8.5 10.296875 8.5 21.578125 \nz\nM 31.109375 56 \nz\n\" id=\"DejaVuSans-117\"/>\n       <path d=\"M 9.421875 75.984375 \nL 18.40625 75.984375 \nL 18.40625 0 \nL 9.421875 0 \nz\n\" id=\"DejaVuSans-108\"/>\n      </defs>\n      <g style=\"fill:#262626;\" transform=\"translate(151.647372 127.296783)rotate(-45)scale(0.16 -0.16)\">\n       <use xlink:href=\"#DejaVuSans-100\"/>\n       <use x=\"63.476562\" xlink:href=\"#DejaVuSans-117\"/>\n       <use x=\"126.855469\" xlink:href=\"#DejaVuSans-108\"/>\n      </g>\n     </g>\n    </g>\n    <g id=\"xtick_2\">\n     <g id=\"text_4\">\n      <!-- fresh_weight_plug -->\n      <defs>\n       <path d=\"M 37.109375 75.984375 \nL 37.109375 68.5 \nL 28.515625 68.5 \nQ 23.6875 68.5 21.796875 66.546875 \nQ 19.921875 64.59375 19.921875 59.515625 \nL 19.921875 54.6875 \nL 34.71875 54.6875 \nL 34.71875 47.703125 \nL 19.921875 47.703125 \nL 19.921875 0 \nL 10.890625 0 \nL 10.890625 47.703125 \nL 2.296875 47.703125 \nL 2.296875 54.6875 \nL 10.890625 54.6875 \nL 10.890625 58.5 \nQ 10.890625 67.625 15.140625 71.796875 \nQ 19.390625 75.984375 28.609375 75.984375 \nz\n\" id=\"DejaVuSans-102\"/>\n       <path d=\"M 41.109375 46.296875 \nQ 39.59375 47.171875 37.8125 47.578125 \nQ 36.03125 48 33.890625 48 \nQ 26.265625 48 22.1875 43.046875 \nQ 18.109375 38.09375 18.109375 28.8125 \nL 18.109375 0 \nL 9.078125 0 \nL 9.078125 54.6875 \nL 18.109375 54.6875 \nL 18.109375 46.1875 \nQ 20.953125 51.171875 25.484375 53.578125 \nQ 30.03125 56 36.53125 56 \nQ 37.453125 56 38.578125 55.875 \nQ 39.703125 55.765625 41.0625 55.515625 \nz\n\" id=\"DejaVuSans-114\"/>\n       <path d=\"M 56.203125 29.59375 \nL 56.203125 25.203125 \nL 14.890625 25.203125 \nQ 15.484375 15.921875 20.484375 11.0625 \nQ 25.484375 6.203125 34.421875 6.203125 \nQ 39.59375 6.203125 44.453125 7.46875 \nQ 49.3125 8.734375 54.109375 11.28125 \nL 54.109375 2.78125 \nQ 49.265625 0.734375 44.1875 -0.34375 \nQ 39.109375 -1.421875 33.890625 -1.421875 \nQ 20.796875 -1.421875 13.15625 6.1875 \nQ 5.515625 13.8125 5.515625 26.8125 \nQ 5.515625 40.234375 12.765625 48.109375 \nQ 20.015625 56 32.328125 56 \nQ 43.359375 56 49.78125 48.890625 \nQ 56.203125 41.796875 56.203125 29.59375 \nz\nM 47.21875 32.234375 \nQ 47.125 39.59375 43.09375 43.984375 \nQ 39.0625 48.390625 32.421875 48.390625 \nQ 24.90625 48.390625 20.390625 44.140625 \nQ 15.875 39.890625 15.1875 32.171875 \nz\n\" id=\"DejaVuSans-101\"/>\n       <path d=\"M 44.28125 53.078125 \nL 44.28125 44.578125 \nQ 40.484375 46.53125 36.375 47.5 \nQ 32.28125 48.484375 27.875 48.484375 \nQ 21.1875 48.484375 17.84375 46.4375 \nQ 14.5 44.390625 14.5 40.28125 \nQ 14.5 37.15625 16.890625 35.375 \nQ 19.28125 33.59375 26.515625 31.984375 \nL 29.59375 31.296875 \nQ 39.15625 29.25 43.1875 25.515625 \nQ 47.21875 21.78125 47.21875 15.09375 \nQ 47.21875 7.46875 41.1875 3.015625 \nQ 35.15625 -1.421875 24.609375 -1.421875 \nQ 20.21875 -1.421875 15.453125 -0.5625 \nQ 10.6875 0.296875 5.421875 2 \nL 5.421875 11.28125 \nQ 10.40625 8.6875 15.234375 7.390625 \nQ 20.0625 6.109375 24.8125 6.109375 \nQ 31.15625 6.109375 34.5625 8.28125 \nQ 37.984375 10.453125 37.984375 14.40625 \nQ 37.984375 18.0625 35.515625 20.015625 \nQ 33.0625 21.96875 24.703125 23.78125 \nL 21.578125 24.515625 \nQ 13.234375 26.265625 9.515625 29.90625 \nQ 5.8125 33.546875 5.8125 39.890625 \nQ 5.8125 47.609375 11.28125 51.796875 \nQ 16.75 56 26.8125 56 \nQ 31.78125 56 36.171875 55.265625 \nQ 40.578125 54.546875 44.28125 53.078125 \nz\n\" id=\"DejaVuSans-115\"/>\n       <path d=\"M 54.890625 33.015625 \nL 54.890625 0 \nL 45.90625 0 \nL 45.90625 32.71875 \nQ 45.90625 40.484375 42.875 44.328125 \nQ 39.84375 48.1875 33.796875 48.1875 \nQ 26.515625 48.1875 22.3125 43.546875 \nQ 18.109375 38.921875 18.109375 30.90625 \nL 18.109375 0 \nL 9.078125 0 \nL 9.078125 75.984375 \nL 18.109375 75.984375 \nL 18.109375 46.1875 \nQ 21.34375 51.125 25.703125 53.5625 \nQ 30.078125 56 35.796875 56 \nQ 45.21875 56 50.046875 50.171875 \nQ 54.890625 44.34375 54.890625 33.015625 \nz\n\" id=\"DejaVuSans-104\"/>\n       <path d=\"M 50.984375 -16.609375 \nL 50.984375 -23.578125 \nL -0.984375 -23.578125 \nL -0.984375 -16.609375 \nz\n\" id=\"DejaVuSans-95\"/>\n       <path d=\"M 4.203125 54.6875 \nL 13.1875 54.6875 \nL 24.421875 12.015625 \nL 35.59375 54.6875 \nL 46.1875 54.6875 \nL 57.421875 12.015625 \nL 68.609375 54.6875 \nL 77.59375 54.6875 \nL 63.28125 0 \nL 52.6875 0 \nL 40.921875 44.828125 \nL 29.109375 0 \nL 18.5 0 \nz\n\" id=\"DejaVuSans-119\"/>\n       <path d=\"M 9.421875 54.6875 \nL 18.40625 54.6875 \nL 18.40625 0 \nL 9.421875 0 \nz\nM 9.421875 75.984375 \nL 18.40625 75.984375 \nL 18.40625 64.59375 \nL 9.421875 64.59375 \nz\n\" id=\"DejaVuSans-105\"/>\n       <path d=\"M 45.40625 27.984375 \nQ 45.40625 37.75 41.375 43.109375 \nQ 37.359375 48.484375 30.078125 48.484375 \nQ 22.859375 48.484375 18.828125 43.109375 \nQ 14.796875 37.75 14.796875 27.984375 \nQ 14.796875 18.265625 18.828125 12.890625 \nQ 22.859375 7.515625 30.078125 7.515625 \nQ 37.359375 7.515625 41.375 12.890625 \nQ 45.40625 18.265625 45.40625 27.984375 \nz\nM 54.390625 6.78125 \nQ 54.390625 -7.171875 48.1875 -13.984375 \nQ 42 -20.796875 29.203125 -20.796875 \nQ 24.46875 -20.796875 20.265625 -20.09375 \nQ 16.0625 -19.390625 12.109375 -17.921875 \nL 12.109375 -9.1875 \nQ 16.0625 -11.328125 19.921875 -12.34375 \nQ 23.78125 -13.375 27.78125 -13.375 \nQ 36.625 -13.375 41.015625 -8.765625 \nQ 45.40625 -4.15625 45.40625 5.171875 \nL 45.40625 9.625 \nQ 42.625 4.78125 38.28125 2.390625 \nQ 33.9375 0 27.875 0 \nQ 17.828125 0 11.671875 7.65625 \nQ 5.515625 15.328125 5.515625 27.984375 \nQ 5.515625 40.671875 11.671875 48.328125 \nQ 17.828125 56 27.875 56 \nQ 33.9375 56 38.28125 53.609375 \nQ 42.625 51.21875 45.40625 46.390625 \nL 45.40625 54.6875 \nL 54.390625 54.6875 \nz\n\" id=\"DejaVuSans-103\"/>\n       <path d=\"M 18.3125 70.21875 \nL 18.3125 54.6875 \nL 36.8125 54.6875 \nL 36.8125 47.703125 \nL 18.3125 47.703125 \nL 18.3125 18.015625 \nQ 18.3125 11.328125 20.140625 9.421875 \nQ 21.96875 7.515625 27.59375 7.515625 \nL 36.8125 7.515625 \nL 36.8125 0 \nL 27.59375 0 \nQ 17.1875 0 13.234375 3.875 \nQ 9.28125 7.765625 9.28125 18.015625 \nL 9.28125 47.703125 \nL 2.6875 47.703125 \nL 2.6875 54.6875 \nL 9.28125 54.6875 \nL 9.28125 70.21875 \nz\n\" id=\"DejaVuSans-116\"/>\n       <path d=\"M 18.109375 8.203125 \nL 18.109375 -20.796875 \nL 9.078125 -20.796875 \nL 9.078125 54.6875 \nL 18.109375 54.6875 \nL 18.109375 46.390625 \nQ 20.953125 51.265625 25.265625 53.625 \nQ 29.59375 56 35.59375 56 \nQ 45.5625 56 51.78125 48.09375 \nQ 58.015625 40.1875 58.015625 27.296875 \nQ 58.015625 14.40625 51.78125 6.484375 \nQ 45.5625 -1.421875 35.59375 -1.421875 \nQ 29.59375 -1.421875 25.265625 0.953125 \nQ 20.953125 3.328125 18.109375 8.203125 \nz\nM 48.6875 27.296875 \nQ 48.6875 37.203125 44.609375 42.84375 \nQ 40.53125 48.484375 33.40625 48.484375 \nQ 26.265625 48.484375 22.1875 42.84375 \nQ 18.109375 37.203125 18.109375 27.296875 \nQ 18.109375 17.390625 22.1875 11.75 \nQ 26.265625 6.109375 33.40625 6.109375 \nQ 40.53125 6.109375 44.609375 11.75 \nQ 48.6875 17.390625 48.6875 27.296875 \nz\n\" id=\"DejaVuSans-112\"/>\n      </defs>\n      <g style=\"fill:#262626;\" transform=\"translate(302.548814 126.982121)rotate(-45)scale(0.16 -0.16)\">\n       <use xlink:href=\"#DejaVuSans-102\"/>\n       <use x=\"35.205078\" xlink:href=\"#DejaVuSans-114\"/>\n       <use x=\"76.287109\" xlink:href=\"#DejaVuSans-101\"/>\n       <use x=\"137.810547\" xlink:href=\"#DejaVuSans-115\"/>\n       <use x=\"189.910156\" xlink:href=\"#DejaVuSans-104\"/>\n       <use x=\"253.289062\" xlink:href=\"#DejaVuSans-95\"/>\n       <use x=\"303.289062\" xlink:href=\"#DejaVuSans-119\"/>\n       <use x=\"385.076172\" xlink:href=\"#DejaVuSans-101\"/>\n       <use x=\"446.599609\" xlink:href=\"#DejaVuSans-105\"/>\n       <use x=\"474.382812\" xlink:href=\"#DejaVuSans-103\"/>\n       <use x=\"537.859375\" xlink:href=\"#DejaVuSans-104\"/>\n       <use x=\"601.238281\" xlink:href=\"#DejaVuSans-116\"/>\n       <use x=\"640.447266\" xlink:href=\"#DejaVuSans-95\"/>\n       <use x=\"690.447266\" xlink:href=\"#DejaVuSans-112\"/>\n       <use x=\"753.923828\" xlink:href=\"#DejaVuSans-108\"/>\n       <use x=\"781.707031\" xlink:href=\"#DejaVuSans-117\"/>\n       <use x=\"845.085938\" xlink:href=\"#DejaVuSans-103\"/>\n      </g>\n     </g>\n    </g>\n    <g id=\"xtick_3\">\n     <g id=\"text_5\">\n      <!-- leaf_length -->\n      <defs>\n       <path d=\"M 34.28125 27.484375 \nQ 23.390625 27.484375 19.1875 25 \nQ 14.984375 22.515625 14.984375 16.5 \nQ 14.984375 11.71875 18.140625 8.90625 \nQ 21.296875 6.109375 26.703125 6.109375 \nQ 34.1875 6.109375 38.703125 11.40625 \nQ 43.21875 16.703125 43.21875 25.484375 \nL 43.21875 27.484375 \nz\nM 52.203125 31.203125 \nL 52.203125 0 \nL 43.21875 0 \nL 43.21875 8.296875 \nQ 40.140625 3.328125 35.546875 0.953125 \nQ 30.953125 -1.421875 24.3125 -1.421875 \nQ 15.921875 -1.421875 10.953125 3.296875 \nQ 6 8.015625 6 15.921875 \nQ 6 25.140625 12.171875 29.828125 \nQ 18.359375 34.515625 30.609375 34.515625 \nL 43.21875 34.515625 \nL 43.21875 35.40625 \nQ 43.21875 41.609375 39.140625 45 \nQ 35.0625 48.390625 27.6875 48.390625 \nQ 23 48.390625 18.546875 47.265625 \nQ 14.109375 46.140625 10.015625 43.890625 \nL 10.015625 52.203125 \nQ 14.9375 54.109375 19.578125 55.046875 \nQ 24.21875 56 28.609375 56 \nQ 40.484375 56 46.34375 49.84375 \nQ 52.203125 43.703125 52.203125 31.203125 \nz\n\" id=\"DejaVuSans-97\"/>\n       <path d=\"M 54.890625 33.015625 \nL 54.890625 0 \nL 45.90625 0 \nL 45.90625 32.71875 \nQ 45.90625 40.484375 42.875 44.328125 \nQ 39.84375 48.1875 33.796875 48.1875 \nQ 26.515625 48.1875 22.3125 43.546875 \nQ 18.109375 38.921875 18.109375 30.90625 \nL 18.109375 0 \nL 9.078125 0 \nL 9.078125 54.6875 \nL 18.109375 54.6875 \nL 18.109375 46.1875 \nQ 21.34375 51.125 25.703125 53.5625 \nQ 30.078125 56 35.796875 56 \nQ 45.21875 56 50.046875 50.171875 \nQ 54.890625 44.34375 54.890625 33.015625 \nz\n\" id=\"DejaVuSans-110\"/>\n      </defs>\n      <g style=\"fill:#262626;\" transform=\"translate(453.450256 126.982121)rotate(-45)scale(0.16 -0.16)\">\n       <use xlink:href=\"#DejaVuSans-108\"/>\n       <use x=\"27.783203\" xlink:href=\"#DejaVuSans-101\"/>\n       <use x=\"89.306641\" xlink:href=\"#DejaVuSans-97\"/>\n       <use x=\"150.585938\" xlink:href=\"#DejaVuSans-102\"/>\n       <use x=\"185.791016\" xlink:href=\"#DejaVuSans-95\"/>\n       <use x=\"235.791016\" xlink:href=\"#DejaVuSans-108\"/>\n       <use x=\"263.574219\" xlink:href=\"#DejaVuSans-101\"/>\n       <use x=\"325.097656\" xlink:href=\"#DejaVuSans-110\"/>\n       <use x=\"388.476562\" xlink:href=\"#DejaVuSans-103\"/>\n       <use x=\"451.953125\" xlink:href=\"#DejaVuSans-116\"/>\n       <use x=\"491.162109\" xlink:href=\"#DejaVuSans-104\"/>\n      </g>\n     </g>\n    </g>\n    <g id=\"xtick_4\">\n     <g id=\"text_6\">\n      <!-- led_type_id -->\n      <defs>\n       <path d=\"M 32.171875 -5.078125 \nQ 28.375 -14.84375 24.75 -17.8125 \nQ 21.140625 -20.796875 15.09375 -20.796875 \nL 7.90625 -20.796875 \nL 7.90625 -13.28125 \nL 13.1875 -13.28125 \nQ 16.890625 -13.28125 18.9375 -11.515625 \nQ 21 -9.765625 23.484375 -3.21875 \nL 25.09375 0.875 \nL 2.984375 54.6875 \nL 12.5 54.6875 \nL 29.59375 11.921875 \nL 46.6875 54.6875 \nL 56.203125 54.6875 \nz\n\" id=\"DejaVuSans-121\"/>\n      </defs>\n      <g style=\"fill:#262626;\" transform=\"translate(604.351699 126.982121)rotate(-45)scale(0.16 -0.16)\">\n       <use xlink:href=\"#DejaVuSans-108\"/>\n       <use x=\"27.783203\" xlink:href=\"#DejaVuSans-101\"/>\n       <use x=\"89.306641\" xlink:href=\"#DejaVuSans-100\"/>\n       <use x=\"152.783203\" xlink:href=\"#DejaVuSans-95\"/>\n       <use x=\"202.783203\" xlink:href=\"#DejaVuSans-116\"/>\n       <use x=\"241.992188\" xlink:href=\"#DejaVuSans-121\"/>\n       <use x=\"301.171875\" xlink:href=\"#DejaVuSans-112\"/>\n       <use x=\"364.648438\" xlink:href=\"#DejaVuSans-101\"/>\n       <use x=\"426.171875\" xlink:href=\"#DejaVuSans-95\"/>\n       <use x=\"476.171875\" xlink:href=\"#DejaVuSans-105\"/>\n       <use x=\"503.955078\" xlink:href=\"#DejaVuSans-100\"/>\n      </g>\n     </g>\n    </g>\n    <g id=\"xtick_5\">\n     <g id=\"text_7\">\n      <!-- light_distribution_id -->\n      <defs>\n       <path d=\"M 48.6875 27.296875 \nQ 48.6875 37.203125 44.609375 42.84375 \nQ 40.53125 48.484375 33.40625 48.484375 \nQ 26.265625 48.484375 22.1875 42.84375 \nQ 18.109375 37.203125 18.109375 27.296875 \nQ 18.109375 17.390625 22.1875 11.75 \nQ 26.265625 6.109375 33.40625 6.109375 \nQ 40.53125 6.109375 44.609375 11.75 \nQ 48.6875 17.390625 48.6875 27.296875 \nz\nM 18.109375 46.390625 \nQ 20.953125 51.265625 25.265625 53.625 \nQ 29.59375 56 35.59375 56 \nQ 45.5625 56 51.78125 48.09375 \nQ 58.015625 40.1875 58.015625 27.296875 \nQ 58.015625 14.40625 51.78125 6.484375 \nQ 45.5625 -1.421875 35.59375 -1.421875 \nQ 29.59375 -1.421875 25.265625 0.953125 \nQ 20.953125 3.328125 18.109375 8.203125 \nL 18.109375 0 \nL 9.078125 0 \nL 9.078125 75.984375 \nL 18.109375 75.984375 \nz\n\" id=\"DejaVuSans-98\"/>\n       <path d=\"M 30.609375 48.390625 \nQ 23.390625 48.390625 19.1875 42.75 \nQ 14.984375 37.109375 14.984375 27.296875 \nQ 14.984375 17.484375 19.15625 11.84375 \nQ 23.34375 6.203125 30.609375 6.203125 \nQ 37.796875 6.203125 41.984375 11.859375 \nQ 46.1875 17.53125 46.1875 27.296875 \nQ 46.1875 37.015625 41.984375 42.703125 \nQ 37.796875 48.390625 30.609375 48.390625 \nz\nM 30.609375 56 \nQ 42.328125 56 49.015625 48.375 \nQ 55.71875 40.765625 55.71875 27.296875 \nQ 55.71875 13.875 49.015625 6.21875 \nQ 42.328125 -1.421875 30.609375 -1.421875 \nQ 18.84375 -1.421875 12.171875 6.21875 \nQ 5.515625 13.875 5.515625 27.296875 \nQ 5.515625 40.765625 12.171875 48.375 \nQ 18.84375 56 30.609375 56 \nz\n\" id=\"DejaVuSans-111\"/>\n      </defs>\n      <g style=\"fill:#262626;\" transform=\"translate(755.253141 126.982121)rotate(-45)scale(0.16 -0.16)\">\n       <use xlink:href=\"#DejaVuSans-108\"/>\n       <use x=\"27.783203\" xlink:href=\"#DejaVuSans-105\"/>\n       <use x=\"55.566406\" xlink:href=\"#DejaVuSans-103\"/>\n       <use x=\"119.042969\" xlink:href=\"#DejaVuSans-104\"/>\n       <use x=\"182.421875\" xlink:href=\"#DejaVuSans-116\"/>\n       <use x=\"221.630859\" xlink:href=\"#DejaVuSans-95\"/>\n       <use x=\"271.630859\" xlink:href=\"#DejaVuSans-100\"/>\n       <use x=\"335.107422\" xlink:href=\"#DejaVuSans-105\"/>\n       <use x=\"362.890625\" xlink:href=\"#DejaVuSans-115\"/>\n       <use x=\"414.990234\" xlink:href=\"#DejaVuSans-116\"/>\n       <use x=\"454.199219\" xlink:href=\"#DejaVuSans-114\"/>\n       <use x=\"495.3125\" xlink:href=\"#DejaVuSans-105\"/>\n       <use x=\"523.095703\" xlink:href=\"#DejaVuSans-98\"/>\n       <use x=\"586.572266\" xlink:href=\"#DejaVuSans-117\"/>\n       <use x=\"649.951172\" xlink:href=\"#DejaVuSans-116\"/>\n       <use x=\"689.160156\" xlink:href=\"#DejaVuSans-105\"/>\n       <use x=\"716.943359\" xlink:href=\"#DejaVuSans-111\"/>\n       <use x=\"778.125\" xlink:href=\"#DejaVuSans-110\"/>\n       <use x=\"841.503906\" xlink:href=\"#DejaVuSans-95\"/>\n       <use x=\"891.503906\" xlink:href=\"#DejaVuSans-105\"/>\n       <use x=\"919.287109\" xlink:href=\"#DejaVuSans-100\"/>\n      </g>\n     </g>\n    </g>\n    <g id=\"xtick_6\">\n     <g id=\"text_8\">\n      <!-- marketable -->\n      <defs>\n       <path d=\"M 52 44.1875 \nQ 55.375 50.25 60.0625 53.125 \nQ 64.75 56 71.09375 56 \nQ 79.640625 56 84.28125 50.015625 \nQ 88.921875 44.046875 88.921875 33.015625 \nL 88.921875 0 \nL 79.890625 0 \nL 79.890625 32.71875 \nQ 79.890625 40.578125 77.09375 44.375 \nQ 74.3125 48.1875 68.609375 48.1875 \nQ 61.625 48.1875 57.5625 43.546875 \nQ 53.515625 38.921875 53.515625 30.90625 \nL 53.515625 0 \nL 44.484375 0 \nL 44.484375 32.71875 \nQ 44.484375 40.625 41.703125 44.40625 \nQ 38.921875 48.1875 33.109375 48.1875 \nQ 26.21875 48.1875 22.15625 43.53125 \nQ 18.109375 38.875 18.109375 30.90625 \nL 18.109375 0 \nL 9.078125 0 \nL 9.078125 54.6875 \nL 18.109375 54.6875 \nL 18.109375 46.1875 \nQ 21.1875 51.21875 25.484375 53.609375 \nQ 29.78125 56 35.6875 56 \nQ 41.65625 56 45.828125 52.96875 \nQ 50 49.953125 52 44.1875 \nz\n\" id=\"DejaVuSans-109\"/>\n       <path d=\"M 9.078125 75.984375 \nL 18.109375 75.984375 \nL 18.109375 31.109375 \nL 44.921875 54.6875 \nL 56.390625 54.6875 \nL 27.390625 29.109375 \nL 57.625 0 \nL 45.90625 0 \nL 18.109375 26.703125 \nL 18.109375 0 \nL 9.078125 0 \nz\n\" id=\"DejaVuSans-107\"/>\n      </defs>\n      <g style=\"fill:#262626;\" transform=\"translate(906.154583 127.296783)rotate(-45)scale(0.16 -0.16)\">\n       <use xlink:href=\"#DejaVuSans-109\"/>\n       <use x=\"97.412109\" xlink:href=\"#DejaVuSans-97\"/>\n       <use x=\"158.691406\" xlink:href=\"#DejaVuSans-114\"/>\n       <use x=\"199.804688\" xlink:href=\"#DejaVuSans-107\"/>\n       <use x=\"257.667969\" xlink:href=\"#DejaVuSans-101\"/>\n       <use x=\"319.191406\" xlink:href=\"#DejaVuSans-116\"/>\n       <use x=\"358.400391\" xlink:href=\"#DejaVuSans-97\"/>\n       <use x=\"419.679688\" xlink:href=\"#DejaVuSans-98\"/>\n       <use x=\"483.15625\" xlink:href=\"#DejaVuSans-108\"/>\n       <use x=\"510.939453\" xlink:href=\"#DejaVuSans-101\"/>\n      </g>\n     </g>\n    </g>\n    <g id=\"xtick_7\">\n     <g id=\"text_9\">\n      <!-- nutrients_id -->\n      <g style=\"fill:#262626;\" transform=\"translate(1057.056026 126.982121)rotate(-45)scale(0.16 -0.16)\">\n       <use xlink:href=\"#DejaVuSans-110\"/>\n       <use x=\"63.378906\" xlink:href=\"#DejaVuSans-117\"/>\n       <use x=\"126.757812\" xlink:href=\"#DejaVuSans-116\"/>\n       <use x=\"165.966797\" xlink:href=\"#DejaVuSans-114\"/>\n       <use x=\"207.080078\" xlink:href=\"#DejaVuSans-105\"/>\n       <use x=\"234.863281\" xlink:href=\"#DejaVuSans-101\"/>\n       <use x=\"296.386719\" xlink:href=\"#DejaVuSans-110\"/>\n       <use x=\"359.765625\" xlink:href=\"#DejaVuSans-116\"/>\n       <use x=\"398.974609\" xlink:href=\"#DejaVuSans-115\"/>\n       <use x=\"451.074219\" xlink:href=\"#DejaVuSans-95\"/>\n       <use x=\"501.074219\" xlink:href=\"#DejaVuSans-105\"/>\n       <use x=\"528.857422\" xlink:href=\"#DejaVuSans-100\"/>\n      </g>\n     </g>\n    </g>\n    <g id=\"xtick_8\">\n     <g id=\"text_10\">\n      <!-- plant_id -->\n      <g style=\"fill:#262626;\" transform=\"translate(1207.957468 126.982121)rotate(-45)scale(0.16 -0.16)\">\n       <use xlink:href=\"#DejaVuSans-112\"/>\n       <use x=\"63.476562\" xlink:href=\"#DejaVuSans-108\"/>\n       <use x=\"91.259766\" xlink:href=\"#DejaVuSans-97\"/>\n       <use x=\"152.539062\" xlink:href=\"#DejaVuSans-110\"/>\n       <use x=\"215.917969\" xlink:href=\"#DejaVuSans-116\"/>\n       <use x=\"255.126953\" xlink:href=\"#DejaVuSans-95\"/>\n       <use x=\"305.126953\" xlink:href=\"#DejaVuSans-105\"/>\n       <use x=\"332.910156\" xlink:href=\"#DejaVuSans-100\"/>\n      </g>\n     </g>\n    </g>\n    <g id=\"xtick_9\">\n     <g id=\"text_11\">\n      <!-- plug_density_m2 -->\n      <defs>\n       <path d=\"M 19.1875 8.296875 \nL 53.609375 8.296875 \nL 53.609375 0 \nL 7.328125 0 \nL 7.328125 8.296875 \nQ 12.9375 14.109375 22.625 23.890625 \nQ 32.328125 33.6875 34.8125 36.53125 \nQ 39.546875 41.84375 41.421875 45.53125 \nQ 43.3125 49.21875 43.3125 52.78125 \nQ 43.3125 58.59375 39.234375 62.25 \nQ 35.15625 65.921875 28.609375 65.921875 \nQ 23.96875 65.921875 18.8125 64.3125 \nQ 13.671875 62.703125 7.8125 59.421875 \nL 7.8125 69.390625 \nQ 13.765625 71.78125 18.9375 73 \nQ 24.125 74.21875 28.421875 74.21875 \nQ 39.75 74.21875 46.484375 68.546875 \nQ 53.21875 62.890625 53.21875 53.421875 \nQ 53.21875 48.921875 51.53125 44.890625 \nQ 49.859375 40.875 45.40625 35.40625 \nQ 44.1875 33.984375 37.640625 27.21875 \nQ 31.109375 20.453125 19.1875 8.296875 \nz\n\" id=\"DejaVuSans-50\"/>\n      </defs>\n      <g style=\"fill:#262626;\" transform=\"translate(1358.85891 126.982121)rotate(-45)scale(0.16 -0.16)\">\n       <use xlink:href=\"#DejaVuSans-112\"/>\n       <use x=\"63.476562\" xlink:href=\"#DejaVuSans-108\"/>\n       <use x=\"91.259766\" xlink:href=\"#DejaVuSans-117\"/>\n       <use x=\"154.638672\" xlink:href=\"#DejaVuSans-103\"/>\n       <use x=\"218.115234\" xlink:href=\"#DejaVuSans-95\"/>\n       <use x=\"268.115234\" xlink:href=\"#DejaVuSans-100\"/>\n       <use x=\"331.591797\" xlink:href=\"#DejaVuSans-101\"/>\n       <use x=\"393.115234\" xlink:href=\"#DejaVuSans-110\"/>\n       <use x=\"456.494141\" xlink:href=\"#DejaVuSans-115\"/>\n       <use x=\"508.59375\" xlink:href=\"#DejaVuSans-105\"/>\n       <use x=\"536.376953\" xlink:href=\"#DejaVuSans-116\"/>\n       <use x=\"575.585938\" xlink:href=\"#DejaVuSans-121\"/>\n       <use x=\"634.765625\" xlink:href=\"#DejaVuSans-95\"/>\n       <use x=\"684.765625\" xlink:href=\"#DejaVuSans-109\"/>\n       <use x=\"782.177734\" xlink:href=\"#DejaVuSans-50\"/>\n      </g>\n     </g>\n    </g>\n    <g id=\"xtick_10\">\n     <g id=\"text_12\">\n      <!-- substrate_id -->\n      <g style=\"fill:#262626;\" transform=\"translate(1509.760353 126.982121)rotate(-45)scale(0.16 -0.16)\">\n       <use xlink:href=\"#DejaVuSans-115\"/>\n       <use x=\"52.099609\" xlink:href=\"#DejaVuSans-117\"/>\n       <use x=\"115.478516\" xlink:href=\"#DejaVuSans-98\"/>\n       <use x=\"178.955078\" xlink:href=\"#DejaVuSans-115\"/>\n       <use x=\"231.054688\" xlink:href=\"#DejaVuSans-116\"/>\n       <use x=\"270.263672\" xlink:href=\"#DejaVuSans-114\"/>\n       <use x=\"311.376953\" xlink:href=\"#DejaVuSans-97\"/>\n       <use x=\"372.65625\" xlink:href=\"#DejaVuSans-116\"/>\n       <use x=\"411.865234\" xlink:href=\"#DejaVuSans-101\"/>\n       <use x=\"473.388672\" xlink:href=\"#DejaVuSans-95\"/>\n       <use x=\"523.388672\" xlink:href=\"#DejaVuSans-105\"/>\n       <use x=\"551.171875\" xlink:href=\"#DejaVuSans-100\"/>\n      </g>\n     </g>\n    </g>\n   </g>\n   <g id=\"matplotlib.axis_4\">\n    <g id=\"ytick_1\">\n     <g id=\"text_13\">\n      <!-- 1 -->\n      <g style=\"fill:#262626;\" transform=\"translate(45.375 146.748119)scale(0.2 -0.2)\">\n       <use xlink:href=\"#DejaVuSans-49\"/>\n      </g>\n     </g>\n    </g>\n    <g id=\"ytick_2\">\n     <g id=\"text_14\">\n      <!-- 1784 -->\n      <defs>\n       <path d=\"M 31.78125 34.625 \nQ 24.75 34.625 20.71875 30.859375 \nQ 16.703125 27.09375 16.703125 20.515625 \nQ 16.703125 13.921875 20.71875 10.15625 \nQ 24.75 6.390625 31.78125 6.390625 \nQ 38.8125 6.390625 42.859375 10.171875 \nQ 46.921875 13.96875 46.921875 20.515625 \nQ 46.921875 27.09375 42.890625 30.859375 \nQ 38.875 34.625 31.78125 34.625 \nz\nM 21.921875 38.8125 \nQ 15.578125 40.375 12.03125 44.71875 \nQ 8.5 49.078125 8.5 55.328125 \nQ 8.5 64.0625 14.71875 69.140625 \nQ 20.953125 74.21875 31.78125 74.21875 \nQ 42.671875 74.21875 48.875 69.140625 \nQ 55.078125 64.0625 55.078125 55.328125 \nQ 55.078125 49.078125 51.53125 44.71875 \nQ 48 40.375 41.703125 38.8125 \nQ 48.828125 37.15625 52.796875 32.3125 \nQ 56.78125 27.484375 56.78125 20.515625 \nQ 56.78125 9.90625 50.3125 4.234375 \nQ 43.84375 -1.421875 31.78125 -1.421875 \nQ 19.734375 -1.421875 13.25 4.234375 \nQ 6.78125 9.90625 6.78125 20.515625 \nQ 6.78125 27.484375 10.78125 32.3125 \nQ 14.796875 37.15625 21.921875 38.8125 \nz\nM 18.3125 54.390625 \nQ 18.3125 48.734375 21.84375 45.5625 \nQ 25.390625 42.390625 31.78125 42.390625 \nQ 38.140625 42.390625 41.71875 45.5625 \nQ 45.3125 48.734375 45.3125 54.390625 \nQ 45.3125 60.0625 41.71875 63.234375 \nQ 38.140625 66.40625 31.78125 66.40625 \nQ 25.390625 66.40625 21.84375 63.234375 \nQ 18.3125 60.0625 18.3125 54.390625 \nz\n\" id=\"DejaVuSans-56\"/>\n       <path d=\"M 37.796875 64.3125 \nL 12.890625 25.390625 \nL 37.796875 25.390625 \nz\nM 35.203125 72.90625 \nL 47.609375 72.90625 \nL 47.609375 25.390625 \nL 58.015625 25.390625 \nL 58.015625 17.1875 \nL 47.609375 17.1875 \nL 47.609375 0 \nL 37.796875 0 \nL 37.796875 17.1875 \nL 4.890625 17.1875 \nL 4.890625 26.703125 \nz\n\" id=\"DejaVuSans-52\"/>\n      </defs>\n      <g style=\"fill:#262626;\" transform=\"translate(7.2 690.348119)scale(0.2 -0.2)\">\n       <use xlink:href=\"#DejaVuSans-49\"/>\n       <use x=\"63.623047\" xlink:href=\"#DejaVuSans-55\"/>\n       <use x=\"127.246094\" xlink:href=\"#DejaVuSans-56\"/>\n       <use x=\"190.869141\" xlink:href=\"#DejaVuSans-52\"/>\n      </g>\n     </g>\n    </g>\n   </g>\n   <g id=\"line2d_4\">\n    <path clip-path=\"url(#p6e4cf62fb4)\" d=\"M 218.501442 682.749681 \nL 218.501442 139.149681 \n\" style=\"fill:none;stroke:#ffffff;stroke-linecap:round;stroke-width:1.5;\"/>\n   </g>\n   <g id=\"line2d_5\">\n    <path clip-path=\"url(#p6e4cf62fb4)\" d=\"M 369.402885 682.749681 \nL 369.402885 139.149681 \n\" style=\"fill:none;stroke:#ffffff;stroke-linecap:round;stroke-width:1.5;\"/>\n   </g>\n   <g id=\"line2d_6\">\n    <path clip-path=\"url(#p6e4cf62fb4)\" d=\"M 520.304327 682.749681 \nL 520.304327 139.149681 \n\" style=\"fill:none;stroke:#ffffff;stroke-linecap:round;stroke-width:1.5;\"/>\n   </g>\n   <g id=\"line2d_7\">\n    <path clip-path=\"url(#p6e4cf62fb4)\" d=\"M 671.205769 682.749681 \nL 671.205769 139.149681 \n\" style=\"fill:none;stroke:#ffffff;stroke-linecap:round;stroke-width:1.5;\"/>\n   </g>\n   <g id=\"line2d_8\">\n    <path clip-path=\"url(#p6e4cf62fb4)\" d=\"M 822.107212 682.749681 \nL 822.107212 139.149681 \n\" style=\"fill:none;stroke:#ffffff;stroke-linecap:round;stroke-width:1.5;\"/>\n   </g>\n   <g id=\"line2d_9\">\n    <path clip-path=\"url(#p6e4cf62fb4)\" d=\"M 973.008654 682.749681 \nL 973.008654 139.149681 \n\" style=\"fill:none;stroke:#ffffff;stroke-linecap:round;stroke-width:1.5;\"/>\n   </g>\n   <g id=\"line2d_10\">\n    <path clip-path=\"url(#p6e4cf62fb4)\" d=\"M 1123.910096 682.749681 \nL 1123.910096 139.149681 \n\" style=\"fill:none;stroke:#ffffff;stroke-linecap:round;stroke-width:1.5;\"/>\n   </g>\n   <g id=\"line2d_11\">\n    <path clip-path=\"url(#p6e4cf62fb4)\" d=\"M 1274.811538 682.749681 \nL 1274.811538 139.149681 \n\" style=\"fill:none;stroke:#ffffff;stroke-linecap:round;stroke-width:1.5;\"/>\n   </g>\n   <g id=\"line2d_12\">\n    <path clip-path=\"url(#p6e4cf62fb4)\" d=\"M 1425.712981 682.749681 \nL 1425.712981 139.149681 \n\" style=\"fill:none;stroke:#ffffff;stroke-linecap:round;stroke-width:1.5;\"/>\n   </g>\n  </g>\n </g>\n <defs>\n  <clipPath id=\"pefb45f4821\">\n   <rect height=\"543.6\" width=\"100.600962\" x=\"1640.999038\" y=\"139.149681\"/>\n  </clipPath>\n  <clipPath id=\"p6e4cf62fb4\">\n   <rect height=\"543.6\" width=\"1509.014423\" x=\"67.6\" y=\"139.149681\"/>\n  </clipPath>\n </defs>\n</svg>\n"
          },
          "metadata": {
            "tags": []
          }
        }
      ]
    },
    {
      "cell_type": "markdown",
      "metadata": {
        "id": "L9MciDyM4sRm",
        "colab_type": "text"
      },
      "source": [
        "We have couple of missing values there as we can see clearly. Either we remove them or we ignore them.\n",
        "\n",
        "another option is to use imputation. We might use that.\n",
        "\n",
        "Our dependant varibles have no missing values. So, this solution will work"
      ]
    },
    {
      "cell_type": "markdown",
      "metadata": {
        "id": "32UwTTRb4sRn",
        "colab_type": "text"
      },
      "source": [
        "### 3.6.1)- Impute missing values"
      ]
    },
    {
      "cell_type": "code",
      "metadata": {
        "id": "XoYrW02T4sRn",
        "colab_type": "code",
        "colab": {
          "base_uri": "https://localhost:8080/",
          "height": 87
        },
        "outputId": "fa82e192-1ff6-48d4-a5b1-79c89ff43e30"
      },
      "source": [
        "from sklearn.preprocessing import Imputer\n",
        "imp = Imputer(missing_values='NaN', strategy='mean', axis=0)\n",
        "imp.fit(df)"
      ],
      "execution_count": 20,
      "outputs": [
        {
          "output_type": "stream",
          "text": [
            "/usr/local/lib/python3.6/dist-packages/sklearn/utils/deprecation.py:66: DeprecationWarning: Class Imputer is deprecated; Imputer was deprecated in version 0.20 and will be removed in 0.22. Import impute.SimpleImputer from sklearn instead.\n",
            "  warnings.warn(msg, category=DeprecationWarning)\n"
          ],
          "name": "stderr"
        },
        {
          "output_type": "execute_result",
          "data": {
            "text/plain": [
              "Imputer(axis=0, copy=True, missing_values='NaN', strategy='mean', verbose=0)"
            ]
          },
          "metadata": {
            "tags": []
          },
          "execution_count": 20
        }
      ]
    },
    {
      "cell_type": "code",
      "metadata": {
        "id": "XD2jEaTW4sRp",
        "colab_type": "code",
        "colab": {
          "base_uri": "https://localhost:8080/",
          "height": 202
        },
        "outputId": "f69238bd-d423-401e-e91f-8fb2a3f5f86b"
      },
      "source": [
        "missing_values = find_missing_values(df, columns=df.columns)\n",
        "missing_values"
      ],
      "execution_count": 21,
      "outputs": [
        {
          "output_type": "stream",
          "text": [
            "Number of missing or NaN values for each column:\n"
          ],
          "name": "stdout"
        },
        {
          "output_type": "execute_result",
          "data": {
            "text/plain": [
              "{'dul': 0,\n",
              " 'fresh_weight_plug': 188,\n",
              " 'leaf_length': 358,\n",
              " 'led_type_id': 0,\n",
              " 'light_distribution_id': 97,\n",
              " 'marketable': 0,\n",
              " 'nutrients_id': 0,\n",
              " 'plant_id': 0,\n",
              " 'plug_density_m2': 0,\n",
              " 'substrate_id': 0}"
            ]
          },
          "metadata": {
            "tags": []
          },
          "execution_count": 21
        }
      ]
    },
    {
      "cell_type": "code",
      "metadata": {
        "id": "HZITXRJG4sRr",
        "colab_type": "code",
        "colab": {
          "base_uri": "https://localhost:8080/",
          "height": 170
        },
        "outputId": "3efbff02-affe-468a-bb65-25e97a5c70de"
      },
      "source": [
        "def summary_missing(dataset):\n",
        "    n_miss = dataset.isnull().sum()\n",
        "    n_obs = dataset.shape[0]\n",
        "    n_miss_per = n_miss/n_obs*100\n",
        "    n_miss_tbl = pd.concat([n_miss, n_miss_per], axis = 1).sort_values(1, ascending = False).round(1)\n",
        "    n_miss_tbl = n_miss_tbl[n_miss_tbl[1] != 0]\n",
        "    print('No. of fields: ', dataset.shape[0])\n",
        "    print('No. of missing fields: ', n_miss_tbl.shape[0])\n",
        "    n_miss_tbl = n_miss_tbl.rename(columns = {0:'No. of mising Value', 1:'%age of missing Value'})\n",
        "    return n_miss_tbl\n",
        "\n",
        "summary_missing(df)"
      ],
      "execution_count": 22,
      "outputs": [
        {
          "output_type": "stream",
          "text": [
            "No. of fields:  1784\n",
            "No. of missing fields:  3\n"
          ],
          "name": "stdout"
        },
        {
          "output_type": "execute_result",
          "data": {
            "text/html": [
              "<div>\n",
              "<style scoped>\n",
              "    .dataframe tbody tr th:only-of-type {\n",
              "        vertical-align: middle;\n",
              "    }\n",
              "\n",
              "    .dataframe tbody tr th {\n",
              "        vertical-align: top;\n",
              "    }\n",
              "\n",
              "    .dataframe thead th {\n",
              "        text-align: right;\n",
              "    }\n",
              "</style>\n",
              "<table border=\"1\" class=\"dataframe\">\n",
              "  <thead>\n",
              "    <tr style=\"text-align: right;\">\n",
              "      <th></th>\n",
              "      <th>No. of mising Value</th>\n",
              "      <th>%age of missing Value</th>\n",
              "    </tr>\n",
              "  </thead>\n",
              "  <tbody>\n",
              "    <tr>\n",
              "      <th>leaf_length</th>\n",
              "      <td>358</td>\n",
              "      <td>20.1</td>\n",
              "    </tr>\n",
              "    <tr>\n",
              "      <th>fresh_weight_plug</th>\n",
              "      <td>188</td>\n",
              "      <td>10.5</td>\n",
              "    </tr>\n",
              "    <tr>\n",
              "      <th>light_distribution_id</th>\n",
              "      <td>97</td>\n",
              "      <td>5.4</td>\n",
              "    </tr>\n",
              "  </tbody>\n",
              "</table>\n",
              "</div>"
            ],
            "text/plain": [
              "                       No. of mising Value  %age of missing Value\n",
              "leaf_length                            358                   20.1\n",
              "fresh_weight_plug                      188                   10.5\n",
              "light_distribution_id                   97                    5.4"
            ]
          },
          "metadata": {
            "tags": []
          },
          "execution_count": 22
        }
      ]
    },
    {
      "cell_type": "markdown",
      "metadata": {
        "id": "HlZxYj3g4sRt",
        "colab_type": "text"
      },
      "source": [
        "We still have missing values. Perhaps they are in form of some numerical or 0 . That's why NaN cannot detect them"
      ]
    },
    {
      "cell_type": "code",
      "metadata": {
        "id": "GqGF6_AT4sRu",
        "colab_type": "code",
        "colab": {
          "base_uri": "https://localhost:8080/",
          "height": 50
        },
        "outputId": "cf4815a0-d636-4ebd-91c7-063af8d585b2"
      },
      "source": [
        "from sklearn.impute import SimpleImputer\n",
        "imp_mean = SimpleImputer(missing_values=np.nan, strategy='mean')\n",
        "imp_mean.fit(df)"
      ],
      "execution_count": 23,
      "outputs": [
        {
          "output_type": "execute_result",
          "data": {
            "text/plain": [
              "SimpleImputer(add_indicator=False, copy=True, fill_value=None,\n",
              "              missing_values=nan, strategy='mean', verbose=0)"
            ]
          },
          "metadata": {
            "tags": []
          },
          "execution_count": 23
        }
      ]
    },
    {
      "cell_type": "code",
      "metadata": {
        "id": "wzlUeC_34sRw",
        "colab_type": "code",
        "colab": {
          "base_uri": "https://localhost:8080/",
          "height": 170
        },
        "outputId": "5a183fb3-3ce7-4b5b-afc3-1e05cff1c3dd"
      },
      "source": [
        "summary_missing(df)"
      ],
      "execution_count": 24,
      "outputs": [
        {
          "output_type": "stream",
          "text": [
            "No. of fields:  1784\n",
            "No. of missing fields:  3\n"
          ],
          "name": "stdout"
        },
        {
          "output_type": "execute_result",
          "data": {
            "text/html": [
              "<div>\n",
              "<style scoped>\n",
              "    .dataframe tbody tr th:only-of-type {\n",
              "        vertical-align: middle;\n",
              "    }\n",
              "\n",
              "    .dataframe tbody tr th {\n",
              "        vertical-align: top;\n",
              "    }\n",
              "\n",
              "    .dataframe thead th {\n",
              "        text-align: right;\n",
              "    }\n",
              "</style>\n",
              "<table border=\"1\" class=\"dataframe\">\n",
              "  <thead>\n",
              "    <tr style=\"text-align: right;\">\n",
              "      <th></th>\n",
              "      <th>No. of mising Value</th>\n",
              "      <th>%age of missing Value</th>\n",
              "    </tr>\n",
              "  </thead>\n",
              "  <tbody>\n",
              "    <tr>\n",
              "      <th>leaf_length</th>\n",
              "      <td>358</td>\n",
              "      <td>20.1</td>\n",
              "    </tr>\n",
              "    <tr>\n",
              "      <th>fresh_weight_plug</th>\n",
              "      <td>188</td>\n",
              "      <td>10.5</td>\n",
              "    </tr>\n",
              "    <tr>\n",
              "      <th>light_distribution_id</th>\n",
              "      <td>97</td>\n",
              "      <td>5.4</td>\n",
              "    </tr>\n",
              "  </tbody>\n",
              "</table>\n",
              "</div>"
            ],
            "text/plain": [
              "                       No. of mising Value  %age of missing Value\n",
              "leaf_length                            358                   20.1\n",
              "fresh_weight_plug                      188                   10.5\n",
              "light_distribution_id                   97                    5.4"
            ]
          },
          "metadata": {
            "tags": []
          },
          "execution_count": 24
        }
      ]
    },
    {
      "cell_type": "markdown",
      "metadata": {
        "id": "vfrdCgdq4sRz",
        "colab_type": "text"
      },
      "source": [
        "No change yet"
      ]
    },
    {
      "cell_type": "code",
      "metadata": {
        "id": "q7ELe0jZ4sR0",
        "colab_type": "code",
        "colab": {
          "base_uri": "https://localhost:8080/",
          "height": 343
        },
        "outputId": "af739591-2f6c-467f-f858-f41e43dd1696"
      },
      "source": [
        "df.loc[df.isnull().sum()]"
      ],
      "execution_count": 25,
      "outputs": [
        {
          "output_type": "execute_result",
          "data": {
            "text/html": [
              "<div>\n",
              "<style scoped>\n",
              "    .dataframe tbody tr th:only-of-type {\n",
              "        vertical-align: middle;\n",
              "    }\n",
              "\n",
              "    .dataframe tbody tr th {\n",
              "        vertical-align: top;\n",
              "    }\n",
              "\n",
              "    .dataframe thead th {\n",
              "        text-align: right;\n",
              "    }\n",
              "</style>\n",
              "<table border=\"1\" class=\"dataframe\">\n",
              "  <thead>\n",
              "    <tr style=\"text-align: right;\">\n",
              "      <th></th>\n",
              "      <th>dul</th>\n",
              "      <th>fresh_weight_plug</th>\n",
              "      <th>leaf_length</th>\n",
              "      <th>led_type_id</th>\n",
              "      <th>light_distribution_id</th>\n",
              "      <th>marketable</th>\n",
              "      <th>nutrients_id</th>\n",
              "      <th>plant_id</th>\n",
              "      <th>plug_density_m2</th>\n",
              "      <th>substrate_id</th>\n",
              "    </tr>\n",
              "  </thead>\n",
              "  <tbody>\n",
              "    <tr>\n",
              "      <th>0</th>\n",
              "      <td>14</td>\n",
              "      <td>NaN</td>\n",
              "      <td>21.3</td>\n",
              "      <td>7</td>\n",
              "      <td>130.0</td>\n",
              "      <td>0.0</td>\n",
              "      <td>2</td>\n",
              "      <td>1</td>\n",
              "      <td>624</td>\n",
              "      <td>2</td>\n",
              "    </tr>\n",
              "    <tr>\n",
              "      <th>188</th>\n",
              "      <td>16</td>\n",
              "      <td>7.22</td>\n",
              "      <td>20.0</td>\n",
              "      <td>1</td>\n",
              "      <td>130.0</td>\n",
              "      <td>1.0</td>\n",
              "      <td>2</td>\n",
              "      <td>3</td>\n",
              "      <td>849</td>\n",
              "      <td>4</td>\n",
              "    </tr>\n",
              "    <tr>\n",
              "      <th>358</th>\n",
              "      <td>16</td>\n",
              "      <td>7.09</td>\n",
              "      <td>21.8</td>\n",
              "      <td>1</td>\n",
              "      <td>170.0</td>\n",
              "      <td>1.0</td>\n",
              "      <td>3</td>\n",
              "      <td>2</td>\n",
              "      <td>849</td>\n",
              "      <td>2</td>\n",
              "    </tr>\n",
              "    <tr>\n",
              "      <th>0</th>\n",
              "      <td>14</td>\n",
              "      <td>NaN</td>\n",
              "      <td>21.3</td>\n",
              "      <td>7</td>\n",
              "      <td>130.0</td>\n",
              "      <td>0.0</td>\n",
              "      <td>2</td>\n",
              "      <td>1</td>\n",
              "      <td>624</td>\n",
              "      <td>2</td>\n",
              "    </tr>\n",
              "    <tr>\n",
              "      <th>97</th>\n",
              "      <td>14</td>\n",
              "      <td>NaN</td>\n",
              "      <td>17.6</td>\n",
              "      <td>1</td>\n",
              "      <td>170.0</td>\n",
              "      <td>1.0</td>\n",
              "      <td>2</td>\n",
              "      <td>3</td>\n",
              "      <td>624</td>\n",
              "      <td>2</td>\n",
              "    </tr>\n",
              "    <tr>\n",
              "      <th>0</th>\n",
              "      <td>14</td>\n",
              "      <td>NaN</td>\n",
              "      <td>21.3</td>\n",
              "      <td>7</td>\n",
              "      <td>130.0</td>\n",
              "      <td>0.0</td>\n",
              "      <td>2</td>\n",
              "      <td>1</td>\n",
              "      <td>624</td>\n",
              "      <td>2</td>\n",
              "    </tr>\n",
              "    <tr>\n",
              "      <th>0</th>\n",
              "      <td>14</td>\n",
              "      <td>NaN</td>\n",
              "      <td>21.3</td>\n",
              "      <td>7</td>\n",
              "      <td>130.0</td>\n",
              "      <td>0.0</td>\n",
              "      <td>2</td>\n",
              "      <td>1</td>\n",
              "      <td>624</td>\n",
              "      <td>2</td>\n",
              "    </tr>\n",
              "    <tr>\n",
              "      <th>0</th>\n",
              "      <td>14</td>\n",
              "      <td>NaN</td>\n",
              "      <td>21.3</td>\n",
              "      <td>7</td>\n",
              "      <td>130.0</td>\n",
              "      <td>0.0</td>\n",
              "      <td>2</td>\n",
              "      <td>1</td>\n",
              "      <td>624</td>\n",
              "      <td>2</td>\n",
              "    </tr>\n",
              "    <tr>\n",
              "      <th>0</th>\n",
              "      <td>14</td>\n",
              "      <td>NaN</td>\n",
              "      <td>21.3</td>\n",
              "      <td>7</td>\n",
              "      <td>130.0</td>\n",
              "      <td>0.0</td>\n",
              "      <td>2</td>\n",
              "      <td>1</td>\n",
              "      <td>624</td>\n",
              "      <td>2</td>\n",
              "    </tr>\n",
              "    <tr>\n",
              "      <th>0</th>\n",
              "      <td>14</td>\n",
              "      <td>NaN</td>\n",
              "      <td>21.3</td>\n",
              "      <td>7</td>\n",
              "      <td>130.0</td>\n",
              "      <td>0.0</td>\n",
              "      <td>2</td>\n",
              "      <td>1</td>\n",
              "      <td>624</td>\n",
              "      <td>2</td>\n",
              "    </tr>\n",
              "  </tbody>\n",
              "</table>\n",
              "</div>"
            ],
            "text/plain": [
              "     dul  fresh_weight_plug  ...  plug_density_m2  substrate_id\n",
              "0     14                NaN  ...              624             2\n",
              "188   16               7.22  ...              849             4\n",
              "358   16               7.09  ...              849             2\n",
              "0     14                NaN  ...              624             2\n",
              "97    14                NaN  ...              624             2\n",
              "0     14                NaN  ...              624             2\n",
              "0     14                NaN  ...              624             2\n",
              "0     14                NaN  ...              624             2\n",
              "0     14                NaN  ...              624             2\n",
              "0     14                NaN  ...              624             2\n",
              "\n",
              "[10 rows x 10 columns]"
            ]
          },
          "metadata": {
            "tags": []
          },
          "execution_count": 25
        }
      ]
    },
    {
      "cell_type": "code",
      "metadata": {
        "id": "agi_Jvzz4sR2",
        "colab_type": "code",
        "colab": {
          "base_uri": "https://localhost:8080/",
          "height": 50
        },
        "outputId": "88c0b37a-fb2c-4a2c-bb40-0c989b5fc5c2"
      },
      "source": [
        "from sklearn.impute import SimpleImputer\n",
        "imp_mean = SimpleImputer(missing_values=np.NaN, strategy='mean')\n",
        "imp_mean.fit(df)"
      ],
      "execution_count": 26,
      "outputs": [
        {
          "output_type": "execute_result",
          "data": {
            "text/plain": [
              "SimpleImputer(add_indicator=False, copy=True, fill_value=None,\n",
              "              missing_values=nan, strategy='mean', verbose=0)"
            ]
          },
          "metadata": {
            "tags": []
          },
          "execution_count": 26
        }
      ]
    },
    {
      "cell_type": "code",
      "metadata": {
        "id": "QQCcZN9f4sR3",
        "colab_type": "code",
        "colab": {
          "base_uri": "https://localhost:8080/",
          "height": 170
        },
        "outputId": "cc068397-620d-44b5-88ed-371e2d1efe37"
      },
      "source": [
        "summary_missing(df)"
      ],
      "execution_count": 27,
      "outputs": [
        {
          "output_type": "stream",
          "text": [
            "No. of fields:  1784\n",
            "No. of missing fields:  3\n"
          ],
          "name": "stdout"
        },
        {
          "output_type": "execute_result",
          "data": {
            "text/html": [
              "<div>\n",
              "<style scoped>\n",
              "    .dataframe tbody tr th:only-of-type {\n",
              "        vertical-align: middle;\n",
              "    }\n",
              "\n",
              "    .dataframe tbody tr th {\n",
              "        vertical-align: top;\n",
              "    }\n",
              "\n",
              "    .dataframe thead th {\n",
              "        text-align: right;\n",
              "    }\n",
              "</style>\n",
              "<table border=\"1\" class=\"dataframe\">\n",
              "  <thead>\n",
              "    <tr style=\"text-align: right;\">\n",
              "      <th></th>\n",
              "      <th>No. of mising Value</th>\n",
              "      <th>%age of missing Value</th>\n",
              "    </tr>\n",
              "  </thead>\n",
              "  <tbody>\n",
              "    <tr>\n",
              "      <th>leaf_length</th>\n",
              "      <td>358</td>\n",
              "      <td>20.1</td>\n",
              "    </tr>\n",
              "    <tr>\n",
              "      <th>fresh_weight_plug</th>\n",
              "      <td>188</td>\n",
              "      <td>10.5</td>\n",
              "    </tr>\n",
              "    <tr>\n",
              "      <th>light_distribution_id</th>\n",
              "      <td>97</td>\n",
              "      <td>5.4</td>\n",
              "    </tr>\n",
              "  </tbody>\n",
              "</table>\n",
              "</div>"
            ],
            "text/plain": [
              "                       No. of mising Value  %age of missing Value\n",
              "leaf_length                            358                   20.1\n",
              "fresh_weight_plug                      188                   10.5\n",
              "light_distribution_id                   97                    5.4"
            ]
          },
          "metadata": {
            "tags": []
          },
          "execution_count": 27
        }
      ]
    },
    {
      "cell_type": "code",
      "metadata": {
        "id": "Doa5h-fe55ex",
        "colab_type": "code",
        "colab": {}
      },
      "source": [
        "df=df.fillna(df.mean())"
      ],
      "execution_count": 0,
      "outputs": []
    },
    {
      "cell_type": "code",
      "metadata": {
        "id": "B8WNuUSh6GWq",
        "colab_type": "code",
        "colab": {
          "base_uri": "https://localhost:8080/",
          "height": 81
        },
        "outputId": "c1c8f702-e1f9-4875-cbd5-7190f9debbb1"
      },
      "source": [
        "summary_missing(df)"
      ],
      "execution_count": 29,
      "outputs": [
        {
          "output_type": "stream",
          "text": [
            "No. of fields:  1784\n",
            "No. of missing fields:  0\n"
          ],
          "name": "stdout"
        },
        {
          "output_type": "execute_result",
          "data": {
            "text/html": [
              "<div>\n",
              "<style scoped>\n",
              "    .dataframe tbody tr th:only-of-type {\n",
              "        vertical-align: middle;\n",
              "    }\n",
              "\n",
              "    .dataframe tbody tr th {\n",
              "        vertical-align: top;\n",
              "    }\n",
              "\n",
              "    .dataframe thead th {\n",
              "        text-align: right;\n",
              "    }\n",
              "</style>\n",
              "<table border=\"1\" class=\"dataframe\">\n",
              "  <thead>\n",
              "    <tr style=\"text-align: right;\">\n",
              "      <th></th>\n",
              "      <th>No. of mising Value</th>\n",
              "      <th>%age of missing Value</th>\n",
              "    </tr>\n",
              "  </thead>\n",
              "  <tbody>\n",
              "  </tbody>\n",
              "</table>\n",
              "</div>"
            ],
            "text/plain": [
              "Empty DataFrame\n",
              "Columns: [No. of mising Value, %age of missing Value]\n",
              "Index: []"
            ]
          },
          "metadata": {
            "tags": []
          },
          "execution_count": 29
        }
      ]
    },
    {
      "cell_type": "markdown",
      "metadata": {
        "id": "uNj7FOSt4sSE",
        "colab_type": "text"
      },
      "source": [
        "### 3.7)- Duplicate values"
      ]
    },
    {
      "cell_type": "code",
      "metadata": {
        "id": "P8J6W6JB4sSE",
        "colab_type": "code",
        "colab": {
          "base_uri": "https://localhost:8080/",
          "height": 218
        },
        "outputId": "c8d56e78-f6d8-4f92-ba0d-0c875b2eec25"
      },
      "source": [
        "df.duplicated()"
      ],
      "execution_count": 30,
      "outputs": [
        {
          "output_type": "execute_result",
          "data": {
            "text/plain": [
              "0       False\n",
              "1       False\n",
              "2       False\n",
              "3       False\n",
              "4       False\n",
              "        ...  \n",
              "1779    False\n",
              "1780    False\n",
              "1781    False\n",
              "1782    False\n",
              "1783    False\n",
              "Length: 1784, dtype: bool"
            ]
          },
          "metadata": {
            "tags": []
          },
          "execution_count": 30
        }
      ]
    },
    {
      "cell_type": "code",
      "metadata": {
        "id": "WVIXfmuc4sSG",
        "colab_type": "code",
        "colab": {
          "base_uri": "https://localhost:8080/",
          "height": 34
        },
        "outputId": "5feabdf3-5c24-44d9-f7ed-d88ef4df34f7"
      },
      "source": [
        "df.duplicated().sum()"
      ],
      "execution_count": 31,
      "outputs": [
        {
          "output_type": "execute_result",
          "data": {
            "text/plain": [
              "4"
            ]
          },
          "metadata": {
            "tags": []
          },
          "execution_count": 31
        }
      ]
    },
    {
      "cell_type": "markdown",
      "metadata": {
        "id": "Hk3H3tIf4sSI",
        "colab_type": "text"
      },
      "source": [
        " We have four duplicate values as well. Let's see what are they"
      ]
    },
    {
      "cell_type": "code",
      "metadata": {
        "id": "Wo9V2AMX4sSI",
        "colab_type": "code",
        "colab": {
          "base_uri": "https://localhost:8080/",
          "height": 166
        },
        "outputId": "5779c394-f415-46f4-a432-e89f53c65212"
      },
      "source": [
        "df.loc[df.duplicated()]"
      ],
      "execution_count": 32,
      "outputs": [
        {
          "output_type": "execute_result",
          "data": {
            "text/html": [
              "<div>\n",
              "<style scoped>\n",
              "    .dataframe tbody tr th:only-of-type {\n",
              "        vertical-align: middle;\n",
              "    }\n",
              "\n",
              "    .dataframe tbody tr th {\n",
              "        vertical-align: top;\n",
              "    }\n",
              "\n",
              "    .dataframe thead th {\n",
              "        text-align: right;\n",
              "    }\n",
              "</style>\n",
              "<table border=\"1\" class=\"dataframe\">\n",
              "  <thead>\n",
              "    <tr style=\"text-align: right;\">\n",
              "      <th></th>\n",
              "      <th>dul</th>\n",
              "      <th>fresh_weight_plug</th>\n",
              "      <th>leaf_length</th>\n",
              "      <th>led_type_id</th>\n",
              "      <th>light_distribution_id</th>\n",
              "      <th>marketable</th>\n",
              "      <th>nutrients_id</th>\n",
              "      <th>plant_id</th>\n",
              "      <th>plug_density_m2</th>\n",
              "      <th>substrate_id</th>\n",
              "    </tr>\n",
              "  </thead>\n",
              "  <tbody>\n",
              "    <tr>\n",
              "      <th>328</th>\n",
              "      <td>16</td>\n",
              "      <td>5.990000</td>\n",
              "      <td>19.058282</td>\n",
              "      <td>8</td>\n",
              "      <td>170.0</td>\n",
              "      <td>1.0</td>\n",
              "      <td>3</td>\n",
              "      <td>1</td>\n",
              "      <td>849</td>\n",
              "      <td>2</td>\n",
              "    </tr>\n",
              "    <tr>\n",
              "      <th>1017</th>\n",
              "      <td>18</td>\n",
              "      <td>6.120000</td>\n",
              "      <td>17.400000</td>\n",
              "      <td>1</td>\n",
              "      <td>170.0</td>\n",
              "      <td>1.0</td>\n",
              "      <td>3</td>\n",
              "      <td>2</td>\n",
              "      <td>849</td>\n",
              "      <td>13</td>\n",
              "    </tr>\n",
              "    <tr>\n",
              "      <th>1228</th>\n",
              "      <td>19</td>\n",
              "      <td>6.895294</td>\n",
              "      <td>19.058282</td>\n",
              "      <td>1</td>\n",
              "      <td>170.0</td>\n",
              "      <td>1.0</td>\n",
              "      <td>3</td>\n",
              "      <td>3</td>\n",
              "      <td>849</td>\n",
              "      <td>13</td>\n",
              "    </tr>\n",
              "    <tr>\n",
              "      <th>1657</th>\n",
              "      <td>24</td>\n",
              "      <td>6.895294</td>\n",
              "      <td>21.600000</td>\n",
              "      <td>1</td>\n",
              "      <td>230.0</td>\n",
              "      <td>1.0</td>\n",
              "      <td>3</td>\n",
              "      <td>2</td>\n",
              "      <td>947</td>\n",
              "      <td>13</td>\n",
              "    </tr>\n",
              "  </tbody>\n",
              "</table>\n",
              "</div>"
            ],
            "text/plain": [
              "      dul  fresh_weight_plug  ...  plug_density_m2  substrate_id\n",
              "328    16           5.990000  ...              849             2\n",
              "1017   18           6.120000  ...              849            13\n",
              "1228   19           6.895294  ...              849            13\n",
              "1657   24           6.895294  ...              947            13\n",
              "\n",
              "[4 rows x 10 columns]"
            ]
          },
          "metadata": {
            "tags": []
          },
          "execution_count": 32
        }
      ]
    },
    {
      "cell_type": "markdown",
      "metadata": {
        "id": "iKE7lOYD4sSL",
        "colab_type": "text"
      },
      "source": [
        "### 3.7.1- Drop duplicate values\n",
        "\n",
        "Only features leaf_length and fresh_weight_plug have duplicate issue"
      ]
    },
    {
      "cell_type": "code",
      "metadata": {
        "id": "vzkLsGjj4sSM",
        "colab_type": "code",
        "colab": {}
      },
      "source": [
        "df.drop([1017], axis=0, inplace=True)"
      ],
      "execution_count": 0,
      "outputs": []
    },
    {
      "cell_type": "code",
      "metadata": {
        "id": "EQW0G7iQ4sSN",
        "colab_type": "code",
        "colab": {
          "base_uri": "https://localhost:8080/",
          "height": 34
        },
        "outputId": "75c39f34-7941-49d3-df88-f79ee954c19d"
      },
      "source": [
        "df.shape"
      ],
      "execution_count": 34,
      "outputs": [
        {
          "output_type": "execute_result",
          "data": {
            "text/plain": [
              "(1783, 10)"
            ]
          },
          "metadata": {
            "tags": []
          },
          "execution_count": 34
        }
      ]
    },
    {
      "cell_type": "code",
      "metadata": {
        "id": "gCoGGD-L4sSQ",
        "colab_type": "code",
        "colab": {
          "base_uri": "https://localhost:8080/",
          "height": 136
        },
        "outputId": "aab7c853-86fd-411c-d81f-ff1bf59ce0b9"
      },
      "source": [
        "df.loc[df.duplicated()]"
      ],
      "execution_count": 35,
      "outputs": [
        {
          "output_type": "execute_result",
          "data": {
            "text/html": [
              "<div>\n",
              "<style scoped>\n",
              "    .dataframe tbody tr th:only-of-type {\n",
              "        vertical-align: middle;\n",
              "    }\n",
              "\n",
              "    .dataframe tbody tr th {\n",
              "        vertical-align: top;\n",
              "    }\n",
              "\n",
              "    .dataframe thead th {\n",
              "        text-align: right;\n",
              "    }\n",
              "</style>\n",
              "<table border=\"1\" class=\"dataframe\">\n",
              "  <thead>\n",
              "    <tr style=\"text-align: right;\">\n",
              "      <th></th>\n",
              "      <th>dul</th>\n",
              "      <th>fresh_weight_plug</th>\n",
              "      <th>leaf_length</th>\n",
              "      <th>led_type_id</th>\n",
              "      <th>light_distribution_id</th>\n",
              "      <th>marketable</th>\n",
              "      <th>nutrients_id</th>\n",
              "      <th>plant_id</th>\n",
              "      <th>plug_density_m2</th>\n",
              "      <th>substrate_id</th>\n",
              "    </tr>\n",
              "  </thead>\n",
              "  <tbody>\n",
              "    <tr>\n",
              "      <th>328</th>\n",
              "      <td>16</td>\n",
              "      <td>5.990000</td>\n",
              "      <td>19.058282</td>\n",
              "      <td>8</td>\n",
              "      <td>170.0</td>\n",
              "      <td>1.0</td>\n",
              "      <td>3</td>\n",
              "      <td>1</td>\n",
              "      <td>849</td>\n",
              "      <td>2</td>\n",
              "    </tr>\n",
              "    <tr>\n",
              "      <th>1228</th>\n",
              "      <td>19</td>\n",
              "      <td>6.895294</td>\n",
              "      <td>19.058282</td>\n",
              "      <td>1</td>\n",
              "      <td>170.0</td>\n",
              "      <td>1.0</td>\n",
              "      <td>3</td>\n",
              "      <td>3</td>\n",
              "      <td>849</td>\n",
              "      <td>13</td>\n",
              "    </tr>\n",
              "    <tr>\n",
              "      <th>1657</th>\n",
              "      <td>24</td>\n",
              "      <td>6.895294</td>\n",
              "      <td>21.600000</td>\n",
              "      <td>1</td>\n",
              "      <td>230.0</td>\n",
              "      <td>1.0</td>\n",
              "      <td>3</td>\n",
              "      <td>2</td>\n",
              "      <td>947</td>\n",
              "      <td>13</td>\n",
              "    </tr>\n",
              "  </tbody>\n",
              "</table>\n",
              "</div>"
            ],
            "text/plain": [
              "      dul  fresh_weight_plug  ...  plug_density_m2  substrate_id\n",
              "328    16           5.990000  ...              849             2\n",
              "1228   19           6.895294  ...              849            13\n",
              "1657   24           6.895294  ...              947            13\n",
              "\n",
              "[3 rows x 10 columns]"
            ]
          },
          "metadata": {
            "tags": []
          },
          "execution_count": 35
        }
      ]
    },
    {
      "cell_type": "markdown",
      "metadata": {
        "id": "f-widd1h4sSS",
        "colab_type": "text"
      },
      "source": [
        "No duplicate there"
      ]
    },
    {
      "cell_type": "markdown",
      "metadata": {
        "id": "bfnkLpjz4sSS",
        "colab_type": "text"
      },
      "source": [
        "### 3.8)-Finding Outliers"
      ]
    },
    {
      "cell_type": "code",
      "metadata": {
        "id": "WvepLLZA4sSU",
        "colab_type": "code",
        "colab": {
          "base_uri": "https://localhost:8080/",
          "height": 284
        },
        "outputId": "d42440be-43ed-4950-e09f-387b0fc82f34"
      },
      "source": [
        "df.describe()"
      ],
      "execution_count": 36,
      "outputs": [
        {
          "output_type": "execute_result",
          "data": {
            "text/html": [
              "<div>\n",
              "<style scoped>\n",
              "    .dataframe tbody tr th:only-of-type {\n",
              "        vertical-align: middle;\n",
              "    }\n",
              "\n",
              "    .dataframe tbody tr th {\n",
              "        vertical-align: top;\n",
              "    }\n",
              "\n",
              "    .dataframe thead th {\n",
              "        text-align: right;\n",
              "    }\n",
              "</style>\n",
              "<table border=\"1\" class=\"dataframe\">\n",
              "  <thead>\n",
              "    <tr style=\"text-align: right;\">\n",
              "      <th></th>\n",
              "      <th>dul</th>\n",
              "      <th>fresh_weight_plug</th>\n",
              "      <th>leaf_length</th>\n",
              "      <th>led_type_id</th>\n",
              "      <th>light_distribution_id</th>\n",
              "      <th>marketable</th>\n",
              "      <th>nutrients_id</th>\n",
              "      <th>plant_id</th>\n",
              "      <th>plug_density_m2</th>\n",
              "      <th>substrate_id</th>\n",
              "    </tr>\n",
              "  </thead>\n",
              "  <tbody>\n",
              "    <tr>\n",
              "      <th>count</th>\n",
              "      <td>1783.000000</td>\n",
              "      <td>1783.000000</td>\n",
              "      <td>1783.000000</td>\n",
              "      <td>1783.00000</td>\n",
              "      <td>1783.000000</td>\n",
              "      <td>1783.000000</td>\n",
              "      <td>1783.000000</td>\n",
              "      <td>1783.000000</td>\n",
              "      <td>1783.000000</td>\n",
              "      <td>1783.000000</td>\n",
              "    </tr>\n",
              "    <tr>\n",
              "      <th>mean</th>\n",
              "      <td>18.785193</td>\n",
              "      <td>6.895729</td>\n",
              "      <td>19.059212</td>\n",
              "      <td>1.51318</td>\n",
              "      <td>192.205690</td>\n",
              "      <td>0.700505</td>\n",
              "      <td>2.818284</td>\n",
              "      <td>1.994391</td>\n",
              "      <td>791.658441</td>\n",
              "      <td>9.948962</td>\n",
              "    </tr>\n",
              "    <tr>\n",
              "      <th>std</th>\n",
              "      <td>2.835633</td>\n",
              "      <td>1.087821</td>\n",
              "      <td>2.538712</td>\n",
              "      <td>1.75737</td>\n",
              "      <td>32.089523</td>\n",
              "      <td>0.458165</td>\n",
              "      <td>0.385719</td>\n",
              "      <td>0.815790</td>\n",
              "      <td>132.599240</td>\n",
              "      <td>4.757082</td>\n",
              "    </tr>\n",
              "    <tr>\n",
              "      <th>min</th>\n",
              "      <td>14.000000</td>\n",
              "      <td>5.000000</td>\n",
              "      <td>10.000000</td>\n",
              "      <td>1.00000</td>\n",
              "      <td>130.000000</td>\n",
              "      <td>0.000000</td>\n",
              "      <td>2.000000</td>\n",
              "      <td>1.000000</td>\n",
              "      <td>624.000000</td>\n",
              "      <td>2.000000</td>\n",
              "    </tr>\n",
              "    <tr>\n",
              "      <th>25%</th>\n",
              "      <td>16.500000</td>\n",
              "      <td>6.140000</td>\n",
              "      <td>17.300000</td>\n",
              "      <td>1.00000</td>\n",
              "      <td>170.000000</td>\n",
              "      <td>0.000000</td>\n",
              "      <td>3.000000</td>\n",
              "      <td>1.000000</td>\n",
              "      <td>633.000000</td>\n",
              "      <td>4.000000</td>\n",
              "    </tr>\n",
              "    <tr>\n",
              "      <th>50%</th>\n",
              "      <td>18.000000</td>\n",
              "      <td>6.730000</td>\n",
              "      <td>19.058282</td>\n",
              "      <td>1.00000</td>\n",
              "      <td>170.000000</td>\n",
              "      <td>1.000000</td>\n",
              "      <td>3.000000</td>\n",
              "      <td>2.000000</td>\n",
              "      <td>849.000000</td>\n",
              "      <td>13.000000</td>\n",
              "    </tr>\n",
              "    <tr>\n",
              "      <th>75%</th>\n",
              "      <td>20.000000</td>\n",
              "      <td>7.250000</td>\n",
              "      <td>19.900000</td>\n",
              "      <td>1.00000</td>\n",
              "      <td>230.000000</td>\n",
              "      <td>1.000000</td>\n",
              "      <td>3.000000</td>\n",
              "      <td>3.000000</td>\n",
              "      <td>849.000000</td>\n",
              "      <td>13.000000</td>\n",
              "    </tr>\n",
              "    <tr>\n",
              "      <th>max</th>\n",
              "      <td>24.000000</td>\n",
              "      <td>13.760000</td>\n",
              "      <td>29.200000</td>\n",
              "      <td>8.00000</td>\n",
              "      <td>230.000000</td>\n",
              "      <td>1.000000</td>\n",
              "      <td>3.000000</td>\n",
              "      <td>3.000000</td>\n",
              "      <td>1050.000000</td>\n",
              "      <td>13.000000</td>\n",
              "    </tr>\n",
              "  </tbody>\n",
              "</table>\n",
              "</div>"
            ],
            "text/plain": [
              "               dul  fresh_weight_plug  ...  plug_density_m2  substrate_id\n",
              "count  1783.000000        1783.000000  ...      1783.000000   1783.000000\n",
              "mean     18.785193           6.895729  ...       791.658441      9.948962\n",
              "std       2.835633           1.087821  ...       132.599240      4.757082\n",
              "min      14.000000           5.000000  ...       624.000000      2.000000\n",
              "25%      16.500000           6.140000  ...       633.000000      4.000000\n",
              "50%      18.000000           6.730000  ...       849.000000     13.000000\n",
              "75%      20.000000           7.250000  ...       849.000000     13.000000\n",
              "max      24.000000          13.760000  ...      1050.000000     13.000000\n",
              "\n",
              "[8 rows x 10 columns]"
            ]
          },
          "metadata": {
            "tags": []
          },
          "execution_count": 36
        }
      ]
    },
    {
      "cell_type": "code",
      "metadata": {
        "id": "NbMDxr4d4sSW",
        "colab_type": "code",
        "colab": {
          "base_uri": "https://localhost:8080/",
          "height": 84
        },
        "outputId": "f3461e56-d785-4b89-9767-3106d32c037e"
      },
      "source": [
        "def _zoom_3sigma(col, dataset, dataset_apl):\n",
        "    '''\n",
        "    col: Data column name\n",
        "    dataset: The original data table is used to calculate about 3 sigma\n",
        "    dataset_apl: New data table applies about 3 sigma taken from the dataset..\n",
        "    '''\n",
        "    xs = dataset[col]\n",
        "    mu = xs.mean()\n",
        "    sigma = xs.std()\n",
        "    low =  mu - 3*sigma\n",
        "#     low =  0 if low < 0 else low\n",
        "    high = mu + 3*sigma\n",
        "    \n",
        "    def _value(x):\n",
        "        if x < low: return low\n",
        "        elif x > high: return high\n",
        "        else: return x\n",
        "    xapl = dataset_apl[col]    \n",
        "    xnew = list(map(lambda x: _value(x), xapl))\n",
        "    n_low = len([i for i in xnew if i == low])\n",
        "    n_high = len([i for i in xnew if i == high])\n",
        "    n = len(xapl)\n",
        "    print('Percentage of low: {:.2f}{}'.format(100*n_low/n, '%'))\n",
        "    print('Percentage of high: {:.2f}{}'.format(100*n_high/n, '%'))\n",
        "    print('Low value: {:.2f}'.format(low))\n",
        "    print('High value: {:.2f}'.format(high))\n",
        "    return xnew\n",
        "\n",
        "# Check with FLAG_MOBIL variable\n",
        "x = _zoom_3sigma('light_distribution_id', df, df)"
      ],
      "execution_count": 37,
      "outputs": [
        {
          "output_type": "stream",
          "text": [
            "Percentage of low: 0.00%\n",
            "Percentage of high: 0.00%\n",
            "Low value: 95.94\n",
            "High value: 288.47\n"
          ],
          "name": "stdout"
        }
      ]
    },
    {
      "cell_type": "markdown",
      "metadata": {
        "id": "hIBh2i5Z4sSX",
        "colab_type": "text"
      },
      "source": [
        "Solution is to normalize data . We ll do it later just before modeling"
      ]
    },
    {
      "cell_type": "markdown",
      "metadata": {
        "id": "3gTQbTil4sSY",
        "colab_type": "text"
      },
      "source": [
        "# 4)- Working with dependant variable"
      ]
    },
    {
      "cell_type": "markdown",
      "metadata": {
        "id": "ds18ThdW4sSY",
        "colab_type": "text"
      },
      "source": [
        "### For task2 i.e plant ID feature"
      ]
    },
    {
      "cell_type": "code",
      "metadata": {
        "id": "E3ojtrPP4sSZ",
        "colab_type": "code",
        "colab": {
          "base_uri": "https://localhost:8080/",
          "height": 34
        },
        "outputId": "5dbbd625-c276-49b9-c05f-d533368d0bf9"
      },
      "source": [
        "df.plant_id.unique()"
      ],
      "execution_count": 38,
      "outputs": [
        {
          "output_type": "execute_result",
          "data": {
            "text/plain": [
              "array([1, 2, 3])"
            ]
          },
          "metadata": {
            "tags": []
          },
          "execution_count": 38
        }
      ]
    },
    {
      "cell_type": "code",
      "metadata": {
        "id": "sUqGx-in4sSc",
        "colab_type": "code",
        "colab": {
          "base_uri": "https://localhost:8080/",
          "height": 84
        },
        "outputId": "79a2b810-6ba4-474c-95b2-debd1ed2038d"
      },
      "source": [
        "df.plant_id.value_counts()"
      ],
      "execution_count": 39,
      "outputs": [
        {
          "output_type": "execute_result",
          "data": {
            "text/plain": [
              "1    598\n",
              "2    597\n",
              "3    588\n",
              "Name: plant_id, dtype: int64"
            ]
          },
          "metadata": {
            "tags": []
          },
          "execution_count": 39
        }
      ]
    },
    {
      "cell_type": "code",
      "metadata": {
        "id": "0U7c2XGn4sSe",
        "colab_type": "code",
        "colab": {
          "base_uri": "https://localhost:8080/",
          "height": 369
        },
        "outputId": "621762d4-0191-4726-8de9-af9bec9c739f"
      },
      "source": [
        "df['plant_id'].value_counts().plot.bar()"
      ],
      "execution_count": 40,
      "outputs": [
        {
          "output_type": "execute_result",
          "data": {
            "text/plain": [
              "<matplotlib.axes._subplots.AxesSubplot at 0x7fafde4e2470>"
            ]
          },
          "metadata": {
            "tags": []
          },
          "execution_count": 40
        },
        {
          "output_type": "display_data",
          "data": {
            "text/plain": [
              "<Figure size 432x288 with 1 Axes>"
            ],
            "image/svg+xml": "<?xml version=\"1.0\" encoding=\"utf-8\" standalone=\"no\"?>\n<!DOCTYPE svg PUBLIC \"-//W3C//DTD SVG 1.1//EN\"\n  \"http://www.w3.org/Graphics/SVG/1.1/DTD/svg11.dtd\">\n<!-- Created with matplotlib (https://matplotlib.org/) -->\n<svg height=\"248.33875pt\" version=\"1.1\" viewBox=\"0 0 379.69625 248.33875\" width=\"379.69625pt\" xmlns=\"http://www.w3.org/2000/svg\" xmlns:xlink=\"http://www.w3.org/1999/xlink\">\n <defs>\n  <style type=\"text/css\">\n*{stroke-linecap:butt;stroke-linejoin:round;}\n  </style>\n </defs>\n <g id=\"figure_1\">\n  <g id=\"patch_1\">\n   <path d=\"M 0 248.33875 \nL 379.69625 248.33875 \nL 379.69625 0 \nL 0 0 \nz\n\" style=\"fill:none;\"/>\n  </g>\n  <g id=\"axes_1\">\n   <g id=\"patch_2\">\n    <path d=\"M 37.69625 224.64 \nL 372.49625 224.64 \nL 372.49625 7.2 \nL 37.69625 7.2 \nz\n\" style=\"fill:#eaeaf2;\"/>\n   </g>\n   <g id=\"matplotlib.axis_1\">\n    <g id=\"xtick_1\">\n     <g id=\"line2d_1\">\n      <path clip-path=\"url(#p4fc4d18ad2)\" d=\"M 93.49625 224.64 \nL 93.49625 7.2 \n\" style=\"fill:none;stroke:#ffffff;stroke-linecap:round;\"/>\n     </g>\n     <g id=\"text_1\">\n      <!-- 1 -->\n      <defs>\n       <path d=\"M 12.40625 8.296875 \nL 28.515625 8.296875 \nL 28.515625 63.921875 \nL 10.984375 60.40625 \nL 10.984375 69.390625 \nL 28.421875 72.90625 \nL 38.28125 72.90625 \nL 38.28125 8.296875 \nL 54.390625 8.296875 \nL 54.390625 0 \nL 12.40625 0 \nz\n\" id=\"DejaVuSans-49\"/>\n      </defs>\n      <g style=\"fill:#262626;\" transform=\"translate(96.531563 241.13875)rotate(-90)scale(0.11 -0.11)\">\n       <use xlink:href=\"#DejaVuSans-49\"/>\n      </g>\n     </g>\n    </g>\n    <g id=\"xtick_2\">\n     <g id=\"line2d_2\">\n      <path clip-path=\"url(#p4fc4d18ad2)\" d=\"M 205.09625 224.64 \nL 205.09625 7.2 \n\" style=\"fill:none;stroke:#ffffff;stroke-linecap:round;\"/>\n     </g>\n     <g id=\"text_2\">\n      <!-- 2 -->\n      <defs>\n       <path d=\"M 19.1875 8.296875 \nL 53.609375 8.296875 \nL 53.609375 0 \nL 7.328125 0 \nL 7.328125 8.296875 \nQ 12.9375 14.109375 22.625 23.890625 \nQ 32.328125 33.6875 34.8125 36.53125 \nQ 39.546875 41.84375 41.421875 45.53125 \nQ 43.3125 49.21875 43.3125 52.78125 \nQ 43.3125 58.59375 39.234375 62.25 \nQ 35.15625 65.921875 28.609375 65.921875 \nQ 23.96875 65.921875 18.8125 64.3125 \nQ 13.671875 62.703125 7.8125 59.421875 \nL 7.8125 69.390625 \nQ 13.765625 71.78125 18.9375 73 \nQ 24.125 74.21875 28.421875 74.21875 \nQ 39.75 74.21875 46.484375 68.546875 \nQ 53.21875 62.890625 53.21875 53.421875 \nQ 53.21875 48.921875 51.53125 44.890625 \nQ 49.859375 40.875 45.40625 35.40625 \nQ 44.1875 33.984375 37.640625 27.21875 \nQ 31.109375 20.453125 19.1875 8.296875 \nz\n\" id=\"DejaVuSans-50\"/>\n      </defs>\n      <g style=\"fill:#262626;\" transform=\"translate(208.131563 241.13875)rotate(-90)scale(0.11 -0.11)\">\n       <use xlink:href=\"#DejaVuSans-50\"/>\n      </g>\n     </g>\n    </g>\n    <g id=\"xtick_3\">\n     <g id=\"line2d_3\">\n      <path clip-path=\"url(#p4fc4d18ad2)\" d=\"M 316.69625 224.64 \nL 316.69625 7.2 \n\" style=\"fill:none;stroke:#ffffff;stroke-linecap:round;\"/>\n     </g>\n     <g id=\"text_3\">\n      <!-- 3 -->\n      <defs>\n       <path d=\"M 40.578125 39.3125 \nQ 47.65625 37.796875 51.625 33 \nQ 55.609375 28.21875 55.609375 21.1875 \nQ 55.609375 10.40625 48.1875 4.484375 \nQ 40.765625 -1.421875 27.09375 -1.421875 \nQ 22.515625 -1.421875 17.65625 -0.515625 \nQ 12.796875 0.390625 7.625 2.203125 \nL 7.625 11.71875 \nQ 11.71875 9.328125 16.59375 8.109375 \nQ 21.484375 6.890625 26.8125 6.890625 \nQ 36.078125 6.890625 40.9375 10.546875 \nQ 45.796875 14.203125 45.796875 21.1875 \nQ 45.796875 27.640625 41.28125 31.265625 \nQ 36.765625 34.90625 28.71875 34.90625 \nL 20.21875 34.90625 \nL 20.21875 43.015625 \nL 29.109375 43.015625 \nQ 36.375 43.015625 40.234375 45.921875 \nQ 44.09375 48.828125 44.09375 54.296875 \nQ 44.09375 59.90625 40.109375 62.90625 \nQ 36.140625 65.921875 28.71875 65.921875 \nQ 24.65625 65.921875 20.015625 65.03125 \nQ 15.375 64.15625 9.8125 62.3125 \nL 9.8125 71.09375 \nQ 15.4375 72.65625 20.34375 73.4375 \nQ 25.25 74.21875 29.59375 74.21875 \nQ 40.828125 74.21875 47.359375 69.109375 \nQ 53.90625 64.015625 53.90625 55.328125 \nQ 53.90625 49.265625 50.4375 45.09375 \nQ 46.96875 40.921875 40.578125 39.3125 \nz\n\" id=\"DejaVuSans-51\"/>\n      </defs>\n      <g style=\"fill:#262626;\" transform=\"translate(319.731562 241.13875)rotate(-90)scale(0.11 -0.11)\">\n       <use xlink:href=\"#DejaVuSans-51\"/>\n      </g>\n     </g>\n    </g>\n   </g>\n   <g id=\"matplotlib.axis_2\">\n    <g id=\"ytick_1\">\n     <g id=\"line2d_4\">\n      <path clip-path=\"url(#p4fc4d18ad2)\" d=\"M 37.69625 224.64 \nL 372.49625 224.64 \n\" style=\"fill:none;stroke:#ffffff;stroke-linecap:round;\"/>\n     </g>\n     <g id=\"text_4\">\n      <!-- 0 -->\n      <defs>\n       <path d=\"M 31.78125 66.40625 \nQ 24.171875 66.40625 20.328125 58.90625 \nQ 16.5 51.421875 16.5 36.375 \nQ 16.5 21.390625 20.328125 13.890625 \nQ 24.171875 6.390625 31.78125 6.390625 \nQ 39.453125 6.390625 43.28125 13.890625 \nQ 47.125 21.390625 47.125 36.375 \nQ 47.125 51.421875 43.28125 58.90625 \nQ 39.453125 66.40625 31.78125 66.40625 \nz\nM 31.78125 74.21875 \nQ 44.046875 74.21875 50.515625 64.515625 \nQ 56.984375 54.828125 56.984375 36.375 \nQ 56.984375 17.96875 50.515625 8.265625 \nQ 44.046875 -1.421875 31.78125 -1.421875 \nQ 19.53125 -1.421875 13.0625 8.265625 \nQ 6.59375 17.96875 6.59375 36.375 \nQ 6.59375 54.828125 13.0625 64.515625 \nQ 19.53125 74.21875 31.78125 74.21875 \nz\n\" id=\"DejaVuSans-48\"/>\n      </defs>\n      <g style=\"fill:#262626;\" transform=\"translate(21.1975 228.819141)scale(0.11 -0.11)\">\n       <use xlink:href=\"#DejaVuSans-48\"/>\n      </g>\n     </g>\n    </g>\n    <g id=\"ytick_2\">\n     <g id=\"line2d_5\">\n      <path clip-path=\"url(#p4fc4d18ad2)\" d=\"M 37.69625 190.010282 \nL 372.49625 190.010282 \n\" style=\"fill:none;stroke:#ffffff;stroke-linecap:round;\"/>\n     </g>\n     <g id=\"text_5\">\n      <!-- 100 -->\n      <g style=\"fill:#262626;\" transform=\"translate(7.2 194.189423)scale(0.11 -0.11)\">\n       <use xlink:href=\"#DejaVuSans-49\"/>\n       <use x=\"63.623047\" xlink:href=\"#DejaVuSans-48\"/>\n       <use x=\"127.246094\" xlink:href=\"#DejaVuSans-48\"/>\n      </g>\n     </g>\n    </g>\n    <g id=\"ytick_3\">\n     <g id=\"line2d_6\">\n      <path clip-path=\"url(#p4fc4d18ad2)\" d=\"M 37.69625 155.380564 \nL 372.49625 155.380564 \n\" style=\"fill:none;stroke:#ffffff;stroke-linecap:round;\"/>\n     </g>\n     <g id=\"text_6\">\n      <!-- 200 -->\n      <g style=\"fill:#262626;\" transform=\"translate(7.2 159.559704)scale(0.11 -0.11)\">\n       <use xlink:href=\"#DejaVuSans-50\"/>\n       <use x=\"63.623047\" xlink:href=\"#DejaVuSans-48\"/>\n       <use x=\"127.246094\" xlink:href=\"#DejaVuSans-48\"/>\n      </g>\n     </g>\n    </g>\n    <g id=\"ytick_4\">\n     <g id=\"line2d_7\">\n      <path clip-path=\"url(#p4fc4d18ad2)\" d=\"M 37.69625 120.750846 \nL 372.49625 120.750846 \n\" style=\"fill:none;stroke:#ffffff;stroke-linecap:round;\"/>\n     </g>\n     <g id=\"text_7\">\n      <!-- 300 -->\n      <g style=\"fill:#262626;\" transform=\"translate(7.2 124.929986)scale(0.11 -0.11)\">\n       <use xlink:href=\"#DejaVuSans-51\"/>\n       <use x=\"63.623047\" xlink:href=\"#DejaVuSans-48\"/>\n       <use x=\"127.246094\" xlink:href=\"#DejaVuSans-48\"/>\n      </g>\n     </g>\n    </g>\n    <g id=\"ytick_5\">\n     <g id=\"line2d_8\">\n      <path clip-path=\"url(#p4fc4d18ad2)\" d=\"M 37.69625 86.121128 \nL 372.49625 86.121128 \n\" style=\"fill:none;stroke:#ffffff;stroke-linecap:round;\"/>\n     </g>\n     <g id=\"text_8\">\n      <!-- 400 -->\n      <defs>\n       <path d=\"M 37.796875 64.3125 \nL 12.890625 25.390625 \nL 37.796875 25.390625 \nz\nM 35.203125 72.90625 \nL 47.609375 72.90625 \nL 47.609375 25.390625 \nL 58.015625 25.390625 \nL 58.015625 17.1875 \nL 47.609375 17.1875 \nL 47.609375 0 \nL 37.796875 0 \nL 37.796875 17.1875 \nL 4.890625 17.1875 \nL 4.890625 26.703125 \nz\n\" id=\"DejaVuSans-52\"/>\n      </defs>\n      <g style=\"fill:#262626;\" transform=\"translate(7.2 90.300268)scale(0.11 -0.11)\">\n       <use xlink:href=\"#DejaVuSans-52\"/>\n       <use x=\"63.623047\" xlink:href=\"#DejaVuSans-48\"/>\n       <use x=\"127.246094\" xlink:href=\"#DejaVuSans-48\"/>\n      </g>\n     </g>\n    </g>\n    <g id=\"ytick_6\">\n     <g id=\"line2d_9\">\n      <path clip-path=\"url(#p4fc4d18ad2)\" d=\"M 37.69625 51.491409 \nL 372.49625 51.491409 \n\" style=\"fill:none;stroke:#ffffff;stroke-linecap:round;\"/>\n     </g>\n     <g id=\"text_9\">\n      <!-- 500 -->\n      <defs>\n       <path d=\"M 10.796875 72.90625 \nL 49.515625 72.90625 \nL 49.515625 64.59375 \nL 19.828125 64.59375 \nL 19.828125 46.734375 \nQ 21.96875 47.46875 24.109375 47.828125 \nQ 26.265625 48.1875 28.421875 48.1875 \nQ 40.625 48.1875 47.75 41.5 \nQ 54.890625 34.8125 54.890625 23.390625 \nQ 54.890625 11.625 47.5625 5.09375 \nQ 40.234375 -1.421875 26.90625 -1.421875 \nQ 22.3125 -1.421875 17.546875 -0.640625 \nQ 12.796875 0.140625 7.71875 1.703125 \nL 7.71875 11.625 \nQ 12.109375 9.234375 16.796875 8.0625 \nQ 21.484375 6.890625 26.703125 6.890625 \nQ 35.15625 6.890625 40.078125 11.328125 \nQ 45.015625 15.765625 45.015625 23.390625 \nQ 45.015625 31 40.078125 35.4375 \nQ 35.15625 39.890625 26.703125 39.890625 \nQ 22.75 39.890625 18.8125 39.015625 \nQ 14.890625 38.140625 10.796875 36.28125 \nz\n\" id=\"DejaVuSans-53\"/>\n      </defs>\n      <g style=\"fill:#262626;\" transform=\"translate(7.2 55.67055)scale(0.11 -0.11)\">\n       <use xlink:href=\"#DejaVuSans-53\"/>\n       <use x=\"63.623047\" xlink:href=\"#DejaVuSans-48\"/>\n       <use x=\"127.246094\" xlink:href=\"#DejaVuSans-48\"/>\n      </g>\n     </g>\n    </g>\n    <g id=\"ytick_7\">\n     <g id=\"line2d_10\">\n      <path clip-path=\"url(#p4fc4d18ad2)\" d=\"M 37.69625 16.861691 \nL 372.49625 16.861691 \n\" style=\"fill:none;stroke:#ffffff;stroke-linecap:round;\"/>\n     </g>\n     <g id=\"text_10\">\n      <!-- 600 -->\n      <defs>\n       <path d=\"M 33.015625 40.375 \nQ 26.375 40.375 22.484375 35.828125 \nQ 18.609375 31.296875 18.609375 23.390625 \nQ 18.609375 15.53125 22.484375 10.953125 \nQ 26.375 6.390625 33.015625 6.390625 \nQ 39.65625 6.390625 43.53125 10.953125 \nQ 47.40625 15.53125 47.40625 23.390625 \nQ 47.40625 31.296875 43.53125 35.828125 \nQ 39.65625 40.375 33.015625 40.375 \nz\nM 52.59375 71.296875 \nL 52.59375 62.3125 \nQ 48.875 64.0625 45.09375 64.984375 \nQ 41.3125 65.921875 37.59375 65.921875 \nQ 27.828125 65.921875 22.671875 59.328125 \nQ 17.53125 52.734375 16.796875 39.40625 \nQ 19.671875 43.65625 24.015625 45.921875 \nQ 28.375 48.1875 33.59375 48.1875 \nQ 44.578125 48.1875 50.953125 41.515625 \nQ 57.328125 34.859375 57.328125 23.390625 \nQ 57.328125 12.15625 50.6875 5.359375 \nQ 44.046875 -1.421875 33.015625 -1.421875 \nQ 20.359375 -1.421875 13.671875 8.265625 \nQ 6.984375 17.96875 6.984375 36.375 \nQ 6.984375 53.65625 15.1875 63.9375 \nQ 23.390625 74.21875 37.203125 74.21875 \nQ 40.921875 74.21875 44.703125 73.484375 \nQ 48.484375 72.75 52.59375 71.296875 \nz\n\" id=\"DejaVuSans-54\"/>\n      </defs>\n      <g style=\"fill:#262626;\" transform=\"translate(7.2 21.040832)scale(0.11 -0.11)\">\n       <use xlink:href=\"#DejaVuSans-54\"/>\n       <use x=\"63.623047\" xlink:href=\"#DejaVuSans-48\"/>\n       <use x=\"127.246094\" xlink:href=\"#DejaVuSans-48\"/>\n      </g>\n     </g>\n    </g>\n   </g>\n   <g id=\"patch_3\">\n    <path clip-path=\"url(#p4fc4d18ad2)\" d=\"M 65.59625 224.64 \nL 121.39625 224.64 \nL 121.39625 17.554286 \nL 65.59625 17.554286 \nz\n\" style=\"fill:#4c72b0;stroke:#ffffff;stroke-linejoin:miter;\"/>\n   </g>\n   <g id=\"patch_4\">\n    <path clip-path=\"url(#p4fc4d18ad2)\" d=\"M 177.19625 224.64 \nL 232.99625 224.64 \nL 232.99625 17.900583 \nL 177.19625 17.900583 \nz\n\" style=\"fill:#4c72b0;stroke:#ffffff;stroke-linejoin:miter;\"/>\n   </g>\n   <g id=\"patch_5\">\n    <path clip-path=\"url(#p4fc4d18ad2)\" d=\"M 288.79625 224.64 \nL 344.59625 224.64 \nL 344.59625 21.017258 \nL 288.79625 21.017258 \nz\n\" style=\"fill:#4c72b0;stroke:#ffffff;stroke-linejoin:miter;\"/>\n   </g>\n   <g id=\"patch_6\">\n    <path d=\"M 37.69625 224.64 \nL 37.69625 7.2 \n\" style=\"fill:none;stroke:#ffffff;stroke-linecap:square;stroke-linejoin:miter;stroke-width:1.25;\"/>\n   </g>\n   <g id=\"patch_7\">\n    <path d=\"M 372.49625 224.64 \nL 372.49625 7.2 \n\" style=\"fill:none;stroke:#ffffff;stroke-linecap:square;stroke-linejoin:miter;stroke-width:1.25;\"/>\n   </g>\n   <g id=\"patch_8\">\n    <path d=\"M 37.69625 224.64 \nL 372.49625 224.64 \n\" style=\"fill:none;stroke:#ffffff;stroke-linecap:square;stroke-linejoin:miter;stroke-width:1.25;\"/>\n   </g>\n   <g id=\"patch_9\">\n    <path d=\"M 37.69625 7.2 \nL 372.49625 7.2 \n\" style=\"fill:none;stroke:#ffffff;stroke-linecap:square;stroke-linejoin:miter;stroke-width:1.25;\"/>\n   </g>\n  </g>\n </g>\n <defs>\n  <clipPath id=\"p4fc4d18ad2\">\n   <rect height=\"217.44\" width=\"334.8\" x=\"37.69625\" y=\"7.2\"/>\n  </clipPath>\n </defs>\n</svg>\n"
          },
          "metadata": {
            "tags": []
          }
        }
      ]
    },
    {
      "cell_type": "markdown",
      "metadata": {
        "id": "hUOGA4RR4sSf",
        "colab_type": "text"
      },
      "source": [
        "### For task 3 i.e marketable or not"
      ]
    },
    {
      "cell_type": "code",
      "metadata": {
        "id": "5ovvg1Kk4sSg",
        "colab_type": "code",
        "colab": {
          "base_uri": "https://localhost:8080/",
          "height": 67
        },
        "outputId": "88b80210-40e2-4276-9f5d-337ce01b729a"
      },
      "source": [
        "df.marketable.value_counts()"
      ],
      "execution_count": 41,
      "outputs": [
        {
          "output_type": "execute_result",
          "data": {
            "text/plain": [
              "1.0    1249\n",
              "0.0     534\n",
              "Name: marketable, dtype: int64"
            ]
          },
          "metadata": {
            "tags": []
          },
          "execution_count": 41
        }
      ]
    },
    {
      "cell_type": "code",
      "metadata": {
        "id": "DxR-qWLs4sSi",
        "colab_type": "code",
        "colab": {
          "base_uri": "https://localhost:8080/",
          "height": 84
        },
        "outputId": "626fffd8-94c8-44d8-bb6c-cc0e0779cdf1"
      },
      "source": [
        "n_group = df['marketable'].value_counts()\n",
        "n_group_sum = n_group.sum()\n",
        "\n",
        "print('Marketable: {}'.format(n_group[0]))\n",
        "print('Not-Marketable: {}'.format(n_group[1]))\n",
        "\n",
        "print('percentage of Marketable: {:.2f} {}'.format(n_group[0]/n_group_sum*100, '%'))\n",
        "print('percentage of Not-Marketable: {:.2f} {}'.format(n_group[1]/n_group_sum*100, '%'))"
      ],
      "execution_count": 42,
      "outputs": [
        {
          "output_type": "stream",
          "text": [
            "Marketable: 534\n",
            "Not-Marketable: 1249\n",
            "percentage of Marketable: 29.95 %\n",
            "percentage of Not-Marketable: 70.05 %\n"
          ],
          "name": "stdout"
        }
      ]
    },
    {
      "cell_type": "markdown",
      "metadata": {
        "id": "4A3mXnkw4sSj",
        "colab_type": "text"
      },
      "source": [
        "There is a class imbalance as we have more not-marketable items"
      ]
    },
    {
      "cell_type": "code",
      "metadata": {
        "id": "PyuGOrKB4sSk",
        "colab_type": "code",
        "colab": {
          "base_uri": "https://localhost:8080/",
          "height": 383
        },
        "outputId": "b28f8161-1374-404f-fd95-9b8a54e7de9b"
      },
      "source": [
        "df['marketable'].value_counts().plot.bar()"
      ],
      "execution_count": 43,
      "outputs": [
        {
          "output_type": "execute_result",
          "data": {
            "text/plain": [
              "<matplotlib.axes._subplots.AxesSubplot at 0x7fafde4545f8>"
            ]
          },
          "metadata": {
            "tags": []
          },
          "execution_count": 43
        },
        {
          "output_type": "display_data",
          "data": {
            "text/plain": [
              "<Figure size 432x288 with 1 Axes>"
            ],
            "image/svg+xml": "<?xml version=\"1.0\" encoding=\"utf-8\" standalone=\"no\"?>\n<!DOCTYPE svg PUBLIC \"-//W3C//DTD SVG 1.1//EN\"\n  \"http://www.w3.org/Graphics/SVG/1.1/DTD/svg11.dtd\">\n<!-- Created with matplotlib (https://matplotlib.org/) -->\n<svg height=\"258.833438pt\" version=\"1.1\" viewBox=\"0 0 386.695 258.833438\" width=\"386.695pt\" xmlns=\"http://www.w3.org/2000/svg\" xmlns:xlink=\"http://www.w3.org/1999/xlink\">\n <defs>\n  <style type=\"text/css\">\n*{stroke-linecap:butt;stroke-linejoin:round;}\n  </style>\n </defs>\n <g id=\"figure_1\">\n  <g id=\"patch_1\">\n   <path d=\"M 0 258.833438 \nL 386.695 258.833438 \nL 386.695 0 \nL 0 0 \nz\n\" style=\"fill:none;\"/>\n  </g>\n  <g id=\"axes_1\">\n   <g id=\"patch_2\">\n    <path d=\"M 44.695 224.64 \nL 379.495 224.64 \nL 379.495 7.2 \nL 44.695 7.2 \nz\n\" style=\"fill:#eaeaf2;\"/>\n   </g>\n   <g id=\"matplotlib.axis_1\">\n    <g id=\"xtick_1\">\n     <g id=\"line2d_1\">\n      <path clip-path=\"url(#p12823e8488)\" d=\"M 128.395 224.64 \nL 128.395 7.2 \n\" style=\"fill:none;stroke:#ffffff;stroke-linecap:round;\"/>\n     </g>\n     <g id=\"text_1\">\n      <!-- 1.0 -->\n      <defs>\n       <path d=\"M 12.40625 8.296875 \nL 28.515625 8.296875 \nL 28.515625 63.921875 \nL 10.984375 60.40625 \nL 10.984375 69.390625 \nL 28.421875 72.90625 \nL 38.28125 72.90625 \nL 38.28125 8.296875 \nL 54.390625 8.296875 \nL 54.390625 0 \nL 12.40625 0 \nz\n\" id=\"DejaVuSans-49\"/>\n       <path d=\"M 10.6875 12.40625 \nL 21 12.40625 \nL 21 0 \nL 10.6875 0 \nz\n\" id=\"DejaVuSans-46\"/>\n       <path d=\"M 31.78125 66.40625 \nQ 24.171875 66.40625 20.328125 58.90625 \nQ 16.5 51.421875 16.5 36.375 \nQ 16.5 21.390625 20.328125 13.890625 \nQ 24.171875 6.390625 31.78125 6.390625 \nQ 39.453125 6.390625 43.28125 13.890625 \nQ 47.125 21.390625 47.125 36.375 \nQ 47.125 51.421875 43.28125 58.90625 \nQ 39.453125 66.40625 31.78125 66.40625 \nz\nM 31.78125 74.21875 \nQ 44.046875 74.21875 50.515625 64.515625 \nQ 56.984375 54.828125 56.984375 36.375 \nQ 56.984375 17.96875 50.515625 8.265625 \nQ 44.046875 -1.421875 31.78125 -1.421875 \nQ 19.53125 -1.421875 13.0625 8.265625 \nQ 6.59375 17.96875 6.59375 36.375 \nQ 6.59375 54.828125 13.0625 64.515625 \nQ 19.53125 74.21875 31.78125 74.21875 \nz\n\" id=\"DejaVuSans-48\"/>\n      </defs>\n      <g style=\"fill:#262626;\" transform=\"translate(131.430313 251.633438)rotate(-90)scale(0.11 -0.11)\">\n       <use xlink:href=\"#DejaVuSans-49\"/>\n       <use x=\"63.623047\" xlink:href=\"#DejaVuSans-46\"/>\n       <use x=\"95.410156\" xlink:href=\"#DejaVuSans-48\"/>\n      </g>\n     </g>\n    </g>\n    <g id=\"xtick_2\">\n     <g id=\"line2d_2\">\n      <path clip-path=\"url(#p12823e8488)\" d=\"M 295.795 224.64 \nL 295.795 7.2 \n\" style=\"fill:none;stroke:#ffffff;stroke-linecap:round;\"/>\n     </g>\n     <g id=\"text_2\">\n      <!-- 0.0 -->\n      <g style=\"fill:#262626;\" transform=\"translate(298.830312 251.633438)rotate(-90)scale(0.11 -0.11)\">\n       <use xlink:href=\"#DejaVuSans-48\"/>\n       <use x=\"63.623047\" xlink:href=\"#DejaVuSans-46\"/>\n       <use x=\"95.410156\" xlink:href=\"#DejaVuSans-48\"/>\n      </g>\n     </g>\n    </g>\n   </g>\n   <g id=\"matplotlib.axis_2\">\n    <g id=\"ytick_1\">\n     <g id=\"line2d_3\">\n      <path clip-path=\"url(#p12823e8488)\" d=\"M 44.695 224.64 \nL 379.495 224.64 \n\" style=\"fill:none;stroke:#ffffff;stroke-linecap:round;\"/>\n     </g>\n     <g id=\"text_3\">\n      <!-- 0 -->\n      <g style=\"fill:#262626;\" transform=\"translate(28.19625 228.819141)scale(0.11 -0.11)\">\n       <use xlink:href=\"#DejaVuSans-48\"/>\n      </g>\n     </g>\n    </g>\n    <g id=\"ytick_2\">\n     <g id=\"line2d_4\">\n      <path clip-path=\"url(#p12823e8488)\" d=\"M 44.695 191.479758 \nL 379.495 191.479758 \n\" style=\"fill:none;stroke:#ffffff;stroke-linecap:round;\"/>\n     </g>\n     <g id=\"text_4\">\n      <!-- 200 -->\n      <defs>\n       <path d=\"M 19.1875 8.296875 \nL 53.609375 8.296875 \nL 53.609375 0 \nL 7.328125 0 \nL 7.328125 8.296875 \nQ 12.9375 14.109375 22.625 23.890625 \nQ 32.328125 33.6875 34.8125 36.53125 \nQ 39.546875 41.84375 41.421875 45.53125 \nQ 43.3125 49.21875 43.3125 52.78125 \nQ 43.3125 58.59375 39.234375 62.25 \nQ 35.15625 65.921875 28.609375 65.921875 \nQ 23.96875 65.921875 18.8125 64.3125 \nQ 13.671875 62.703125 7.8125 59.421875 \nL 7.8125 69.390625 \nQ 13.765625 71.78125 18.9375 73 \nQ 24.125 74.21875 28.421875 74.21875 \nQ 39.75 74.21875 46.484375 68.546875 \nQ 53.21875 62.890625 53.21875 53.421875 \nQ 53.21875 48.921875 51.53125 44.890625 \nQ 49.859375 40.875 45.40625 35.40625 \nQ 44.1875 33.984375 37.640625 27.21875 \nQ 31.109375 20.453125 19.1875 8.296875 \nz\n\" id=\"DejaVuSans-50\"/>\n      </defs>\n      <g style=\"fill:#262626;\" transform=\"translate(14.19875 195.658898)scale(0.11 -0.11)\">\n       <use xlink:href=\"#DejaVuSans-50\"/>\n       <use x=\"63.623047\" xlink:href=\"#DejaVuSans-48\"/>\n       <use x=\"127.246094\" xlink:href=\"#DejaVuSans-48\"/>\n      </g>\n     </g>\n    </g>\n    <g id=\"ytick_3\">\n     <g id=\"line2d_5\">\n      <path clip-path=\"url(#p12823e8488)\" d=\"M 44.695 158.319515 \nL 379.495 158.319515 \n\" style=\"fill:none;stroke:#ffffff;stroke-linecap:round;\"/>\n     </g>\n     <g id=\"text_5\">\n      <!-- 400 -->\n      <defs>\n       <path d=\"M 37.796875 64.3125 \nL 12.890625 25.390625 \nL 37.796875 25.390625 \nz\nM 35.203125 72.90625 \nL 47.609375 72.90625 \nL 47.609375 25.390625 \nL 58.015625 25.390625 \nL 58.015625 17.1875 \nL 47.609375 17.1875 \nL 47.609375 0 \nL 37.796875 0 \nL 37.796875 17.1875 \nL 4.890625 17.1875 \nL 4.890625 26.703125 \nz\n\" id=\"DejaVuSans-52\"/>\n      </defs>\n      <g style=\"fill:#262626;\" transform=\"translate(14.19875 162.498656)scale(0.11 -0.11)\">\n       <use xlink:href=\"#DejaVuSans-52\"/>\n       <use x=\"63.623047\" xlink:href=\"#DejaVuSans-48\"/>\n       <use x=\"127.246094\" xlink:href=\"#DejaVuSans-48\"/>\n      </g>\n     </g>\n    </g>\n    <g id=\"ytick_4\">\n     <g id=\"line2d_6\">\n      <path clip-path=\"url(#p12823e8488)\" d=\"M 44.695 125.159273 \nL 379.495 125.159273 \n\" style=\"fill:none;stroke:#ffffff;stroke-linecap:round;\"/>\n     </g>\n     <g id=\"text_6\">\n      <!-- 600 -->\n      <defs>\n       <path d=\"M 33.015625 40.375 \nQ 26.375 40.375 22.484375 35.828125 \nQ 18.609375 31.296875 18.609375 23.390625 \nQ 18.609375 15.53125 22.484375 10.953125 \nQ 26.375 6.390625 33.015625 6.390625 \nQ 39.65625 6.390625 43.53125 10.953125 \nQ 47.40625 15.53125 47.40625 23.390625 \nQ 47.40625 31.296875 43.53125 35.828125 \nQ 39.65625 40.375 33.015625 40.375 \nz\nM 52.59375 71.296875 \nL 52.59375 62.3125 \nQ 48.875 64.0625 45.09375 64.984375 \nQ 41.3125 65.921875 37.59375 65.921875 \nQ 27.828125 65.921875 22.671875 59.328125 \nQ 17.53125 52.734375 16.796875 39.40625 \nQ 19.671875 43.65625 24.015625 45.921875 \nQ 28.375 48.1875 33.59375 48.1875 \nQ 44.578125 48.1875 50.953125 41.515625 \nQ 57.328125 34.859375 57.328125 23.390625 \nQ 57.328125 12.15625 50.6875 5.359375 \nQ 44.046875 -1.421875 33.015625 -1.421875 \nQ 20.359375 -1.421875 13.671875 8.265625 \nQ 6.984375 17.96875 6.984375 36.375 \nQ 6.984375 53.65625 15.1875 63.9375 \nQ 23.390625 74.21875 37.203125 74.21875 \nQ 40.921875 74.21875 44.703125 73.484375 \nQ 48.484375 72.75 52.59375 71.296875 \nz\n\" id=\"DejaVuSans-54\"/>\n      </defs>\n      <g style=\"fill:#262626;\" transform=\"translate(14.19875 129.338413)scale(0.11 -0.11)\">\n       <use xlink:href=\"#DejaVuSans-54\"/>\n       <use x=\"63.623047\" xlink:href=\"#DejaVuSans-48\"/>\n       <use x=\"127.246094\" xlink:href=\"#DejaVuSans-48\"/>\n      </g>\n     </g>\n    </g>\n    <g id=\"ytick_5\">\n     <g id=\"line2d_7\">\n      <path clip-path=\"url(#p12823e8488)\" d=\"M 44.695 91.99903 \nL 379.495 91.99903 \n\" style=\"fill:none;stroke:#ffffff;stroke-linecap:round;\"/>\n     </g>\n     <g id=\"text_7\">\n      <!-- 800 -->\n      <defs>\n       <path d=\"M 31.78125 34.625 \nQ 24.75 34.625 20.71875 30.859375 \nQ 16.703125 27.09375 16.703125 20.515625 \nQ 16.703125 13.921875 20.71875 10.15625 \nQ 24.75 6.390625 31.78125 6.390625 \nQ 38.8125 6.390625 42.859375 10.171875 \nQ 46.921875 13.96875 46.921875 20.515625 \nQ 46.921875 27.09375 42.890625 30.859375 \nQ 38.875 34.625 31.78125 34.625 \nz\nM 21.921875 38.8125 \nQ 15.578125 40.375 12.03125 44.71875 \nQ 8.5 49.078125 8.5 55.328125 \nQ 8.5 64.0625 14.71875 69.140625 \nQ 20.953125 74.21875 31.78125 74.21875 \nQ 42.671875 74.21875 48.875 69.140625 \nQ 55.078125 64.0625 55.078125 55.328125 \nQ 55.078125 49.078125 51.53125 44.71875 \nQ 48 40.375 41.703125 38.8125 \nQ 48.828125 37.15625 52.796875 32.3125 \nQ 56.78125 27.484375 56.78125 20.515625 \nQ 56.78125 9.90625 50.3125 4.234375 \nQ 43.84375 -1.421875 31.78125 -1.421875 \nQ 19.734375 -1.421875 13.25 4.234375 \nQ 6.78125 9.90625 6.78125 20.515625 \nQ 6.78125 27.484375 10.78125 32.3125 \nQ 14.796875 37.15625 21.921875 38.8125 \nz\nM 18.3125 54.390625 \nQ 18.3125 48.734375 21.84375 45.5625 \nQ 25.390625 42.390625 31.78125 42.390625 \nQ 38.140625 42.390625 41.71875 45.5625 \nQ 45.3125 48.734375 45.3125 54.390625 \nQ 45.3125 60.0625 41.71875 63.234375 \nQ 38.140625 66.40625 31.78125 66.40625 \nQ 25.390625 66.40625 21.84375 63.234375 \nQ 18.3125 60.0625 18.3125 54.390625 \nz\n\" id=\"DejaVuSans-56\"/>\n      </defs>\n      <g style=\"fill:#262626;\" transform=\"translate(14.19875 96.178171)scale(0.11 -0.11)\">\n       <use xlink:href=\"#DejaVuSans-56\"/>\n       <use x=\"63.623047\" xlink:href=\"#DejaVuSans-48\"/>\n       <use x=\"127.246094\" xlink:href=\"#DejaVuSans-48\"/>\n      </g>\n     </g>\n    </g>\n    <g id=\"ytick_6\">\n     <g id=\"line2d_8\">\n      <path clip-path=\"url(#p12823e8488)\" d=\"M 44.695 58.838788 \nL 379.495 58.838788 \n\" style=\"fill:none;stroke:#ffffff;stroke-linecap:round;\"/>\n     </g>\n     <g id=\"text_8\">\n      <!-- 1000 -->\n      <g style=\"fill:#262626;\" transform=\"translate(7.2 63.017928)scale(0.11 -0.11)\">\n       <use xlink:href=\"#DejaVuSans-49\"/>\n       <use x=\"63.623047\" xlink:href=\"#DejaVuSans-48\"/>\n       <use x=\"127.246094\" xlink:href=\"#DejaVuSans-48\"/>\n       <use x=\"190.869141\" xlink:href=\"#DejaVuSans-48\"/>\n      </g>\n     </g>\n    </g>\n    <g id=\"ytick_7\">\n     <g id=\"line2d_9\">\n      <path clip-path=\"url(#p12823e8488)\" d=\"M 44.695 25.678545 \nL 379.495 25.678545 \n\" style=\"fill:none;stroke:#ffffff;stroke-linecap:round;\"/>\n     </g>\n     <g id=\"text_9\">\n      <!-- 1200 -->\n      <g style=\"fill:#262626;\" transform=\"translate(7.2 29.857686)scale(0.11 -0.11)\">\n       <use xlink:href=\"#DejaVuSans-49\"/>\n       <use x=\"63.623047\" xlink:href=\"#DejaVuSans-50\"/>\n       <use x=\"127.246094\" xlink:href=\"#DejaVuSans-48\"/>\n       <use x=\"190.869141\" xlink:href=\"#DejaVuSans-48\"/>\n      </g>\n     </g>\n    </g>\n   </g>\n   <g id=\"patch_3\">\n    <path clip-path=\"url(#p12823e8488)\" d=\"M 86.545 224.64 \nL 170.245 224.64 \nL 170.245 17.554286 \nL 86.545 17.554286 \nz\n\" style=\"fill:#4c72b0;stroke:#ffffff;stroke-linejoin:miter;\"/>\n   </g>\n   <g id=\"patch_4\">\n    <path clip-path=\"url(#p12823e8488)\" d=\"M 253.945 224.64 \nL 337.645 224.64 \nL 337.645 136.102153 \nL 253.945 136.102153 \nz\n\" style=\"fill:#4c72b0;stroke:#ffffff;stroke-linejoin:miter;\"/>\n   </g>\n   <g id=\"patch_5\">\n    <path d=\"M 44.695 224.64 \nL 44.695 7.2 \n\" style=\"fill:none;stroke:#ffffff;stroke-linecap:square;stroke-linejoin:miter;stroke-width:1.25;\"/>\n   </g>\n   <g id=\"patch_6\">\n    <path d=\"M 379.495 224.64 \nL 379.495 7.2 \n\" style=\"fill:none;stroke:#ffffff;stroke-linecap:square;stroke-linejoin:miter;stroke-width:1.25;\"/>\n   </g>\n   <g id=\"patch_7\">\n    <path d=\"M 44.695 224.64 \nL 379.495 224.64 \n\" style=\"fill:none;stroke:#ffffff;stroke-linecap:square;stroke-linejoin:miter;stroke-width:1.25;\"/>\n   </g>\n   <g id=\"patch_8\">\n    <path d=\"M 44.695 7.2 \nL 379.495 7.2 \n\" style=\"fill:none;stroke:#ffffff;stroke-linecap:square;stroke-linejoin:miter;stroke-width:1.25;\"/>\n   </g>\n  </g>\n </g>\n <defs>\n  <clipPath id=\"p12823e8488\">\n   <rect height=\"217.44\" width=\"334.8\" x=\"44.695\" y=\"7.2\"/>\n  </clipPath>\n </defs>\n</svg>\n"
          },
          "metadata": {
            "tags": []
          }
        }
      ]
    },
    {
      "cell_type": "markdown",
      "metadata": {
        "id": "MZTxTmwt4sSm",
        "colab_type": "text"
      },
      "source": [
        "### correlation among varibles"
      ]
    },
    {
      "cell_type": "code",
      "metadata": {
        "id": "EiM2BtWT4sSn",
        "colab_type": "code",
        "colab": {}
      },
      "source": [
        "#correlations with the label feature and sort\n",
        "correlations = df.corr()['marketable'].sort_values()"
      ],
      "execution_count": 0,
      "outputs": []
    },
    {
      "cell_type": "code",
      "metadata": {
        "id": "WnB2cyhN4sSo",
        "colab_type": "code",
        "colab": {
          "base_uri": "https://localhost:8080/",
          "height": 134
        },
        "outputId": "46c206b9-56e5-4017-8105-46101a7bb9de"
      },
      "source": [
        "print('Most Positive Correlations:\\n', correlations.tail(5))"
      ],
      "execution_count": 45,
      "outputs": [
        {
          "output_type": "stream",
          "text": [
            "Most Positive Correlations:\n",
            " plant_id             0.039044\n",
            "dul                  0.291252\n",
            "leaf_length          0.308015\n",
            "fresh_weight_plug    0.350634\n",
            "marketable           1.000000\n",
            "Name: marketable, dtype: float64\n"
          ],
          "name": "stdout"
        }
      ]
    },
    {
      "cell_type": "code",
      "metadata": {
        "id": "RgZWnqFS4sSq",
        "colab_type": "code",
        "colab": {
          "base_uri": "https://localhost:8080/",
          "height": 151
        },
        "outputId": "2836cf95-9ec1-47cd-8743-1e314d9afe0d"
      },
      "source": [
        "print('\\nMost Negative Correlations:\\n', correlations.head(5))"
      ],
      "execution_count": 46,
      "outputs": [
        {
          "output_type": "stream",
          "text": [
            "\n",
            "Most Negative Correlations:\n",
            " nutrients_id            -0.228745\n",
            "plug_density_m2         -0.221229\n",
            "substrate_id            -0.179008\n",
            "led_type_id             -0.097548\n",
            "light_distribution_id   -0.059000\n",
            "Name: marketable, dtype: float64\n"
          ],
          "name": "stdout"
        }
      ]
    },
    {
      "cell_type": "markdown",
      "metadata": {
        "id": "UFks_r7-4sSr",
        "colab_type": "text"
      },
      "source": [
        "# Task 2)- Modeling with  plant_id "
      ]
    },
    {
      "cell_type": "code",
      "metadata": {
        "id": "TIidpk1Z4sSs",
        "colab_type": "code",
        "colab": {}
      },
      "source": [
        "y=df.plant_id"
      ],
      "execution_count": 0,
      "outputs": []
    },
    {
      "cell_type": "code",
      "metadata": {
        "id": "2dW_5kgk4sSt",
        "colab_type": "code",
        "colab": {}
      },
      "source": [
        "X=df.drop(['plant_id'], axis=1)"
      ],
      "execution_count": 0,
      "outputs": []
    },
    {
      "cell_type": "code",
      "metadata": {
        "id": "IiSdGdwS4sSu",
        "colab_type": "code",
        "colab": {
          "base_uri": "https://localhost:8080/",
          "height": 50
        },
        "outputId": "84b9af79-5f4a-4041-bfe8-ba668ff95fe5"
      },
      "source": [
        "print(y.shape)\n",
        "print(X.shape)"
      ],
      "execution_count": 49,
      "outputs": [
        {
          "output_type": "stream",
          "text": [
            "(1783,)\n",
            "(1783, 9)\n"
          ],
          "name": "stdout"
        }
      ]
    },
    {
      "cell_type": "markdown",
      "metadata": {
        "id": "GYOBOQot4sSw",
        "colab_type": "text"
      },
      "source": [
        "### Normalize data"
      ]
    },
    {
      "cell_type": "code",
      "metadata": {
        "id": "NtMgFPB-4sSy",
        "colab_type": "code",
        "colab": {}
      },
      "source": [
        "from sklearn.preprocessing import StandardScaler\n",
        "X_scaled = StandardScaler().fit_transform(X)"
      ],
      "execution_count": 0,
      "outputs": []
    },
    {
      "cell_type": "code",
      "metadata": {
        "id": "K6j0ld7y4sS2",
        "colab_type": "code",
        "colab": {
          "base_uri": "https://localhost:8080/",
          "height": 235
        },
        "outputId": "44f6a63e-dac7-4253-84b3-3eaeda677f31"
      },
      "source": [
        "X_scaled"
      ],
      "execution_count": 51,
      "outputs": [
        {
          "output_type": "execute_result",
          "data": {
            "text/plain": [
              "array([[-1.68799571e+00, -3.99834110e-04,  8.82895125e-01, ...,\n",
              "        -2.12204769e+00, -1.26475444e+00, -1.67144322e+00],\n",
              "       [-1.68799571e+00, -5.20203381e-01, -3.66450535e-04, ...,\n",
              "        -2.12204769e+00, -1.26475444e+00, -1.67144322e+00],\n",
              "       [-1.68799571e+00, -5.29398651e-01,  6.46488528e-01, ...,\n",
              "        -2.12204769e+00, -1.26475444e+00, -1.67144322e+00],\n",
              "       ...,\n",
              "       [ 1.83954338e+00,  1.69441874e-01,  9.48731355e-02, ...,\n",
              "         4.71242943e-01,  1.17184035e+00,  6.41547387e-01],\n",
              "       [ 1.83954338e+00,  3.25761465e-01,  5.54720361e-02, ...,\n",
              "         4.71242943e-01,  1.17184035e+00,  6.41547387e-01],\n",
              "       [ 1.83954338e+00,  3.92701289e-03, -3.38538959e-01, ...,\n",
              "         4.71242943e-01,  1.17184035e+00,  6.41547387e-01]])"
            ]
          },
          "metadata": {
            "tags": []
          },
          "execution_count": 51
        }
      ]
    },
    {
      "cell_type": "markdown",
      "metadata": {
        "id": "e39_7GD54sS3",
        "colab_type": "text"
      },
      "source": [
        "### Train and Test split"
      ]
    },
    {
      "cell_type": "code",
      "metadata": {
        "id": "CMubRxPj4sS3",
        "colab_type": "code",
        "colab": {}
      },
      "source": [
        "from sklearn.model_selection import train_test_split\n",
        "\n",
        "X_train, X_test, y_train, y_test = train_test_split(X_scaled, y, test_size=0.20, random_state=0)"
      ],
      "execution_count": 0,
      "outputs": []
    },
    {
      "cell_type": "code",
      "metadata": {
        "id": "Hj1QQUbD4sS5",
        "colab_type": "code",
        "colab": {
          "base_uri": "https://localhost:8080/",
          "height": 84
        },
        "outputId": "655c75b3-d806-402b-b457-0fad39e8544d"
      },
      "source": [
        "print(X_train.shape)\n",
        "print(X_test.shape)\n",
        "print(y_train.shape)\n",
        "print(y_test.shape)"
      ],
      "execution_count": 53,
      "outputs": [
        {
          "output_type": "stream",
          "text": [
            "(1426, 9)\n",
            "(357, 9)\n",
            "(1426,)\n",
            "(357,)\n"
          ],
          "name": "stdout"
        }
      ]
    },
    {
      "cell_type": "markdown",
      "metadata": {
        "id": "K9zLqoYC4sS7",
        "colab_type": "text"
      },
      "source": [
        "# Model Building"
      ]
    },
    {
      "cell_type": "code",
      "metadata": {
        "id": "x1NptjCM4sS7",
        "colab_type": "code",
        "colab": {}
      },
      "source": [
        "models = []\n",
        "models.append((\"NB\",GaussianNB()))\n",
        "models.append((\"KNN\",KNeighborsClassifier()))\n",
        "models.append((\"DT\",DecisionTreeClassifier()))\n",
        "models.append((\"RF\",RandomForestClassifier()))\n",
        "models.append((\"SVM\",SVC()))"
      ],
      "execution_count": 0,
      "outputs": []
    },
    {
      "cell_type": "code",
      "metadata": {
        "id": "1gNPFteo4sS9",
        "colab_type": "code",
        "colab": {
          "base_uri": "https://localhost:8080/",
          "height": 101
        },
        "outputId": "6fb1980f-dcd4-442a-dedd-70212e1011fa"
      },
      "source": [
        "results = []\n",
        "names = []\n",
        "for name,model in models:\n",
        "    kfold = KFold(n_splits=10, random_state=22)\n",
        "    cv_result = cross_val_score(model,X_train,y_train, cv = kfold,scoring = \"accuracy\")\n",
        "    names.append(name)\n",
        "    results.append(cv_result)\n",
        "for i in range(len(names)):\n",
        "    print(names[i],results[i].mean())"
      ],
      "execution_count": 55,
      "outputs": [
        {
          "output_type": "stream",
          "text": [
            "NB 0.39618831872353\n",
            "KNN 0.6275879050526938\n",
            "DT 0.5848616172559835\n",
            "RF 0.6571259726189304\n",
            "SVM 0.6402836600019699\n"
          ],
          "name": "stdout"
        }
      ]
    },
    {
      "cell_type": "markdown",
      "metadata": {
        "id": "KiAaS3pK4sS-",
        "colab_type": "text"
      },
      "source": [
        "Random Forest performs best on training data with 72% accuracy. \n",
        "\n",
        "**How about test data?**"
      ]
    },
    {
      "cell_type": "code",
      "metadata": {
        "id": "xYSPajeb4sTB",
        "colab_type": "code",
        "colab": {
          "base_uri": "https://localhost:8080/",
          "height": 101
        },
        "outputId": "c5311c41-49e7-4f34-f511-6c7b7a1801a8"
      },
      "source": [
        "results = []\n",
        "names = []\n",
        "for name,model in models:\n",
        "    kfold = KFold(n_splits=10, random_state=22)\n",
        "    cv_result = cross_val_score(model,X_test,y_test, cv = kfold,scoring = \"accuracy\")\n",
        "    names.append(name)\n",
        "    results.append(cv_result)\n",
        "for i in range(len(names)):\n",
        "    print(names[i],results[i].mean())"
      ],
      "execution_count": 56,
      "outputs": [
        {
          "output_type": "stream",
          "text": [
            "NB 0.3916666666666667\n",
            "KNN 0.5407936507936508\n",
            "DT 0.5492857142857142\n",
            "RF 0.5853968253968254\n",
            "SVM 0.5519047619047619\n"
          ],
          "name": "stdout"
        }
      ]
    },
    {
      "cell_type": "markdown",
      "metadata": {
        "id": "_iOo3UMu4sTC",
        "colab_type": "text"
      },
      "source": [
        "still Random Forest is winner. So, we can say that random forest is the most optimal model out of all our choices"
      ]
    },
    {
      "cell_type": "code",
      "metadata": {
        "id": "muAZnTH84sTD",
        "colab_type": "code",
        "colab": {
          "base_uri": "https://localhost:8080/",
          "height": 441
        },
        "outputId": "bc81004e-71b6-48ad-e93e-52c2e5cb12f1"
      },
      "source": [
        "ax = sns.boxplot(data=results)\n",
        "figsize=(16, 7)\n",
        "ax.set_xticklabels(names)"
      ],
      "execution_count": 57,
      "outputs": [
        {
          "output_type": "execute_result",
          "data": {
            "text/plain": [
              "[Text(0, 0, 'NB'),\n",
              " Text(0, 0, 'KNN'),\n",
              " Text(0, 0, 'DT'),\n",
              " Text(0, 0, 'RF'),\n",
              " Text(0, 0, 'SVM')]"
            ]
          },
          "metadata": {
            "tags": []
          },
          "execution_count": 57
        },
        {
          "output_type": "display_data",
          "data": {
            "text/plain": [
              "<Figure size 432x288 with 1 Axes>"
            ],
            "image/svg+xml": "<?xml version=\"1.0\" encoding=\"utf-8\" standalone=\"no\"?>\n<!DOCTYPE svg PUBLIC \"-//W3C//DTD SVG 1.1//EN\"\n  \"http://www.w3.org/Graphics/SVG/1.1/DTD/svg11.dtd\">\n<!-- Created with matplotlib (https://matplotlib.org/) -->\n<svg height=\"251.985937pt\" version=\"1.1\" viewBox=\"0 0 376.193437 251.985937\" width=\"376.193437pt\" xmlns=\"http://www.w3.org/2000/svg\" xmlns:xlink=\"http://www.w3.org/1999/xlink\">\n <defs>\n  <style type=\"text/css\">\n*{stroke-linecap:butt;stroke-linejoin:round;}\n  </style>\n </defs>\n <g id=\"figure_1\">\n  <g id=\"patch_1\">\n   <path d=\"M 0 251.985937 \nL 376.193437 251.985937 \nL 376.193437 0 \nL 0 0 \nz\n\" style=\"fill:none;\"/>\n  </g>\n  <g id=\"axes_1\">\n   <g id=\"patch_2\">\n    <path d=\"M 34.193438 224.64 \nL 368.993438 224.64 \nL 368.993438 7.2 \nL 34.193438 7.2 \nz\n\" style=\"fill:#eaeaf2;\"/>\n   </g>\n   <g id=\"matplotlib.axis_1\">\n    <g id=\"xtick_1\">\n     <g id=\"text_1\">\n      <!-- NB -->\n      <defs>\n       <path d=\"M 9.8125 72.90625 \nL 23.09375 72.90625 \nL 55.421875 11.921875 \nL 55.421875 72.90625 \nL 64.984375 72.90625 \nL 64.984375 0 \nL 51.703125 0 \nL 19.390625 60.984375 \nL 19.390625 0 \nL 9.8125 0 \nz\n\" id=\"DejaVuSans-78\"/>\n       <path d=\"M 19.671875 34.8125 \nL 19.671875 8.109375 \nL 35.5 8.109375 \nQ 43.453125 8.109375 47.28125 11.40625 \nQ 51.125 14.703125 51.125 21.484375 \nQ 51.125 28.328125 47.28125 31.5625 \nQ 43.453125 34.8125 35.5 34.8125 \nz\nM 19.671875 64.796875 \nL 19.671875 42.828125 \nL 34.28125 42.828125 \nQ 41.5 42.828125 45.03125 45.53125 \nQ 48.578125 48.25 48.578125 53.8125 \nQ 48.578125 59.328125 45.03125 62.0625 \nQ 41.5 64.796875 34.28125 64.796875 \nz\nM 9.8125 72.90625 \nL 35.015625 72.90625 \nQ 46.296875 72.90625 52.390625 68.21875 \nQ 58.5 63.53125 58.5 54.890625 \nQ 58.5 48.1875 55.375 44.234375 \nQ 52.25 40.28125 46.1875 39.3125 \nQ 53.46875 37.75 57.5 32.78125 \nQ 61.53125 27.828125 61.53125 20.40625 \nQ 61.53125 10.640625 54.890625 5.3125 \nQ 48.25 0 35.984375 0 \nL 9.8125 0 \nz\n\" id=\"DejaVuSans-66\"/>\n      </defs>\n      <g style=\"fill:#262626;\" transform=\"translate(59.785234 242.498281)scale(0.11 -0.11)\">\n       <use xlink:href=\"#DejaVuSans-78\"/>\n       <use x=\"74.804688\" xlink:href=\"#DejaVuSans-66\"/>\n      </g>\n     </g>\n    </g>\n    <g id=\"xtick_2\">\n     <g id=\"text_2\">\n      <!-- KNN -->\n      <defs>\n       <path d=\"M 9.8125 72.90625 \nL 19.671875 72.90625 \nL 19.671875 42.09375 \nL 52.390625 72.90625 \nL 65.09375 72.90625 \nL 28.90625 38.921875 \nL 67.671875 0 \nL 54.6875 0 \nL 19.671875 35.109375 \nL 19.671875 0 \nL 9.8125 0 \nz\n\" id=\"DejaVuSans-75\"/>\n      </defs>\n      <g style=\"fill:#262626;\" transform=\"translate(122.797266 242.498281)scale(0.11 -0.11)\">\n       <use xlink:href=\"#DejaVuSans-75\"/>\n       <use x=\"65.576172\" xlink:href=\"#DejaVuSans-78\"/>\n       <use x=\"140.380859\" xlink:href=\"#DejaVuSans-78\"/>\n      </g>\n     </g>\n    </g>\n    <g id=\"xtick_3\">\n     <g id=\"text_3\">\n      <!-- DT -->\n      <defs>\n       <path d=\"M 19.671875 64.796875 \nL 19.671875 8.109375 \nL 31.59375 8.109375 \nQ 46.6875 8.109375 53.6875 14.9375 \nQ 60.6875 21.78125 60.6875 36.53125 \nQ 60.6875 51.171875 53.6875 57.984375 \nQ 46.6875 64.796875 31.59375 64.796875 \nz\nM 9.8125 72.90625 \nL 30.078125 72.90625 \nQ 51.265625 72.90625 61.171875 64.09375 \nQ 71.09375 55.28125 71.09375 36.53125 \nQ 71.09375 17.671875 61.125 8.828125 \nQ 51.171875 0 30.078125 0 \nL 9.8125 0 \nz\n\" id=\"DejaVuSans-68\"/>\n       <path d=\"M -0.296875 72.90625 \nL 61.375 72.90625 \nL 61.375 64.59375 \nL 35.5 64.59375 \nL 35.5 0 \nL 25.59375 0 \nL 25.59375 64.59375 \nL -0.296875 64.59375 \nz\n\" id=\"DejaVuSans-84\"/>\n      </defs>\n      <g style=\"fill:#262626;\" transform=\"translate(193.999141 242.498281)scale(0.11 -0.11)\">\n       <use xlink:href=\"#DejaVuSans-68\"/>\n       <use x=\"77.001953\" xlink:href=\"#DejaVuSans-84\"/>\n      </g>\n     </g>\n    </g>\n    <g id=\"xtick_4\">\n     <g id=\"text_4\">\n      <!-- RF -->\n      <defs>\n       <path d=\"M 44.390625 34.1875 \nQ 47.5625 33.109375 50.5625 29.59375 \nQ 53.5625 26.078125 56.59375 19.921875 \nL 66.609375 0 \nL 56 0 \nL 46.6875 18.703125 \nQ 43.0625 26.03125 39.671875 28.421875 \nQ 36.28125 30.8125 30.421875 30.8125 \nL 19.671875 30.8125 \nL 19.671875 0 \nL 9.8125 0 \nL 9.8125 72.90625 \nL 32.078125 72.90625 \nQ 44.578125 72.90625 50.734375 67.671875 \nQ 56.890625 62.453125 56.890625 51.90625 \nQ 56.890625 45.015625 53.6875 40.46875 \nQ 50.484375 35.9375 44.390625 34.1875 \nz\nM 19.671875 64.796875 \nL 19.671875 38.921875 \nL 32.078125 38.921875 \nQ 39.203125 38.921875 42.84375 42.21875 \nQ 46.484375 45.515625 46.484375 51.90625 \nQ 46.484375 58.296875 42.84375 61.546875 \nQ 39.203125 64.796875 32.078125 64.796875 \nz\n\" id=\"DejaVuSans-82\"/>\n       <path d=\"M 9.8125 72.90625 \nL 51.703125 72.90625 \nL 51.703125 64.59375 \nL 19.671875 64.59375 \nL 19.671875 43.109375 \nL 48.578125 43.109375 \nL 48.578125 34.8125 \nL 19.671875 34.8125 \nL 19.671875 0 \nL 9.8125 0 \nz\n\" id=\"DejaVuSans-70\"/>\n      </defs>\n      <g style=\"fill:#262626;\" transform=\"translate(261.568438 242.498281)scale(0.11 -0.11)\">\n       <use xlink:href=\"#DejaVuSans-82\"/>\n       <use x=\"69.482422\" xlink:href=\"#DejaVuSans-70\"/>\n      </g>\n     </g>\n    </g>\n    <g id=\"xtick_5\">\n     <g id=\"text_5\">\n      <!-- SVM -->\n      <defs>\n       <path d=\"M 53.515625 70.515625 \nL 53.515625 60.890625 \nQ 47.90625 63.578125 42.921875 64.890625 \nQ 37.9375 66.21875 33.296875 66.21875 \nQ 25.25 66.21875 20.875 63.09375 \nQ 16.5 59.96875 16.5 54.203125 \nQ 16.5 49.359375 19.40625 46.890625 \nQ 22.3125 44.4375 30.421875 42.921875 \nL 36.375 41.703125 \nQ 47.40625 39.59375 52.65625 34.296875 \nQ 57.90625 29 57.90625 20.125 \nQ 57.90625 9.515625 50.796875 4.046875 \nQ 43.703125 -1.421875 29.984375 -1.421875 \nQ 24.8125 -1.421875 18.96875 -0.25 \nQ 13.140625 0.921875 6.890625 3.21875 \nL 6.890625 13.375 \nQ 12.890625 10.015625 18.65625 8.296875 \nQ 24.421875 6.59375 29.984375 6.59375 \nQ 38.421875 6.59375 43.015625 9.90625 \nQ 47.609375 13.234375 47.609375 19.390625 \nQ 47.609375 24.75 44.3125 27.78125 \nQ 41.015625 30.8125 33.5 32.328125 \nL 27.484375 33.5 \nQ 16.453125 35.6875 11.515625 40.375 \nQ 6.59375 45.0625 6.59375 53.421875 \nQ 6.59375 63.09375 13.40625 68.65625 \nQ 20.21875 74.21875 32.171875 74.21875 \nQ 37.3125 74.21875 42.625 73.28125 \nQ 47.953125 72.359375 53.515625 70.515625 \nz\n\" id=\"DejaVuSans-83\"/>\n       <path d=\"M 28.609375 0 \nL 0.78125 72.90625 \nL 11.078125 72.90625 \nL 34.1875 11.53125 \nL 57.328125 72.90625 \nL 67.578125 72.90625 \nL 39.796875 0 \nz\n\" id=\"DejaVuSans-86\"/>\n       <path d=\"M 9.8125 72.90625 \nL 24.515625 72.90625 \nL 43.109375 23.296875 \nL 61.8125 72.90625 \nL 76.515625 72.90625 \nL 76.515625 0 \nL 66.890625 0 \nL 66.890625 64.015625 \nL 48.09375 14.015625 \nL 38.1875 14.015625 \nL 19.390625 64.015625 \nL 19.390625 0 \nL 9.8125 0 \nz\n\" id=\"DejaVuSans-77\"/>\n      </defs>\n      <g style=\"fill:#262626;\" transform=\"translate(323.513984 242.498281)scale(0.11 -0.11)\">\n       <use xlink:href=\"#DejaVuSans-83\"/>\n       <use x=\"63.476562\" xlink:href=\"#DejaVuSans-86\"/>\n       <use x=\"131.884766\" xlink:href=\"#DejaVuSans-77\"/>\n      </g>\n     </g>\n    </g>\n   </g>\n   <g id=\"matplotlib.axis_2\">\n    <g id=\"ytick_1\">\n     <g id=\"line2d_1\">\n      <path clip-path=\"url(#p3cf0cf11b6)\" d=\"M 34.193438 196.540788 \nL 368.993438 196.540788 \n\" style=\"fill:none;stroke:#ffffff;stroke-linecap:round;\"/>\n     </g>\n     <g id=\"text_6\">\n      <!-- 0.3 -->\n      <defs>\n       <path d=\"M 31.78125 66.40625 \nQ 24.171875 66.40625 20.328125 58.90625 \nQ 16.5 51.421875 16.5 36.375 \nQ 16.5 21.390625 20.328125 13.890625 \nQ 24.171875 6.390625 31.78125 6.390625 \nQ 39.453125 6.390625 43.28125 13.890625 \nQ 47.125 21.390625 47.125 36.375 \nQ 47.125 51.421875 43.28125 58.90625 \nQ 39.453125 66.40625 31.78125 66.40625 \nz\nM 31.78125 74.21875 \nQ 44.046875 74.21875 50.515625 64.515625 \nQ 56.984375 54.828125 56.984375 36.375 \nQ 56.984375 17.96875 50.515625 8.265625 \nQ 44.046875 -1.421875 31.78125 -1.421875 \nQ 19.53125 -1.421875 13.0625 8.265625 \nQ 6.59375 17.96875 6.59375 36.375 \nQ 6.59375 54.828125 13.0625 64.515625 \nQ 19.53125 74.21875 31.78125 74.21875 \nz\n\" id=\"DejaVuSans-48\"/>\n       <path d=\"M 10.6875 12.40625 \nL 21 12.40625 \nL 21 0 \nL 10.6875 0 \nz\n\" id=\"DejaVuSans-46\"/>\n       <path d=\"M 40.578125 39.3125 \nQ 47.65625 37.796875 51.625 33 \nQ 55.609375 28.21875 55.609375 21.1875 \nQ 55.609375 10.40625 48.1875 4.484375 \nQ 40.765625 -1.421875 27.09375 -1.421875 \nQ 22.515625 -1.421875 17.65625 -0.515625 \nQ 12.796875 0.390625 7.625 2.203125 \nL 7.625 11.71875 \nQ 11.71875 9.328125 16.59375 8.109375 \nQ 21.484375 6.890625 26.8125 6.890625 \nQ 36.078125 6.890625 40.9375 10.546875 \nQ 45.796875 14.203125 45.796875 21.1875 \nQ 45.796875 27.640625 41.28125 31.265625 \nQ 36.765625 34.90625 28.71875 34.90625 \nL 20.21875 34.90625 \nL 20.21875 43.015625 \nL 29.109375 43.015625 \nQ 36.375 43.015625 40.234375 45.921875 \nQ 44.09375 48.828125 44.09375 54.296875 \nQ 44.09375 59.90625 40.109375 62.90625 \nQ 36.140625 65.921875 28.71875 65.921875 \nQ 24.65625 65.921875 20.015625 65.03125 \nQ 15.375 64.15625 9.8125 62.3125 \nL 9.8125 71.09375 \nQ 15.4375 72.65625 20.34375 73.4375 \nQ 25.25 74.21875 29.59375 74.21875 \nQ 40.828125 74.21875 47.359375 69.109375 \nQ 53.90625 64.015625 53.90625 55.328125 \nQ 53.90625 49.265625 50.4375 45.09375 \nQ 46.96875 40.921875 40.578125 39.3125 \nz\n\" id=\"DejaVuSans-51\"/>\n      </defs>\n      <g style=\"fill:#262626;\" transform=\"translate(7.2 200.719929)scale(0.11 -0.11)\">\n       <use xlink:href=\"#DejaVuSans-48\"/>\n       <use x=\"63.623047\" xlink:href=\"#DejaVuSans-46\"/>\n       <use x=\"95.410156\" xlink:href=\"#DejaVuSans-51\"/>\n      </g>\n     </g>\n    </g>\n    <g id=\"ytick_2\">\n     <g id=\"line2d_2\">\n      <path clip-path=\"url(#p3cf0cf11b6)\" d=\"M 34.193438 154.037778 \nL 368.993438 154.037778 \n\" style=\"fill:none;stroke:#ffffff;stroke-linecap:round;\"/>\n     </g>\n     <g id=\"text_7\">\n      <!-- 0.4 -->\n      <defs>\n       <path d=\"M 37.796875 64.3125 \nL 12.890625 25.390625 \nL 37.796875 25.390625 \nz\nM 35.203125 72.90625 \nL 47.609375 72.90625 \nL 47.609375 25.390625 \nL 58.015625 25.390625 \nL 58.015625 17.1875 \nL 47.609375 17.1875 \nL 47.609375 0 \nL 37.796875 0 \nL 37.796875 17.1875 \nL 4.890625 17.1875 \nL 4.890625 26.703125 \nz\n\" id=\"DejaVuSans-52\"/>\n      </defs>\n      <g style=\"fill:#262626;\" transform=\"translate(7.2 158.216919)scale(0.11 -0.11)\">\n       <use xlink:href=\"#DejaVuSans-48\"/>\n       <use x=\"63.623047\" xlink:href=\"#DejaVuSans-46\"/>\n       <use x=\"95.410156\" xlink:href=\"#DejaVuSans-52\"/>\n      </g>\n     </g>\n    </g>\n    <g id=\"ytick_3\">\n     <g id=\"line2d_3\">\n      <path clip-path=\"url(#p3cf0cf11b6)\" d=\"M 34.193438 111.534769 \nL 368.993438 111.534769 \n\" style=\"fill:none;stroke:#ffffff;stroke-linecap:round;\"/>\n     </g>\n     <g id=\"text_8\">\n      <!-- 0.5 -->\n      <defs>\n       <path d=\"M 10.796875 72.90625 \nL 49.515625 72.90625 \nL 49.515625 64.59375 \nL 19.828125 64.59375 \nL 19.828125 46.734375 \nQ 21.96875 47.46875 24.109375 47.828125 \nQ 26.265625 48.1875 28.421875 48.1875 \nQ 40.625 48.1875 47.75 41.5 \nQ 54.890625 34.8125 54.890625 23.390625 \nQ 54.890625 11.625 47.5625 5.09375 \nQ 40.234375 -1.421875 26.90625 -1.421875 \nQ 22.3125 -1.421875 17.546875 -0.640625 \nQ 12.796875 0.140625 7.71875 1.703125 \nL 7.71875 11.625 \nQ 12.109375 9.234375 16.796875 8.0625 \nQ 21.484375 6.890625 26.703125 6.890625 \nQ 35.15625 6.890625 40.078125 11.328125 \nQ 45.015625 15.765625 45.015625 23.390625 \nQ 45.015625 31 40.078125 35.4375 \nQ 35.15625 39.890625 26.703125 39.890625 \nQ 22.75 39.890625 18.8125 39.015625 \nQ 14.890625 38.140625 10.796875 36.28125 \nz\n\" id=\"DejaVuSans-53\"/>\n      </defs>\n      <g style=\"fill:#262626;\" transform=\"translate(7.2 115.713909)scale(0.11 -0.11)\">\n       <use xlink:href=\"#DejaVuSans-48\"/>\n       <use x=\"63.623047\" xlink:href=\"#DejaVuSans-46\"/>\n       <use x=\"95.410156\" xlink:href=\"#DejaVuSans-53\"/>\n      </g>\n     </g>\n    </g>\n    <g id=\"ytick_4\">\n     <g id=\"line2d_4\">\n      <path clip-path=\"url(#p3cf0cf11b6)\" d=\"M 34.193438 69.031759 \nL 368.993438 69.031759 \n\" style=\"fill:none;stroke:#ffffff;stroke-linecap:round;\"/>\n     </g>\n     <g id=\"text_9\">\n      <!-- 0.6 -->\n      <defs>\n       <path d=\"M 33.015625 40.375 \nQ 26.375 40.375 22.484375 35.828125 \nQ 18.609375 31.296875 18.609375 23.390625 \nQ 18.609375 15.53125 22.484375 10.953125 \nQ 26.375 6.390625 33.015625 6.390625 \nQ 39.65625 6.390625 43.53125 10.953125 \nQ 47.40625 15.53125 47.40625 23.390625 \nQ 47.40625 31.296875 43.53125 35.828125 \nQ 39.65625 40.375 33.015625 40.375 \nz\nM 52.59375 71.296875 \nL 52.59375 62.3125 \nQ 48.875 64.0625 45.09375 64.984375 \nQ 41.3125 65.921875 37.59375 65.921875 \nQ 27.828125 65.921875 22.671875 59.328125 \nQ 17.53125 52.734375 16.796875 39.40625 \nQ 19.671875 43.65625 24.015625 45.921875 \nQ 28.375 48.1875 33.59375 48.1875 \nQ 44.578125 48.1875 50.953125 41.515625 \nQ 57.328125 34.859375 57.328125 23.390625 \nQ 57.328125 12.15625 50.6875 5.359375 \nQ 44.046875 -1.421875 33.015625 -1.421875 \nQ 20.359375 -1.421875 13.671875 8.265625 \nQ 6.984375 17.96875 6.984375 36.375 \nQ 6.984375 53.65625 15.1875 63.9375 \nQ 23.390625 74.21875 37.203125 74.21875 \nQ 40.921875 74.21875 44.703125 73.484375 \nQ 48.484375 72.75 52.59375 71.296875 \nz\n\" id=\"DejaVuSans-54\"/>\n      </defs>\n      <g style=\"fill:#262626;\" transform=\"translate(7.2 73.2109)scale(0.11 -0.11)\">\n       <use xlink:href=\"#DejaVuSans-48\"/>\n       <use x=\"63.623047\" xlink:href=\"#DejaVuSans-46\"/>\n       <use x=\"95.410156\" xlink:href=\"#DejaVuSans-54\"/>\n      </g>\n     </g>\n    </g>\n    <g id=\"ytick_5\">\n     <g id=\"line2d_5\">\n      <path clip-path=\"url(#p3cf0cf11b6)\" d=\"M 34.193438 26.52875 \nL 368.993438 26.52875 \n\" style=\"fill:none;stroke:#ffffff;stroke-linecap:round;\"/>\n     </g>\n     <g id=\"text_10\">\n      <!-- 0.7 -->\n      <defs>\n       <path d=\"M 8.203125 72.90625 \nL 55.078125 72.90625 \nL 55.078125 68.703125 \nL 28.609375 0 \nL 18.3125 0 \nL 43.21875 64.59375 \nL 8.203125 64.59375 \nz\n\" id=\"DejaVuSans-55\"/>\n      </defs>\n      <g style=\"fill:#262626;\" transform=\"translate(7.2 30.70789)scale(0.11 -0.11)\">\n       <use xlink:href=\"#DejaVuSans-48\"/>\n       <use x=\"63.623047\" xlink:href=\"#DejaVuSans-46\"/>\n       <use x=\"95.410156\" xlink:href=\"#DejaVuSans-55\"/>\n      </g>\n     </g>\n    </g>\n   </g>\n   <g id=\"patch_3\">\n    <path clip-path=\"url(#p3cf0cf11b6)\" d=\"M 40.889437 188.444977 \nL 94.457438 188.444977 \nL 94.457438 136.834179 \nL 40.889437 136.834179 \nL 40.889437 188.444977 \nz\n\" style=\"fill:#5875a4;stroke:#4c4c4c;stroke-linejoin:miter;stroke-width:1.5;\"/>\n   </g>\n   <g id=\"patch_4\">\n    <path clip-path=\"url(#p3cf0cf11b6)\" d=\"M 107.849438 132.195954 \nL 161.417438 132.195954 \nL 161.417438 65.489842 \nL 107.849438 65.489842 \nL 107.849438 132.195954 \nz\n\" style=\"fill:#cc8963;stroke:#4c4c4c;stroke-linejoin:miter;stroke-width:1.5;\"/>\n   </g>\n   <g id=\"patch_5\">\n    <path clip-path=\"url(#p3cf0cf11b6)\" d=\"M 174.809438 110.016804 \nL 228.377438 110.016804 \nL 228.377438 77.380565 \nL 174.809438 77.380565 \nL 174.809438 110.016804 \nz\n\" style=\"fill:#5f9e6e;stroke:#4c4c4c;stroke-linejoin:miter;stroke-width:1.5;\"/>\n   </g>\n   <g id=\"patch_6\">\n    <path clip-path=\"url(#p3cf0cf11b6)\" d=\"M 241.769438 87.921986 \nL 295.337438 87.921986 \nL 295.337438 53.599119 \nL 241.769438 53.599119 \nL 241.769438 87.921986 \nz\n\" style=\"fill:#b55d60;stroke:#4c4c4c;stroke-linejoin:miter;stroke-width:1.5;\"/>\n   </g>\n   <g id=\"patch_7\">\n    <path clip-path=\"url(#p3cf0cf11b6)\" d=\"M 308.729438 113.137065 \nL 362.297438 113.137065 \nL 362.297438 58.743332 \nL 308.729438 58.743332 \nL 308.729438 113.137065 \nz\n\" style=\"fill:#857aab;stroke:#4c4c4c;stroke-linejoin:miter;stroke-width:1.5;\"/>\n   </g>\n   <g id=\"line2d_6\">\n    <path clip-path=\"url(#p3cf0cf11b6)\" d=\"M 67.673438 188.444977 \nL 67.673438 214.756364 \n\" style=\"fill:none;stroke:#4c4c4c;stroke-linecap:round;stroke-width:1.5;\"/>\n   </g>\n   <g id=\"line2d_7\">\n    <path clip-path=\"url(#p3cf0cf11b6)\" d=\"M 67.673438 136.834179 \nL 67.673438 111.534769 \n\" style=\"fill:none;stroke:#4c4c4c;stroke-linecap:round;stroke-width:1.5;\"/>\n   </g>\n   <g id=\"line2d_8\">\n    <path clip-path=\"url(#p3cf0cf11b6)\" d=\"M 54.281438 214.756364 \nL 81.065438 214.756364 \n\" style=\"fill:none;stroke:#4c4c4c;stroke-linecap:round;stroke-width:1.5;\"/>\n   </g>\n   <g id=\"line2d_9\">\n    <path clip-path=\"url(#p3cf0cf11b6)\" d=\"M 54.281438 111.534769 \nL 81.065438 111.534769 \n\" style=\"fill:none;stroke:#4c4c4c;stroke-linecap:round;stroke-width:1.5;\"/>\n   </g>\n   <g id=\"line2d_10\"/>\n   <g id=\"line2d_11\">\n    <path clip-path=\"url(#p3cf0cf11b6)\" d=\"M 134.633438 132.195954 \nL 134.633438 146.953944 \n\" style=\"fill:none;stroke:#4c4c4c;stroke-linecap:round;stroke-width:1.5;\"/>\n   </g>\n   <g id=\"line2d_12\">\n    <path clip-path=\"url(#p3cf0cf11b6)\" d=\"M 134.633438 65.489842 \nL 134.633438 44.744325 \n\" style=\"fill:none;stroke:#4c4c4c;stroke-linecap:round;stroke-width:1.5;\"/>\n   </g>\n   <g id=\"line2d_13\">\n    <path clip-path=\"url(#p3cf0cf11b6)\" d=\"M 121.241438 146.953944 \nL 148.025438 146.953944 \n\" style=\"fill:none;stroke:#4c4c4c;stroke-linecap:round;stroke-width:1.5;\"/>\n   </g>\n   <g id=\"line2d_14\">\n    <path clip-path=\"url(#p3cf0cf11b6)\" d=\"M 121.241438 44.744325 \nL 148.025438 44.744325 \n\" style=\"fill:none;stroke:#4c4c4c;stroke-linecap:round;stroke-width:1.5;\"/>\n   </g>\n   <g id=\"line2d_15\"/>\n   <g id=\"line2d_16\">\n    <path clip-path=\"url(#p3cf0cf11b6)\" d=\"M 201.593438 110.016804 \nL 201.593438 123.34116 \n\" style=\"fill:none;stroke:#4c4c4c;stroke-linecap:round;stroke-width:1.5;\"/>\n   </g>\n   <g id=\"line2d_17\">\n    <path clip-path=\"url(#p3cf0cf11b6)\" d=\"M 201.593438 77.380565 \nL 201.593438 44.744325 \n\" style=\"fill:none;stroke:#4c4c4c;stroke-linecap:round;stroke-width:1.5;\"/>\n   </g>\n   <g id=\"line2d_18\">\n    <path clip-path=\"url(#p3cf0cf11b6)\" d=\"M 188.201438 123.34116 \nL 214.985438 123.34116 \n\" style=\"fill:none;stroke:#4c4c4c;stroke-linecap:round;stroke-width:1.5;\"/>\n   </g>\n   <g id=\"line2d_19\">\n    <path clip-path=\"url(#p3cf0cf11b6)\" d=\"M 188.201438 44.744325 \nL 214.985438 44.744325 \n\" style=\"fill:none;stroke:#4c4c4c;stroke-linecap:round;stroke-width:1.5;\"/>\n   </g>\n   <g id=\"line2d_20\"/>\n   <g id=\"line2d_21\">\n    <path clip-path=\"url(#p3cf0cf11b6)\" d=\"M 268.553438 87.921986 \nL 268.553438 135.147552 \n\" style=\"fill:none;stroke:#4c4c4c;stroke-linecap:round;stroke-width:1.5;\"/>\n   </g>\n   <g id=\"line2d_22\">\n    <path clip-path=\"url(#p3cf0cf11b6)\" d=\"M 268.553438 53.599119 \nL 268.553438 17.083636 \n\" style=\"fill:none;stroke:#4c4c4c;stroke-linecap:round;stroke-width:1.5;\"/>\n   </g>\n   <g id=\"line2d_23\">\n    <path clip-path=\"url(#p3cf0cf11b6)\" d=\"M 255.161438 135.147552 \nL 281.945438 135.147552 \n\" style=\"fill:none;stroke:#4c4c4c;stroke-linecap:round;stroke-width:1.5;\"/>\n   </g>\n   <g id=\"line2d_24\">\n    <path clip-path=\"url(#p3cf0cf11b6)\" d=\"M 255.161438 17.083636 \nL 281.945438 17.083636 \n\" style=\"fill:none;stroke:#4c4c4c;stroke-linecap:round;stroke-width:1.5;\"/>\n   </g>\n   <g id=\"line2d_25\"/>\n   <g id=\"line2d_26\">\n    <path clip-path=\"url(#p3cf0cf11b6)\" d=\"M 335.513438 113.137065 \nL 335.513438 158.760335 \n\" style=\"fill:none;stroke:#4c4c4c;stroke-linecap:round;stroke-width:1.5;\"/>\n   </g>\n   <g id=\"line2d_27\">\n    <path clip-path=\"url(#p3cf0cf11b6)\" d=\"M 335.513438 58.743332 \nL 335.513438 52.502811 \n\" style=\"fill:none;stroke:#4c4c4c;stroke-linecap:round;stroke-width:1.5;\"/>\n   </g>\n   <g id=\"line2d_28\">\n    <path clip-path=\"url(#p3cf0cf11b6)\" d=\"M 322.121438 158.760335 \nL 348.905438 158.760335 \n\" style=\"fill:none;stroke:#4c4c4c;stroke-linecap:round;stroke-width:1.5;\"/>\n   </g>\n   <g id=\"line2d_29\">\n    <path clip-path=\"url(#p3cf0cf11b6)\" d=\"M 322.121438 52.502811 \nL 348.905438 52.502811 \n\" style=\"fill:none;stroke:#4c4c4c;stroke-linecap:round;stroke-width:1.5;\"/>\n   </g>\n   <g id=\"line2d_30\"/>\n   <g id=\"line2d_31\">\n    <path clip-path=\"url(#p3cf0cf11b6)\" d=\"M 40.889437 146.953944 \nL 94.457438 146.953944 \n\" style=\"fill:none;stroke:#4c4c4c;stroke-linecap:round;stroke-width:1.5;\"/>\n   </g>\n   <g id=\"line2d_32\">\n    <path clip-path=\"url(#p3cf0cf11b6)\" d=\"M 107.849438 76.115594 \nL 161.417438 76.115594 \n\" style=\"fill:none;stroke:#4c4c4c;stroke-linecap:round;stroke-width:1.5;\"/>\n   </g>\n   <g id=\"line2d_33\">\n    <path clip-path=\"url(#p3cf0cf11b6)\" d=\"M 174.809438 93.825182 \nL 228.377438 93.825182 \n\" style=\"fill:none;stroke:#4c4c4c;stroke-linecap:round;stroke-width:1.5;\"/>\n   </g>\n   <g id=\"line2d_34\">\n    <path clip-path=\"url(#p3cf0cf11b6)\" d=\"M 241.769438 84.548731 \nL 295.337438 84.548731 \n\" style=\"fill:none;stroke:#4c4c4c;stroke-linecap:round;stroke-width:1.5;\"/>\n   </g>\n   <g id=\"line2d_35\">\n    <path clip-path=\"url(#p3cf0cf11b6)\" d=\"M 308.729438 84.548731 \nL 362.297438 84.548731 \n\" style=\"fill:none;stroke:#4c4c4c;stroke-linecap:round;stroke-width:1.5;\"/>\n   </g>\n   <g id=\"patch_8\">\n    <path d=\"M 34.193438 224.64 \nL 34.193438 7.2 \n\" style=\"fill:none;stroke:#ffffff;stroke-linecap:square;stroke-linejoin:miter;stroke-width:1.25;\"/>\n   </g>\n   <g id=\"patch_9\">\n    <path d=\"M 368.993438 224.64 \nL 368.993438 7.2 \n\" style=\"fill:none;stroke:#ffffff;stroke-linecap:square;stroke-linejoin:miter;stroke-width:1.25;\"/>\n   </g>\n   <g id=\"patch_10\">\n    <path d=\"M 34.193438 224.64 \nL 368.993438 224.64 \n\" style=\"fill:none;stroke:#ffffff;stroke-linecap:square;stroke-linejoin:miter;stroke-width:1.25;\"/>\n   </g>\n   <g id=\"patch_11\">\n    <path d=\"M 34.193438 7.2 \nL 368.993438 7.2 \n\" style=\"fill:none;stroke:#ffffff;stroke-linecap:square;stroke-linejoin:miter;stroke-width:1.25;\"/>\n   </g>\n  </g>\n </g>\n <defs>\n  <clipPath id=\"p3cf0cf11b6\">\n   <rect height=\"217.44\" width=\"334.8\" x=\"34.193438\" y=\"7.2\"/>\n  </clipPath>\n </defs>\n</svg>\n"
          },
          "metadata": {
            "tags": []
          }
        }
      ]
    },
    {
      "cell_type": "markdown",
      "metadata": {
        "id": "cA19REZl4sTF",
        "colab_type": "text"
      },
      "source": [
        "### Model Tunning\n",
        "\n",
        "Adding more estimators, and playing with parameters..........I came up with better accuracy"
      ]
    },
    {
      "cell_type": "code",
      "metadata": {
        "id": "D4KT-qCz4sTG",
        "colab_type": "code",
        "colab": {
          "base_uri": "https://localhost:8080/",
          "height": 34
        },
        "outputId": "60a4c4b0-4d14-4cdc-e0e7-f7db55d858da"
      },
      "source": [
        "rf = RandomForestClassifier(n_estimators=10, criterion='entropy', random_state=0)\n",
        "rf.fit(X_train, y_train)\n",
        "pred_rf = rf.predict(X_test)\n",
        "pred_rf[:5]"
      ],
      "execution_count": 58,
      "outputs": [
        {
          "output_type": "execute_result",
          "data": {
            "text/plain": [
              "array([2, 2, 2, 1, 2])"
            ]
          },
          "metadata": {
            "tags": []
          },
          "execution_count": 58
        }
      ]
    },
    {
      "cell_type": "code",
      "metadata": {
        "id": "VFhIHDeA4sTI",
        "colab_type": "code",
        "colab": {
          "base_uri": "https://localhost:8080/",
          "height": 34
        },
        "outputId": "e8be49dc-5031-45bb-94d9-2fca66e7f0ae"
      },
      "source": [
        "print(accuracy_score(y_test, pred_rf))"
      ],
      "execution_count": 59,
      "outputs": [
        {
          "output_type": "stream",
          "text": [
            "0.6750700280112045\n"
          ],
          "name": "stdout"
        }
      ]
    },
    {
      "cell_type": "markdown",
      "metadata": {
        "id": "qm0x5MpK4sTJ",
        "colab_type": "text"
      },
      "source": [
        "### confusion Matrix"
      ]
    },
    {
      "cell_type": "code",
      "metadata": {
        "id": "ALLFPcR24sTJ",
        "colab_type": "code",
        "colab": {
          "base_uri": "https://localhost:8080/",
          "height": 67
        },
        "outputId": "1a54908c-4345-4dd6-eeb5-e92b7c3b8544"
      },
      "source": [
        "from sklearn.metrics import confusion_matrix\n",
        "cm = confusion_matrix(y_test, pred_rf)\n",
        "cm"
      ],
      "execution_count": 60,
      "outputs": [
        {
          "output_type": "execute_result",
          "data": {
            "text/plain": [
              "array([[92, 13, 13],\n",
              "       [14, 78, 40],\n",
              "       [12, 24, 71]])"
            ]
          },
          "metadata": {
            "tags": []
          },
          "execution_count": 60
        }
      ]
    },
    {
      "cell_type": "markdown",
      "metadata": {
        "id": "Qp-dL49B4sTM",
        "colab_type": "text"
      },
      "source": [
        "### Classification Report"
      ]
    },
    {
      "cell_type": "code",
      "metadata": {
        "id": "vog7Ppez4sTM",
        "colab_type": "code",
        "colab": {
          "base_uri": "https://localhost:8080/",
          "height": 185
        },
        "outputId": "20da27b9-91b6-4a2e-9807-38d52ccab611"
      },
      "source": [
        "print(classification_report(y_test, pred_rf))"
      ],
      "execution_count": 61,
      "outputs": [
        {
          "output_type": "stream",
          "text": [
            "              precision    recall  f1-score   support\n",
            "\n",
            "           1       0.78      0.78      0.78       118\n",
            "           2       0.68      0.59      0.63       132\n",
            "           3       0.57      0.66      0.61       107\n",
            "\n",
            "    accuracy                           0.68       357\n",
            "   macro avg       0.68      0.68      0.68       357\n",
            "weighted avg       0.68      0.68      0.68       357\n",
            "\n"
          ],
          "name": "stdout"
        }
      ]
    },
    {
      "cell_type": "markdown",
      "metadata": {
        "id": "3aJyLIxv4sTO",
        "colab_type": "text"
      },
      "source": [
        "# Task 3- predict if the product is marketable or not "
      ]
    },
    {
      "cell_type": "markdown",
      "metadata": {
        "id": "_hT86jrU4sTP",
        "colab_type": "text"
      },
      "source": [
        "In next notebook"
      ]
    }
  ]
}