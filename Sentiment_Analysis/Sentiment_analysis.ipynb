{
  "nbformat": 4,
  "nbformat_minor": 0,
  "metadata": {
    "colab": {
      "name": "Sentiment_analysis.ipynb",
      "version": "0.3.2",
      "provenance": []
    },
    "kernelspec": {
      "name": "python3",
      "display_name": "Python 3"
    },
    "accelerator": "GPU"
  },
  "cells": [
    {
      "cell_type": "markdown",
      "metadata": {
        "id": "QAq0-3_4A4tu",
        "colab_type": "text"
      },
      "source": [
        "# Sentiment analysis using LSTM"
      ]
    },
    {
      "cell_type": "code",
      "metadata": {
        "id": "OQOLPY3GA8B9",
        "colab_type": "code",
        "outputId": "57a22545-7943-47f0-e784-09b824b38967",
        "colab": {
          "base_uri": "https://localhost:8080/",
          "height": 87
        }
      },
      "source": [
        "from __future__ import division, print_function, absolute_import\n",
        "\n",
        "import tflearn\n",
        "from tflearn.data_utils import to_categorical, pad_sequences\n",
        "from tflearn.datasets import imdb"
      ],
      "execution_count": 1,
      "outputs": [
        {
          "output_type": "stream",
          "text": [
            "WARNING:tensorflow:From /usr/local/lib/python3.6/dist-packages/tensorflow/python/framework/op_def_library.py:263: colocate_with (from tensorflow.python.framework.ops) is deprecated and will be removed in a future version.\n",
            "Instructions for updating:\n",
            "Colocations handled automatically by placer.\n"
          ],
          "name": "stdout"
        }
      ]
    },
    {
      "cell_type": "code",
      "metadata": {
        "id": "QwAmWCiDA8sa",
        "colab_type": "code",
        "colab": {
          "base_uri": "https://localhost:8080/",
          "height": 34
        },
        "outputId": "2462127a-b77d-41c3-c45c-2c6a69f3d798"
      },
      "source": [
        "# IMDB Dataset loading\n",
        "train, test, _ = imdb.load_data(path='imdb.pkl', n_words=10000,\n",
        "                                valid_portion=0.1)"
      ],
      "execution_count": 2,
      "outputs": [
        {
          "output_type": "stream",
          "text": [
            "Downloading data from http://www.iro.umontreal.ca/~lisa/deep/data/imdb.pkl\n"
          ],
          "name": "stdout"
        }
      ]
    },
    {
      "cell_type": "code",
      "metadata": {
        "id": "Lsq-A_n3CNgR",
        "colab_type": "code",
        "outputId": "5b9ec978-c56b-4d29-cad6-edb5094ea2b3",
        "colab": {
          "base_uri": "https://localhost:8080/",
          "height": 34
        }
      },
      "source": [
        "type(train)"
      ],
      "execution_count": 3,
      "outputs": [
        {
          "output_type": "execute_result",
          "data": {
            "text/plain": [
              "tuple"
            ]
          },
          "metadata": {
            "tags": []
          },
          "execution_count": 3
        }
      ]
    },
    {
      "cell_type": "code",
      "metadata": {
        "id": "VrVixuiqBB1O",
        "colab_type": "code",
        "colab": {}
      },
      "source": [
        "trainX, trainY = train\n",
        "testX, testY = test"
      ],
      "execution_count": 0,
      "outputs": []
    },
    {
      "cell_type": "markdown",
      "metadata": {
        "id": "24zxeRLBBq9j",
        "colab_type": "text"
      },
      "source": [
        "# # Data preprocessing"
      ]
    },
    {
      "cell_type": "markdown",
      "metadata": {
        "id": "CC2oAtrxBtMr",
        "colab_type": "text"
      },
      "source": [
        "### a)- Sequence padding"
      ]
    },
    {
      "cell_type": "code",
      "metadata": {
        "id": "ovvGu7g7BlCC",
        "colab_type": "code",
        "colab": {}
      },
      "source": [
        "trainX = pad_sequences(trainX, maxlen=100, value=0.)\n",
        "testX = pad_sequences(testX, maxlen=100, value=0.)"
      ],
      "execution_count": 0,
      "outputs": []
    },
    {
      "cell_type": "code",
      "metadata": {
        "id": "ZIn-Gy5TB2hY",
        "colab_type": "code",
        "outputId": "b6ff1041-68d7-48b5-c7bf-f2596369df51",
        "colab": {
          "base_uri": "https://localhost:8080/",
          "height": 50
        }
      },
      "source": [
        "print(trainX.shape)\n",
        "print(testX.shape)"
      ],
      "execution_count": 6,
      "outputs": [
        {
          "output_type": "stream",
          "text": [
            "(22500, 100)\n",
            "(2500, 100)\n"
          ],
          "name": "stdout"
        }
      ]
    },
    {
      "cell_type": "code",
      "metadata": {
        "id": "k3SjlBkLB4IQ",
        "colab_type": "code",
        "outputId": "ed2bf74a-6a5f-4fc4-8c45-10c692011ecc",
        "colab": {
          "base_uri": "https://localhost:8080/",
          "height": 134
        }
      },
      "source": [
        "trainX"
      ],
      "execution_count": 7,
      "outputs": [
        {
          "output_type": "execute_result",
          "data": {
            "text/plain": [
              "array([[  17,   25,   10, ...,    0,    0,    0],\n",
              "       [  16,  586,   32, ...,    0,    0,    0],\n",
              "       [  30,  287,  142, ...,    0,    0,    0],\n",
              "       ...,\n",
              "       [ 119,   40,   40, ...,    3,  295,   83],\n",
              "       [ 119,  119,  704, ...,    3,    5, 9993],\n",
              "       [1017,  360,   84, ...,    8,  348,   36]], dtype=int32)"
            ]
          },
          "metadata": {
            "tags": []
          },
          "execution_count": 7
        }
      ]
    },
    {
      "cell_type": "code",
      "metadata": {
        "id": "UqQHWMz7CD3W",
        "colab_type": "code",
        "outputId": "caa9db22-1980-489c-f824-0b6bfaf8e24b",
        "colab": {
          "base_uri": "https://localhost:8080/",
          "height": 134
        }
      },
      "source": [
        "testX"
      ],
      "execution_count": 8,
      "outputs": [
        {
          "output_type": "execute_result",
          "data": {
            "text/plain": [
              "array([[   1,    2,    1, ...,    0,    0,    0],\n",
              "       [   2,  118,   35, ...,    0,    0,    0],\n",
              "       [  22,  647,    3, ...,    0,    0,    0],\n",
              "       ...,\n",
              "       [8638, 9222, 1076, ...,  324, 1437,   23],\n",
              "       [  16,   37,  128, ...,   16,  597,   57],\n",
              "       [4688, 2145, 7631, ..., 5711, 4116,    7]], dtype=int32)"
            ]
          },
          "metadata": {
            "tags": []
          },
          "execution_count": 8
        }
      ]
    },
    {
      "cell_type": "code",
      "metadata": {
        "id": "8nvDvbrJCE_7",
        "colab_type": "code",
        "outputId": "ae722a8d-f221-4bb3-cffd-e1df8bccbecb",
        "colab": {
          "base_uri": "https://localhost:8080/",
          "height": 34
        }
      },
      "source": [
        "type(trainX)"
      ],
      "execution_count": 9,
      "outputs": [
        {
          "output_type": "execute_result",
          "data": {
            "text/plain": [
              "numpy.ndarray"
            ]
          },
          "metadata": {
            "tags": []
          },
          "execution_count": 9
        }
      ]
    },
    {
      "cell_type": "markdown",
      "metadata": {
        "id": "WYAHvjNZCUp1",
        "colab_type": "text"
      },
      "source": [
        "### Converting labels to binary vectors"
      ]
    },
    {
      "cell_type": "code",
      "metadata": {
        "id": "SqbFaSMFCHiX",
        "colab_type": "code",
        "colab": {}
      },
      "source": [
        "trainY = to_categorical(trainY, nb_classes=2)\n",
        "testY = to_categorical(testY, nb_classes=2)"
      ],
      "execution_count": 0,
      "outputs": []
    },
    {
      "cell_type": "markdown",
      "metadata": {
        "id": "kXTQsfpQCcVQ",
        "colab_type": "text"
      },
      "source": [
        "# Network building"
      ]
    },
    {
      "cell_type": "code",
      "metadata": {
        "id": "c5tyvdA7CYvp",
        "colab_type": "code",
        "outputId": "a670646b-cbd6-47fb-c88f-3b7516a359bf",
        "colab": {
          "base_uri": "https://localhost:8080/",
          "height": 188
        }
      },
      "source": [
        "net = tflearn.input_data([None, 100])\n",
        "net = tflearn.embedding(net, input_dim=10000, output_dim=128)\n",
        "net = tflearn.lstm(net, 128, dropout=0.8)\n",
        "net = tflearn.fully_connected(net, 2, activation='softmax')\n",
        "net = tflearn.regression(net, optimizer='adam', learning_rate=0.001,\n",
        "                         loss='categorical_crossentropy')"
      ],
      "execution_count": 11,
      "outputs": [
        {
          "output_type": "stream",
          "text": [
            "WARNING:tensorflow:From /usr/local/lib/python3.6/dist-packages/tflearn/layers/recurrent.py:69: static_rnn (from tensorflow.python.ops.rnn) is deprecated and will be removed in a future version.\n",
            "Instructions for updating:\n",
            "Please use `keras.layers.RNN(cell, unroll=True)`, which is equivalent to this API\n",
            "WARNING:tensorflow:From /usr/local/lib/python3.6/dist-packages/tflearn/layers/recurrent.py:681: calling dropout (from tensorflow.python.ops.nn_ops) with keep_prob is deprecated and will be removed in a future version.\n",
            "Instructions for updating:\n",
            "Please use `rate` instead of `keep_prob`. Rate should be set to `rate = 1 - keep_prob`.\n",
            "WARNING:tensorflow:From /usr/local/lib/python3.6/dist-packages/tflearn/objectives.py:66: calling reduce_sum_v1 (from tensorflow.python.ops.math_ops) with keep_dims is deprecated and will be removed in a future version.\n",
            "Instructions for updating:\n",
            "keep_dims is deprecated, use keepdims instead\n"
          ],
          "name": "stdout"
        }
      ]
    },
    {
      "cell_type": "markdown",
      "metadata": {
        "id": "qB4CddE2CkGM",
        "colab_type": "text"
      },
      "source": [
        "# Train model"
      ]
    },
    {
      "cell_type": "code",
      "metadata": {
        "id": "CPDiLSA7Cg46",
        "colab_type": "code",
        "outputId": "c4e974b1-2137-4804-8ce3-26b9b25e4926",
        "colab": {
          "base_uri": "https://localhost:8080/",
          "height": 101
        }
      },
      "source": [
        "model = tflearn.DNN(net, tensorboard_verbose=0)\n",
        "model.fit(trainX, trainY, validation_set=(testX, testY), show_metric=True,\n",
        "          batch_size=32)"
      ],
      "execution_count": 12,
      "outputs": [
        {
          "output_type": "stream",
          "text": [
            "Training Step: 7039  | total loss: \u001b[1m\u001b[32m0.03533\u001b[0m\u001b[0m | time: 54.226s\n",
            "| Adam | epoch: 010 | loss: 0.03533 - acc: 0.9898 -- iter: 22496/22500\n",
            "Training Step: 7040  | total loss: \u001b[1m\u001b[32m0.03366\u001b[0m\u001b[0m | time: 55.585s\n",
            "| Adam | epoch: 010 | loss: 0.03366 - acc: 0.9908 | val_loss: 0.82486 - val_acc: 0.8024 -- iter: 22500/22500\n",
            "--\n"
          ],
          "name": "stdout"
        }
      ]
    },
    {
      "cell_type": "code",
      "metadata": {
        "id": "lC20uF2SCnNq",
        "colab_type": "code",
        "colab": {}
      },
      "source": [
        ""
      ],
      "execution_count": 0,
      "outputs": []
    }
  ]
}