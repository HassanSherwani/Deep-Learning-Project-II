{
  "nbformat": 4,
  "nbformat_minor": 0,
  "metadata": {
    "colab": {
      "name": "Sentiment_Analysis_Challenge_Keras.ipynb",
      "version": "0.3.2",
      "provenance": []
    },
    "kernelspec": {
      "name": "python3",
      "display_name": "Python 3"
    },
    "accelerator": "GPU"
  },
  "cells": [
    {
      "cell_type": "code",
      "metadata": {
        "id": "lCFsyJ98cWGW",
        "colab_type": "code",
        "colab": {}
      },
      "source": [
        ""
      ],
      "execution_count": 0,
      "outputs": []
    },
    {
      "cell_type": "code",
      "metadata": {
        "id": "_uMxx_xqcY0m",
        "colab_type": "code",
        "colab": {}
      },
      "source": [
        "import warnings\n",
        "warnings.filterwarnings('ignore')"
      ],
      "execution_count": 0,
      "outputs": []
    },
    {
      "cell_type": "code",
      "metadata": {
        "id": "b8a_fxOGc5c-",
        "colab_type": "code",
        "colab": {
          "base_uri": "https://localhost:8080/",
          "height": 50
        },
        "outputId": "cb9b73eb-6c92-41a6-92c2-cb0835dbf44a"
      },
      "source": [
        "import pandas as pd\n",
        "import nltk\n",
        "nltk.download('stopwords')\n",
        "from nltk.corpus import stopwords\n",
        "from sklearn.feature_extraction.text import CountVectorizer\n",
        "from keras.preprocessing.text import Tokenizer\n",
        "# tensorflow\n",
        "import tflearn\n",
        "from tflearn.data_utils import to_categorical, pad_sequences\n",
        "from keras.preprocessing.sequence import pad_sequences\n",
        "from keras.models import Sequential\n",
        "from keras.layers import Dense, Embedding, LSTM, SpatialDropout1D\n",
        "from keras.utils.np_utils import to_categorical"
      ],
      "execution_count": 29,
      "outputs": [
        {
          "output_type": "stream",
          "text": [
            "[nltk_data] Downloading package stopwords to /root/nltk_data...\n",
            "[nltk_data]   Package stopwords is already up-to-date!\n"
          ],
          "name": "stdout"
        }
      ]
    },
    {
      "cell_type": "code",
      "metadata": {
        "id": "py9PKc_nc7pt",
        "colab_type": "code",
        "colab": {
          "base_uri": "https://localhost:8080/",
          "height": 34
        },
        "outputId": "27520725-89af-4fce-ae85-21b888518172"
      },
      "source": [
        "# Visualization \n",
        "import matplotlib.pyplot as plt\n",
        "import seaborn as sns\n",
        "from pprint import pprint\n",
        "%matplotlib inline\n",
        "%pylab inline"
      ],
      "execution_count": 30,
      "outputs": [
        {
          "output_type": "stream",
          "text": [
            "Populating the interactive namespace from numpy and matplotlib\n"
          ],
          "name": "stdout"
        }
      ]
    },
    {
      "cell_type": "code",
      "metadata": {
        "id": "SsKAWWXtc-C9",
        "colab_type": "code",
        "colab": {
          "base_uri": "https://localhost:8080/",
          "height": 34
        },
        "outputId": "88ee7e43-5fd6-495e-c0c6-d524e86223cb"
      },
      "source": [
        "import pickle\n",
        "df = pd.read_pickle('ign_dataset.pkl')\n",
        "df.shape"
      ],
      "execution_count": 31,
      "outputs": [
        {
          "output_type": "execute_result",
          "data": {
            "text/plain": [
              "(18622, 2)"
            ]
          },
          "metadata": {
            "tags": []
          },
          "execution_count": 31
        }
      ]
    },
    {
      "cell_type": "code",
      "metadata": {
        "id": "Bg3xxtN7c_x0",
        "colab_type": "code",
        "colab": {
          "base_uri": "https://localhost:8080/",
          "height": 195
        },
        "outputId": "4eb105b8-e85f-4881-ab27-a6c915e861e0"
      },
      "source": [
        "df.head()"
      ],
      "execution_count": 32,
      "outputs": [
        {
          "output_type": "execute_result",
          "data": {
            "text/html": [
              "<div>\n",
              "<style scoped>\n",
              "    .dataframe tbody tr th:only-of-type {\n",
              "        vertical-align: middle;\n",
              "    }\n",
              "\n",
              "    .dataframe tbody tr th {\n",
              "        vertical-align: top;\n",
              "    }\n",
              "\n",
              "    .dataframe thead th {\n",
              "        text-align: right;\n",
              "    }\n",
              "</style>\n",
              "<table border=\"1\" class=\"dataframe\">\n",
              "  <thead>\n",
              "    <tr style=\"text-align: right;\">\n",
              "      <th></th>\n",
              "      <th>score_phrase</th>\n",
              "      <th>text</th>\n",
              "    </tr>\n",
              "  </thead>\n",
              "  <tbody>\n",
              "    <tr>\n",
              "      <th>0</th>\n",
              "      <td>Amazing</td>\n",
              "      <td>LittleBigPlanet PS Vita PlayStation Vita Platf...</td>\n",
              "    </tr>\n",
              "    <tr>\n",
              "      <th>1</th>\n",
              "      <td>Amazing</td>\n",
              "      <td>LittleBigPlanet PS Vita -- Marvel Super Hero E...</td>\n",
              "    </tr>\n",
              "    <tr>\n",
              "      <th>2</th>\n",
              "      <td>Great</td>\n",
              "      <td>Splice: Tree of Life iPad Puzzle N</td>\n",
              "    </tr>\n",
              "    <tr>\n",
              "      <th>3</th>\n",
              "      <td>Great</td>\n",
              "      <td>NHL 13 Xbox 360 Sports N</td>\n",
              "    </tr>\n",
              "    <tr>\n",
              "      <th>4</th>\n",
              "      <td>Great</td>\n",
              "      <td>NHL 13 PlayStation 3 Sports N</td>\n",
              "    </tr>\n",
              "  </tbody>\n",
              "</table>\n",
              "</div>"
            ],
            "text/plain": [
              "  score_phrase                                               text\n",
              "0      Amazing  LittleBigPlanet PS Vita PlayStation Vita Platf...\n",
              "1      Amazing  LittleBigPlanet PS Vita -- Marvel Super Hero E...\n",
              "2        Great                 Splice: Tree of Life iPad Puzzle N\n",
              "3        Great                           NHL 13 Xbox 360 Sports N\n",
              "4        Great                      NHL 13 PlayStation 3 Sports N"
            ]
          },
          "metadata": {
            "tags": []
          },
          "execution_count": 32
        }
      ]
    },
    {
      "cell_type": "code",
      "metadata": {
        "id": "w1eh1aXadBPD",
        "colab_type": "code",
        "colab": {
          "base_uri": "https://localhost:8080/",
          "height": 202
        },
        "outputId": "93724230-142a-4081-f539-255b532efaef"
      },
      "source": [
        "df.score_phrase.value_counts()"
      ],
      "execution_count": 33,
      "outputs": [
        {
          "output_type": "execute_result",
          "data": {
            "text/plain": [
              "Great          4773\n",
              "Good           4741\n",
              "Okay           2945\n",
              "Mediocre       1959\n",
              "Amazing        1804\n",
              "Bad            1269\n",
              "Awful           664\n",
              "Painful         340\n",
              "Unbearable       72\n",
              "Masterpiece      55\n",
              "Name: score_phrase, dtype: int64"
            ]
          },
          "metadata": {
            "tags": []
          },
          "execution_count": 33
        }
      ]
    },
    {
      "cell_type": "code",
      "metadata": {
        "id": "Mllt3Fh-dcBB",
        "colab_type": "code",
        "colab": {
          "base_uri": "https://localhost:8080/",
          "height": 337
        },
        "outputId": "28a622d6-3207-4ae1-dc94-5233b5a6810a"
      },
      "source": [
        "df.score_phrase.value_counts().plot(kind='bar')"
      ],
      "execution_count": 34,
      "outputs": [
        {
          "output_type": "execute_result",
          "data": {
            "text/plain": [
              "<matplotlib.axes._subplots.AxesSubplot at 0x7f1a4b28bd68>"
            ]
          },
          "metadata": {
            "tags": []
          },
          "execution_count": 34
        },
        {
          "output_type": "display_data",
          "data": {
            "image/png": "[encoded data removed]",
            "text/plain": [
              "<Figure size 432x288 with 1 Axes>"
            ]
          },
          "metadata": {
            "tags": []
          }
        }
      ]
    },
    {
      "cell_type": "code",
      "metadata": {
        "id": "cICvBhjNdiGb",
        "colab_type": "code",
        "colab": {}
      },
      "source": [
        "X = df.text\n",
        "y = df.score_phrase"
      ],
      "execution_count": 0,
      "outputs": []
    },
    {
      "cell_type": "code",
      "metadata": {
        "id": "psJ761x7dn67",
        "colab_type": "code",
        "colab": {
          "base_uri": "https://localhost:8080/",
          "height": 50
        },
        "outputId": "cf585e1f-f93d-4298-f26e-66dfb3c675d3"
      },
      "source": [
        "print(X.shape)\n",
        "print(y.shape)"
      ],
      "execution_count": 36,
      "outputs": [
        {
          "output_type": "stream",
          "text": [
            "(18622,)\n",
            "(18622,)\n"
          ],
          "name": "stdout"
        }
      ]
    },
    {
      "cell_type": "code",
      "metadata": {
        "id": "3acyMTYWdp4r",
        "colab_type": "code",
        "colab": {}
      },
      "source": [
        "max_fatures = 2000\n",
        "tokenizer = Tokenizer(num_words=max_fatures, split=' ')\n",
        "tokenizer.fit_on_texts(X)\n",
        "X = tokenizer.texts_to_sequences(X)\n",
        "X = pad_sequences(X)"
      ],
      "execution_count": 0,
      "outputs": []
    },
    {
      "cell_type": "code",
      "metadata": {
        "id": "Eylj2VFXdzbV",
        "colab_type": "code",
        "colab": {
          "base_uri": "https://localhost:8080/",
          "height": 195
        },
        "outputId": "e5fdd299-57cf-46f4-f5e1-671901e947c3"
      },
      "source": [
        "pd.DataFrame(X).head()"
      ],
      "execution_count": 38,
      "outputs": [
        {
          "output_type": "execute_result",
          "data": {
            "text/html": [
              "<div>\n",
              "<style scoped>\n",
              "    .dataframe tbody tr th:only-of-type {\n",
              "        vertical-align: middle;\n",
              "    }\n",
              "\n",
              "    .dataframe tbody tr th {\n",
              "        vertical-align: top;\n",
              "    }\n",
              "\n",
              "    .dataframe thead th {\n",
              "        text-align: right;\n",
              "    }\n",
              "</style>\n",
              "<table border=\"1\" class=\"dataframe\">\n",
              "  <thead>\n",
              "    <tr style=\"text-align: right;\">\n",
              "      <th></th>\n",
              "      <th>0</th>\n",
              "      <th>1</th>\n",
              "      <th>2</th>\n",
              "      <th>3</th>\n",
              "      <th>4</th>\n",
              "      <th>5</th>\n",
              "      <th>6</th>\n",
              "      <th>7</th>\n",
              "      <th>8</th>\n",
              "      <th>9</th>\n",
              "      <th>10</th>\n",
              "      <th>11</th>\n",
              "      <th>12</th>\n",
              "      <th>13</th>\n",
              "      <th>14</th>\n",
              "      <th>15</th>\n",
              "      <th>16</th>\n",
              "      <th>17</th>\n",
              "      <th>18</th>\n",
              "      <th>19</th>\n",
              "    </tr>\n",
              "  </thead>\n",
              "  <tbody>\n",
              "    <tr>\n",
              "      <th>0</th>\n",
              "      <td>0</td>\n",
              "      <td>0</td>\n",
              "      <td>0</td>\n",
              "      <td>0</td>\n",
              "      <td>0</td>\n",
              "      <td>0</td>\n",
              "      <td>0</td>\n",
              "      <td>0</td>\n",
              "      <td>0</td>\n",
              "      <td>0</td>\n",
              "      <td>0</td>\n",
              "      <td>0</td>\n",
              "      <td>0</td>\n",
              "      <td>0</td>\n",
              "      <td>1298</td>\n",
              "      <td>70</td>\n",
              "      <td>3</td>\n",
              "      <td>70</td>\n",
              "      <td>25</td>\n",
              "      <td>4</td>\n",
              "    </tr>\n",
              "    <tr>\n",
              "      <th>1</th>\n",
              "      <td>0</td>\n",
              "      <td>0</td>\n",
              "      <td>0</td>\n",
              "      <td>0</td>\n",
              "      <td>0</td>\n",
              "      <td>0</td>\n",
              "      <td>0</td>\n",
              "      <td>0</td>\n",
              "      <td>0</td>\n",
              "      <td>0</td>\n",
              "      <td>1298</td>\n",
              "      <td>70</td>\n",
              "      <td>242</td>\n",
              "      <td>47</td>\n",
              "      <td>95</td>\n",
              "      <td>35</td>\n",
              "      <td>3</td>\n",
              "      <td>70</td>\n",
              "      <td>25</td>\n",
              "      <td>4</td>\n",
              "    </tr>\n",
              "    <tr>\n",
              "      <th>2</th>\n",
              "      <td>0</td>\n",
              "      <td>0</td>\n",
              "      <td>0</td>\n",
              "      <td>0</td>\n",
              "      <td>0</td>\n",
              "      <td>0</td>\n",
              "      <td>0</td>\n",
              "      <td>0</td>\n",
              "      <td>0</td>\n",
              "      <td>0</td>\n",
              "      <td>0</td>\n",
              "      <td>0</td>\n",
              "      <td>0</td>\n",
              "      <td>0</td>\n",
              "      <td>1753</td>\n",
              "      <td>10</td>\n",
              "      <td>187</td>\n",
              "      <td>116</td>\n",
              "      <td>21</td>\n",
              "      <td>1</td>\n",
              "    </tr>\n",
              "    <tr>\n",
              "      <th>3</th>\n",
              "      <td>0</td>\n",
              "      <td>0</td>\n",
              "      <td>0</td>\n",
              "      <td>0</td>\n",
              "      <td>0</td>\n",
              "      <td>0</td>\n",
              "      <td>0</td>\n",
              "      <td>0</td>\n",
              "      <td>0</td>\n",
              "      <td>0</td>\n",
              "      <td>0</td>\n",
              "      <td>0</td>\n",
              "      <td>0</td>\n",
              "      <td>0</td>\n",
              "      <td>93</td>\n",
              "      <td>692</td>\n",
              "      <td>8</td>\n",
              "      <td>16</td>\n",
              "      <td>9</td>\n",
              "      <td>1</td>\n",
              "    </tr>\n",
              "    <tr>\n",
              "      <th>4</th>\n",
              "      <td>0</td>\n",
              "      <td>0</td>\n",
              "      <td>0</td>\n",
              "      <td>0</td>\n",
              "      <td>0</td>\n",
              "      <td>0</td>\n",
              "      <td>0</td>\n",
              "      <td>0</td>\n",
              "      <td>0</td>\n",
              "      <td>0</td>\n",
              "      <td>0</td>\n",
              "      <td>0</td>\n",
              "      <td>0</td>\n",
              "      <td>0</td>\n",
              "      <td>93</td>\n",
              "      <td>692</td>\n",
              "      <td>3</td>\n",
              "      <td>12</td>\n",
              "      <td>9</td>\n",
              "      <td>1</td>\n",
              "    </tr>\n",
              "  </tbody>\n",
              "</table>\n",
              "</div>"
            ],
            "text/plain": [
              "   0   1   2   3   4   5   6   7   8   ...  11   12  13    14   15   16   17  18  19\n",
              "0   0   0   0   0   0   0   0   0   0  ...   0    0   0  1298   70    3   70  25   4\n",
              "1   0   0   0   0   0   0   0   0   0  ...  70  242  47    95   35    3   70  25   4\n",
              "2   0   0   0   0   0   0   0   0   0  ...   0    0   0  1753   10  187  116  21   1\n",
              "3   0   0   0   0   0   0   0   0   0  ...   0    0   0    93  692    8   16   9   1\n",
              "4   0   0   0   0   0   0   0   0   0  ...   0    0   0    93  692    3   12   9   1\n",
              "\n",
              "[5 rows x 20 columns]"
            ]
          },
          "metadata": {
            "tags": []
          },
          "execution_count": 38
        }
      ]
    },
    {
      "cell_type": "code",
      "metadata": {
        "id": "ncOkZg8dd2wi",
        "colab_type": "code",
        "colab": {
          "base_uri": "https://localhost:8080/",
          "height": 34
        },
        "outputId": "911c7aa5-0210-496e-f5e6-7897f82d107d"
      },
      "source": [
        "X.shape"
      ],
      "execution_count": 39,
      "outputs": [
        {
          "output_type": "execute_result",
          "data": {
            "text/plain": [
              "(18622, 20)"
            ]
          },
          "metadata": {
            "tags": []
          },
          "execution_count": 39
        }
      ]
    },
    {
      "cell_type": "markdown",
      "metadata": {
        "id": "0EVbAghXeEn5",
        "colab_type": "text"
      },
      "source": [
        "### Train-Test data split"
      ]
    },
    {
      "cell_type": "code",
      "metadata": {
        "id": "2wClZd4jeAuG",
        "colab_type": "code",
        "colab": {}
      },
      "source": [
        "from sklearn.model_selection import train_test_split\n",
        "X_train, X_test, y_train, y_test = train_test_split(X, y, random_state=2019)"
      ],
      "execution_count": 0,
      "outputs": []
    },
    {
      "cell_type": "code",
      "metadata": {
        "id": "Wwe5zmAeeHbD",
        "colab_type": "code",
        "colab": {
          "base_uri": "https://localhost:8080/",
          "height": 34
        },
        "outputId": "f6247ad0-ffc9-488a-d6a0-c222103bd365"
      },
      "source": [
        "X_train.shape, X_test.shape"
      ],
      "execution_count": 41,
      "outputs": [
        {
          "output_type": "execute_result",
          "data": {
            "text/plain": [
              "((13966, 20), (4656, 20))"
            ]
          },
          "metadata": {
            "tags": []
          },
          "execution_count": 41
        }
      ]
    },
    {
      "cell_type": "code",
      "metadata": {
        "id": "GR2lkAqaeMP6",
        "colab_type": "code",
        "colab": {
          "base_uri": "https://localhost:8080/",
          "height": 50
        },
        "outputId": "c5c9a980-6bfe-4381-e227-7f0060d438ed"
      },
      "source": [
        "print(y_train.shape)\n",
        "print(y_test.shape)"
      ],
      "execution_count": 42,
      "outputs": [
        {
          "output_type": "stream",
          "text": [
            "(13966,)\n",
            "(4656,)\n"
          ],
          "name": "stdout"
        }
      ]
    },
    {
      "cell_type": "markdown",
      "metadata": {
        "id": "RQ0_ymJSfKaN",
        "colab_type": "text"
      },
      "source": [
        "### Encoding y-variable"
      ]
    },
    {
      "cell_type": "code",
      "metadata": {
        "id": "41EbqE-3fM61",
        "colab_type": "code",
        "colab": {
          "base_uri": "https://localhost:8080/",
          "height": 185
        },
        "outputId": "ad704244-1900-4227-dbb7-60c19591e7fa"
      },
      "source": [
        "unique_y_labels = list(y_train.value_counts().index)\n",
        "unique_y_labels"
      ],
      "execution_count": 43,
      "outputs": [
        {
          "output_type": "execute_result",
          "data": {
            "text/plain": [
              "['Great',\n",
              " 'Good',\n",
              " 'Okay',\n",
              " 'Mediocre',\n",
              " 'Amazing',\n",
              " 'Bad',\n",
              " 'Awful',\n",
              " 'Painful',\n",
              " 'Unbearable',\n",
              " 'Masterpiece']"
            ]
          },
          "metadata": {
            "tags": []
          },
          "execution_count": 43
        }
      ]
    },
    {
      "cell_type": "code",
      "metadata": {
        "id": "AzMJV27MfNwt",
        "colab_type": "code",
        "colab": {
          "base_uri": "https://localhost:8080/",
          "height": 34
        },
        "outputId": "ed6566a1-403b-4735-a106-c860d8760a39"
      },
      "source": [
        "len(unique_y_labels)"
      ],
      "execution_count": 44,
      "outputs": [
        {
          "output_type": "execute_result",
          "data": {
            "text/plain": [
              "10"
            ]
          },
          "metadata": {
            "tags": []
          },
          "execution_count": 44
        }
      ]
    },
    {
      "cell_type": "code",
      "metadata": {
        "id": "KAYhqPYvfQQe",
        "colab_type": "code",
        "colab": {
          "base_uri": "https://localhost:8080/",
          "height": 34
        },
        "outputId": "c0c73611-756e-40e2-90fe-51664de45b2a"
      },
      "source": [
        "from sklearn import preprocessing\n",
        "le = preprocessing.LabelEncoder()\n",
        "le.fit(unique_y_labels)"
      ],
      "execution_count": 45,
      "outputs": [
        {
          "output_type": "execute_result",
          "data": {
            "text/plain": [
              "LabelEncoder()"
            ]
          },
          "metadata": {
            "tags": []
          },
          "execution_count": 45
        }
      ]
    },
    {
      "cell_type": "code",
      "metadata": {
        "id": "_vzITibafTtu",
        "colab_type": "code",
        "colab": {
          "base_uri": "https://localhost:8080/",
          "height": 218
        },
        "outputId": "f6fd917e-e3c3-42bf-b751-6d75390cd428"
      },
      "source": [
        "print('')\n",
        "for label_id, label_name in zip(le.transform(unique_y_labels), unique_y_labels):\n",
        "    print('%d: %s' % (label_id, label_name))\n",
        "print('')"
      ],
      "execution_count": 46,
      "outputs": [
        {
          "output_type": "stream",
          "text": [
            "\n",
            "4: Great\n",
            "3: Good\n",
            "7: Okay\n",
            "6: Mediocre\n",
            "0: Amazing\n",
            "2: Bad\n",
            "1: Awful\n",
            "8: Painful\n",
            "9: Unbearable\n",
            "5: Masterpiece\n",
            "\n"
          ],
          "name": "stdout"
        }
      ]
    },
    {
      "cell_type": "code",
      "metadata": {
        "id": "c9YlN3uZfaF9",
        "colab_type": "code",
        "colab": {
          "base_uri": "https://localhost:8080/",
          "height": 50
        },
        "outputId": "390a2b69-680f-48c3-eef3-8815ac5c6365"
      },
      "source": [
        "print(y_train.shape)\n",
        "print(y_test.shape)"
      ],
      "execution_count": 47,
      "outputs": [
        {
          "output_type": "stream",
          "text": [
            "(13966,)\n",
            "(4656,)\n"
          ],
          "name": "stdout"
        }
      ]
    },
    {
      "cell_type": "code",
      "metadata": {
        "id": "JNVI3zwVeOjX",
        "colab_type": "code",
        "colab": {}
      },
      "source": [
        "# keras needs inputs to be vectors , so one hot encoding values\n",
        "from keras.utils import np_utils\n",
        "def one_hot_encode_object_array(arr):\n",
        "    '''One hot encode a numpy array of objects (e.g. strings)'''\n",
        "    uniques, ids = np.unique(arr, return_inverse=True)\n",
        "    return np_utils.to_categorical(ids, len(uniques))\n",
        "\n",
        "y_train_ohe=one_hot_encode_object_array(y_train)\n",
        "y_test_ohe=one_hot_encode_object_array(y_test)"
      ],
      "execution_count": 0,
      "outputs": []
    },
    {
      "cell_type": "code",
      "metadata": {
        "id": "Sn8fiFWsePe_",
        "colab_type": "code",
        "colab": {
          "base_uri": "https://localhost:8080/",
          "height": 118
        },
        "outputId": "a140fe98-baf8-4e5d-c5f8-ef54c132d9b5"
      },
      "source": [
        "y_train[:5]"
      ],
      "execution_count": 49,
      "outputs": [
        {
          "output_type": "execute_result",
          "data": {
            "text/plain": [
              "12179    Great\n",
              "17284    Great\n",
              "573      Great\n",
              "18403     Good\n",
              "1359     Great\n",
              "Name: score_phrase, dtype: object"
            ]
          },
          "metadata": {
            "tags": []
          },
          "execution_count": 49
        }
      ]
    },
    {
      "cell_type": "code",
      "metadata": {
        "id": "FtcEZF8CePh9",
        "colab_type": "code",
        "colab": {
          "base_uri": "https://localhost:8080/",
          "height": 101
        },
        "outputId": "85591898-ef7e-4ce5-a45a-10fae692a4a8"
      },
      "source": [
        "y_train_ohe[:5]"
      ],
      "execution_count": 50,
      "outputs": [
        {
          "output_type": "execute_result",
          "data": {
            "text/plain": [
              "array([[0., 0., 0., 0., 1., 0., 0., 0., 0., 0.],\n",
              "       [0., 0., 0., 0., 1., 0., 0., 0., 0., 0.],\n",
              "       [0., 0., 0., 0., 1., 0., 0., 0., 0., 0.],\n",
              "       [0., 0., 0., 1., 0., 0., 0., 0., 0., 0.],\n",
              "       [0., 0., 0., 0., 1., 0., 0., 0., 0., 0.]], dtype=float32)"
            ]
          },
          "metadata": {
            "tags": []
          },
          "execution_count": 50
        }
      ]
    },
    {
      "cell_type": "markdown",
      "metadata": {
        "id": "jG9Okbjrecw-",
        "colab_type": "text"
      },
      "source": [
        "## Build LSTM model"
      ]
    },
    {
      "cell_type": "code",
      "metadata": {
        "id": "WSeRPGSKePkv",
        "colab_type": "code",
        "colab": {}
      },
      "source": [
        "embed_dim = 128\n",
        "lstm_out = 196\n",
        "max_fatures = 2000"
      ],
      "execution_count": 0,
      "outputs": []
    },
    {
      "cell_type": "code",
      "metadata": {
        "id": "YhGWCQX1e8bm",
        "colab_type": "code",
        "colab": {}
      },
      "source": [
        "size_of_each_vector = X_train.shape[1]\n",
        "no_of_unique_y_labels = len(unique_y_labels)"
      ],
      "execution_count": 0,
      "outputs": []
    },
    {
      "cell_type": "code",
      "metadata": {
        "id": "Wjw9cPoffd8s",
        "colab_type": "code",
        "colab": {
          "base_uri": "https://localhost:8080/",
          "height": 50
        },
        "outputId": "0cd6d4eb-9ba7-4c96-d59a-614a34cac0d4"
      },
      "source": [
        "print('size_of_each_vector:', size_of_each_vector)\n",
        "print('no_of_unique_y_labels:', no_of_unique_y_labels)"
      ],
      "execution_count": 54,
      "outputs": [
        {
          "output_type": "stream",
          "text": [
            "size_of_each_vector: 20\n",
            "no_of_unique_y_labels: 10\n"
          ],
          "name": "stdout"
        }
      ]
    },
    {
      "cell_type": "code",
      "metadata": {
        "id": "0IqNU3ZrePnh",
        "colab_type": "code",
        "colab": {
          "base_uri": "https://localhost:8080/",
          "height": 286
        },
        "outputId": "848b7be8-e5a8-4b42-a42d-ea059f96ce37"
      },
      "source": [
        "model = Sequential()\n",
        "model.add(Embedding(max_fatures, embed_dim,input_length = size_of_each_vector))\n",
        "# X.shape[1] refers to 20 columns \n",
        "model.add(SpatialDropout1D(0.4))\n",
        "model.add(LSTM(lstm_out, dropout=0.2, recurrent_dropout=0.2))\n",
        "model.add(Dense(no_of_unique_y_labels,activation='softmax'))\n",
        "model.compile(loss = 'categorical_crossentropy', optimizer='adam',metrics = ['accuracy'])\n",
        "print(model.summary())"
      ],
      "execution_count": 55,
      "outputs": [
        {
          "output_type": "stream",
          "text": [
            "_________________________________________________________________\n",
            "Layer (type)                 Output Shape              Param #   \n",
            "=================================================================\n",
            "embedding_2 (Embedding)      (None, 20, 128)           256000    \n",
            "_________________________________________________________________\n",
            "spatial_dropout1d_2 (Spatial (None, 20, 128)           0         \n",
            "_________________________________________________________________\n",
            "lstm_2 (LSTM)                (None, 196)               254800    \n",
            "_________________________________________________________________\n",
            "dense_2 (Dense)              (None, 10)                1970      \n",
            "=================================================================\n",
            "Total params: 512,770\n",
            "Trainable params: 512,770\n",
            "Non-trainable params: 0\n",
            "_________________________________________________________________\n",
            "None\n"
          ],
          "name": "stdout"
        }
      ]
    },
    {
      "cell_type": "markdown",
      "metadata": {
        "id": "aSEETVxDer-I",
        "colab_type": "text"
      },
      "source": [
        "### Train model"
      ]
    },
    {
      "cell_type": "code",
      "metadata": {
        "id": "y516lsJ3ekNW",
        "colab_type": "code",
        "colab": {}
      },
      "source": [
        "batch_size = 32\n",
        "epochs = 20"
      ],
      "execution_count": 0,
      "outputs": []
    },
    {
      "cell_type": "code",
      "metadata": {
        "id": "fTTwlC9Meuu2",
        "colab_type": "code",
        "colab": {}
      },
      "source": [
        "from keras.callbacks import EarlyStopping"
      ],
      "execution_count": 0,
      "outputs": []
    },
    {
      "cell_type": "code",
      "metadata": {
        "id": "Or-VgIdRew4X",
        "colab_type": "code",
        "colab": {
          "base_uri": "https://localhost:8080/",
          "height": 306
        },
        "outputId": "d0c76e9a-b43c-4079-c3ed-3832544b81ac"
      },
      "source": [
        "history = model.fit(X_train, y_train_ohe, epochs=epochs, batch_size=batch_size,validation_split=0.1,callbacks=[EarlyStopping(monitor='val_loss', patience=3, min_delta=0.0001)])"
      ],
      "execution_count": 58,
      "outputs": [
        {
          "output_type": "stream",
          "text": [
            "WARNING:tensorflow:From /usr/local/lib/python3.6/dist-packages/tensorflow/python/ops/math_ops.py:3066: to_int32 (from tensorflow.python.ops.math_ops) is deprecated and will be removed in a future version.\n",
            "Instructions for updating:\n",
            "Use tf.cast instead.\n",
            "Train on 12569 samples, validate on 1397 samples\n",
            "Epoch 1/20\n",
            "12569/12569 [==============================] - 19s 2ms/step - loss: 1.6308 - acc: 0.3468 - val_loss: 1.5542 - val_acc: 0.3672\n",
            "Epoch 2/20\n",
            "12569/12569 [==============================] - 17s 1ms/step - loss: 1.5105 - acc: 0.3879 - val_loss: 1.5255 - val_acc: 0.3916\n",
            "Epoch 3/20\n",
            "12569/12569 [==============================] - 17s 1ms/step - loss: 1.4501 - acc: 0.4180 - val_loss: 1.4938 - val_acc: 0.4080\n",
            "Epoch 4/20\n",
            "12569/12569 [==============================] - 17s 1ms/step - loss: 1.4018 - acc: 0.4388 - val_loss: 1.5052 - val_acc: 0.3973\n",
            "Epoch 5/20\n",
            "12569/12569 [==============================] - 17s 1ms/step - loss: 1.3651 - acc: 0.4583 - val_loss: 1.5179 - val_acc: 0.4094\n",
            "Epoch 6/20\n",
            "12569/12569 [==============================] - 17s 1ms/step - loss: 1.3303 - acc: 0.4755 - val_loss: 1.5124 - val_acc: 0.4059\n"
          ],
          "name": "stdout"
        }
      ]
    },
    {
      "cell_type": "markdown",
      "metadata": {
        "id": "0-9qAnf8gOeG",
        "colab_type": "text"
      },
      "source": [
        "# Evaluate the model"
      ]
    },
    {
      "cell_type": "code",
      "metadata": {
        "id": "X8JyvyoLezR4",
        "colab_type": "code",
        "colab": {}
      },
      "source": [
        "y_pred = model.predict(X_test)"
      ],
      "execution_count": 0,
      "outputs": []
    },
    {
      "cell_type": "code",
      "metadata": {
        "id": "rfs5-dB4fWHw",
        "colab_type": "code",
        "colab": {
          "base_uri": "https://localhost:8080/",
          "height": 269
        },
        "outputId": "04f425cf-e45c-45cf-a78f-7a114c120898"
      },
      "source": [
        "y_pred[:5]"
      ],
      "execution_count": 60,
      "outputs": [
        {
          "output_type": "execute_result",
          "data": {
            "text/plain": [
              "array([[6.08693226e-04, 4.03385656e-03, 1.90988649e-02, 7.29081452e-01,\n",
              "        5.56561537e-02, 8.74249054e-06, 3.97060215e-02, 1.48809671e-01,\n",
              "        2.72752927e-03, 2.68999051e-04],\n",
              "       [1.95536036e-02, 2.89761946e-02, 3.80581431e-02, 3.57075125e-01,\n",
              "        3.52310121e-01, 5.33248007e-04, 6.12471402e-02, 1.23648934e-01,\n",
              "        1.35599952e-02, 5.03747771e-03],\n",
              "       [2.77449749e-03, 4.76673283e-02, 1.32764593e-01, 2.08213314e-01,\n",
              "        1.36758670e-01, 1.80461488e-04, 1.53484076e-01, 2.86025554e-01,\n",
              "        2.82419045e-02, 3.88959423e-03],\n",
              "       [2.41424912e-03, 8.61252248e-02, 2.26129919e-01, 1.78438157e-01,\n",
              "        6.22038208e-02, 2.86814146e-04, 2.02582598e-01, 1.90153614e-01,\n",
              "        4.71212827e-02, 4.54436149e-03],\n",
              "       [1.15652906e-03, 5.66186570e-02, 1.50590897e-01, 2.49148980e-01,\n",
              "        8.58213454e-02, 9.73608549e-05, 1.61051124e-01, 2.51547933e-01,\n",
              "        3.83285433e-02, 5.63867670e-03]], dtype=float32)"
            ]
          },
          "metadata": {
            "tags": []
          },
          "execution_count": 60
        }
      ]
    },
    {
      "cell_type": "code",
      "metadata": {
        "id": "LZueQxOFgUqu",
        "colab_type": "code",
        "colab": {
          "base_uri": "https://localhost:8080/",
          "height": 101
        },
        "outputId": "e9500d22-2dd4-4fb7-ef06-8a57d31031ba"
      },
      "source": [
        "y_test_ohe[:5]"
      ],
      "execution_count": 61,
      "outputs": [
        {
          "output_type": "execute_result",
          "data": {
            "text/plain": [
              "array([[0., 0., 0., 0., 0., 0., 1., 0., 0., 0.],\n",
              "       [0., 0., 0., 0., 0., 0., 0., 1., 0., 0.],\n",
              "       [0., 0., 0., 0., 1., 0., 0., 0., 0., 0.],\n",
              "       [0., 0., 0., 1., 0., 0., 0., 0., 0., 0.],\n",
              "       [0., 0., 1., 0., 0., 0., 0., 0., 0., 0.]], dtype=float32)"
            ]
          },
          "metadata": {
            "tags": []
          },
          "execution_count": 61
        }
      ]
    },
    {
      "cell_type": "code",
      "metadata": {
        "id": "7lInSaGvgXO9",
        "colab_type": "code",
        "colab": {}
      },
      "source": [
        "## predict crisp classes for test set. Output will be 1-D\n",
        "y_test_class = np.argmax(y_test_ohe,axis=1)\n",
        "y_pred_class = np.argmax(y_pred,axis=1)"
      ],
      "execution_count": 0,
      "outputs": []
    },
    {
      "cell_type": "code",
      "metadata": {
        "id": "5QtI_XJ8gZi1",
        "colab_type": "code",
        "colab": {
          "base_uri": "https://localhost:8080/",
          "height": 34
        },
        "outputId": "57602b35-d2c0-4fff-b718-f52173c282d0"
      },
      "source": [
        "y_test_class[:5]"
      ],
      "execution_count": 63,
      "outputs": [
        {
          "output_type": "execute_result",
          "data": {
            "text/plain": [
              "array([6, 7, 4, 3, 2])"
            ]
          },
          "metadata": {
            "tags": []
          },
          "execution_count": 63
        }
      ]
    },
    {
      "cell_type": "code",
      "metadata": {
        "id": "eHsiIemOgc6o",
        "colab_type": "code",
        "colab": {
          "base_uri": "https://localhost:8080/",
          "height": 34
        },
        "outputId": "8008d644-33cf-46d9-de6b-1d52b0557638"
      },
      "source": [
        "y_pred_class[:5]"
      ],
      "execution_count": 64,
      "outputs": [
        {
          "output_type": "execute_result",
          "data": {
            "text/plain": [
              "array([3, 3, 7, 2, 7])"
            ]
          },
          "metadata": {
            "tags": []
          },
          "execution_count": 64
        }
      ]
    },
    {
      "cell_type": "markdown",
      "metadata": {
        "id": "GfElwkpwgiCH",
        "colab_type": "text"
      },
      "source": [
        "### Classification Report"
      ]
    },
    {
      "cell_type": "code",
      "metadata": {
        "id": "HYbEzy-1gfBw",
        "colab_type": "code",
        "colab": {
          "base_uri": "https://localhost:8080/",
          "height": 302
        },
        "outputId": "31292ba8-5d70-410b-f175-f21e741471cb"
      },
      "source": [
        "from sklearn.metrics import classification_report,confusion_matrix\n",
        "print(classification_report(y_test_class,y_pred_class))"
      ],
      "execution_count": 65,
      "outputs": [
        {
          "output_type": "stream",
          "text": [
            "              precision    recall  f1-score   support\n",
            "\n",
            "           0       0.66      0.51      0.57       438\n",
            "           1       0.23      0.02      0.03       170\n",
            "           2       0.20      0.16      0.18       322\n",
            "           3       0.38      0.73      0.50      1220\n",
            "           4       0.49      0.52      0.51      1166\n",
            "           5       0.50      0.08      0.13        13\n",
            "           6       0.34      0.09      0.14       476\n",
            "           7       0.33      0.15      0.21       732\n",
            "           8       1.00      0.02      0.04        99\n",
            "           9       0.00      0.00      0.00        20\n",
            "\n",
            "    accuracy                           0.41      4656\n",
            "   macro avg       0.41      0.23      0.23      4656\n",
            "weighted avg       0.42      0.41      0.37      4656\n",
            "\n"
          ],
          "name": "stdout"
        }
      ]
    },
    {
      "cell_type": "markdown",
      "metadata": {
        "id": "DvsD1HDPgmA7",
        "colab_type": "text"
      },
      "source": [
        "### Confusion matrix"
      ]
    },
    {
      "cell_type": "code",
      "metadata": {
        "id": "5qzffAKLgfRX",
        "colab_type": "code",
        "colab": {
          "base_uri": "https://localhost:8080/",
          "height": 185
        },
        "outputId": "bb1ba826-f0bd-4889-e8a6-e5f7d4188731"
      },
      "source": [
        "print(confusion_matrix(y_test_class,y_pred_class))"
      ],
      "execution_count": 66,
      "outputs": [
        {
          "output_type": "stream",
          "text": [
            "[[223   1   0  14 199   0   0   1   0   0]\n",
            " [  0   3  31  90  21   0   6  19   0   0]\n",
            " [  0   1  51 179  30   0  21  40   0   0]\n",
            " [  0   2  43 888 192   0  19  76   0   0]\n",
            " [107   1  18 384 611   1   4  40   0   0]\n",
            " [ 10   0   0   1   1   1   0   0   0   0]\n",
            " [  0   2  49 282  62   0  41  40   0   0]\n",
            " [  0   0  43 448 107   0  24 110   0   0]\n",
            " [  0   3  14  57  10   0   4   9   2   0]\n",
            " [  0   0   2  15   3   0   0   0   0   0]]\n"
          ],
          "name": "stdout"
        }
      ]
    },
    {
      "cell_type": "markdown",
      "metadata": {
        "id": "Z9rG-Igxgt0R",
        "colab_type": "text"
      },
      "source": [
        "### Loss and accuracy"
      ]
    },
    {
      "cell_type": "code",
      "metadata": {
        "id": "hz5flo2YgfUl",
        "colab_type": "code",
        "colab": {
          "base_uri": "https://localhost:8080/",
          "height": 50
        },
        "outputId": "71573ca1-efd0-4d07-c5ea-7cebfcc35063"
      },
      "source": [
        "loss, accuracy = model.evaluate(X_train, y_train_ohe, verbose=False)\n",
        "print(\"Training Accuracy: {:.4f}\".format(accuracy))\n",
        "print(\"Training Loss: {:.4f}\".format(loss))"
      ],
      "execution_count": 67,
      "outputs": [
        {
          "output_type": "stream",
          "text": [
            "Training Accuracy: 0.5033\n",
            "Training Loss: 1.2785\n"
          ],
          "name": "stdout"
        }
      ]
    },
    {
      "cell_type": "code",
      "metadata": {
        "id": "c3gZ7KvVgfXe",
        "colab_type": "code",
        "colab": {
          "base_uri": "https://localhost:8080/",
          "height": 50
        },
        "outputId": "62e3c4db-0f53-400f-885b-2f62052de446"
      },
      "source": [
        "loss, accuracy = model.evaluate(X_test, y_test_ohe, verbose=False)\n",
        "print(\"Testing Accuracy:  {:.4f}\".format(accuracy))\n",
        "print(\"Testing Loss:  {:.4f}\".format(loss))"
      ],
      "execution_count": 68,
      "outputs": [
        {
          "output_type": "stream",
          "text": [
            "Testing Accuracy:  0.4145\n",
            "Testing Loss:  1.4999\n"
          ],
          "name": "stdout"
        }
      ]
    },
    {
      "cell_type": "code",
      "metadata": {
        "id": "OA_AIj_PgzFK",
        "colab_type": "code",
        "colab": {}
      },
      "source": [
        "import matplotlib.pyplot as plt\n",
        "plt.style.use('ggplot')\n",
        "\n",
        "def plot_history(history):\n",
        "    acc = history.history['acc']\n",
        "    val_acc = history.history['val_acc']\n",
        "    loss = history.history['loss']\n",
        "    val_loss = history.history['val_loss']\n",
        "    x = range(1, len(acc) + 1)\n",
        "\n",
        "    plt.figure(figsize=(12, 5))\n",
        "    plt.subplot(1, 2, 1)\n",
        "    plt.plot(x, acc, 'b', label='Training acc')\n",
        "    plt.plot(x, val_acc, 'r', label='Validation acc')\n",
        "    plt.title('Training and validation accuracy')\n",
        "    plt.legend()\n",
        "    plt.subplot(1, 2, 2)\n",
        "    plt.plot(x, loss, 'b', label='Training loss')\n",
        "    plt.plot(x, val_loss, 'r', label='Validation loss')\n",
        "    plt.title('Training and validation loss')\n",
        "    plt.legend()"
      ],
      "execution_count": 0,
      "outputs": []
    },
    {
      "cell_type": "code",
      "metadata": {
        "id": "0X5c1LXfg9zp",
        "colab_type": "code",
        "colab": {
          "base_uri": "https://localhost:8080/",
          "height": 337
        },
        "outputId": "33884205-51ce-4e96-b43f-ab53d29198d0"
      },
      "source": [
        "plot_history(history)"
      ],
      "execution_count": 70,
      "outputs": [
        {
          "output_type": "display_data",
          "data": {
            "image/png": "[encoded data removed]",
            "text/plain": [
              "<Figure size 864x360 with 2 Axes>"
            ]
          },
          "metadata": {
            "tags": []
          }
        }
      ]
    }
  ]
}